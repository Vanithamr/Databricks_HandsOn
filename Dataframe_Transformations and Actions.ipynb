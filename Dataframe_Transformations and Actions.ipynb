{
 "cells": [
  {
   "cell_type": "code",
   "execution_count": 0,
   "metadata": {
    "application/vnd.databricks.v1+cell": {
     "cellMetadata": {
      "byteLimit": 2048000,
      "rowLimit": 10000
     },
     "inputWidgets": {},
     "nuid": "1a227034-d660-40cd-b860-42694b752ba8",
     "showTitle": false,
     "tableResultSettingsMap": {},
     "title": ""
    }
   },
   "outputs": [],
   "source": [
    "from pyspark.sql.types import StructField,StructType,StringType,LongType"
   ]
  },
  {
   "cell_type": "code",
   "execution_count": 0,
   "metadata": {
    "application/vnd.databricks.v1+cell": {
     "cellMetadata": {
      "byteLimit": 2048000,
      "rowLimit": 10000
     },
     "inputWidgets": {},
     "nuid": "70bc0514-505f-43d7-8b36-cb8b5b75f1fc",
     "showTitle": false,
     "tableResultSettingsMap": {},
     "title": ""
    }
   },
   "outputs": [],
   "source": [
    "from pyspark.sql.functions import asc,desc,col,count"
   ]
  },
  {
   "cell_type": "code",
   "execution_count": 0,
   "metadata": {
    "application/vnd.databricks.v1+cell": {
     "cellMetadata": {
      "byteLimit": 2048000,
      "rowLimit": 10000
     },
     "inputWidgets": {},
     "nuid": "845180e0-e2bc-4d36-b5f1-50f8abe0b55b",
     "showTitle": false,
     "tableResultSettingsMap": {},
     "title": ""
    }
   },
   "outputs": [],
   "source": [
    "Input_path=\"dbfs:/FileStore/users.json\""
   ]
  },
  {
   "cell_type": "code",
   "execution_count": 0,
   "metadata": {
    "application/vnd.databricks.v1+cell": {
     "cellMetadata": {
      "byteLimit": 2048000,
      "rowLimit": 10000
     },
     "inputWidgets": {},
     "nuid": "f7608f36-0eb0-4068-8e15-edeca821a2fb",
     "showTitle": false,
     "tableResultSettingsMap": {},
     "title": ""
    }
   },
   "outputs": [],
   "source": [
    "user_schema=StructType(\n",
    "  [\n",
    "    StructField(\"age\",LongType(),True),\n",
    "    StructField(\"gender\",StringType(),True),\n",
    "    StructField(\"name\",StringType(),True),\n",
    "    StructField(\"phone\",StringType(),True),\n",
    "    StructField(\"userid\",StringType(),True) \n",
    "  ]\n",
    ")"
   ]
  },
  {
   "cell_type": "code",
   "execution_count": 0,
   "metadata": {
    "application/vnd.databricks.v1+cell": {
     "cellMetadata": {
      "byteLimit": 2048000,
      "rowLimit": 10000
     },
     "inputWidgets": {},
     "nuid": "eaa2d036-f259-4f75-b831-75c32f13f129",
     "showTitle": false,
     "tableResultSettingsMap": {},
     "title": ""
    }
   },
   "outputs": [
    {
     "output_type": "stream",
     "name": "stdout",
     "output_type": "stream",
     "text": [
      "+----+------+------+----------+------+\n| age|gender|  name|     phone|userid|\n+----+------+------+----------+------+\n|  25|  Male| Satya|8501099876|     1|\n|null|  Male| Vivek|5676599876|     2|\n|  25|  Male| Rahim|      null|     3|\n|  28|Female|Sandra|8508899001|     4|\n|  15|Female|Keerti|      null|     5|\n|  13|  Male|Sundar|8522233456|     6|\n|  28|  Male| Steve|8501085009|     7|\n|  55|Female|Smriti|9246655498|     8|\n+----+------+------+----------+------+\n\n"
     ]
    }
   ],
   "source": [
    "#df=spark.read.json(Input_path)\n",
    "#df=spark.read.format(\"json\").load(Input_path)\n",
    "#df=spark.read.format(\"json\").schema(user_schema).load(Input_path)\n",
    "df=spark.read.load(Input_path,format=\"json\")\n",
    "df.show()"
   ]
  },
  {
   "cell_type": "code",
   "execution_count": 0,
   "metadata": {
    "application/vnd.databricks.v1+cell": {
     "cellMetadata": {
      "byteLimit": 2048000,
      "rowLimit": 10000
     },
     "inputWidgets": {},
     "nuid": "58f0716f-f189-4b85-ad64-9d43b59f9f59",
     "showTitle": false,
     "tableResultSettingsMap": {},
     "title": ""
    }
   },
   "outputs": [
    {
     "output_type": "stream",
     "name": "stdout",
     "output_type": "stream",
     "text": [
      "root\n |-- age: long (nullable = true)\n |-- gender: string (nullable = true)\n |-- name: string (nullable = true)\n |-- phone: string (nullable = true)\n |-- userid: long (nullable = true)\n\n"
     ]
    }
   ],
   "source": [
    "df.printSchema()"
   ]
  },
  {
   "cell_type": "code",
   "execution_count": 0,
   "metadata": {
    "application/vnd.databricks.v1+cell": {
     "cellMetadata": {
      "byteLimit": 2048000,
      "rowLimit": 10000
     },
     "inputWidgets": {},
     "nuid": "b23d406d-b3c7-48ea-bfbe-a281b9ebc78c",
     "showTitle": false,
     "tableResultSettingsMap": {},
     "title": ""
    }
   },
   "outputs": [
    {
     "output_type": "stream",
     "name": "stdout",
     "output_type": "stream",
     "text": [
      "+---+-----+\n|age|count|\n+---+-----+\n| 25|    2|\n| 28|    2|\n| 55|    1|\n| 13|    1|\n| 15|    1|\n+---+-----+\n\n"
     ]
    }
   ],
   "source": [
    "df1=df.select(\"age\",\"name\")\\\n",
    "  .filter(\"age is not null\")\\\n",
    "    .orderBy(\"age\")\\\n",
    "      .groupBy(\"age\").count()\\\n",
    "        .limit(5)\n",
    "df1.show()\n",
    "\n",
    "      \n",
    "        "
   ]
  },
  {
   "cell_type": "code",
   "execution_count": 0,
   "metadata": {
    "application/vnd.databricks.v1+cell": {
     "cellMetadata": {
      "byteLimit": 2048000,
      "rowLimit": 10000
     },
     "inputWidgets": {},
     "nuid": "f1f40e91-8368-4816-8771-5ce8b28ed56f",
     "showTitle": false,
     "tableResultSettingsMap": {},
     "title": ""
    }
   },
   "outputs": [
    {
     "output_type": "stream",
     "name": "stdout",
     "output_type": "stream",
     "text": [
      "Out[11]: [Table(name='users', catalog=None, namespace=[], description=None, tableType='TEMPORARY', isTemporary=True)]"
     ]
    }
   ],
   "source": [
    "spark.catalog.listTables()"
   ]
  },
  {
   "cell_type": "code",
   "execution_count": 0,
   "metadata": {
    "application/vnd.databricks.v1+cell": {
     "cellMetadata": {
      "byteLimit": 2048000,
      "rowLimit": 10000
     },
     "inputWidgets": {},
     "nuid": "e3d2387d-ce8d-4b63-860e-2e3ebcff7e23",
     "showTitle": false,
     "tableResultSettingsMap": {},
     "title": ""
    }
   },
   "outputs": [],
   "source": [
    "df.createOrReplaceTempView(\"users\")"
   ]
  },
  {
   "cell_type": "code",
   "execution_count": 0,
   "metadata": {
    "application/vnd.databricks.v1+cell": {
     "cellMetadata": {
      "byteLimit": 2048000,
      "rowLimit": 10000
     },
     "inputWidgets": {},
     "nuid": "854e112d-5bf7-488a-872c-7a28bb9af206",
     "showTitle": false,
     "tableResultSettingsMap": {},
     "title": ""
    }
   },
   "outputs": [
    {
     "output_type": "stream",
     "name": "stdout",
     "output_type": "stream",
     "text": [
      "+---+-----+\n|age|count|\n+---+-----+\n| 13|    1|\n| 15|    1|\n| 25|    2|\n| 28|    2|\n+---+-----+\n\n"
     ]
    }
   ],
   "source": [
    "query=\"\"\"select age,count(*) as count from users\n",
    "          where age is not null\n",
    "          group by age\n",
    "          order by age\n",
    "          limit 4\n",
    "          \"\"\"\n",
    "df2=spark.sql(query)\n",
    "df2.show()"
   ]
  },
  {
   "cell_type": "code",
   "execution_count": 0,
   "metadata": {
    "application/vnd.databricks.v1+cell": {
     "cellMetadata": {
      "byteLimit": 2048000,
      "implicitDf": true,
      "rowLimit": 10000
     },
     "inputWidgets": {},
     "nuid": "edc9116a-783f-4b96-864d-505458c6709d",
     "showTitle": false,
     "tableResultSettingsMap": {},
     "title": ""
    }
   },
   "outputs": [
    {
     "output_type": "display_data",
     "data": {
      "text/html": [
       "<style scoped>\n",
       "  .table-result-container {\n",
       "    max-height: 300px;\n",
       "    overflow: auto;\n",
       "  }\n",
       "  table, th, td {\n",
       "    border: 1px solid black;\n",
       "    border-collapse: collapse;\n",
       "  }\n",
       "  th, td {\n",
       "    padding: 5px;\n",
       "  }\n",
       "  th {\n",
       "    text-align: left;\n",
       "  }\n",
       "</style><div class='table-result-container'><table class='table-result'><thead style='background-color: white'><tr><th>age</th><th>count</th></tr></thead><tbody><tr><td>13</td><td>1</td></tr><tr><td>15</td><td>1</td></tr><tr><td>25</td><td>2</td></tr><tr><td>28</td><td>2</td></tr><tr><td>55</td><td>1</td></tr></tbody></table></div>"
      ]
     },
     "metadata": {
      "application/vnd.databricks.v1+output": {
       "addedWidgets": {},
       "aggData": [],
       "aggError": "",
       "aggOverflow": false,
       "aggSchema": [],
       "aggSeriesLimitReached": false,
       "aggType": "",
       "arguments": {},
       "columnCustomDisplayInfos": {},
       "data": [
        [
         13,
         1
        ],
        [
         15,
         1
        ],
        [
         25,
         2
        ],
        [
         28,
         2
        ],
        [
         55,
         1
        ]
       ],
       "datasetInfos": [],
       "dbfsResultPath": null,
       "isJsonSchema": true,
       "metadata": {},
       "overflow": false,
       "plotOptions": {
        "customPlotOptions": {},
        "displayType": "table",
        "pivotAggregation": null,
        "pivotColumns": null,
        "xColumns": null,
        "yColumns": null
       },
       "removedWidgets": [],
       "schema": [
        {
         "metadata": "{}",
         "name": "age",
         "type": "\"long\""
        },
        {
         "metadata": "{}",
         "name": "count",
         "type": "\"long\""
        }
       ],
       "type": "table"
      }
     },
     "output_type": "display_data"
    }
   ],
   "source": [
    "%sql\n",
    "select age, count(*) as count from users\n",
    "where age is not null\n",
    "group by age\n",
    "order by age\n",
    "limit 5"
   ]
  },
  {
   "cell_type": "code",
   "execution_count": 0,
   "metadata": {
    "application/vnd.databricks.v1+cell": {
     "cellMetadata": {
      "byteLimit": 2048000,
      "rowLimit": 10000
     },
     "inputWidgets": {},
     "nuid": "d4e67242-7738-419e-9aef-1fa0ac03f960",
     "showTitle": false,
     "tableResultSettingsMap": {},
     "title": ""
    }
   },
   "outputs": [],
   "source": [
    "output_path=\"/FileStore/outPut_json\""
   ]
  },
  {
   "cell_type": "code",
   "execution_count": 0,
   "metadata": {
    "application/vnd.databricks.v1+cell": {
     "cellMetadata": {
      "byteLimit": 2048000,
      "rowLimit": 10000
     },
     "inputWidgets": {},
     "nuid": "de796ed9-f08e-4c99-94a5-ebdb276aede9",
     "showTitle": false,
     "tableResultSettingsMap": {},
     "title": ""
    }
   },
   "outputs": [],
   "source": [
    "df2.write.format(\"json\").mode(\"ignore\").save(output_path)"
   ]
  },
  {
   "cell_type": "code",
   "execution_count": 0,
   "metadata": {
    "application/vnd.databricks.v1+cell": {
     "cellMetadata": {
      "byteLimit": 2048000,
      "rowLimit": 10000
     },
     "inputWidgets": {},
     "nuid": "f6f1f286-f9d4-45bb-8fb5-37d2d5463ab2",
     "showTitle": false,
     "tableResultSettingsMap": {},
     "title": ""
    }
   },
   "outputs": [
    {
     "output_type": "stream",
     "name": "stdout",
     "output_type": "stream",
     "text": [
      "+---+-----+\n|age|count|\n+---+-----+\n| 55|    1|\n| 28|    2|\n| 25|    2|\n| 15|    1|\n| 13|    1|\n+---+-----+\n\n"
     ]
    }
   ],
   "source": [
    "df=spark.read.json(\"/FileStore/outPut_json\")\n",
    "df.show()"
   ]
  },
  {
   "cell_type": "code",
   "execution_count": 0,
   "metadata": {
    "application/vnd.databricks.v1+cell": {
     "cellMetadata": {
      "byteLimit": 2048000,
      "rowLimit": 10000
     },
     "inputWidgets": {},
     "nuid": "8e7501d3-4220-426c-80d9-2afb2f7d3205",
     "showTitle": false,
     "tableResultSettingsMap": {},
     "title": ""
    }
   },
   "outputs": [
    {
     "output_type": "display_data",
     "data": {
      "text/html": [
       "<style scoped>\n",
       "  .table-result-container {\n",
       "    max-height: 300px;\n",
       "    overflow: auto;\n",
       "  }\n",
       "  table, th, td {\n",
       "    border: 1px solid black;\n",
       "    border-collapse: collapse;\n",
       "  }\n",
       "  th, td {\n",
       "    padding: 5px;\n",
       "  }\n",
       "  th {\n",
       "    text-align: left;\n",
       "  }\n",
       "</style><div class='table-result-container'><table class='table-result'><thead style='background-color: white'><tr><th>path</th><th>name</th><th>size</th><th>modificationTime</th></tr></thead><tbody><tr><td>dbfs:/FileStore/outPut_json/_SUCCESS</td><td>_SUCCESS</td><td>0</td><td>1719401598000</td></tr><tr><td>dbfs:/FileStore/outPut_json/_committed_8445401531700954223</td><td>_committed_8445401531700954223</td><td>115</td><td>1719401598000</td></tr><tr><td>dbfs:/FileStore/outPut_json/_started_8445401531700954223</td><td>_started_8445401531700954223</td><td>0</td><td>1719401597000</td></tr><tr><td>dbfs:/FileStore/outPut_json/part-00000-tid-8445401531700954223-8e5a5945-480c-465e-b920-140405f1b47d-1247-1-c000.json</td><td>part-00000-tid-8445401531700954223-8e5a5945-480c-465e-b920-140405f1b47d-1247-1-c000.json</td><td>105</td><td>1719401597000</td></tr></tbody></table></div>"
      ]
     },
     "metadata": {
      "application/vnd.databricks.v1+output": {
       "addedWidgets": {},
       "aggData": [],
       "aggError": "",
       "aggOverflow": false,
       "aggSchema": [],
       "aggSeriesLimitReached": false,
       "aggType": "",
       "arguments": {},
       "columnCustomDisplayInfos": {},
       "data": [
        [
         "dbfs:/FileStore/outPut_json/_SUCCESS",
         "_SUCCESS",
         0,
         1719401598000
        ],
        [
         "dbfs:/FileStore/outPut_json/_committed_8445401531700954223",
         "_committed_8445401531700954223",
         115,
         1719401598000
        ],
        [
         "dbfs:/FileStore/outPut_json/_started_8445401531700954223",
         "_started_8445401531700954223",
         0,
         1719401597000
        ],
        [
         "dbfs:/FileStore/outPut_json/part-00000-tid-8445401531700954223-8e5a5945-480c-465e-b920-140405f1b47d-1247-1-c000.json",
         "part-00000-tid-8445401531700954223-8e5a5945-480c-465e-b920-140405f1b47d-1247-1-c000.json",
         105,
         1719401597000
        ]
       ],
       "datasetInfos": [],
       "dbfsResultPath": null,
       "isJsonSchema": true,
       "metadata": {
        "isDbfsCommandResult": false
       },
       "overflow": false,
       "plotOptions": {
        "customPlotOptions": {},
        "displayType": "table",
        "pivotAggregation": null,
        "pivotColumns": null,
        "xColumns": null,
        "yColumns": null
       },
       "removedWidgets": [],
       "schema": [
        {
         "metadata": "{}",
         "name": "path",
         "type": "\"string\""
        },
        {
         "metadata": "{}",
         "name": "name",
         "type": "\"string\""
        },
        {
         "metadata": "{}",
         "name": "size",
         "type": "\"long\""
        },
        {
         "metadata": "{}",
         "name": "modificationTime",
         "type": "\"long\""
        }
       ],
       "type": "table"
      }
     },
     "output_type": "display_data"
    }
   ],
   "source": [
    "%fs ls /FileStore/outPut_json"
   ]
  },
  {
   "cell_type": "code",
   "execution_count": 0,
   "metadata": {
    "application/vnd.databricks.v1+cell": {
     "cellMetadata": {
      "byteLimit": 2048000,
      "rowLimit": 10000
     },
     "inputWidgets": {},
     "nuid": "bb96478c-8e4e-4e25-b9ba-75b25316239e",
     "showTitle": false,
     "tableResultSettingsMap": {},
     "title": ""
    }
   },
   "outputs": [
    {
     "output_type": "stream",
     "name": "stdout",
     "output_type": "stream",
     "text": [
      "+--------------------+\n|               value|\n+--------------------+\n|{\"age\":55,\"count\":1}|\n|{\"age\":28,\"count\":2}|\n|{\"age\":25,\"count\":2}|\n|{\"age\":15,\"count\":1}|\n|{\"age\":13,\"count\":1}|\n+--------------------+\n\n"
     ]
    }
   ],
   "source": [
    "dft=spark.read.text(\"dbfs:/FileStore/outPut_json/part-00000-tid-8445401531700954223-8e5a5945-480c-465e-b920-140405f1b47d-1247-1-c000.json\")\n",
    "dft.show()\n"
   ]
  },
  {
   "cell_type": "code",
   "execution_count": 0,
   "metadata": {
    "application/vnd.databricks.v1+cell": {
     "cellMetadata": {
      "byteLimit": 2048000,
      "rowLimit": 10000
     },
     "inputWidgets": {},
     "nuid": "cdb4476f-b96e-45f7-8fdc-6ea4751e623f",
     "showTitle": false,
     "tableResultSettingsMap": {},
     "title": ""
    }
   },
   "outputs": [
    {
     "output_type": "stream",
     "name": "stdout",
     "output_type": "stream",
     "text": [
      "Out[28]: [Table(name='users', catalog=None, namespace=[], description=None, tableType='TEMPORARY', isTemporary=True)]"
     ]
    }
   ],
   "source": [
    "spark.catalog.listTables()"
   ]
  },
  {
   "cell_type": "code",
   "execution_count": 0,
   "metadata": {
    "application/vnd.databricks.v1+cell": {
     "cellMetadata": {
      "byteLimit": 2048000,
      "rowLimit": 10000
     },
     "inputWidgets": {},
     "nuid": "e1fd09ef-d93c-4a8a-9ff8-103de6e11e84",
     "showTitle": false,
     "tableResultSettingsMap": {},
     "title": ""
    }
   },
   "outputs": [],
   "source": [
    "df.createOrReplaceGlobalTempView(\"global_users\")"
   ]
  },
  {
   "cell_type": "code",
   "execution_count": 0,
   "metadata": {
    "application/vnd.databricks.v1+cell": {
     "cellMetadata": {
      "byteLimit": 2048000,
      "rowLimit": 10000
     },
     "inputWidgets": {},
     "nuid": "5bacc7d7-1620-45b5-9376-61aa62565c5f",
     "showTitle": false,
     "tableResultSettingsMap": {},
     "title": ""
    }
   },
   "outputs": [
    {
     "output_type": "stream",
     "name": "stdout",
     "output_type": "stream",
     "text": [
      "+---+------+------+----------+------+\n|age|gender|  name|     phone|userid|\n+---+------+------+----------+------+\n| 13|  Male|Sundar|8522233456|     6|\n| 25|  Male| Satya|8501099876|     1|\n| 28|Female|Sandra|8508899001|     4|\n| 28|  Male| Steve|8501085009|     7|\n| 55|Female|Smriti|9246655498|     8|\n+---+------+------+----------+------+\n\n"
     ]
    }
   ],
   "source": [
    "qy=\"\"\"select * from global_temp.global_users\n",
    "where phone is not null and age is not null\n",
    "order by age\n",
    "limit 5\n",
    "\"\"\"\n",
    "dfg=spark.sql(qy)\n",
    "dfg.show()"
   ]
  },
  {
   "cell_type": "code",
   "execution_count": 0,
   "metadata": {
    "application/vnd.databricks.v1+cell": {
     "cellMetadata": {
      "byteLimit": 2048000,
      "implicitDf": true,
      "rowLimit": 10000
     },
     "inputWidgets": {},
     "nuid": "e50a0534-999e-4ce9-b2da-a0f6775d7a1b",
     "showTitle": false,
     "tableResultSettingsMap": {},
     "title": ""
    }
   },
   "outputs": [
    {
     "output_type": "display_data",
     "data": {
      "text/html": [
       "<style scoped>\n",
       "  .table-result-container {\n",
       "    max-height: 300px;\n",
       "    overflow: auto;\n",
       "  }\n",
       "  table, th, td {\n",
       "    border: 1px solid black;\n",
       "    border-collapse: collapse;\n",
       "  }\n",
       "  th, td {\n",
       "    padding: 5px;\n",
       "  }\n",
       "  th {\n",
       "    text-align: left;\n",
       "  }\n",
       "</style><div class='table-result-container'><table class='table-result'><thead style='background-color: white'><tr><th>age</th><th>gender</th><th>name</th><th>phone</th><th>userid</th></tr></thead><tbody><tr><td>13</td><td>Male</td><td>Sundar</td><td>8522233456</td><td>6</td></tr><tr><td>25</td><td>Male</td><td>Satya</td><td>8501099876</td><td>1</td></tr><tr><td>25</td><td>Male</td><td>Rahim</td><td>null</td><td>3</td></tr><tr><td>28</td><td>Male</td><td>Steve</td><td>8501085009</td><td>7</td></tr></tbody></table></div>"
      ]
     },
     "metadata": {
      "application/vnd.databricks.v1+output": {
       "addedWidgets": {},
       "aggData": [],
       "aggError": "",
       "aggOverflow": false,
       "aggSchema": [],
       "aggSeriesLimitReached": false,
       "aggType": "",
       "arguments": {},
       "columnCustomDisplayInfos": {},
       "data": [
        [
         13,
         "Male",
         "Sundar",
         "8522233456",
         6
        ],
        [
         25,
         "Male",
         "Satya",
         "8501099876",
         1
        ],
        [
         25,
         "Male",
         "Rahim",
         null,
         3
        ],
        [
         28,
         "Male",
         "Steve",
         "8501085009",
         7
        ]
       ],
       "datasetInfos": [],
       "dbfsResultPath": null,
       "isJsonSchema": true,
       "metadata": {},
       "overflow": false,
       "plotOptions": {
        "customPlotOptions": {},
        "displayType": "table",
        "pivotAggregation": null,
        "pivotColumns": null,
        "xColumns": null,
        "yColumns": null
       },
       "removedWidgets": [],
       "schema": [
        {
         "metadata": "{}",
         "name": "age",
         "type": "\"long\""
        },
        {
         "metadata": "{}",
         "name": "gender",
         "type": "\"string\""
        },
        {
         "metadata": "{}",
         "name": "name",
         "type": "\"string\""
        },
        {
         "metadata": "{}",
         "name": "phone",
         "type": "\"string\""
        },
        {
         "metadata": "{}",
         "name": "userid",
         "type": "\"long\""
        }
       ],
       "type": "table"
      }
     },
     "output_type": "display_data"
    }
   ],
   "source": [
    "%sql\n",
    "select * from global_temp.global_users\n",
    "where age is not null and gender = 'Male'\n",
    "order by age\n",
    "limit 5\n"
   ]
  },
  {
   "cell_type": "code",
   "execution_count": 0,
   "metadata": {
    "application/vnd.databricks.v1+cell": {
     "cellMetadata": {
      "byteLimit": 2048000,
      "rowLimit": 10000
     },
     "inputWidgets": {},
     "nuid": "6aca7545-1ccf-4730-9e8f-d411bb6ffcf8",
     "showTitle": true,
     "tableResultSettingsMap": {},
     "title": "JSON"
    }
   },
   "outputs": [],
   "source": [
    "path_json=\"dbfs:/FileStore/cts_data/json/2013_summary.json\"\n",
    "path_ot_json=\"FilesStore/output/json\""
   ]
  },
  {
   "cell_type": "code",
   "execution_count": 0,
   "metadata": {
    "application/vnd.databricks.v1+cell": {
     "cellMetadata": {
      "byteLimit": 2048000,
      "rowLimit": 10000
     },
     "inputWidgets": {},
     "nuid": "c030d641-be51-49ac-bd78-9883fd973202",
     "showTitle": false,
     "tableResultSettingsMap": {},
     "title": ""
    }
   },
   "outputs": [],
   "source": [
    "#df=spark.read.json(path_json)\n",
    "# df=spark.read.format(\"json\").load(path_json)\n",
    "#df= spark.read.json(path_json,schema=myschema)\n",
    "# df=spark.read.load(path_json,format=\"json\")\n",
    "df=spark.read.format(\"json\").schema(myschema).load(path_json)"
   ]
  },
  {
   "cell_type": "code",
   "execution_count": 0,
   "metadata": {
    "application/vnd.databricks.v1+cell": {
     "cellMetadata": {
      "byteLimit": 2048000,
      "rowLimit": 10000
     },
     "inputWidgets": {},
     "nuid": "0420daba-e3a8-4930-9efd-a362c53415cf",
     "showTitle": false,
     "tableResultSettingsMap": {},
     "title": ""
    }
   },
   "outputs": [],
   "source": [
    "myschema=StructType(\n",
    "  [\n",
    "  StructField(\"DEST_COUNTRY_NAME\",StringType(),True),\n",
    "  StructField(\"ORIGIN_COUNTRY_NAME\",StringType(),True),\n",
    "  StructField(\"count\",LongType(),True)\n",
    " ]\n",
    ")"
   ]
  },
  {
   "cell_type": "code",
   "execution_count": 0,
   "metadata": {
    "application/vnd.databricks.v1+cell": {
     "cellMetadata": {
      "byteLimit": 2048000,
      "rowLimit": 10000
     },
     "inputWidgets": {},
     "nuid": "b7570fdf-6d7e-4b3e-b723-e0f0642f2cd7",
     "showTitle": false,
     "tableResultSettingsMap": {},
     "title": ""
    }
   },
   "outputs": [
    {
     "output_type": "stream",
     "name": "stdout",
     "output_type": "stream",
     "text": [
      "+--------------------+-------------------+-----+\n|   DEST_COUNTRY_NAME|ORIGIN_COUNTRY_NAME|count|\n+--------------------+-------------------+-----+\n|       United States|            Romania|   12|\n|       United States|            Croatia|    1|\n|       United States|            Ireland|  266|\n|               Egypt|      United States|   13|\n|       United States|              India|   60|\n|   Equatorial Guinea|      United States|    1|\n|       United States|              Niger|    1|\n|       United States|          Singapore|   22|\n|       United States|            Grenada|   40|\n|          Costa Rica|      United States|  509|\n|             Senegal|      United States|   28|\n|              Guyana|      United States|   34|\n|       United States|       Sint Maarten|  260|\n|       United States|   Marshall Islands|   33|\n|             Bolivia|      United States|   33|\n|            Anguilla|      United States|   22|\n|       United States|           Paraguay|   15|\n|             Algeria|      United States|    2|\n|Turks and Caicos ...|      United States|  181|\n|Saint Vincent and...|      United States|    4|\n+--------------------+-------------------+-----+\nonly showing top 20 rows\n\n"
     ]
    }
   ],
   "source": [
    "df.show()"
   ]
  },
  {
   "cell_type": "code",
   "execution_count": 0,
   "metadata": {
    "application/vnd.databricks.v1+cell": {
     "cellMetadata": {
      "byteLimit": 2048000,
      "rowLimit": 10000
     },
     "inputWidgets": {},
     "nuid": "9d1270fb-d04b-40b7-a888-28e5257cd4a5",
     "showTitle": false,
     "tableResultSettingsMap": {},
     "title": ""
    }
   },
   "outputs": [
    {
     "output_type": "stream",
     "name": "stdout",
     "output_type": "stream",
     "text": [
      "+-----------------+-----+\n|DEST_COUNTRY_NAME|count|\n+-----------------+-----+\n|    United States|   16|\n+-----------------+-----+\n\n"
     ]
    }
   ],
   "source": [
    "df1=df.select(\"DEST_COUNTRY_NAME\",\"ORIGIN_COUNTRY_NAME\",\"count\")\\\n",
    "  .where(\"count>500 and DEST_COUNTRY_NAME='United States'\")\\\n",
    "    .orderBy(\"DEST_COUNTRY_NAME\")\\\n",
    "      .groupBy(\"DEST_COUNTRY_NAME\").count()\n",
    "df1.show()"
   ]
  },
  {
   "cell_type": "code",
   "execution_count": 0,
   "metadata": {
    "application/vnd.databricks.v1+cell": {
     "cellMetadata": {
      "byteLimit": 2048000,
      "rowLimit": 10000
     },
     "inputWidgets": {},
     "nuid": "c37c5b05-6aeb-4c86-bd7c-10e38542fff5",
     "showTitle": false,
     "tableResultSettingsMap": {},
     "title": ""
    }
   },
   "outputs": [
    {
     "output_type": "stream",
     "name": "stdout",
     "output_type": "stream",
     "text": [
      "+-----------------+-------------------+-----+\n|DEST_COUNTRY_NAME|ORIGIN_COUNTRY_NAME|count|\n+-----------------+-------------------+-----+\n|United States    |Romania            |12   |\n|United States    |Croatia            |1    |\n|United States    |Ireland            |266  |\n|Egypt            |United States      |13   |\n+-----------------+-------------------+-----+\nonly showing top 4 rows\n\n"
     ]
    }
   ],
   "source": [
    "df.show(4,False,False)"
   ]
  },
  {
   "cell_type": "code",
   "execution_count": 0,
   "metadata": {
    "application/vnd.databricks.v1+cell": {
     "cellMetadata": {
      "byteLimit": 2048000,
      "rowLimit": 10000
     },
     "inputWidgets": {},
     "nuid": "4305a50d-9bab-4375-9ce5-f04935c9a785",
     "showTitle": false,
     "tableResultSettingsMap": {},
     "title": ""
    }
   },
   "outputs": [
    {
     "output_type": "stream",
     "name": "stdout",
     "output_type": "stream",
     "text": [
      "-RECORD 0----------------------------\n DEST_COUNTRY_NAME   | United States \n ORIGIN_COUNTRY_NAME | Romania       \n count               | 12            \n-RECORD 1----------------------------\n DEST_COUNTRY_NAME   | United States \n ORIGIN_COUNTRY_NAME | Croatia       \n count               | 1             \nonly showing top 2 rows\n\n"
     ]
    }
   ],
   "source": [
    "df.show(2,False,True)"
   ]
  },
  {
   "cell_type": "code",
   "execution_count": 0,
   "metadata": {
    "application/vnd.databricks.v1+cell": {
     "cellMetadata": {
      "byteLimit": 2048000,
      "rowLimit": 10000
     },
     "inputWidgets": {},
     "nuid": "9e626f61-8cb3-4af2-8342-9d7420da58a4",
     "showTitle": false,
     "tableResultSettingsMap": {},
     "title": ""
    }
   },
   "outputs": [],
   "source": [
    "df1.write.format(\"json\").mode(\"overwrite\").save(path_ot_json)"
   ]
  },
  {
   "cell_type": "code",
   "execution_count": 0,
   "metadata": {
    "application/vnd.databricks.v1+cell": {
     "cellMetadata": {
      "byteLimit": 2048000,
      "rowLimit": 10000
     },
     "inputWidgets": {},
     "nuid": "8d43637a-ce23-4c70-8b7d-79db268ff5f4",
     "showTitle": false,
     "tableResultSettingsMap": {},
     "title": ""
    }
   },
   "outputs": [
    {
     "output_type": "stream",
     "name": "stdout",
     "output_type": "stream",
     "text": [
      "+-----------------+-----+\n|DEST_COUNTRY_NAME|count|\n+-----------------+-----+\n|    United States|   16|\n+-----------------+-----+\n\n"
     ]
    }
   ],
   "source": [
    "dfj=spark.read.json(\"dbfs:/FilesStore/output/json\")\n",
    "dfj.show()"
   ]
  },
  {
   "cell_type": "code",
   "execution_count": 0,
   "metadata": {
    "application/vnd.databricks.v1+cell": {
     "cellMetadata": {
      "byteLimit": 2048000,
      "rowLimit": 10000
     },
     "inputWidgets": {},
     "nuid": "c7888ed2-6a64-4806-9f6e-3e4450f061c6",
     "showTitle": false,
     "tableResultSettingsMap": {},
     "title": ""
    }
   },
   "outputs": [
    {
     "output_type": "display_data",
     "data": {
      "text/html": [
       "<style scoped>\n",
       "  .table-result-container {\n",
       "    max-height: 300px;\n",
       "    overflow: auto;\n",
       "  }\n",
       "  table, th, td {\n",
       "    border: 1px solid black;\n",
       "    border-collapse: collapse;\n",
       "  }\n",
       "  th, td {\n",
       "    padding: 5px;\n",
       "  }\n",
       "  th {\n",
       "    text-align: left;\n",
       "  }\n",
       "</style><div class='table-result-container'><table class='table-result'><thead style='background-color: white'><tr><th>path</th><th>name</th><th>size</th><th>modificationTime</th></tr></thead><tbody><tr><td>dbfs:/FilesStore/output/json/_SUCCESS</td><td>_SUCCESS</td><td>0</td><td>1731575110000</td></tr><tr><td>dbfs:/FilesStore/output/json/_committed_7200029083853766027</td><td>_committed_7200029083853766027</td><td>213</td><td>1731575109000</td></tr><tr><td>dbfs:/FilesStore/output/json/_committed_973489389122606716</td><td>_committed_973489389122606716</td><td>114</td><td>1719406134000</td></tr><tr><td>dbfs:/FilesStore/output/json/_committed_vacuum4805902389785269829</td><td>_committed_vacuum4805902389785269829</td><td>95</td><td>1731575110000</td></tr><tr><td>dbfs:/FilesStore/output/json/_started_7200029083853766027</td><td>_started_7200029083853766027</td><td>0</td><td>1731575109000</td></tr><tr><td>dbfs:/FilesStore/output/json/part-00000-tid-7200029083853766027-d571bc98-9627-4ee7-867f-adff25c2a306-19-1-c000.json</td><td>part-00000-tid-7200029083853766027-d571bc98-9627-4ee7-867f-adff25c2a306-19-1-c000.json</td><td>49</td><td>1731575109000</td></tr></tbody></table></div>"
      ]
     },
     "metadata": {
      "application/vnd.databricks.v1+output": {
       "addedWidgets": {},
       "aggData": [],
       "aggError": "",
       "aggOverflow": false,
       "aggSchema": [],
       "aggSeriesLimitReached": false,
       "aggType": "",
       "arguments": {},
       "columnCustomDisplayInfos": {},
       "data": [
        [
         "dbfs:/FilesStore/output/json/_SUCCESS",
         "_SUCCESS",
         0,
         1731575110000
        ],
        [
         "dbfs:/FilesStore/output/json/_committed_7200029083853766027",
         "_committed_7200029083853766027",
         213,
         1731575109000
        ],
        [
         "dbfs:/FilesStore/output/json/_committed_973489389122606716",
         "_committed_973489389122606716",
         114,
         1719406134000
        ],
        [
         "dbfs:/FilesStore/output/json/_committed_vacuum4805902389785269829",
         "_committed_vacuum4805902389785269829",
         95,
         1731575110000
        ],
        [
         "dbfs:/FilesStore/output/json/_started_7200029083853766027",
         "_started_7200029083853766027",
         0,
         1731575109000
        ],
        [
         "dbfs:/FilesStore/output/json/part-00000-tid-7200029083853766027-d571bc98-9627-4ee7-867f-adff25c2a306-19-1-c000.json",
         "part-00000-tid-7200029083853766027-d571bc98-9627-4ee7-867f-adff25c2a306-19-1-c000.json",
         49,
         1731575109000
        ]
       ],
       "datasetInfos": [],
       "dbfsResultPath": null,
       "isJsonSchema": true,
       "metadata": {
        "isDbfsCommandResult": false
       },
       "overflow": false,
       "plotOptions": {
        "customPlotOptions": {},
        "displayType": "table",
        "pivotAggregation": null,
        "pivotColumns": null,
        "xColumns": null,
        "yColumns": null
       },
       "removedWidgets": [],
       "schema": [
        {
         "metadata": "{}",
         "name": "path",
         "type": "\"string\""
        },
        {
         "metadata": "{}",
         "name": "name",
         "type": "\"string\""
        },
        {
         "metadata": "{}",
         "name": "size",
         "type": "\"long\""
        },
        {
         "metadata": "{}",
         "name": "modificationTime",
         "type": "\"long\""
        }
       ],
       "type": "table"
      }
     },
     "output_type": "display_data"
    }
   ],
   "source": [
    "%fs ls \"dbfs:/FilesStore/output/json\""
   ]
  },
  {
   "cell_type": "code",
   "execution_count": 0,
   "metadata": {
    "application/vnd.databricks.v1+cell": {
     "cellMetadata": {
      "byteLimit": 2048000,
      "rowLimit": 10000
     },
     "inputWidgets": {},
     "nuid": "5b51d1d8-1f26-4faf-adf0-cf1353c9ec32",
     "showTitle": false,
     "tableResultSettingsMap": {},
     "title": ""
    }
   },
   "outputs": [
    {
     "output_type": "stream",
     "name": "stdout",
     "output_type": "stream",
     "text": [
      "+--------------------+\n|               value|\n+--------------------+\n|{\"DEST_COUNTRY_NA...|\n+--------------------+\n\n"
     ]
    }
   ],
   "source": [
    "df=spark.read.text(\"dbfs:/FilesStore/output/json/part-00000-tid-7200029083853766027-d571bc98-9627-4ee7-867f-adff25c2a306-19-1-c000.json\")\n",
    "df.show()"
   ]
  },
  {
   "cell_type": "code",
   "execution_count": 0,
   "metadata": {
    "application/vnd.databricks.v1+cell": {
     "cellMetadata": {
      "byteLimit": 2048000,
      "rowLimit": 10000
     },
     "inputWidgets": {},
     "nuid": "c86b0ee6-8c58-4c67-a066-e4f5bc320d50",
     "showTitle": false,
     "tableResultSettingsMap": {},
     "title": ""
    }
   },
   "outputs": [],
   "source": [
    "inpu_path_mltlne=\"dbfs:/FileStore/users_multiline.json\""
   ]
  },
  {
   "cell_type": "code",
   "execution_count": 0,
   "metadata": {
    "application/vnd.databricks.v1+cell": {
     "cellMetadata": {
      "byteLimit": 2048000,
      "rowLimit": 10000
     },
     "inputWidgets": {},
     "nuid": "08242042-7d38-45d6-9305-af520058e5d1",
     "showTitle": false,
     "tableResultSettingsMap": {},
     "title": ""
    }
   },
   "outputs": [
    {
     "output_type": "stream",
     "name": "stdout",
     "output_type": "stream",
     "text": [
      "+----+------+-----+----------+------+\n| age|gender| name|     phone|userid|\n+----+------+-----+----------+------+\n|  25|  Male|Satya|8501099876|     1|\n|null|  Male| null|5676599876|     2|\n|  25|  Male|Rahim|      null|     3|\n+----+------+-----+----------+------+\n\n"
     ]
    }
   ],
   "source": [
    "df=spark.read.json(inpu_path_mltlne,multiLine=True)\n",
    "df.show()"
   ]
  },
  {
   "cell_type": "code",
   "execution_count": 0,
   "metadata": {
    "application/vnd.databricks.v1+cell": {
     "cellMetadata": {
      "byteLimit": 2048000,
      "rowLimit": 10000
     },
     "inputWidgets": {},
     "nuid": "11c10fa9-365b-4b21-a71a-9de4eaa5d7d3",
     "showTitle": false,
     "tableResultSettingsMap": {},
     "title": ""
    }
   },
   "outputs": [
    {
     "output_type": "stream",
     "name": "stdout",
     "output_type": "stream",
     "text": [
      "+-----+------+----+----------+\n| name|gender| age|     phone|\n+-----+------+----+----------+\n| null|  Male|null|5676599876|\n|Satya|  Male|  25|8501099876|\n|Rahim|  Male|  25|      null|\n+-----+------+----+----------+\n\n"
     ]
    }
   ],
   "source": [
    "dfm=df.select(\"name\",\"gender\",\"age\",\"phone\")\\\n",
    "  .where(\"gender is not null\")\\\n",
    "    .orderBy(\"age\")\n",
    "dfm.show()"
   ]
  },
  {
   "cell_type": "code",
   "execution_count": 0,
   "metadata": {
    "application/vnd.databricks.v1+cell": {
     "cellMetadata": {
      "byteLimit": 2048000,
      "rowLimit": 10000
     },
     "inputWidgets": {},
     "nuid": "c3959c9a-72ce-4984-a542-091502959740",
     "showTitle": false,
     "tableResultSettingsMap": {},
     "title": ""
    }
   },
   "outputs": [
    {
     "output_type": "display_data",
     "data": {
      "text/html": [
       "<style scoped>\n",
       "  .table-result-container {\n",
       "    max-height: 300px;\n",
       "    overflow: auto;\n",
       "  }\n",
       "  table, th, td {\n",
       "    border: 1px solid black;\n",
       "    border-collapse: collapse;\n",
       "  }\n",
       "  th, td {\n",
       "    padding: 5px;\n",
       "  }\n",
       "  th {\n",
       "    text-align: left;\n",
       "  }\n",
       "</style><div class='table-result-container'><table class='table-result'><thead style='background-color: white'><tr><th>value</th></tr></thead><tbody><tr><td>{\"userid\": 1, \"name\":\"Satya\", \"gender\": \"Male\", \"age\":25, \"address\":{\"city\":\"Hyderabad\", \"state\":\"TS\"}}</td></tr><tr><td>{\"gender\": \"Male\", \"userid\": 2, \"phone\": \"5676599876\", \"address\":{\"city\":\"Chennai\", \"state\":\"TN\"}}</td></tr><tr><td>{\"name\":\"Rahim\", \"userid\": 3, \"gender\": \"Male\", \"age\":25, \"address\":{\"city\":\"Bangalore\", \"state\":\"KA\"}}</td></tr><tr><td>{\"userid\": 4, \"name\":\"Sandra\", \"gender\": \"Female\",\"age\":28, \"address\":{\"city\":\"Vijayawada\", \"state\":\"AP\"}}</td></tr><tr><td>{\"userid\": 5, \"name\":\"Keerti\", \"gender\": \"Female\", \"age\":15, \"address\":{\"city\":\"Mumbai\", \"state\":\"MH\"}}</td></tr><tr><td>{\"userid\": 6, \"name\":\"Sundar\", \"gender\": \"Male\", \"age\":13, \"address\":{\"city\":\"Hyderabad\", \"state\":\"TS\"} }</td></tr><tr><td>{\"userid\": 7, \"name\":\"Steve\", \"gender\": \"Male\", \"age\":28, \"address\":{\"city\":\"Hyderabad\", \"state\":\"TS\"} }</td></tr><tr><td>{\"userid\": 8, \"name\":\"Smriti\", \"gender\": \"Female\", \"age\":55, \"address\":{\"city\":\"Hyderabad\", \"state\":\"TS\"} }</td></tr></tbody></table></div>"
      ]
     },
     "metadata": {
      "application/vnd.databricks.v1+output": {
       "addedWidgets": {},
       "aggData": [],
       "aggError": "",
       "aggOverflow": false,
       "aggSchema": [],
       "aggSeriesLimitReached": false,
       "aggType": "",
       "arguments": {},
       "columnCustomDisplayInfos": {},
       "data": [
        [
         "{\"userid\": 1, \"name\":\"Satya\", \"gender\": \"Male\", \"age\":25, \"address\":{\"city\":\"Hyderabad\", \"state\":\"TS\"}}"
        ],
        [
         "{\"gender\": \"Male\", \"userid\": 2, \"phone\": \"5676599876\", \"address\":{\"city\":\"Chennai\", \"state\":\"TN\"}}"
        ],
        [
         "{\"name\":\"Rahim\", \"userid\": 3, \"gender\": \"Male\", \"age\":25, \"address\":{\"city\":\"Bangalore\", \"state\":\"KA\"}}"
        ],
        [
         "{\"userid\": 4, \"name\":\"Sandra\", \"gender\": \"Female\",\"age\":28, \"address\":{\"city\":\"Vijayawada\", \"state\":\"AP\"}}"
        ],
        [
         "{\"userid\": 5, \"name\":\"Keerti\", \"gender\": \"Female\", \"age\":15, \"address\":{\"city\":\"Mumbai\", \"state\":\"MH\"}}"
        ],
        [
         "{\"userid\": 6, \"name\":\"Sundar\", \"gender\": \"Male\", \"age\":13, \"address\":{\"city\":\"Hyderabad\", \"state\":\"TS\"} }"
        ],
        [
         "{\"userid\": 7, \"name\":\"Steve\", \"gender\": \"Male\", \"age\":28, \"address\":{\"city\":\"Hyderabad\", \"state\":\"TS\"} }"
        ],
        [
         "{\"userid\": 8, \"name\":\"Smriti\", \"gender\": \"Female\", \"age\":55, \"address\":{\"city\":\"Hyderabad\", \"state\":\"TS\"} }"
        ]
       ],
       "datasetInfos": [],
       "dbfsResultPath": null,
       "isJsonSchema": true,
       "metadata": {},
       "overflow": false,
       "plotOptions": {
        "customPlotOptions": {},
        "displayType": "table",
        "pivotAggregation": null,
        "pivotColumns": null,
        "xColumns": null,
        "yColumns": null
       },
       "removedWidgets": [],
       "schema": [
        {
         "metadata": "{}",
         "name": "value",
         "type": "\"string\""
        }
       ],
       "type": "table"
      }
     },
     "output_type": "display_data"
    }
   ],
   "source": [
    "#nested_json=\"dbfs:/FileStore/users_nested.json\"\n",
    "display(spark.read.text(\"dbfs:/FileStore/users_nested.json\"))"
   ]
  },
  {
   "cell_type": "code",
   "execution_count": 0,
   "metadata": {
    "application/vnd.databricks.v1+cell": {
     "cellMetadata": {
      "byteLimit": 2048000,
      "rowLimit": 10000
     },
     "inputWidgets": {},
     "nuid": "93e4d606-9095-4028-be06-126a2a16cf90",
     "showTitle": false,
     "tableResultSettingsMap": {},
     "title": ""
    }
   },
   "outputs": [],
   "source": [
    "nested_json=\"dbfs:/FileStore/users_nested.json\""
   ]
  },
  {
   "cell_type": "code",
   "execution_count": 0,
   "metadata": {
    "application/vnd.databricks.v1+cell": {
     "cellMetadata": {
      "byteLimit": 2048000,
      "rowLimit": 10000
     },
     "inputWidgets": {},
     "nuid": "229cdf77-4d6c-4a3e-bca4-14f4d23cfe94",
     "showTitle": false,
     "tableResultSettingsMap": {},
     "title": ""
    }
   },
   "outputs": [
    {
     "output_type": "stream",
     "name": "stdout",
     "output_type": "stream",
     "text": [
      "+----------------+----+------+------+----------+------+\n|         address| age|gender|  name|     phone|userid|\n+----------------+----+------+------+----------+------+\n| {Hyderabad, TS}|  25|  Male| Satya|      null|     1|\n|   {Chennai, TN}|null|  Male|  null|5676599876|     2|\n| {Bangalore, KA}|  25|  Male| Rahim|      null|     3|\n|{Vijayawada, AP}|  28|Female|Sandra|      null|     4|\n|    {Mumbai, MH}|  15|Female|Keerti|      null|     5|\n| {Hyderabad, TS}|  13|  Male|Sundar|      null|     6|\n| {Hyderabad, TS}|  28|  Male| Steve|      null|     7|\n| {Hyderabad, TS}|  55|Female|Smriti|      null|     8|\n+----------------+----+------+------+----------+------+\n\n"
     ]
    }
   ],
   "source": [
    "dfn=spark.read.json(nested_json)\n",
    "dfn.show()"
   ]
  },
  {
   "cell_type": "code",
   "execution_count": 0,
   "metadata": {
    "application/vnd.databricks.v1+cell": {
     "cellMetadata": {
      "byteLimit": 2048000,
      "rowLimit": 10000
     },
     "inputWidgets": {},
     "nuid": "c5ab3d85-c36d-4003-b6af-844259e5da45",
     "showTitle": false,
     "tableResultSettingsMap": {},
     "title": ""
    }
   },
   "outputs": [],
   "source": [
    "adress_schema=StructType(\n",
    "  [\n",
    "    StructField(\"city\",StringType(),True),\n",
    "    StructField(\"state\",StringType(),True)\n",
    "  ]\n",
    ")\n",
    "user_schema=StructType(\n",
    "  [\n",
    "    StructField(\"age\",LongType(),True),\n",
    "    StructField(\"gender\",StringType(),True),\n",
    "    StructField(\"name\",StringType(),True),\n",
    "    StructField(\"userid\",LongType(),True),\n",
    "    StructField(\"address\",adress_schema,True)\n",
    "  ]\n",
    ")"
   ]
  },
  {
   "cell_type": "code",
   "execution_count": 0,
   "metadata": {
    "application/vnd.databricks.v1+cell": {
     "cellMetadata": {
      "byteLimit": 2048000,
      "rowLimit": 10000
     },
     "inputWidgets": {},
     "nuid": "c6bb42b5-5606-4e84-a2c7-1b5d36fe69a1",
     "showTitle": false,
     "tableResultSettingsMap": {},
     "title": ""
    }
   },
   "outputs": [
    {
     "output_type": "stream",
     "name": "stdout",
     "output_type": "stream",
     "text": [
      "+----+------+------+------+----------------+\n| age|gender|  name|userid|         address|\n+----+------+------+------+----------------+\n|  25|  Male| Satya|     1| {Hyderabad, TS}|\n|null|  Male|  null|     2|   {Chennai, TN}|\n|  25|  Male| Rahim|     3| {Bangalore, KA}|\n|  28|Female|Sandra|     4|{Vijayawada, AP}|\n|  15|Female|Keerti|     5|    {Mumbai, MH}|\n|  13|  Male|Sundar|     6| {Hyderabad, TS}|\n|  28|  Male| Steve|     7| {Hyderabad, TS}|\n|  55|Female|Smriti|     8| {Hyderabad, TS}|\n+----+------+------+------+----------------+\n\n"
     ]
    }
   ],
   "source": [
    "dfnn=spark.read.json(nested_json,schema=user_schema)\n",
    "dfnn.show()"
   ]
  },
  {
   "cell_type": "code",
   "execution_count": 0,
   "metadata": {
    "application/vnd.databricks.v1+cell": {
     "cellMetadata": {
      "byteLimit": 2048000,
      "rowLimit": 10000
     },
     "inputWidgets": {},
     "nuid": "39095141-9f33-45fd-a66a-85b859c69162",
     "showTitle": false,
     "tableResultSettingsMap": {},
     "title": ""
    }
   },
   "outputs": [
    {
     "output_type": "stream",
     "name": "stdout",
     "output_type": "stream",
     "text": [
      "+----------------+\n|         address|\n+----------------+\n| {Hyderabad, TS}|\n|   {Chennai, TN}|\n| {Bangalore, KA}|\n|{Vijayawada, AP}|\n|    {Mumbai, MH}|\n| {Hyderabad, TS}|\n| {Hyderabad, TS}|\n| {Hyderabad, TS}|\n+----------------+\n\n"
     ]
    }
   ],
   "source": [
    "dfnn.select(dfnn[\"address\"]).show()"
   ]
  },
  {
   "cell_type": "code",
   "execution_count": 0,
   "metadata": {
    "application/vnd.databricks.v1+cell": {
     "cellMetadata": {
      "byteLimit": 2048000,
      "rowLimit": 10000
     },
     "inputWidgets": {},
     "nuid": "ac4d0da8-ea7e-4e59-badd-9264982568fb",
     "showTitle": true,
     "tableResultSettingsMap": {},
     "title": "Parquet"
    }
   },
   "outputs": [],
   "source": [
    "parquet_ipath=\"dbfs:/FileStore/flight-data/parquet/2010-summary.parquet\"\n",
    "parquet_oPath=\"dbfs:/FilesStore/output/parquet\""
   ]
  },
  {
   "cell_type": "code",
   "execution_count": 0,
   "metadata": {
    "application/vnd.databricks.v1+cell": {
     "cellMetadata": {
      "byteLimit": 2048000,
      "rowLimit": 10000
     },
     "inputWidgets": {},
     "nuid": "493d5360-a598-4fce-844a-646410627fa7",
     "showTitle": false,
     "tableResultSettingsMap": {},
     "title": ""
    }
   },
   "outputs": [
    {
     "output_type": "stream",
     "name": "stdout",
     "output_type": "stream",
     "text": [
      "+--------------------+-------------------+-----+\n|   DEST_COUNTRY_NAME|ORIGIN_COUNTRY_NAME|count|\n+--------------------+-------------------+-----+\n|       United States|            Romania|    1|\n|       United States|            Ireland|  264|\n|       United States|              India|   69|\n|               Egypt|      United States|   24|\n|   Equatorial Guinea|      United States|    1|\n|       United States|          Singapore|   25|\n|       United States|            Grenada|   54|\n|          Costa Rica|      United States|  477|\n|             Senegal|      United States|   29|\n|       United States|   Marshall Islands|   44|\n|              Guyana|      United States|   17|\n|       United States|       Sint Maarten|   53|\n|               Malta|      United States|    1|\n|             Bolivia|      United States|   46|\n|            Anguilla|      United States|   21|\n|Turks and Caicos ...|      United States|  136|\n|       United States|        Afghanistan|    2|\n|Saint Vincent and...|      United States|    1|\n|               Italy|      United States|  390|\n|       United States|             Russia|  156|\n+--------------------+-------------------+-----+\nonly showing top 20 rows\n\n"
     ]
    }
   ],
   "source": [
    "dfp=spark.read.format(\"parquet\").load(parquet_ipath)\n",
    "dfp.show()"
   ]
  },
  {
   "cell_type": "code",
   "execution_count": 0,
   "metadata": {
    "application/vnd.databricks.v1+cell": {
     "cellMetadata": {
      "byteLimit": 2048000,
      "rowLimit": 10000
     },
     "inputWidgets": {},
     "nuid": "b067f768-d8b2-4c36-97cb-a5b3e487c962",
     "showTitle": false,
     "tableResultSettingsMap": {},
     "title": ""
    }
   },
   "outputs": [
    {
     "output_type": "stream",
     "name": "stdout",
     "output_type": "stream",
     "text": [
      "+------------------+-----+\n| DEST_COUNTRY_NAME|count|\n+------------------+-----+\n|           Germany|    1|\n|            France|    1|\n|     United States|   16|\n|       South Korea|    1|\n|            Mexico|    1|\n|       The Bahamas|    1|\n|           Jamaica|    1|\n|            Canada|    1|\n|            Brazil|    1|\n|Dominican Republic|    1|\n|             Japan|    1|\n|       El Salvador|    1|\n|          Colombia|    1|\n|    United Kingdom|    1|\n|       Netherlands|    1|\n+------------------+-----+\n\n"
     ]
    }
   ],
   "source": [
    "dfp.select(\"DEST_COUNTRY_NAME\",\"ORIGIN_COUNTRY_NAME\",\"count\")\\\n",
    "  .where(\"count > 500\")\\\n",
    "    .orderBy(\"DEST_COUNTRY_NAME\")\\\n",
    "      .groupBy(\"DEST_COUNTRY_NAME\").count().show()\n"
   ]
  },
  {
   "cell_type": "code",
   "execution_count": 0,
   "metadata": {
    "application/vnd.databricks.v1+cell": {
     "cellMetadata": {
      "byteLimit": 2048000,
      "rowLimit": 10000
     },
     "inputWidgets": {},
     "nuid": "243f4773-d2c0-44f2-9b0d-5ed6f62128ed",
     "showTitle": false,
     "tableResultSettingsMap": {},
     "title": ""
    }
   },
   "outputs": [],
   "source": [
    "dfp.write.format(\"parquet\").mode(\"overwrite\").save(parquet_oPath)\n",
    "#dfp.write.mode(\"overwrite).parquet(parquet_oPath)\n",
    "#dfp.write.parquet(parquet_oPath,mode=\"append\")"
   ]
  },
  {
   "cell_type": "code",
   "execution_count": 0,
   "metadata": {
    "application/vnd.databricks.v1+cell": {
     "cellMetadata": {
      "byteLimit": 2048000,
      "rowLimit": 10000
     },
     "inputWidgets": {},
     "nuid": "06481cb5-a02a-4c1b-bd01-0296289ca22e",
     "showTitle": false,
     "tableResultSettingsMap": {},
     "title": ""
    }
   },
   "outputs": [
    {
     "output_type": "stream",
     "name": "stdout",
     "output_type": "stream",
     "text": [
      "+--------------------+-------------------+-----+\n|   DEST_COUNTRY_NAME|ORIGIN_COUNTRY_NAME|count|\n+--------------------+-------------------+-----+\n|       United States|            Romania|    1|\n|       United States|            Ireland|  264|\n|       United States|              India|   69|\n|               Egypt|      United States|   24|\n|   Equatorial Guinea|      United States|    1|\n|       United States|          Singapore|   25|\n|       United States|            Grenada|   54|\n|          Costa Rica|      United States|  477|\n|             Senegal|      United States|   29|\n|       United States|   Marshall Islands|   44|\n|              Guyana|      United States|   17|\n|       United States|       Sint Maarten|   53|\n|               Malta|      United States|    1|\n|             Bolivia|      United States|   46|\n|            Anguilla|      United States|   21|\n|Turks and Caicos ...|      United States|  136|\n|       United States|        Afghanistan|    2|\n|Saint Vincent and...|      United States|    1|\n|               Italy|      United States|  390|\n|       United States|             Russia|  156|\n+--------------------+-------------------+-----+\nonly showing top 20 rows\n\n"
     ]
    }
   ],
   "source": [
    "df=spark.read.parquet(parquet_oPath)\n",
    "df.show()"
   ]
  },
  {
   "cell_type": "code",
   "execution_count": 0,
   "metadata": {
    "application/vnd.databricks.v1+cell": {
     "cellMetadata": {
      "byteLimit": 2048000,
      "rowLimit": 10000
     },
     "inputWidgets": {},
     "nuid": "ea1f17b0-c890-4f1f-ab58-3d8688b8ad6a",
     "showTitle": false,
     "tableResultSettingsMap": {},
     "title": ""
    }
   },
   "outputs": [
    {
     "output_type": "display_data",
     "data": {
      "text/html": [
       "<style scoped>\n",
       "  .table-result-container {\n",
       "    max-height: 300px;\n",
       "    overflow: auto;\n",
       "  }\n",
       "  table, th, td {\n",
       "    border: 1px solid black;\n",
       "    border-collapse: collapse;\n",
       "  }\n",
       "  th, td {\n",
       "    padding: 5px;\n",
       "  }\n",
       "  th {\n",
       "    text-align: left;\n",
       "  }\n",
       "</style><div class='table-result-container'><table class='table-result'><thead style='background-color: white'><tr><th>path</th><th>name</th><th>size</th><th>modificationTime</th></tr></thead><tbody><tr><td>dbfs:/FilesStore/output/parquet/_SUCCESS</td><td>_SUCCESS</td><td>0</td><td>1731576825000</td></tr><tr><td>dbfs:/FilesStore/output/parquet/_committed_3610776615009723062</td><td>_committed_3610776615009723062</td><td>234</td><td>1731576825000</td></tr><tr><td>dbfs:/FilesStore/output/parquet/_committed_7066049879613340735</td><td>_committed_7066049879613340735</td><td>125</td><td>1719408364000</td></tr><tr><td>dbfs:/FilesStore/output/parquet/_committed_vacuum9091526829009548216</td><td>_committed_vacuum9091526829009548216</td><td>96</td><td>1731576825000</td></tr><tr><td>dbfs:/FilesStore/output/parquet/_started_3610776615009723062</td><td>_started_3610776615009723062</td><td>0</td><td>1731576824000</td></tr><tr><td>dbfs:/FilesStore/output/parquet/part-00000-tid-3610776615009723062-4ed19364-395b-47cf-a630-94a893326dfe-49-1-c000.snappy.parquet</td><td>part-00000-tid-3610776615009723062-4ed19364-395b-47cf-a630-94a893326dfe-49-1-c000.snappy.parquet</td><td>5488</td><td>1731576825000</td></tr></tbody></table></div>"
      ]
     },
     "metadata": {
      "application/vnd.databricks.v1+output": {
       "addedWidgets": {},
       "aggData": [],
       "aggError": "",
       "aggOverflow": false,
       "aggSchema": [],
       "aggSeriesLimitReached": false,
       "aggType": "",
       "arguments": {},
       "columnCustomDisplayInfos": {},
       "data": [
        [
         "dbfs:/FilesStore/output/parquet/_SUCCESS",
         "_SUCCESS",
         0,
         1731576825000
        ],
        [
         "dbfs:/FilesStore/output/parquet/_committed_3610776615009723062",
         "_committed_3610776615009723062",
         234,
         1731576825000
        ],
        [
         "dbfs:/FilesStore/output/parquet/_committed_7066049879613340735",
         "_committed_7066049879613340735",
         125,
         1719408364000
        ],
        [
         "dbfs:/FilesStore/output/parquet/_committed_vacuum9091526829009548216",
         "_committed_vacuum9091526829009548216",
         96,
         1731576825000
        ],
        [
         "dbfs:/FilesStore/output/parquet/_started_3610776615009723062",
         "_started_3610776615009723062",
         0,
         1731576824000
        ],
        [
         "dbfs:/FilesStore/output/parquet/part-00000-tid-3610776615009723062-4ed19364-395b-47cf-a630-94a893326dfe-49-1-c000.snappy.parquet",
         "part-00000-tid-3610776615009723062-4ed19364-395b-47cf-a630-94a893326dfe-49-1-c000.snappy.parquet",
         5488,
         1731576825000
        ]
       ],
       "datasetInfos": [],
       "dbfsResultPath": null,
       "isJsonSchema": true,
       "metadata": {
        "isDbfsCommandResult": false
       },
       "overflow": false,
       "plotOptions": {
        "customPlotOptions": {},
        "displayType": "table",
        "pivotAggregation": null,
        "pivotColumns": null,
        "xColumns": null,
        "yColumns": null
       },
       "removedWidgets": [],
       "schema": [
        {
         "metadata": "{}",
         "name": "path",
         "type": "\"string\""
        },
        {
         "metadata": "{}",
         "name": "name",
         "type": "\"string\""
        },
        {
         "metadata": "{}",
         "name": "size",
         "type": "\"long\""
        },
        {
         "metadata": "{}",
         "name": "modificationTime",
         "type": "\"long\""
        }
       ],
       "type": "table"
      }
     },
     "output_type": "display_data"
    }
   ],
   "source": [
    "%fs ls \"dbfs:/FilesStore/output/parquet\""
   ]
  },
  {
   "cell_type": "code",
   "execution_count": 0,
   "metadata": {
    "application/vnd.databricks.v1+cell": {
     "cellMetadata": {
      "byteLimit": 2048000,
      "rowLimit": 10000
     },
     "inputWidgets": {},
     "nuid": "5a7981cf-4f84-4f93-819a-d79b33f68bdd",
     "showTitle": false,
     "tableResultSettingsMap": {},
     "title": ""
    }
   },
   "outputs": [
    {
     "output_type": "display_data",
     "data": {
      "text/html": [
       "<style scoped>\n",
       "  .table-result-container {\n",
       "    max-height: 300px;\n",
       "    overflow: auto;\n",
       "  }\n",
       "  table, th, td {\n",
       "    border: 1px solid black;\n",
       "    border-collapse: collapse;\n",
       "  }\n",
       "  th, td {\n",
       "    padding: 5px;\n",
       "  }\n",
       "  th {\n",
       "    text-align: left;\n",
       "  }\n",
       "</style><div class='table-result-container'><table class='table-result'><thead style='background-color: white'><tr><th>value</th></tr></thead><tbody><tr><td>PAR1\u0015\u0004\u0015�\u001A\u0015�\u0015\u0015�Ȑ�\u0001<\u0015�\u0001\u0015\u0004\u0000\u0000�</td></tr><tr><td>h</td></tr><tr><td>\u0000\u0000\u0000United States\u0005\u0000\u0000\u0000Egypt\u0011\u0001\t�quatorial Guinea</td></tr><tr><td>\u0000\u0000\u0000Costa Rica\u0007\u0000\u0000\u0000Senegal\u0006\u0000\u0000\u0000Guyana\u0001A\fMalt\u0005\u001E�@Bolivia\b\u0000\u0000\u0000Anguilla\u0018\u0000\u0000\u0000Turks and Caicos Islands \u0000\u0000\u0000Saint Vincent \u0001$0the Grenadine\u0005�\u0010Italy\u0001U\u001CPakistan\u0001�HIceland\u0010\u0000\u0000\u0000Marshall\u0011X\u0001�$Luxembourg\u00019 Honduras\u000B\u0001�\u001Che Baham\t\u000F(El Salvador\u0001�\fSamo\u0005�\u0014Kazakh\u0001n\u00015\u0018Switzer\u0001r\u0000\f!\u0007\u0001�$Maarten\t\u0000\u0000\u0001`\u0018g Kong\u0013\u0001a\u0018rinidad\u0005�\u0014Tobago!0\bLat-\u001C\u0014Slovak)(\u001CSuriname\u0001\"\u0014Mexico\u0001�\bEcu\u0001�\u0001�@Colombia\u0006\u0000\u0000\u0000Norwa%</td></tr><tr><td>\fThai\u0001�\u0001}\u001CVenezuel\u0005#\u0010Panam%�\u0018Morocco\u0001�\u0018Antigua\u0005�\u0014Barbud\u0005� Azerbaija\u0005�\u0018New Zea\u0001V\u0001�\u0014Liberi\u0005J\u0018Hungary\u0001�\u0014Sweden\u0001</td></tr><tr><td>\u0014Israel\u0001�\u0018Ethiopi\u0005S$Martinique!�)� Barthelem\u0005�\u0001�\fados\u0001d\u0018Germany!�\u0014Kyrgyz!o\u0001\u0019\u0004Ir%�\u0001^\u0014Malays)\u0000\u0010CypruE\u00138Qatar\u0004\u0000\u0000\u0000Fiji\u0015\u0000QH\fKittIj\u0010Nevis\u0001�\u0018Taiwan\u0005!�\faiti\u0001\u0013\u0014Kuwait\u0001</td></tr><tr><td>\u0018Canada\u001E\u0001H\u0010ederay\u0019, of Micrones)\u0006pJamaica\u0012\u0000\u0000\u0000Dominican Republic\u0001`\bJapI�\bFin!F\u0001\u0014\u0014Aruba</td></tr><tr><td>\u0001`\u0010renchaX\u0000ai5XIndia\u0016\u0000\u0000\u0000British VirginQ�\u0001�\u0014Brazil!I</td></tr><tr><td>>\fPoly\u0005�\u0004\u0014\u0000u�\u001CArab Emi\u0001�\u0000sA\u000F SingaporeA�\u0010NetheE�%7\fChin%�\u0018Denmark!B\fPeru\u00018DArgentina\u000E\u0000\u0000\u0000Cayma\u0015�\u0000\f!a(outh Africa\u0001�\u0010Spain\u0001�\u001Dc\u0000 Ai\blle%�\u0014Bermud�</td></tr><tr><td>\u001CKiribati\u0005H\faudi\u0005�\u0000i\tj\u0010zech 1H!�\u0018Belgium\u0001�\u0014Afghanu�\u0014Curacae\"\u0018Georgia\u0001%\u0018Philipp�.\u0001?�<\u0004a</td></tr><tr><td>\u0005�\u001Cpe Verde\u0001\u0019\u0014Ukrainej\u0014Russia\u0001�\u001CGuatemal\u0005JI�\fLuci\u0005�\u0018ParaguaE�\u0014Turkey!\u001B\bUniA'\u0018Kingdom!B\bCub\u00050Q\u0017A�\u001CPortugal\u0001y\bBah\u0001z\u0001\u000B\u0018Vietnam%�\u0010elize\u0001�\bNic\tj\u0001\"\u0014Austrie�\fJordI�\u0010Palau\u00015\u0010Ugand\t�%�\fKore\u0005,\u0010Angol%�\fGhan\u0005� Guadeloup\u0005�\u0010Franc\u0005</td></tr><tr><td>\u0004PoA�\u0001l\u0014Nigeri)\b\breeU�\fChil\u0005�\u0005�\bali\u0005�\bUru!\u000E!�\fCookQ�\u0000\bA�\u001Culgaria!\u0001\f\\onaire, Sint Eustatius, ��4Saba\u0006\u0000\u0000\u0000Greece\u0015\u0000\u0015�\u0003\u0015�\u0003\u0015����\u0002\u001C\u0015�\u0003\u0015\u0004\u0015\u0006\u0015\b\u0000\u0000�\u0001�\u0003\u0000\u0000\u0000�\u0003\u0001\u0007A\u0000\u0000  \u0000\u0000\u0006\u0004@\u0001`8 \u0012\u0000�\u0002\u0000`\u0000\u001A�\u0007$\"\u0001L\u0000�</td></tr><tr><td>�r�d\u0000�</td></tr><tr><td>\u0007�\u0001\u0000\u0000\u0000�\u0007\u0000\u0000|\u0000�\u0010\u0000\u0000\u0000�\u0000�\u0011�T\u0002�N\u0000\u0014\u0000�\u0002\u0000\u0000*\u0000`\u0005`�\u0000\u0000\u0017\u0000��\u0001\u00001\u0000@\u0006\u0000\u0000\u0000\u0000�\f\u0000��l7\\N�\u0003�\u0000=\u001F\u0000�\u0003\u0000\u0000� @8\u0004\u0010\u0001E�\u0011�\u0004\u0000\u0000\u0000@R\t\u0000\u0000�̦\u0013\u0000xB�\u0000\u0000@:�V\u0001\u0000�\u0015p�\u0002\u0000Y�\u000B\u0000t�_0\u0000\u0000\b�\u0001�1\u0000@\u0006�\u0001f�\u0019\u0000@\u0001��\u0000\u0000H\u0003\u0000\u0000�\u001A�f�\u0001�7<.\u0007�逺\u001D\u0000\u0000\u0000\u0000w\u0000\u0000\u0000\u0000��\u0000=\u0000\u0000��\u0001\u0015\u0004\u0015�\u001B\u0015�\u0016\u0015�ਗ\u000B<\u0015�\u0002\u0015\u0004\u0000\u0000�</td></tr><tr><td>(\u0007\u0000\u0000\u0000Romania\u0001\u000B��Ireland\u0005\u0000\u0000\u0000India</td></tr><tr><td>\u0000\u0000\u0000United States\t\u0000\u0000\u0000Singapore\u0007\u0000\u0000\u0000Grenada\u0010\u0000\u0000\u0000Marshall Islands\f\u0000\u0000\u0000Sint Maarten\u000B\u0000\u0000\u0000Afghanistan\u0006\u0000\u0000\u0000Russia\u001E\u0000\u0000\u0000Federate\u0011i\\ of Micronesia\u000B\u0000\u0000\u0000Nether\u0001�\u0000s\u0001�DSenegal\u0006\u0000\u0000\u0000Angola\b\t</td></tr><tr><td>\fuill\u0005̨Ecuador\u0006\u0000\u0000\u0000Cyprus\u0016\u0000\u0000\u0000Bosnia and Herzegovina\u0001; Portugal</td></tr><tr><td>\u00010 osta Rica\u0001�\u0018Guatema\tb\u001CSuriname\u0005'\u001Cape Verd%</td></tr><tr><td>\u0014Jamaic\u0005�\u0014Malays)S<Morocco\u0005\u0000\u0000\u0000Palau\u0001\t\fSamo\u0005�\u0014Algeri\u0005f\u001CVenezuel\u0005\u0018\bFin\u0001�\u0001,\u0010Chile\u0001�\u0014Greece!</td></tr><tr><td>$The Bahama%� Hong Kong</td></tr><tr><td>/\u0000n\u0005C\u0018Vietnam\u0001:lKuwait\u0012\u0000\u0000\u0000Dominican Republic\u00014\u0010Egypt\u0001�$Luxembourg\u00017\u0004Po\u0001�!�<Saint Barthelemy\u0001\u001E\u0014Turkey!�\u0018Estonia\u0001A Azerbaija%�$South Kore%�\u0018El Salv!�\u00017\u0014Hungar\u0005L\u0014Serbia\u0001V\u0010Panam%D\u001CEthiopia\u0001�\fArub\u0005\u0015\fThai\u0001�\u0000\u00146\u0010\u0002, Antilles\u0018\u0000\u0000\u0005�\u0000s%� Caicos Is\u00013\u0000s%�\u0018akistan\u0001\f\u001CHonduras\u0001�\u0010Liber\tl Malta \u0000\u0000\u0000\t�\u0018Vincent\u0005P\u0010the GE�\fines\u0001� GuadeloupE\u0002\u0014Ukrain%�\u0010Franc\u0005</td></tr><tr><td>\u0014Norway\u0001q\u001CKiribati\u0001q\u0018Germany!�\u0018New Zea\u0001�$\u0006\u0000\u0000\u0000Mexico\u0001</td></tr><tr><td>\u0014Sweden!\u0000\u0010Gabon\u0001p$Martinique!\u0002\bUnia�\u001CArab Emia?\u0005�\u0014Bulgari6\u0018Philipp\u0001�A�\u001CNicaraguE#\u0018Belgium\u0001�\u0004Ice�\u0001#\u0014ArgentMF\u0010AustrI�\u0004NiE�\u0004!\u0000aF\u001Cnaire, SA\u0018$Eustatius,%&\bSab%�\u0014Israel\u0001]\bBah!\u0019\u0001�)U\u0010Luciae�0ritish Virgin1�\u0001�\fGuyaI�\u001CDenmark\u0010eA\fpua !1\u0018Guinea\f%�\budi%\u0004\u0000i\u0005�\u0014Curaca%A\u0014Taiwan\u0005%E�\bAfrq�\breeub\fSpai%g\fItal%�\u0014Switze�l!\bJap��\u0018Brazil\u0004\u0001�\u0010eru\u000E\u0000�\u001D\u0014Kingdoem\u0014Belize\u00017\fGhane�\u0010Indon��\u0001:\fFiji\u0001�\fCana�8(French Poly\u0005&\u0000\u0013��\u0010tigua%Q\u0014Barbud\u0005�(Burkina Fas\u0005�\u0010Latvie\u001Aq�\u0001�\u0014Czech q�%�!�\bali\u0005E\fCook1k\u0000\b��\u0010ameroIa\u0014Kyrgyza#!�\u0014Uruguae�\u0014Bermud\u0005�\u0000Cm�\u001CColombia\u0001�\u0010Qatar\u0001M\u0001�\fados\u0001�\u0014Jordan\u0005�\fayma5�\u0001�\u001CTrinidad\u0005�\u0014Tobago\u0001r\fBoli</td></tr><tr><td>�(Slovakia\u0015\u0000\u0000M7\fKitti�\u0010Nevis��-<\u0010Guian\u0005�8Haiti\u0006\u0000\u0000\u0000Uganda\u0015\u0000\u0015�\u0004\u0015�\u0004\u0015����\u000F\u001C\u0015�\u0003\u0015\u0004\u0015\u0006\u0015\b\u0000\u0000�\u0002|\u0003\u0000\u0000\u0000�\u0003\u0001\bA\u0000\u0001\u0002\u0003\u0003\u0004\u0005\u0003\u0003\u0006\u0003\u0007\u0003\u0003\u0003\u0003\b\u0003\u0003\t</td></tr><tr><td>\u0003\u000B\u0001\u000B\u001C\u0003\u0003\f\u0003</td></tr><tr><td>\u0003\u0003\u000E\u0001\f�F\u000F\u0003\u0003\u0003\u0010\u0003\u0011\u0012\u0013\u0014\u0015\u0003\u0016\u0017\u0018\u0003\u0019\u0003\u0003\u001A\u001B\u001C\u001D\u0003\u001E\u001F\u0003 \u0003\u0003!\u0003\u0003\"\u0003#$\u0003%&'\u0003\u0003(\u0003)\u0003\u0003*+\u0003,-\u0003\u0003./\u000301\u0003234567\u000389\u0003\u0001K�\u0003\u0003\u0003:\u0003;\u0003\u0003<=\u0003>?@\u0003\u0003A\u0003\u0003B\u0003C\u0003\u0003\u0003D\u0003EFGHI\u0003\u0003JKL\u0001&\u001CMN\u0003\u0003\u0003OPQ\u0001\f RST\u0003U\u0003\u0003VW\u0001</td></tr><tr><td>\u0004XY\u0001\u0006�Z[\\\u0003\u0003]^\u0003_`\u0003a\u0003b\u0003c\u0003de\u0003fghijkl\u0003mnop\u0003q\u0003\u0003\u0003r\u0003\u0001+hs\u0003\u0003t\u0003\u0003uvwxy\u0003z{|}~\u0003\u0003\u0003���\u0003\u0003\u0000\u0015\u0004\u0015�\u0013\u0015�</td></tr><tr><td>\u0015����\u000E<\u0015�\u0002\u0015\u0004\u0000\u0000�\t\u0004\u0001\u0000\t\u0001\u0000\b</td></tr><tr><td>\t\u0000E\t\u000F\u0004\u0000\u0018</td></tr><tr><td>\b\u0000\u0019</td></tr><tr><td>\b\u00006</td></tr><tr><td>\b\u0000�</td></tr><tr><td>(\u0000\u001D</td></tr><tr><td>\u0010\u0000,</td></tr><tr><td>\b\u0000\u0011</td></tr><tr><td>\b\u00005</td></tr><tr><td>\b\u0000.</td></tr><tr><td>\b\u0000\u0015</td></tr><tr><td>\b\u0000�</td></tr><tr><td>\b\u0000\u0002</td></tr><tr><td>\b\u0000�</td></tr><tr><td>H\u0000�</td></tr><tr><td>\u0010\u00000</td></tr><tr><td>\b\u0000\t</td></tr><tr><td>\b\u0000:</td></tr><tr><td>)\u0000v</td></tr><tr><td>\u0010\u0000M</td></tr><tr><td>\b\u0000[</td></tr><tr><td>\b\u0000�</td></tr><tr><td>@\u0004�\u0003\t\u0011\u0000\u0007</td></tr><tr><td>0\u0000\u001C\t\u000F\u0004\u0000\u0012</td></tr><tr><td>\b</td></tr><tr><td>\u001F\u0004\u0000;</td></tr><tr><td>0\u0000\u0014</td></tr><tr><td>\u0018\u0000=</td></tr><tr><td>\b\u0000�</td></tr><tr><td>\b\u0000�</td></tr><tr><td>\b\u0000\f</td></tr><tr><td>\b\u0000Y</td></tr><tr><td>0\u00008-\t\u0000\u0010</td></tr><tr><td>\u0010\u0000h</td></tr><tr><td> \u0000�</td></tr><tr><td>\u0010\u0000M</td></tr><tr><td>\b\u0000</td></tr><tr><td></td></tr><tr><td>\u0018\u0000\u0011</td></tr><tr><td>q\u0000�</td></tr><tr><td>�\u0000\u0010</td></tr><tr><td>\u0018\u0000y</td></tr><tr><td>(\u0000\u001E</td></tr><tr><td>\u0010\u0000U</td></tr><tr><td>\u0010\u0000c</td></tr><tr><td>\b\u0000�</td></tr><tr><td>\u0018\u0000{</td></tr><tr><td>\b\u0000�</td></tr><tr><td>H\u0000V</td></tr><tr><td>\u0010\u0000%</td></tr><tr><td>(\u0000\u000E</td></tr><tr><td>\u0010\u0000�</td></tr><tr><td>\u0010\u0000A</td></tr><tr><td>\u0010\u0004~\u0004\t\t\u0000u\t\u0007\f\u0000�O\u0005\u0005</td></tr><tr><td>\u0000Z\u0005\u0006\b\u0000\u0000\u0017</td></tr><tr><td>\b\u0000W</td></tr><tr><td>\b\u0000�</td></tr><tr><td>\b\u0000p\t'\u0004\u0000m</td></tr><tr><td>�\u0000�</td></tr><tr><td>X\u0000�</td></tr><tr><td> \u0000\u000F</td></tr><tr><td>\b\u0000k</td></tr><tr><td>\u0018\u0000]</td></tr><tr><td>\b\u0000!</td></tr><tr><td>\b\u0000�</td></tr><tr><td> \u0000�</td></tr><tr><td>\u0010\u0000)</td></tr><tr><td>\u0010\u0000q</td></tr><tr><td>\b\u0000\u0013</td></tr><tr><td>\u0018\u0000�</td></tr><tr><td>\u0010\u0000\u001A</td></tr><tr><td>\b\u0004O \t\t\u0000�</td></tr><tr><td>x\u0000U</td></tr><tr><td>�\u0000g</td></tr><tr><td>�\u0000!\t\u001F\u0004\u0000\b-\b\u0000$</td></tr><tr><td>\u0010\u0000g</td></tr><tr><td>P</td></tr><tr><td>/\u0004\u0000B</td></tr><tr><td>\u0018\u00001</td></tr><tr><td>\b\u0000~</td></tr><tr><td>@\u0000�</td></tr><tr><td>8\u0000G</td></tr><tr><td>\u0018\u0000&</td></tr><tr><td>\b\u0000�</td></tr><tr><td>\b\u0000L-�\u0000J</td></tr><tr><td>�\u0000I</td></tr><tr><td>\u0018\u0000�</td></tr><tr><td>`\u0000b</td></tr><tr><td>\u0010\u0000t</td></tr><tr><td>\b\u0000�</td></tr><tr><td>\b\u0000�</td></tr><tr><td>\b\u0000�</td></tr><tr><td>\b\u0000�</td></tr><tr><td>\b\u0000�</td></tr><tr><td>\b\u0000�</td></tr><tr><td>\b\u0000�</td></tr><tr><td>H\u0000\u001E</td></tr><tr><td>\b\u0000�</td></tr><tr><td>\u0018\u0000\"</td></tr><tr><td>\b\u0000*</td></tr><tr><td>\b\u0000�</td></tr><tr><td> \u0000z</td></tr><tr><td>\u0010\u0000y</td></tr><tr><td>\b\u0000\u000B</td></tr><tr><td>\b\u0000/</td></tr><tr><td>\b\u0000k</td></tr><tr><td>\b\u0000�</td></tr><tr><td>\b\u0000\u0013</td></tr><tr><td>\b\u0000�</td></tr><tr><td>\b\u0000�</td></tr><tr><td>H\u0000K</td></tr><tr><td>\u0010\u0004]\u0006\t\t\u0000�</td></tr><tr><td>\u0018\u0000�\t\u000F\u0004\u0000�</td></tr><tr><td>\u0010\u0000N</td></tr><tr><td>\b\u0000\u001B-0\u0000f</td></tr><tr><td> \u0000B-\u0010\u0000\u001C</td></tr><tr><td> \u0000�</td></tr><tr><td> \u00003</td></tr><tr><td> \u0000q-�\u0000�</td></tr><tr><td>\u0010</td></tr><tr><td>\u000F\u0004\u0000\u0016</td></tr><tr><td>\u0010\u0000�</td></tr><tr><td>\b\u00002</td></tr><tr><td>\b\u0000\u001F</td></tr><tr><td>\b\u0000�</td></tr><tr><td>X\u0000\u001B</td></tr><tr><td>\u0010\u0000(</td></tr><tr><td>\b\u0000\u0006-�\u0000></td></tr><tr><td>\u0010\u0000�</td></tr><tr><td>\b\u0000�</td></tr><tr><td>\b\u0000�</td></tr><tr><td>\b\u0000@</td></tr><tr><td>(\u0000w</td></tr><tr><td>\u0010\u0000\"</td></tr><tr><td>�\u0000�</td></tr><tr><td>\u0010\u0000�</td></tr><tr><td>\b\u0000'</td></tr><tr><td>\b<\u0000\u0000\u0000\u0000\u0000\u0000\u0000�\u0000\u0000\u0000\u0000\u0000\u0000\u0000\u0015\u0000\u0015�\u0004\u0015�\u0004\u0015����\u0006\u001C\u0015�\u0003\u0015\u0004\u0015\u0006\u0015\b\u0000\u0000�\u0002�\b\u0001\u0003\u0000\u0000\u0000�\u0003\u0001\bA\u0000\u0001\u0002\u0003\u0000\u0004\u0005\u0006\u0007\b\t</td></tr><tr><td>\u0000\u000B\f</td></tr><tr><td>\u000E\u0000\u000F\u0010\u0011\u0012\u0013\u0014\u0015\u0016\u0017\u0018\u0019\u000B\u001A\u001B\u001C\u001D\u001E\u001F !\"#\u0000\"$\u0000%\u0000&'()*\u001B+\u001C\u0007,,-.\u001A\u0000/0\u001E1,\u001F2\u000034\u0000567\u00008\u00049\u0004:;<\"\u001F=\u001A\u0007>?\u0000\u0000@\u000EABCD\u0000\u0000E\"F)GH\u000EDIJ</td></tr><tr><td>KLMNO\u000B\u0000P\u000EQR,S\u0003\tTUVW\u001BXYZ[\\]^\u0004_`a\u0000\u001E\u0010\u000Ebcde0fgh\u0004ijklmn\u001B,\to\fpq\u0000rst\u001E\u000E\u001Euv8\u001Bw\u0000\u0005xyd<6 Dz{\u000E|}~\u001A���.�\u0000�\u0014r\u001A\u0000��]r\u0000�)���U\"��\u000E\u0000�6���\"�,\u0003\u000E�����������\u0000\u0005)�\u0000\u0000�\u0000,�\u0000\u0019\u0011\u0002\u0019\u0018\u000BAfghanistan\u0019\u0018\u0007Vietnam\u0015\u0002\u0019\u0016\u0000\u0000\u0019\u0011\u0002\u0019\u0018\u000BAfghanistan\u0019\u0018\u0007Vietnam\u0015\u0002\u0019\u0016\u0000\u0000\u0019\u0011\u0002\u0019\u0018\b\u0001\u0000\u0000\u0000\u0000\u0000\u0000\u0000\u0019\u0018\b�O\u0005\u0000\u0000\u0000\u0000\u0000\u0015\u0002\u0019\u0016\u0000\u0000\u0019\u001C\u0016�\u0015\u0015�\u0004\u0016\u0000\u0000\u0000\u0019\u001C\u0016�0\u0015�\u0004\u0016\u0000\u0000\u0000\u0019\u001C\u0016�?\u0015�\u0004\u0016\u0000\u0000\u0000\u0015\u0002\u0019LH\fspark_schema\u0015\u0006\u0000\u0015\f%\u0002\u0018\u0011DEST_COUNTRY_NAME%\u0000L\u001C\u0000\u0000\u0000\u0015\f%\u0002\u0018\u0013ORIGIN_COUNTRY_NAME%\u0000L\u001C\u0000\u0000\u0000\u0015\u0004%\u0002\u0018\u0005count\u0000\u0016�\u0003\u0019\u001C\u0019<&�\u0015\u001C\u0015\f\u00195\u0004\b\u0006\u0019\u0018\u0011DEST_COUNTRY_NAME\u0015\u0002\u0016�\u0003\u0016�\u001E\u0016�\u0019&�\u0015&\b\u001C6\u0000(\u0007Vietnam\u0018\u000BAfghanistan\u0000\u0019,\u0015\u0004\u0015\u0004\u0015\u0002\u0000\u0015\u0000\u0015\u0004\u0015\u0002\u0000\u0000\u0016�F\u0015\u0018\u0016�D\u0015B\u0000&�0\u001C\u0015\f\u00195\u0004\b\u0006\u0019\u0018\u0013ORIGIN_COUNTRY_NAME\u0015\u0002\u0016�\u0003\u0016� \u0016�\u001B&�0&�\u0019\u001C6\u0000(\u0007Vietnam\u0018\u000BAfghanistan\u0000\u0019,\u0015\u0004\u0015\u0004\u0015\u0002\u0000\u0015\u0000\u0015\u0004\u0015\u0002\u0000\u0000\u0016�F\u0015\u0018\u0016�E\u0015B\u0000&�?\u001C\u0015\u0004\u00195\u0004\b\u0006\u0019\u0018\u0005count\u0015\u0002\u0016�\u0003\u0016�\u0018\u0016�\u000F&�?&�5\u001C\u0018\b�O\u0005\u0000\u0000\u0000\u0000\u0000\u0018\b\u0001\u0000\u0000\u0000\u0000\u0000\u0000\u0000\u0016\u0000(\b�O\u0005\u0000\u0000\u0000\u0000\u0000\u0018\b\u0001\u0000\u0000\u0000\u0000\u0000\u0000\u0000\u0000\u0019,\u0015\u0004\u0015\u0004\u0015\u0002\u0000\u0015\u0000\u0015\u0004\u0015\u0002\u0000\u0000\u0016�F\u0015\u0018\u0016�E\u0015>\u0000\u0016�W\u0016�\u0003&\b\u0016�D\u0014\u0000\u0000\u0019\\\u0018\u0019org.apache.spark.timeZone\u0018\u0007Etc/UTC\u0000\u0018\u001Corg.apache.spark.legacyINT96\u0018\u0000\u0000\u0018\u0018org.apache.spark.version\u0018\u00053.3.2\u0000\u0018)org.apache.spark.sql.parquet.row.metadata\u0018�\u0001{\"type\":\"struct\",\"fields\":[{\"name\":\"DEST_COUNTRY_NAME\",\"type\":\"string\",\"nullable\":true,\"metadata\":{}},{\"name\":\"ORIGIN_COUNTRY_NAME\",\"type\":\"string\",\"nullable\":true,\"metadata\":{}},{\"name\":\"count\",\"type\":\"long\",\"nullable\":true,\"metadata\":{}}]}\u0000\u0018\u001Forg.apache.spark.legacyDateTime\u0018\u0000\u0000\u0018Zparquet-mr version 1.12.3-databricks-0009 (build 13debca92ae2826f5c048fb3613d610c77c3bb90)\u0019<\u001C\u0000\u0000\u001C\u0000\u0000\u001C\u0000\u0000\u0000�\u0003\u0000\u0000PAR1</td></tr></tbody></table></div>"
      ]
     },
     "metadata": {
      "application/vnd.databricks.v1+output": {
       "addedWidgets": {},
       "aggData": [],
       "aggError": "",
       "aggOverflow": false,
       "aggSchema": [],
       "aggSeriesLimitReached": false,
       "aggType": "",
       "arguments": {},
       "columnCustomDisplayInfos": {},
       "data": [
        [
         "PAR1\u0015\u0004\u0015�\u001A\u0015�\u0015\u0015�Ȑ�\u0001<\u0015�\u0001\u0015\u0004\u0000\u0000�"
        ],
        [
         "h"
        ],
        [
         "\u0000\u0000\u0000United States\u0005\u0000\u0000\u0000Egypt\u0011\u0001\t�quatorial Guinea"
        ],
        [
         "\u0000\u0000\u0000Costa Rica\u0007\u0000\u0000\u0000Senegal\u0006\u0000\u0000\u0000Guyana\u0001A\fMalt\u0005\u001E�@Bolivia\b\u0000\u0000\u0000Anguilla\u0018\u0000\u0000\u0000Turks and Caicos Islands \u0000\u0000\u0000Saint Vincent \u0001$0the Grenadine\u0005�\u0010Italy\u0001U\u001CPakistan\u0001�HIceland\u0010\u0000\u0000\u0000Marshall\u0011X\u0001�$Luxembourg\u00019 Honduras\u000B\u0001�\u001Che Baham\t\u000F(El Salvador\u0001�\fSamo\u0005�\u0014Kazakh\u0001n\u00015\u0018Switzer\u0001r\u0000\f!\u0007\u0001�$Maarten\t\u0000\u0000\u0001`\u0018g Kong\u0013\u0001a\u0018rinidad\u0005�\u0014Tobago!0\bLat-\u001C\u0014Slovak)(\u001CSuriname\u0001\"\u0014Mexico\u0001�\bEcu\u0001�\u0001�@Colombia\u0006\u0000\u0000\u0000Norwa%"
        ],
        [
         "\fThai\u0001�\u0001}\u001CVenezuel\u0005#\u0010Panam%�\u0018Morocco\u0001�\u0018Antigua\u0005�\u0014Barbud\u0005� Azerbaija\u0005�\u0018New Zea\u0001V\u0001�\u0014Liberi\u0005J\u0018Hungary\u0001�\u0014Sweden\u0001"
        ],
        [
         "\u0014Israel\u0001�\u0018Ethiopi\u0005S$Martinique!�)� Barthelem\u0005�\u0001�\fados\u0001d\u0018Germany!�\u0014Kyrgyz!o\u0001\u0019\u0004Ir%�\u0001^\u0014Malays)\u0000\u0010CypruE\u00138Qatar\u0004\u0000\u0000\u0000Fiji\u0015\u0000QH\fKittIj\u0010Nevis\u0001�\u0018Taiwan\u0005!�\faiti\u0001\u0013\u0014Kuwait\u0001"
        ],
        [
         "\u0018Canada\u001E\u0001H\u0010ederay\u0019, of Micrones)\u0006pJamaica\u0012\u0000\u0000\u0000Dominican Republic\u0001`\bJapI�\bFin!F\u0001\u0014\u0014Aruba"
        ],
        [
         "\u0001`\u0010renchaX\u0000ai5XIndia\u0016\u0000\u0000\u0000British VirginQ�\u0001�\u0014Brazil!I"
        ],
        [
         ">\fPoly\u0005�\u0004\u0014\u0000u�\u001CArab Emi\u0001�\u0000sA\u000F SingaporeA�\u0010NetheE�%7\fChin%�\u0018Denmark!B\fPeru\u00018DArgentina\u000E\u0000\u0000\u0000Cayma\u0015�\u0000\f!a(outh Africa\u0001�\u0010Spain\u0001�\u001Dc\u0000 Ai\blle%�\u0014Bermud�"
        ],
        [
         "\u001CKiribati\u0005H\faudi\u0005�\u0000i\tj\u0010zech 1H!�\u0018Belgium\u0001�\u0014Afghanu�\u0014Curacae\"\u0018Georgia\u0001%\u0018Philipp�.\u0001?�<\u0004a"
        ],
        [
         "\u0005�\u001Cpe Verde\u0001\u0019\u0014Ukrainej\u0014Russia\u0001�\u001CGuatemal\u0005JI�\fLuci\u0005�\u0018ParaguaE�\u0014Turkey!\u001B\bUniA'\u0018Kingdom!B\bCub\u00050Q\u0017A�\u001CPortugal\u0001y\bBah\u0001z\u0001\u000B\u0018Vietnam%�\u0010elize\u0001�\bNic\tj\u0001\"\u0014Austrie�\fJordI�\u0010Palau\u00015\u0010Ugand\t�%�\fKore\u0005,\u0010Angol%�\fGhan\u0005� Guadeloup\u0005�\u0010Franc\u0005"
        ],
        [
         "\u0004PoA�\u0001l\u0014Nigeri)\b\breeU�\fChil\u0005�\u0005�\bali\u0005�\bUru!\u000E!�\fCookQ�\u0000\bA�\u001Culgaria!\u0001\f\\onaire, Sint Eustatius, ��4Saba\u0006\u0000\u0000\u0000Greece\u0015\u0000\u0015�\u0003\u0015�\u0003\u0015����\u0002\u001C\u0015�\u0003\u0015\u0004\u0015\u0006\u0015\b\u0000\u0000�\u0001�\u0003\u0000\u0000\u0000�\u0003\u0001\u0007A\u0000\u0000  \u0000\u0000\u0006\u0004@\u0001`8 \u0012\u0000�\u0002\u0000`\u0000\u001A�\u0007$\"\u0001L\u0000�"
        ],
        [
         "�r�d\u0000�"
        ],
        [
         "\u0007�\u0001\u0000\u0000\u0000�\u0007\u0000\u0000|\u0000�\u0010\u0000\u0000\u0000�\u0000�\u0011�T\u0002�N\u0000\u0014\u0000�\u0002\u0000\u0000*\u0000`\u0005`�\u0000\u0000\u0017\u0000��\u0001\u00001\u0000@\u0006\u0000\u0000\u0000\u0000�\f\u0000��l7\\N�\u0003�\u0000=\u001F\u0000�\u0003\u0000\u0000� @8\u0004\u0010\u0001E�\u0011�\u0004\u0000\u0000\u0000@R\t\u0000\u0000�̦\u0013\u0000xB�\u0000\u0000@:�V\u0001\u0000�\u0015p�\u0002\u0000Y�\u000B\u0000t�_0\u0000\u0000\b�\u0001�1\u0000@\u0006�\u0001f�\u0019\u0000@\u0001��\u0000\u0000H\u0003\u0000\u0000�\u001A�f�\u0001�7<.\u0007�逺\u001D\u0000\u0000\u0000\u0000w\u0000\u0000\u0000\u0000��\u0000=\u0000\u0000��\u0001\u0015\u0004\u0015�\u001B\u0015�\u0016\u0015�ਗ\u000B<\u0015�\u0002\u0015\u0004\u0000\u0000�"
        ],
        [
         "(\u0007\u0000\u0000\u0000Romania\u0001\u000B��Ireland\u0005\u0000\u0000\u0000India"
        ],
        [
         "\u0000\u0000\u0000United States\t\u0000\u0000\u0000Singapore\u0007\u0000\u0000\u0000Grenada\u0010\u0000\u0000\u0000Marshall Islands\f\u0000\u0000\u0000Sint Maarten\u000B\u0000\u0000\u0000Afghanistan\u0006\u0000\u0000\u0000Russia\u001E\u0000\u0000\u0000Federate\u0011i\\ of Micronesia\u000B\u0000\u0000\u0000Nether\u0001�\u0000s\u0001�DSenegal\u0006\u0000\u0000\u0000Angola\b\t"
        ],
        [
         "\fuill\u0005̨Ecuador\u0006\u0000\u0000\u0000Cyprus\u0016\u0000\u0000\u0000Bosnia and Herzegovina\u0001; Portugal"
        ],
        [
         "\u00010 osta Rica\u0001�\u0018Guatema\tb\u001CSuriname\u0005'\u001Cape Verd%"
        ],
        [
         "\u0014Jamaic\u0005�\u0014Malays)S<Morocco\u0005\u0000\u0000\u0000Palau\u0001\t\fSamo\u0005�\u0014Algeri\u0005f\u001CVenezuel\u0005\u0018\bFin\u0001�\u0001,\u0010Chile\u0001�\u0014Greece!"
        ],
        [
         "$The Bahama%� Hong Kong"
        ],
        [
         "/\u0000n\u0005C\u0018Vietnam\u0001:lKuwait\u0012\u0000\u0000\u0000Dominican Republic\u00014\u0010Egypt\u0001�$Luxembourg\u00017\u0004Po\u0001�!�<Saint Barthelemy\u0001\u001E\u0014Turkey!�\u0018Estonia\u0001A Azerbaija%�$South Kore%�\u0018El Salv!�\u00017\u0014Hungar\u0005L\u0014Serbia\u0001V\u0010Panam%D\u001CEthiopia\u0001�\fArub\u0005\u0015\fThai\u0001�\u0000\u00146\u0010\u0002, Antilles\u0018\u0000\u0000\u0005�\u0000s%� Caicos Is\u00013\u0000s%�\u0018akistan\u0001\f\u001CHonduras\u0001�\u0010Liber\tl Malta \u0000\u0000\u0000\t�\u0018Vincent\u0005P\u0010the GE�\fines\u0001� GuadeloupE\u0002\u0014Ukrain%�\u0010Franc\u0005"
        ],
        [
         "\u0014Norway\u0001q\u001CKiribati\u0001q\u0018Germany!�\u0018New Zea\u0001�$\u0006\u0000\u0000\u0000Mexico\u0001"
        ],
        [
         "\u0014Sweden!\u0000\u0010Gabon\u0001p$Martinique!\u0002\bUnia�\u001CArab Emia?\u0005�\u0014Bulgari6\u0018Philipp\u0001�A�\u001CNicaraguE#\u0018Belgium\u0001�\u0004Ice�\u0001#\u0014ArgentMF\u0010AustrI�\u0004NiE�\u0004!\u0000aF\u001Cnaire, SA\u0018$Eustatius,%&\bSab%�\u0014Israel\u0001]\bBah!\u0019\u0001�)U\u0010Luciae�0ritish Virgin1�\u0001�\fGuyaI�\u001CDenmark\u0010eA\fpua !1\u0018Guinea\f%�\budi%\u0004\u0000i\u0005�\u0014Curaca%A\u0014Taiwan\u0005%E�\bAfrq�\breeub\fSpai%g\fItal%�\u0014Switze�l!\bJap��\u0018Brazil\u0004\u0001�\u0010eru\u000E\u0000�\u001D\u0014Kingdoem\u0014Belize\u00017\fGhane�\u0010Indon��\u0001:\fFiji\u0001�\fCana�8(French Poly\u0005&\u0000\u0013��\u0010tigua%Q\u0014Barbud\u0005�(Burkina Fas\u0005�\u0010Latvie\u001Aq�\u0001�\u0014Czech q�%�!�\bali\u0005E\fCook1k\u0000\b��\u0010ameroIa\u0014Kyrgyza#!�\u0014Uruguae�\u0014Bermud\u0005�\u0000Cm�\u001CColombia\u0001�\u0010Qatar\u0001M\u0001�\fados\u0001�\u0014Jordan\u0005�\fayma5�\u0001�\u001CTrinidad\u0005�\u0014Tobago\u0001r\fBoli"
        ],
        [
         "�(Slovakia\u0015\u0000\u0000M7\fKitti�\u0010Nevis��-<\u0010Guian\u0005�8Haiti\u0006\u0000\u0000\u0000Uganda\u0015\u0000\u0015�\u0004\u0015�\u0004\u0015����\u000F\u001C\u0015�\u0003\u0015\u0004\u0015\u0006\u0015\b\u0000\u0000�\u0002|\u0003\u0000\u0000\u0000�\u0003\u0001\bA\u0000\u0001\u0002\u0003\u0003\u0004\u0005\u0003\u0003\u0006\u0003\u0007\u0003\u0003\u0003\u0003\b\u0003\u0003\t"
        ],
        [
         "\u0003\u000B\u0001\u000B\u001C\u0003\u0003\f\u0003"
        ],
        [
         "\u0003\u0003\u000E\u0001\f�F\u000F\u0003\u0003\u0003\u0010\u0003\u0011\u0012\u0013\u0014\u0015\u0003\u0016\u0017\u0018\u0003\u0019\u0003\u0003\u001A\u001B\u001C\u001D\u0003\u001E\u001F\u0003 \u0003\u0003!\u0003\u0003\"\u0003#$\u0003%&'\u0003\u0003(\u0003)\u0003\u0003*+\u0003,-\u0003\u0003./\u000301\u0003234567\u000389\u0003\u0001K�\u0003\u0003\u0003:\u0003;\u0003\u0003<=\u0003>?@\u0003\u0003A\u0003\u0003B\u0003C\u0003\u0003\u0003D\u0003EFGHI\u0003\u0003JKL\u0001&\u001CMN\u0003\u0003\u0003OPQ\u0001\f RST\u0003U\u0003\u0003VW\u0001"
        ],
        [
         "\u0004XY\u0001\u0006�Z[\\\u0003\u0003]^\u0003_`\u0003a\u0003b\u0003c\u0003de\u0003fghijkl\u0003mnop\u0003q\u0003\u0003\u0003r\u0003\u0001+hs\u0003\u0003t\u0003\u0003uvwxy\u0003z{|}~\u0003\u0003\u0003���\u0003\u0003\u0000\u0015\u0004\u0015�\u0013\u0015�"
        ],
        [
         "\u0015����\u000E<\u0015�\u0002\u0015\u0004\u0000\u0000�\t\u0004\u0001\u0000\t\u0001\u0000\b"
        ],
        [
         "\t\u0000E\t\u000F\u0004\u0000\u0018"
        ],
        [
         "\b\u0000\u0019"
        ],
        [
         "\b\u00006"
        ],
        [
         "\b\u0000�"
        ],
        [
         "(\u0000\u001D"
        ],
        [
         "\u0010\u0000,"
        ],
        [
         "\b\u0000\u0011"
        ],
        [
         "\b\u00005"
        ],
        [
         "\b\u0000."
        ],
        [
         "\b\u0000\u0015"
        ],
        [
         "\b\u0000�"
        ],
        [
         "\b\u0000\u0002"
        ],
        [
         "\b\u0000�"
        ],
        [
         "H\u0000�"
        ],
        [
         "\u0010\u00000"
        ],
        [
         "\b\u0000\t"
        ],
        [
         "\b\u0000:"
        ],
        [
         ")\u0000v"
        ],
        [
         "\u0010\u0000M"
        ],
        [
         "\b\u0000["
        ],
        [
         "\b\u0000�"
        ],
        [
         "@\u0004�\u0003\t\u0011\u0000\u0007"
        ],
        [
         "0\u0000\u001C\t\u000F\u0004\u0000\u0012"
        ],
        [
         "\b"
        ],
        [
         "\u001F\u0004\u0000;"
        ],
        [
         "0\u0000\u0014"
        ],
        [
         "\u0018\u0000="
        ],
        [
         "\b\u0000�"
        ],
        [
         "\b\u0000�"
        ],
        [
         "\b\u0000\f"
        ],
        [
         "\b\u0000Y"
        ],
        [
         "0\u00008-\t\u0000\u0010"
        ],
        [
         "\u0010\u0000h"
        ],
        [
         " \u0000�"
        ],
        [
         "\u0010\u0000M"
        ],
        [
         "\b\u0000"
        ],
        [
         ""
        ],
        [
         "\u0018\u0000\u0011"
        ],
        [
         "q\u0000�"
        ],
        [
         "�\u0000\u0010"
        ],
        [
         "\u0018\u0000y"
        ],
        [
         "(\u0000\u001E"
        ],
        [
         "\u0010\u0000U"
        ],
        [
         "\u0010\u0000c"
        ],
        [
         "\b\u0000�"
        ],
        [
         "\u0018\u0000{"
        ],
        [
         "\b\u0000�"
        ],
        [
         "H\u0000V"
        ],
        [
         "\u0010\u0000%"
        ],
        [
         "(\u0000\u000E"
        ],
        [
         "\u0010\u0000�"
        ],
        [
         "\u0010\u0000A"
        ],
        [
         "\u0010\u0004~\u0004\t\t\u0000u\t\u0007\f\u0000�O\u0005\u0005"
        ],
        [
         "\u0000Z\u0005\u0006\b\u0000\u0000\u0017"
        ],
        [
         "\b\u0000W"
        ],
        [
         "\b\u0000�"
        ],
        [
         "\b\u0000p\t'\u0004\u0000m"
        ],
        [
         "�\u0000�"
        ],
        [
         "X\u0000�"
        ],
        [
         " \u0000\u000F"
        ],
        [
         "\b\u0000k"
        ],
        [
         "\u0018\u0000]"
        ],
        [
         "\b\u0000!"
        ],
        [
         "\b\u0000�"
        ],
        [
         " \u0000�"
        ],
        [
         "\u0010\u0000)"
        ],
        [
         "\u0010\u0000q"
        ],
        [
         "\b\u0000\u0013"
        ],
        [
         "\u0018\u0000�"
        ],
        [
         "\u0010\u0000\u001A"
        ],
        [
         "\b\u0004O \t\t\u0000�"
        ],
        [
         "x\u0000U"
        ],
        [
         "�\u0000g"
        ],
        [
         "�\u0000!\t\u001F\u0004\u0000\b-\b\u0000$"
        ],
        [
         "\u0010\u0000g"
        ],
        [
         "P"
        ],
        [
         "/\u0004\u0000B"
        ],
        [
         "\u0018\u00001"
        ],
        [
         "\b\u0000~"
        ],
        [
         "@\u0000�"
        ],
        [
         "8\u0000G"
        ],
        [
         "\u0018\u0000&"
        ],
        [
         "\b\u0000�"
        ],
        [
         "\b\u0000L-�\u0000J"
        ],
        [
         "�\u0000I"
        ],
        [
         "\u0018\u0000�"
        ],
        [
         "`\u0000b"
        ],
        [
         "\u0010\u0000t"
        ],
        [
         "\b\u0000�"
        ],
        [
         "\b\u0000�"
        ],
        [
         "\b\u0000�"
        ],
        [
         "\b\u0000�"
        ],
        [
         "\b\u0000�"
        ],
        [
         "\b\u0000�"
        ],
        [
         "\b\u0000�"
        ],
        [
         "H\u0000\u001E"
        ],
        [
         "\b\u0000�"
        ],
        [
         "\u0018\u0000\""
        ],
        [
         "\b\u0000*"
        ],
        [
         "\b\u0000�"
        ],
        [
         " \u0000z"
        ],
        [
         "\u0010\u0000y"
        ],
        [
         "\b\u0000\u000B"
        ],
        [
         "\b\u0000/"
        ],
        [
         "\b\u0000k"
        ],
        [
         "\b\u0000�"
        ],
        [
         "\b\u0000\u0013"
        ],
        [
         "\b\u0000�"
        ],
        [
         "\b\u0000�"
        ],
        [
         "H\u0000K"
        ],
        [
         "\u0010\u0004]\u0006\t\t\u0000�"
        ],
        [
         "\u0018\u0000�\t\u000F\u0004\u0000�"
        ],
        [
         "\u0010\u0000N"
        ],
        [
         "\b\u0000\u001B-0\u0000f"
        ],
        [
         " \u0000B-\u0010\u0000\u001C"
        ],
        [
         " \u0000�"
        ],
        [
         " \u00003"
        ],
        [
         " \u0000q-�\u0000�"
        ],
        [
         "\u0010"
        ],
        [
         "\u000F\u0004\u0000\u0016"
        ],
        [
         "\u0010\u0000�"
        ],
        [
         "\b\u00002"
        ],
        [
         "\b\u0000\u001F"
        ],
        [
         "\b\u0000�"
        ],
        [
         "X\u0000\u001B"
        ],
        [
         "\u0010\u0000("
        ],
        [
         "\b\u0000\u0006-�\u0000>"
        ],
        [
         "\u0010\u0000�"
        ],
        [
         "\b\u0000�"
        ],
        [
         "\b\u0000�"
        ],
        [
         "\b\u0000@"
        ],
        [
         "(\u0000w"
        ],
        [
         "\u0010\u0000\""
        ],
        [
         "�\u0000�"
        ],
        [
         "\u0010\u0000�"
        ],
        [
         "\b\u0000'"
        ],
        [
         "\b<\u0000\u0000\u0000\u0000\u0000\u0000\u0000�\u0000\u0000\u0000\u0000\u0000\u0000\u0000\u0015\u0000\u0015�\u0004\u0015�\u0004\u0015����\u0006\u001C\u0015�\u0003\u0015\u0004\u0015\u0006\u0015\b\u0000\u0000�\u0002�\b\u0001\u0003\u0000\u0000\u0000�\u0003\u0001\bA\u0000\u0001\u0002\u0003\u0000\u0004\u0005\u0006\u0007\b\t"
        ],
        [
         "\u0000\u000B\f"
        ],
        [
         "\u000E\u0000\u000F\u0010\u0011\u0012\u0013\u0014\u0015\u0016\u0017\u0018\u0019\u000B\u001A\u001B\u001C\u001D\u001E\u001F !\"#\u0000\"$\u0000%\u0000&'()*\u001B+\u001C\u0007,,-.\u001A\u0000/0\u001E1,\u001F2\u000034\u0000567\u00008\u00049\u0004:;<\"\u001F=\u001A\u0007>?\u0000\u0000@\u000EABCD\u0000\u0000E\"F)GH\u000EDIJ"
        ],
        [
         "KLMNO\u000B\u0000P\u000EQR,S\u0003\tTUVW\u001BXYZ[\\]^\u0004_`a\u0000\u001E\u0010\u000Ebcde0fgh\u0004ijklmn\u001B,\to\fpq\u0000rst\u001E\u000E\u001Euv8\u001Bw\u0000\u0005xyd<6 Dz{\u000E|}~\u001A���.�\u0000�\u0014r\u001A\u0000��]r\u0000�)���U\"��\u000E\u0000�6���\"�,\u0003\u000E�����������\u0000\u0005)�\u0000\u0000�\u0000,�\u0000\u0019\u0011\u0002\u0019\u0018\u000BAfghanistan\u0019\u0018\u0007Vietnam\u0015\u0002\u0019\u0016\u0000\u0000\u0019\u0011\u0002\u0019\u0018\u000BAfghanistan\u0019\u0018\u0007Vietnam\u0015\u0002\u0019\u0016\u0000\u0000\u0019\u0011\u0002\u0019\u0018\b\u0001\u0000\u0000\u0000\u0000\u0000\u0000\u0000\u0019\u0018\b�O\u0005\u0000\u0000\u0000\u0000\u0000\u0015\u0002\u0019\u0016\u0000\u0000\u0019\u001C\u0016�\u0015\u0015�\u0004\u0016\u0000\u0000\u0000\u0019\u001C\u0016�0\u0015�\u0004\u0016\u0000\u0000\u0000\u0019\u001C\u0016�?\u0015�\u0004\u0016\u0000\u0000\u0000\u0015\u0002\u0019LH\fspark_schema\u0015\u0006\u0000\u0015\f%\u0002\u0018\u0011DEST_COUNTRY_NAME%\u0000L\u001C\u0000\u0000\u0000\u0015\f%\u0002\u0018\u0013ORIGIN_COUNTRY_NAME%\u0000L\u001C\u0000\u0000\u0000\u0015\u0004%\u0002\u0018\u0005count\u0000\u0016�\u0003\u0019\u001C\u0019<&�\u0015\u001C\u0015\f\u00195\u0004\b\u0006\u0019\u0018\u0011DEST_COUNTRY_NAME\u0015\u0002\u0016�\u0003\u0016�\u001E\u0016�\u0019&�\u0015&\b\u001C6\u0000(\u0007Vietnam\u0018\u000BAfghanistan\u0000\u0019,\u0015\u0004\u0015\u0004\u0015\u0002\u0000\u0015\u0000\u0015\u0004\u0015\u0002\u0000\u0000\u0016�F\u0015\u0018\u0016�D\u0015B\u0000&�0\u001C\u0015\f\u00195\u0004\b\u0006\u0019\u0018\u0013ORIGIN_COUNTRY_NAME\u0015\u0002\u0016�\u0003\u0016� \u0016�\u001B&�0&�\u0019\u001C6\u0000(\u0007Vietnam\u0018\u000BAfghanistan\u0000\u0019,\u0015\u0004\u0015\u0004\u0015\u0002\u0000\u0015\u0000\u0015\u0004\u0015\u0002\u0000\u0000\u0016�F\u0015\u0018\u0016�E\u0015B\u0000&�?\u001C\u0015\u0004\u00195\u0004\b\u0006\u0019\u0018\u0005count\u0015\u0002\u0016�\u0003\u0016�\u0018\u0016�\u000F&�?&�5\u001C\u0018\b�O\u0005\u0000\u0000\u0000\u0000\u0000\u0018\b\u0001\u0000\u0000\u0000\u0000\u0000\u0000\u0000\u0016\u0000(\b�O\u0005\u0000\u0000\u0000\u0000\u0000\u0018\b\u0001\u0000\u0000\u0000\u0000\u0000\u0000\u0000\u0000\u0019,\u0015\u0004\u0015\u0004\u0015\u0002\u0000\u0015\u0000\u0015\u0004\u0015\u0002\u0000\u0000\u0016�F\u0015\u0018\u0016�E\u0015>\u0000\u0016�W\u0016�\u0003&\b\u0016�D\u0014\u0000\u0000\u0019\\\u0018\u0019org.apache.spark.timeZone\u0018\u0007Etc/UTC\u0000\u0018\u001Corg.apache.spark.legacyINT96\u0018\u0000\u0000\u0018\u0018org.apache.spark.version\u0018\u00053.3.2\u0000\u0018)org.apache.spark.sql.parquet.row.metadata\u0018�\u0001{\"type\":\"struct\",\"fields\":[{\"name\":\"DEST_COUNTRY_NAME\",\"type\":\"string\",\"nullable\":true,\"metadata\":{}},{\"name\":\"ORIGIN_COUNTRY_NAME\",\"type\":\"string\",\"nullable\":true,\"metadata\":{}},{\"name\":\"count\",\"type\":\"long\",\"nullable\":true,\"metadata\":{}}]}\u0000\u0018\u001Forg.apache.spark.legacyDateTime\u0018\u0000\u0000\u0018Zparquet-mr version 1.12.3-databricks-0009 (build 13debca92ae2826f5c048fb3613d610c77c3bb90)\u0019<\u001C\u0000\u0000\u001C\u0000\u0000\u001C\u0000\u0000\u0000�\u0003\u0000\u0000PAR1"
        ]
       ],
       "datasetInfos": [],
       "dbfsResultPath": null,
       "isJsonSchema": true,
       "metadata": {},
       "overflow": false,
       "plotOptions": {
        "customPlotOptions": {},
        "displayType": "table",
        "pivotAggregation": null,
        "pivotColumns": null,
        "xColumns": null,
        "yColumns": null
       },
       "removedWidgets": [],
       "schema": [
        {
         "metadata": "{}",
         "name": "value",
         "type": "\"string\""
        }
       ],
       "type": "table"
      }
     },
     "output_type": "display_data"
    }
   ],
   "source": [
    "display(spark.read.text(\"dbfs:/FilesStore/output/parquet/part-00000-tid-3610776615009723062-4ed19364-395b-47cf-a630-94a893326dfe-49-1-c000.snappy.parquet\"))"
   ]
  },
  {
   "cell_type": "code",
   "execution_count": 0,
   "metadata": {
    "application/vnd.databricks.v1+cell": {
     "cellMetadata": {
      "byteLimit": 2048000,
      "rowLimit": 10000
     },
     "inputWidgets": {},
     "nuid": "c32991b4-4d16-439a-9c6f-1f42ed42955f",
     "showTitle": true,
     "tableResultSettingsMap": {},
     "title": "ORC"
    }
   },
   "outputs": [],
   "source": [
    "orc_ipath=\"dbfs:/FileStore/flight-data/orc/2010-summary.orc\"\n",
    "orc_opath=\"dbfs:/FilesStore/output/orc\""
   ]
  },
  {
   "cell_type": "code",
   "execution_count": 0,
   "metadata": {
    "application/vnd.databricks.v1+cell": {
     "cellMetadata": {
      "byteLimit": 2048000,
      "rowLimit": 10000
     },
     "inputWidgets": {},
     "nuid": "e7d86df6-0d94-42d2-b5c3-34d4bd3f5266",
     "showTitle": false,
     "tableResultSettingsMap": {},
     "title": ""
    }
   },
   "outputs": [
    {
     "output_type": "stream",
     "name": "stdout",
     "output_type": "stream",
     "text": [
      "+--------------------+-------------------+-----+\n|   DEST_COUNTRY_NAME|ORIGIN_COUNTRY_NAME|count|\n+--------------------+-------------------+-----+\n|       United States|            Romania|    1|\n|       United States|            Ireland|  264|\n|       United States|              India|   69|\n|               Egypt|      United States|   24|\n|   Equatorial Guinea|      United States|    1|\n|       United States|          Singapore|   25|\n|       United States|            Grenada|   54|\n|          Costa Rica|      United States|  477|\n|             Senegal|      United States|   29|\n|       United States|   Marshall Islands|   44|\n|              Guyana|      United States|   17|\n|       United States|       Sint Maarten|   53|\n|               Malta|      United States|    1|\n|             Bolivia|      United States|   46|\n|            Anguilla|      United States|   21|\n|Turks and Caicos ...|      United States|  136|\n|       United States|        Afghanistan|    2|\n|Saint Vincent and...|      United States|    1|\n|               Italy|      United States|  390|\n|       United States|             Russia|  156|\n+--------------------+-------------------+-----+\nonly showing top 20 rows\n\n"
     ]
    }
   ],
   "source": [
    "dfo=spark.read.orc(orc_ipath)\n",
    "#dfo=spark.read.format(\"orc\").load(orc_ipath)\n",
    "#dfo=spark.read.load(orc_ipath,format=\"orc\",schema=myschema)\n",
    "dfo.show()"
   ]
  },
  {
   "cell_type": "code",
   "execution_count": 0,
   "metadata": {
    "application/vnd.databricks.v1+cell": {
     "cellMetadata": {
      "byteLimit": 2048000,
      "rowLimit": 10000
     },
     "inputWidgets": {},
     "nuid": "50b55a8f-e769-4280-963c-919ee69d10f1",
     "showTitle": false,
     "tableResultSettingsMap": {},
     "title": ""
    }
   },
   "outputs": [
    {
     "output_type": "stream",
     "name": "stdout",
     "output_type": "stream",
     "text": [
      "+--------------------+--------------------+-----+\n|   DEST_COUNTRY_NAME| ORIGIN_COUNTRY_NAME|count|\n+--------------------+--------------------+-----+\n|       United States|             Ireland|  264|\n|       United States|               India|   69|\n|       United States|             Grenada|   54|\n|       United States|    Marshall Islands|   44|\n|       United States|        Sint Maarten|   53|\n|             Bolivia|       United States|   46|\n|Turks and Caicos ...|       United States|  136|\n|       United States|              Russia|  156|\n|       United States|Federated States ...|   48|\n|             Iceland|       United States|  118|\n|    Marshall Islands|       United States|   77|\n|          Luxembourg|       United States|   91|\n|       United States|             Senegal|   46|\n|        Sint Maarten|       United States|   61|\n|           Hong Kong|       United States|  252|\n| Trinidad and Tobago|       United States|  187|\n|             Ecuador|       United States|  272|\n|       United States|            Portugal|  104|\n|       United States|               Chile|  176|\n|       United States|              Greece|   61|\n+--------------------+--------------------+-----+\nonly showing top 20 rows\n\n"
     ]
    }
   ],
   "source": [
    "dfo.filter(\"count>=44  and count<=300\").show()"
   ]
  },
  {
   "cell_type": "code",
   "execution_count": 0,
   "metadata": {
    "application/vnd.databricks.v1+cell": {
     "cellMetadata": {
      "byteLimit": 2048000,
      "rowLimit": 10000
     },
     "inputWidgets": {},
     "nuid": "1ae805aa-805e-46ce-86f7-d147da6d5ef4",
     "showTitle": false,
     "tableResultSettingsMap": {},
     "title": ""
    }
   },
   "outputs": [],
   "source": [
    "dfo.write.orc(orc_opath,mode=\"overwrite\")"
   ]
  },
  {
   "cell_type": "code",
   "execution_count": 0,
   "metadata": {
    "application/vnd.databricks.v1+cell": {
     "cellMetadata": {
      "byteLimit": 2048000,
      "rowLimit": 10000
     },
     "inputWidgets": {},
     "nuid": "0c104863-2848-40fc-bf0b-3102dc0ee274",
     "showTitle": false,
     "tableResultSettingsMap": {},
     "title": ""
    }
   },
   "outputs": [
    {
     "output_type": "stream",
     "name": "stdout",
     "output_type": "stream",
     "text": [
      "+--------------------+-------------------+-----+\n|   DEST_COUNTRY_NAME|ORIGIN_COUNTRY_NAME|count|\n+--------------------+-------------------+-----+\n|       United States|            Romania|    1|\n|       United States|            Ireland|  264|\n|       United States|              India|   69|\n|               Egypt|      United States|   24|\n|   Equatorial Guinea|      United States|    1|\n|       United States|          Singapore|   25|\n|       United States|            Grenada|   54|\n|          Costa Rica|      United States|  477|\n|             Senegal|      United States|   29|\n|       United States|   Marshall Islands|   44|\n|              Guyana|      United States|   17|\n|       United States|       Sint Maarten|   53|\n|               Malta|      United States|    1|\n|             Bolivia|      United States|   46|\n|            Anguilla|      United States|   21|\n|Turks and Caicos ...|      United States|  136|\n|       United States|        Afghanistan|    2|\n|Saint Vincent and...|      United States|    1|\n|               Italy|      United States|  390|\n|       United States|             Russia|  156|\n+--------------------+-------------------+-----+\nonly showing top 20 rows\n\n"
     ]
    }
   ],
   "source": [
    "df=spark.read.orc(orc_opath)\n",
    "df.show()"
   ]
  },
  {
   "cell_type": "code",
   "execution_count": 0,
   "metadata": {
    "application/vnd.databricks.v1+cell": {
     "cellMetadata": {
      "byteLimit": 2048000,
      "rowLimit": 10000
     },
     "inputWidgets": {},
     "nuid": "27e63b81-555d-4f60-a17e-5129a009752c",
     "showTitle": false,
     "tableResultSettingsMap": {},
     "title": ""
    }
   },
   "outputs": [],
   "source": [
    "csv_ipath=\"dbfs:/FileStore/flight-data/csv/2010_summary.csv\"\n",
    "csv_opath=\"dbfs:/FilesStore/output/csv\""
   ]
  },
  {
   "cell_type": "code",
   "execution_count": 0,
   "metadata": {
    "application/vnd.databricks.v1+cell": {
     "cellMetadata": {
      "byteLimit": 2048000,
      "rowLimit": 10000
     },
     "inputWidgets": {},
     "nuid": "9df10078-2a11-49e8-b069-ff3e3c77b5c9",
     "showTitle": false,
     "tableResultSettingsMap": {},
     "title": ""
    }
   },
   "outputs": [],
   "source": [
    "schema=StructType(\n",
    "  [\n",
    "    StructField(\"DEST_COUNTRY_NAME\",StringType(),True),\n",
    "    StructField(\"ORIGIN_COUNTRY_NAME\",StringType(),True),\n",
    "    StructField(\"count\",LongType(),True)\n",
    "  ]\n",
    ")"
   ]
  },
  {
   "cell_type": "code",
   "execution_count": 0,
   "metadata": {
    "application/vnd.databricks.v1+cell": {
     "cellMetadata": {
      "byteLimit": 2048000,
      "rowLimit": 10000
     },
     "inputWidgets": {},
     "nuid": "f0cf3c9c-f9bc-42d0-8c8c-aa50b85ae2b8",
     "showTitle": true,
     "tableResultSettingsMap": {},
     "title": "CSV"
    }
   },
   "outputs": [],
   "source": [
    "#df=spark.read.format(\"csv\").schema(schema).load(csv_ipath)\n",
    "#df=spark.read.csv(csv_ipath,schema=schema)\n",
    "#df=spark.read.load(csv_ipath,format=\"csv\",schema=schema)\n",
    "#df=spark.read.format(\"csv\").option(\"inferSchema\",True).option(\"header\",True).load(csv_ipath)\n",
    "df=spark.read.format(\"csv\").load(csv_ipath,inferSchema=True,header=True)"
   ]
  },
  {
   "cell_type": "code",
   "execution_count": 0,
   "metadata": {
    "application/vnd.databricks.v1+cell": {
     "cellMetadata": {
      "byteLimit": 2048000,
      "rowLimit": 10000
     },
     "inputWidgets": {},
     "nuid": "ec6ad193-c483-4ab1-a6c6-80f33bdce6fe",
     "showTitle": false,
     "tableResultSettingsMap": {},
     "title": ""
    }
   },
   "outputs": [
    {
     "output_type": "stream",
     "name": "stdout",
     "output_type": "stream",
     "text": [
      "+--------------------+-------------------+-----+\n|   DEST_COUNTRY_NAME|ORIGIN_COUNTRY_NAME|count|\n+--------------------+-------------------+-----+\n|       United States|            Romania|    1|\n|       United States|            Ireland|  264|\n|       United States|              India|   69|\n|               Egypt|      United States|   24|\n|   Equatorial Guinea|      United States|    1|\n|       United States|          Singapore|   25|\n|       United States|            Grenada|   54|\n|          Costa Rica|      United States|  477|\n|             Senegal|      United States|   29|\n|       United States|   Marshall Islands|   44|\n|              Guyana|      United States|   17|\n|       United States|       Sint Maarten|   53|\n|               Malta|      United States|    1|\n|             Bolivia|      United States|   46|\n|            Anguilla|      United States|   21|\n|Turks and Caicos ...|      United States|  136|\n|       United States|        Afghanistan|    2|\n|Saint Vincent and...|      United States|    1|\n|               Italy|      United States|  390|\n|       United States|             Russia|  156|\n+--------------------+-------------------+-----+\nonly showing top 20 rows\n\n"
     ]
    }
   ],
   "source": [
    "\n",
    "df.show()"
   ]
  },
  {
   "cell_type": "code",
   "execution_count": 0,
   "metadata": {
    "application/vnd.databricks.v1+cell": {
     "cellMetadata": {
      "byteLimit": 2048000,
      "rowLimit": 10000
     },
     "inputWidgets": {},
     "nuid": "5058c278-48d2-4125-81b4-b32b92f87c74",
     "showTitle": false,
     "tableResultSettingsMap": {},
     "title": ""
    }
   },
   "outputs": [
    {
     "output_type": "stream",
     "name": "stdout",
     "output_type": "stream",
     "text": [
      "+-------------------+------+\n|ORIGIN_COUNTRY_NAME| count|\n+-------------------+------+\n|      United States|   477|\n|      United States|   136|\n|      United States|   390|\n|      United States|   118|\n|      United States|   391|\n|      United States|   903|\n|      United States|   519|\n|      United States|   315|\n|      United States|   252|\n|      United States|   187|\n|      United States|  6200|\n|      United States|   272|\n|      United States|   785|\n|      United States|   377|\n|      United States|   355|\n|      United States|   123|\n|      United States|   117|\n|      United States|348113|\n|      United States|   130|\n|      United States|  1392|\n+-------------------+------+\nonly showing top 20 rows\n\n"
     ]
    }
   ],
   "source": [
    "df2=df.select(\"ORIGIN_COUNTRY_NAME\",\"count\")\\\n",
    "  .where(\"count>100 and ORIGIN_COUNTRY_NAME='United States'\")\\\n",
    "    .orderBy(\"ORIGIN_COUNTRY_NAME\")\n",
    "df2.show()"
   ]
  },
  {
   "cell_type": "code",
   "execution_count": 0,
   "metadata": {
    "application/vnd.databricks.v1+cell": {
     "cellMetadata": {
      "byteLimit": 2048000,
      "rowLimit": 10000
     },
     "inputWidgets": {},
     "nuid": "f2b673d4-560b-44dc-98a6-828ba619bf71",
     "showTitle": false,
     "tableResultSettingsMap": {},
     "title": ""
    }
   },
   "outputs": [],
   "source": [
    "#df2.write.format(\"csv\").mode(\"overwrite\").save(csv_opath,header=True)\n",
    "#df2.write.csv(csv_opath,mode=\"overwrite\",header=True)\n",
    "#df2.write.format(\"csv\").option(\"header\",True).mode(\"overwrite\").save(csv_opath)\n",
    "df2.write.csv(csv_opath,mode=\"overwrite\",sep=\"|\")"
   ]
  },
  {
   "cell_type": "code",
   "execution_count": 0,
   "metadata": {
    "application/vnd.databricks.v1+cell": {
     "cellMetadata": {
      "byteLimit": 2048000,
      "rowLimit": 10000
     },
     "inputWidgets": {},
     "nuid": "328c5916-71b7-474d-90f9-a531884848ab",
     "showTitle": false,
     "tableResultSettingsMap": {},
     "title": ""
    }
   },
   "outputs": [
    {
     "output_type": "stream",
     "name": "stdout",
     "output_type": "stream",
     "text": [
      "+--------------------+\n|                 _c0|\n+--------------------+\n|   United States|477|\n|   United States|136|\n|   United States|390|\n|   United States|118|\n|   United States|391|\n|   United States|903|\n|   United States|519|\n|   United States|315|\n|   United States|252|\n|   United States|187|\n|  United States|6200|\n|   United States|272|\n|   United States|785|\n|   United States|377|\n|   United States|355|\n|   United States|123|\n|   United States|117|\n|United States|348113|\n|   United States|130|\n|  United States|1392|\n+--------------------+\nonly showing top 20 rows\n\n"
     ]
    }
   ],
   "source": [
    "\n",
    "df=spark.read.csv(csv_opath)\n",
    "df.show()"
   ]
  },
  {
   "cell_type": "code",
   "execution_count": 0,
   "metadata": {
    "application/vnd.databricks.v1+cell": {
     "cellMetadata": {
      "byteLimit": 2048000,
      "rowLimit": 10000
     },
     "inputWidgets": {},
     "nuid": "370d6b89-02c3-4a7f-b76e-14f5d1961120",
     "showTitle": false,
     "tableResultSettingsMap": {},
     "title": ""
    }
   },
   "outputs": [
    {
     "output_type": "display_data",
     "data": {
      "text/html": [
       "<style scoped>\n",
       "  .table-result-container {\n",
       "    max-height: 300px;\n",
       "    overflow: auto;\n",
       "  }\n",
       "  table, th, td {\n",
       "    border: 1px solid black;\n",
       "    border-collapse: collapse;\n",
       "  }\n",
       "  th, td {\n",
       "    padding: 5px;\n",
       "  }\n",
       "  th {\n",
       "    text-align: left;\n",
       "  }\n",
       "</style><div class='table-result-container'><table class='table-result'><thead style='background-color: white'><tr><th>path</th><th>name</th><th>size</th><th>modificationTime</th></tr></thead><tbody><tr><td>dbfs:/FilesStore/output/csv/_committed_2000670717476499313</td><td>_committed_2000670717476499313</td><td>199</td><td>1731578490000</td></tr><tr><td>dbfs:/FilesStore/output/csv/_committed_414599292412238781</td><td>_committed_414599292412238781</td><td>201</td><td>1719410378000</td></tr><tr><td>dbfs:/FilesStore/output/csv/_committed_5289793366483335652</td><td>_committed_5289793366483335652</td><td>203</td><td>1719409663000</td></tr><tr><td>dbfs:/FilesStore/output/csv/_committed_6078323842886581591</td><td>_committed_6078323842886581591</td><td>199</td><td>1731578437000</td></tr><tr><td>dbfs:/FilesStore/output/csv/_committed_6441141922822189752</td><td>_committed_6441141922822189752</td><td>199</td><td>1731578707000</td></tr><tr><td>dbfs:/FilesStore/output/csv/_committed_6973340340857908733</td><td>_committed_6973340340857908733</td><td>214</td><td>1719409341000</td></tr><tr><td>dbfs:/FilesStore/output/csv/_committed_7060119795122517406</td><td>_committed_7060119795122517406</td><td>200</td><td>1731578394000</td></tr><tr><td>dbfs:/FilesStore/output/csv/_committed_7755764742105732288</td><td>_committed_7755764742105732288</td><td>114</td><td>1719409267000</td></tr><tr><td>dbfs:/FilesStore/output/csv/_committed_895111782368127828</td><td>_committed_895111782368127828</td><td>202</td><td>1719409778000</td></tr><tr><td>dbfs:/FilesStore/output/csv/_committed_vacuum196108531690390214</td><td>_committed_vacuum196108531690390214</td><td>225</td><td>1731578395000</td></tr><tr><td>dbfs:/FilesStore/output/csv/_started_2000670717476499313</td><td>_started_2000670717476499313</td><td>0</td><td>1731578490000</td></tr><tr><td>dbfs:/FilesStore/output/csv/_started_6078323842886581591</td><td>_started_6078323842886581591</td><td>0</td><td>1731578437000</td></tr><tr><td>dbfs:/FilesStore/output/csv/_started_6441141922822189752</td><td>_started_6441141922822189752</td><td>0</td><td>1731578707000</td></tr><tr><td>dbfs:/FilesStore/output/csv/_started_7060119795122517406</td><td>_started_7060119795122517406</td><td>0</td><td>1731578394000</td></tr><tr><td>dbfs:/FilesStore/output/csv/part-00000-tid-6441141922822189752-76b218ba-15ca-4d40-b4bb-9d84f6ffdebd-87-1-c000.csv</td><td>part-00000-tid-6441141922822189752-76b218ba-15ca-4d40-b4bb-9d84f6ffdebd-87-1-c000.csv</td><td>963</td><td>1731578707000</td></tr></tbody></table></div>"
      ]
     },
     "metadata": {
      "application/vnd.databricks.v1+output": {
       "addedWidgets": {},
       "aggData": [],
       "aggError": "",
       "aggOverflow": false,
       "aggSchema": [],
       "aggSeriesLimitReached": false,
       "aggType": "",
       "arguments": {},
       "columnCustomDisplayInfos": {},
       "data": [
        [
         "dbfs:/FilesStore/output/csv/_committed_2000670717476499313",
         "_committed_2000670717476499313",
         199,
         1731578490000
        ],
        [
         "dbfs:/FilesStore/output/csv/_committed_414599292412238781",
         "_committed_414599292412238781",
         201,
         1719410378000
        ],
        [
         "dbfs:/FilesStore/output/csv/_committed_5289793366483335652",
         "_committed_5289793366483335652",
         203,
         1719409663000
        ],
        [
         "dbfs:/FilesStore/output/csv/_committed_6078323842886581591",
         "_committed_6078323842886581591",
         199,
         1731578437000
        ],
        [
         "dbfs:/FilesStore/output/csv/_committed_6441141922822189752",
         "_committed_6441141922822189752",
         199,
         1731578707000
        ],
        [
         "dbfs:/FilesStore/output/csv/_committed_6973340340857908733",
         "_committed_6973340340857908733",
         214,
         1719409341000
        ],
        [
         "dbfs:/FilesStore/output/csv/_committed_7060119795122517406",
         "_committed_7060119795122517406",
         200,
         1731578394000
        ],
        [
         "dbfs:/FilesStore/output/csv/_committed_7755764742105732288",
         "_committed_7755764742105732288",
         114,
         1719409267000
        ],
        [
         "dbfs:/FilesStore/output/csv/_committed_895111782368127828",
         "_committed_895111782368127828",
         202,
         1719409778000
        ],
        [
         "dbfs:/FilesStore/output/csv/_committed_vacuum196108531690390214",
         "_committed_vacuum196108531690390214",
         225,
         1731578395000
        ],
        [
         "dbfs:/FilesStore/output/csv/_started_2000670717476499313",
         "_started_2000670717476499313",
         0,
         1731578490000
        ],
        [
         "dbfs:/FilesStore/output/csv/_started_6078323842886581591",
         "_started_6078323842886581591",
         0,
         1731578437000
        ],
        [
         "dbfs:/FilesStore/output/csv/_started_6441141922822189752",
         "_started_6441141922822189752",
         0,
         1731578707000
        ],
        [
         "dbfs:/FilesStore/output/csv/_started_7060119795122517406",
         "_started_7060119795122517406",
         0,
         1731578394000
        ],
        [
         "dbfs:/FilesStore/output/csv/part-00000-tid-6441141922822189752-76b218ba-15ca-4d40-b4bb-9d84f6ffdebd-87-1-c000.csv",
         "part-00000-tid-6441141922822189752-76b218ba-15ca-4d40-b4bb-9d84f6ffdebd-87-1-c000.csv",
         963,
         1731578707000
        ]
       ],
       "datasetInfos": [],
       "dbfsResultPath": null,
       "isJsonSchema": true,
       "metadata": {
        "isDbfsCommandResult": false
       },
       "overflow": false,
       "plotOptions": {
        "customPlotOptions": {},
        "displayType": "table",
        "pivotAggregation": null,
        "pivotColumns": null,
        "xColumns": null,
        "yColumns": null
       },
       "removedWidgets": [],
       "schema": [
        {
         "metadata": "{}",
         "name": "path",
         "type": "\"string\""
        },
        {
         "metadata": "{}",
         "name": "name",
         "type": "\"string\""
        },
        {
         "metadata": "{}",
         "name": "size",
         "type": "\"long\""
        },
        {
         "metadata": "{}",
         "name": "modificationTime",
         "type": "\"long\""
        }
       ],
       "type": "table"
      }
     },
     "output_type": "display_data"
    }
   ],
   "source": [
    "%fs ls \"dbfs:/FilesStore/output/csv\""
   ]
  },
  {
   "cell_type": "code",
   "execution_count": 0,
   "metadata": {
    "application/vnd.databricks.v1+cell": {
     "cellMetadata": {
      "byteLimit": 2048000,
      "rowLimit": 10000
     },
     "inputWidgets": {},
     "nuid": "594dd11c-11b3-4332-b605-31f0fe3f0b47",
     "showTitle": false,
     "tableResultSettingsMap": {},
     "title": ""
    }
   },
   "outputs": [
    {
     "output_type": "display_data",
     "data": {
      "text/html": [
       "<style scoped>\n",
       "  .table-result-container {\n",
       "    max-height: 300px;\n",
       "    overflow: auto;\n",
       "  }\n",
       "  table, th, td {\n",
       "    border: 1px solid black;\n",
       "    border-collapse: collapse;\n",
       "  }\n",
       "  th, td {\n",
       "    padding: 5px;\n",
       "  }\n",
       "  th {\n",
       "    text-align: left;\n",
       "  }\n",
       "</style><div class='table-result-container'><table class='table-result'><thead style='background-color: white'><tr><th>value</th></tr></thead><tbody><tr><td>United States|477</td></tr><tr><td>United States|136</td></tr><tr><td>United States|390</td></tr><tr><td>United States|118</td></tr><tr><td>United States|391</td></tr><tr><td>United States|903</td></tr><tr><td>United States|519</td></tr><tr><td>United States|315</td></tr><tr><td>United States|252</td></tr><tr><td>United States|187</td></tr><tr><td>United States|6200</td></tr><tr><td>United States|272</td></tr><tr><td>United States|785</td></tr><tr><td>United States|377</td></tr><tr><td>United States|355</td></tr><tr><td>United States|123</td></tr><tr><td>United States|117</td></tr><tr><td>United States|348113</td></tr><tr><td>United States|130</td></tr><tr><td>United States|1392</td></tr><tr><td>United States|231</td></tr><tr><td>United States|113</td></tr><tr><td>United States|275</td></tr><tr><td>United States|238</td></tr><tr><td>United States|8271</td></tr><tr><td>United States|733</td></tr><tr><td>United States|1109</td></tr><tr><td>United States|1383</td></tr><tr><td>United States|359</td></tr><tr><td>United States|995</td></tr><tr><td>United States|165</td></tr><tr><td>United States|586</td></tr><tr><td>United States|448</td></tr><tr><td>United States|212</td></tr><tr><td>United States|184</td></tr><tr><td>United States|247</td></tr><tr><td>United States|422</td></tr><tr><td>United States|286</td></tr><tr><td>United States|183</td></tr><tr><td>United States|408</td></tr><tr><td>United States|132</td></tr><tr><td>United States|152</td></tr><tr><td>United States|386</td></tr><tr><td>United States|116</td></tr><tr><td>United States|1629</td></tr><tr><td>United States|243</td></tr><tr><td>United States|102</td></tr><tr><td>United States|121</td></tr><tr><td>United States|178</td></tr><tr><td>United States|683</td></tr><tr><td>United States|774</td></tr><tr><td>United States|166</td></tr><tr><td>United States|290</td></tr></tbody></table></div>"
      ]
     },
     "metadata": {
      "application/vnd.databricks.v1+output": {
       "addedWidgets": {},
       "aggData": [],
       "aggError": "",
       "aggOverflow": false,
       "aggSchema": [],
       "aggSeriesLimitReached": false,
       "aggType": "",
       "arguments": {},
       "columnCustomDisplayInfos": {},
       "data": [
        [
         "United States|477"
        ],
        [
         "United States|136"
        ],
        [
         "United States|390"
        ],
        [
         "United States|118"
        ],
        [
         "United States|391"
        ],
        [
         "United States|903"
        ],
        [
         "United States|519"
        ],
        [
         "United States|315"
        ],
        [
         "United States|252"
        ],
        [
         "United States|187"
        ],
        [
         "United States|6200"
        ],
        [
         "United States|272"
        ],
        [
         "United States|785"
        ],
        [
         "United States|377"
        ],
        [
         "United States|355"
        ],
        [
         "United States|123"
        ],
        [
         "United States|117"
        ],
        [
         "United States|348113"
        ],
        [
         "United States|130"
        ],
        [
         "United States|1392"
        ],
        [
         "United States|231"
        ],
        [
         "United States|113"
        ],
        [
         "United States|275"
        ],
        [
         "United States|238"
        ],
        [
         "United States|8271"
        ],
        [
         "United States|733"
        ],
        [
         "United States|1109"
        ],
        [
         "United States|1383"
        ],
        [
         "United States|359"
        ],
        [
         "United States|995"
        ],
        [
         "United States|165"
        ],
        [
         "United States|586"
        ],
        [
         "United States|448"
        ],
        [
         "United States|212"
        ],
        [
         "United States|184"
        ],
        [
         "United States|247"
        ],
        [
         "United States|422"
        ],
        [
         "United States|286"
        ],
        [
         "United States|183"
        ],
        [
         "United States|408"
        ],
        [
         "United States|132"
        ],
        [
         "United States|152"
        ],
        [
         "United States|386"
        ],
        [
         "United States|116"
        ],
        [
         "United States|1629"
        ],
        [
         "United States|243"
        ],
        [
         "United States|102"
        ],
        [
         "United States|121"
        ],
        [
         "United States|178"
        ],
        [
         "United States|683"
        ],
        [
         "United States|774"
        ],
        [
         "United States|166"
        ],
        [
         "United States|290"
        ]
       ],
       "datasetInfos": [],
       "dbfsResultPath": null,
       "isJsonSchema": true,
       "metadata": {},
       "overflow": false,
       "plotOptions": {
        "customPlotOptions": {},
        "displayType": "table",
        "pivotAggregation": null,
        "pivotColumns": null,
        "xColumns": null,
        "yColumns": null
       },
       "removedWidgets": [],
       "schema": [
        {
         "metadata": "{}",
         "name": "value",
         "type": "\"string\""
        }
       ],
       "type": "table"
      }
     },
     "output_type": "display_data"
    }
   ],
   "source": [
    "display(spark.read.text(\"dbfs:/FilesStore/output/csv/part-00000-tid-6441141922822189752-76b218ba-15ca-4d40-b4bb-9d84f6ffdebd-87-1-c000.csv\"))"
   ]
  },
  {
   "cell_type": "code",
   "execution_count": 0,
   "metadata": {
    "application/vnd.databricks.v1+cell": {
     "cellMetadata": {
      "byteLimit": 2048000,
      "rowLimit": 10000
     },
     "inputWidgets": {},
     "nuid": "e2a03b39-c356-49f5-8ac1-be685a145361",
     "showTitle": false,
     "tableResultSettingsMap": {},
     "title": ""
    }
   },
   "outputs": [
    {
     "output_type": "stream",
     "name": "stdout",
     "output_type": "stream",
     "text": [
      "+-------------+------+\n|United States|   477|\n+-------------+------+\n|United States|   136|\n|United States|   390|\n|United States|   118|\n|United States|   391|\n|United States|   903|\n|United States|   519|\n|United States|   315|\n|United States|   252|\n|United States|   187|\n|United States|  6200|\n|United States|   272|\n|United States|   785|\n|United States|   377|\n|United States|   355|\n|United States|   123|\n|United States|   117|\n|United States|348113|\n|United States|   130|\n|United States|  1392|\n|United States|   231|\n+-------------+------+\nonly showing top 20 rows\n\n"
     ]
    }
   ],
   "source": [
    "df=spark.read.csv(csv_opath,sep=\"|\",header=True,inferSchema=True)\n",
    "df.show()"
   ]
  },
  {
   "cell_type": "code",
   "execution_count": 0,
   "metadata": {
    "application/vnd.databricks.v1+cell": {
     "cellMetadata": {
      "byteLimit": 2048000,
      "rowLimit": 10000
     },
     "inputWidgets": {},
     "nuid": "b5225b27-b228-47a0-91ad-abc2a02dec5f",
     "showTitle": false,
     "tableResultSettingsMap": {},
     "title": ""
    }
   },
   "outputs": [
    {
     "output_type": "display_data",
     "data": {
      "text/html": [
       "<style scoped>\n",
       "  .table-result-container {\n",
       "    max-height: 300px;\n",
       "    overflow: auto;\n",
       "  }\n",
       "  table, th, td {\n",
       "    border: 1px solid black;\n",
       "    border-collapse: collapse;\n",
       "  }\n",
       "  th, td {\n",
       "    padding: 5px;\n",
       "  }\n",
       "  th {\n",
       "    text-align: left;\n",
       "  }\n",
       "</style><div class='table-result-container'><table class='table-result'><thead style='background-color: white'><tr><th>value</th></tr></thead><tbody><tr><td>United States|477</td></tr><tr><td>United States|136</td></tr><tr><td>United States|390</td></tr><tr><td>United States|118</td></tr><tr><td>United States|391</td></tr><tr><td>United States|903</td></tr><tr><td>United States|519</td></tr><tr><td>United States|315</td></tr><tr><td>United States|252</td></tr><tr><td>United States|187</td></tr><tr><td>United States|6200</td></tr><tr><td>United States|272</td></tr><tr><td>United States|785</td></tr><tr><td>United States|377</td></tr><tr><td>United States|355</td></tr><tr><td>United States|123</td></tr><tr><td>United States|117</td></tr><tr><td>United States|348113</td></tr><tr><td>United States|130</td></tr><tr><td>United States|1392</td></tr><tr><td>United States|231</td></tr><tr><td>United States|113</td></tr><tr><td>United States|275</td></tr><tr><td>United States|238</td></tr><tr><td>United States|8271</td></tr><tr><td>United States|733</td></tr><tr><td>United States|1109</td></tr><tr><td>United States|1383</td></tr><tr><td>United States|359</td></tr><tr><td>United States|995</td></tr><tr><td>United States|165</td></tr><tr><td>United States|586</td></tr><tr><td>United States|448</td></tr><tr><td>United States|212</td></tr><tr><td>United States|184</td></tr><tr><td>United States|247</td></tr><tr><td>United States|422</td></tr><tr><td>United States|286</td></tr><tr><td>United States|183</td></tr><tr><td>United States|408</td></tr><tr><td>United States|132</td></tr><tr><td>United States|152</td></tr><tr><td>United States|386</td></tr><tr><td>United States|116</td></tr><tr><td>United States|1629</td></tr><tr><td>United States|243</td></tr><tr><td>United States|102</td></tr><tr><td>United States|121</td></tr><tr><td>United States|178</td></tr><tr><td>United States|683</td></tr><tr><td>United States|774</td></tr><tr><td>United States|166</td></tr><tr><td>United States|290</td></tr></tbody></table></div>"
      ]
     },
     "metadata": {
      "application/vnd.databricks.v1+output": {
       "addedWidgets": {},
       "aggData": [],
       "aggError": "",
       "aggOverflow": false,
       "aggSchema": [],
       "aggSeriesLimitReached": false,
       "aggType": "",
       "arguments": {},
       "columnCustomDisplayInfos": {},
       "data": [
        [
         "United States|477"
        ],
        [
         "United States|136"
        ],
        [
         "United States|390"
        ],
        [
         "United States|118"
        ],
        [
         "United States|391"
        ],
        [
         "United States|903"
        ],
        [
         "United States|519"
        ],
        [
         "United States|315"
        ],
        [
         "United States|252"
        ],
        [
         "United States|187"
        ],
        [
         "United States|6200"
        ],
        [
         "United States|272"
        ],
        [
         "United States|785"
        ],
        [
         "United States|377"
        ],
        [
         "United States|355"
        ],
        [
         "United States|123"
        ],
        [
         "United States|117"
        ],
        [
         "United States|348113"
        ],
        [
         "United States|130"
        ],
        [
         "United States|1392"
        ],
        [
         "United States|231"
        ],
        [
         "United States|113"
        ],
        [
         "United States|275"
        ],
        [
         "United States|238"
        ],
        [
         "United States|8271"
        ],
        [
         "United States|733"
        ],
        [
         "United States|1109"
        ],
        [
         "United States|1383"
        ],
        [
         "United States|359"
        ],
        [
         "United States|995"
        ],
        [
         "United States|165"
        ],
        [
         "United States|586"
        ],
        [
         "United States|448"
        ],
        [
         "United States|212"
        ],
        [
         "United States|184"
        ],
        [
         "United States|247"
        ],
        [
         "United States|422"
        ],
        [
         "United States|286"
        ],
        [
         "United States|183"
        ],
        [
         "United States|408"
        ],
        [
         "United States|132"
        ],
        [
         "United States|152"
        ],
        [
         "United States|386"
        ],
        [
         "United States|116"
        ],
        [
         "United States|1629"
        ],
        [
         "United States|243"
        ],
        [
         "United States|102"
        ],
        [
         "United States|121"
        ],
        [
         "United States|178"
        ],
        [
         "United States|683"
        ],
        [
         "United States|774"
        ],
        [
         "United States|166"
        ],
        [
         "United States|290"
        ]
       ],
       "datasetInfos": [],
       "dbfsResultPath": null,
       "isJsonSchema": true,
       "metadata": {},
       "overflow": false,
       "plotOptions": {
        "customPlotOptions": {},
        "displayType": "table",
        "pivotAggregation": null,
        "pivotColumns": null,
        "xColumns": null,
        "yColumns": null
       },
       "removedWidgets": [],
       "schema": [
        {
         "metadata": "{}",
         "name": "value",
         "type": "\"string\""
        }
       ],
       "type": "table"
      }
     },
     "output_type": "display_data"
    }
   ],
   "source": [
    "display(spark.read.text(csv_opath))"
   ]
  },
  {
   "cell_type": "code",
   "execution_count": 0,
   "metadata": {
    "application/vnd.databricks.v1+cell": {
     "cellMetadata": {
      "byteLimit": 2048000,
      "rowLimit": 10000
     },
     "inputWidgets": {},
     "nuid": "c643ab29-772e-422f-a264-963437e5b7d7",
     "showTitle": false,
     "tableResultSettingsMap": {},
     "title": ""
    }
   },
   "outputs": [
    {
     "output_type": "display_data",
     "data": {
      "text/html": [
       "<style scoped>\n",
       "  .table-result-container {\n",
       "    max-height: 300px;\n",
       "    overflow: auto;\n",
       "  }\n",
       "  table, th, td {\n",
       "    border: 1px solid black;\n",
       "    border-collapse: collapse;\n",
       "  }\n",
       "  th, td {\n",
       "    padding: 5px;\n",
       "  }\n",
       "  th {\n",
       "    text-align: left;\n",
       "  }\n",
       "</style><div class='table-result-container'><table class='table-result'><thead style='background-color: white'><tr><th>United States|477</th></tr></thead><tbody><tr><td>United States|136</td></tr><tr><td>United States|390</td></tr><tr><td>United States|118</td></tr><tr><td>United States|391</td></tr><tr><td>United States|903</td></tr><tr><td>United States|519</td></tr><tr><td>United States|315</td></tr><tr><td>United States|252</td></tr><tr><td>United States|187</td></tr><tr><td>United States|6200</td></tr><tr><td>United States|272</td></tr><tr><td>United States|785</td></tr><tr><td>United States|377</td></tr><tr><td>United States|355</td></tr><tr><td>United States|123</td></tr><tr><td>United States|117</td></tr><tr><td>United States|348113</td></tr><tr><td>United States|130</td></tr><tr><td>United States|1392</td></tr><tr><td>United States|231</td></tr><tr><td>United States|113</td></tr><tr><td>United States|275</td></tr><tr><td>United States|238</td></tr><tr><td>United States|8271</td></tr><tr><td>United States|733</td></tr><tr><td>United States|1109</td></tr><tr><td>United States|1383</td></tr><tr><td>United States|359</td></tr><tr><td>United States|995</td></tr><tr><td>United States|165</td></tr><tr><td>United States|586</td></tr><tr><td>United States|448</td></tr><tr><td>United States|212</td></tr><tr><td>United States|184</td></tr><tr><td>United States|247</td></tr><tr><td>United States|422</td></tr><tr><td>United States|286</td></tr><tr><td>United States|183</td></tr><tr><td>United States|408</td></tr><tr><td>United States|132</td></tr><tr><td>United States|152</td></tr><tr><td>United States|386</td></tr><tr><td>United States|116</td></tr><tr><td>United States|1629</td></tr><tr><td>United States|243</td></tr><tr><td>United States|102</td></tr><tr><td>United States|121</td></tr><tr><td>United States|178</td></tr><tr><td>United States|683</td></tr><tr><td>United States|774</td></tr><tr><td>United States|166</td></tr><tr><td>United States|290</td></tr></tbody></table></div>"
      ]
     },
     "metadata": {
      "application/vnd.databricks.v1+output": {
       "addedWidgets": {},
       "aggData": [],
       "aggError": "",
       "aggOverflow": false,
       "aggSchema": [],
       "aggSeriesLimitReached": false,
       "aggType": "",
       "arguments": {},
       "columnCustomDisplayInfos": {},
       "data": [
        [
         "United States|136"
        ],
        [
         "United States|390"
        ],
        [
         "United States|118"
        ],
        [
         "United States|391"
        ],
        [
         "United States|903"
        ],
        [
         "United States|519"
        ],
        [
         "United States|315"
        ],
        [
         "United States|252"
        ],
        [
         "United States|187"
        ],
        [
         "United States|6200"
        ],
        [
         "United States|272"
        ],
        [
         "United States|785"
        ],
        [
         "United States|377"
        ],
        [
         "United States|355"
        ],
        [
         "United States|123"
        ],
        [
         "United States|117"
        ],
        [
         "United States|348113"
        ],
        [
         "United States|130"
        ],
        [
         "United States|1392"
        ],
        [
         "United States|231"
        ],
        [
         "United States|113"
        ],
        [
         "United States|275"
        ],
        [
         "United States|238"
        ],
        [
         "United States|8271"
        ],
        [
         "United States|733"
        ],
        [
         "United States|1109"
        ],
        [
         "United States|1383"
        ],
        [
         "United States|359"
        ],
        [
         "United States|995"
        ],
        [
         "United States|165"
        ],
        [
         "United States|586"
        ],
        [
         "United States|448"
        ],
        [
         "United States|212"
        ],
        [
         "United States|184"
        ],
        [
         "United States|247"
        ],
        [
         "United States|422"
        ],
        [
         "United States|286"
        ],
        [
         "United States|183"
        ],
        [
         "United States|408"
        ],
        [
         "United States|132"
        ],
        [
         "United States|152"
        ],
        [
         "United States|386"
        ],
        [
         "United States|116"
        ],
        [
         "United States|1629"
        ],
        [
         "United States|243"
        ],
        [
         "United States|102"
        ],
        [
         "United States|121"
        ],
        [
         "United States|178"
        ],
        [
         "United States|683"
        ],
        [
         "United States|774"
        ],
        [
         "United States|166"
        ],
        [
         "United States|290"
        ]
       ],
       "datasetInfos": [],
       "dbfsResultPath": null,
       "isJsonSchema": true,
       "metadata": {},
       "overflow": false,
       "plotOptions": {
        "customPlotOptions": {},
        "displayType": "table",
        "pivotAggregation": null,
        "pivotColumns": null,
        "xColumns": null,
        "yColumns": null
       },
       "removedWidgets": [],
       "schema": [
        {
         "metadata": "{}",
         "name": "United States|477",
         "type": "\"string\""
        }
       ],
       "type": "table"
      }
     },
     "output_type": "display_data"
    }
   ],
   "source": [
    "display(spark.read.option(\"header\",True).option(\"inferSchema\",True).csv(\"dbfs:/FilesStore/output/csv\"))"
   ]
  },
  {
   "cell_type": "code",
   "execution_count": 0,
   "metadata": {
    "application/vnd.databricks.v1+cell": {
     "cellMetadata": {
      "byteLimit": 2048000,
      "rowLimit": 10000
     },
     "inputWidgets": {},
     "nuid": "a21c9362-d0ff-480b-9c7f-519385a91792",
     "showTitle": false,
     "tableResultSettingsMap": {},
     "title": ""
    }
   },
   "outputs": [
    {
     "output_type": "stream",
     "name": "stdout",
     "output_type": "stream",
     "text": [
      "+--------------------+-------------------+-----+\n|   DEST_COUNTRY_NAME|ORIGIN_COUNTRY_NAME|count|\n+--------------------+-------------------+-----+\n|       United States|            Romania|    1|\n|       United States|            Ireland|  264|\n|       United States|              India|   69|\n|               Egypt|      United States|   24|\n|   Equatorial Guinea|      United States|    1|\n|       United States|          Singapore|   25|\n|       United States|            Grenada|   54|\n|          Costa Rica|      United States|  477|\n|             Senegal|      United States|   29|\n|       United States|   Marshall Islands|   44|\n|              Guyana|      United States|   17|\n|       United States|       Sint Maarten|   53|\n|               Malta|      United States|    1|\n|             Bolivia|      United States|   46|\n|            Anguilla|      United States|   21|\n|Turks and Caicos ...|      United States|  136|\n|       United States|        Afghanistan|    2|\n|Saint Vincent and...|      United States|    1|\n|               Italy|      United States|  390|\n|       United States|             Russia|  156|\n+--------------------+-------------------+-----+\nonly showing top 20 rows\n\n"
     ]
    }
   ],
   "source": [
    "dfcv=spark.read.format(\"csv\").load(csv_ipath,header=True).toDF(\"DEST_COUNTRY_NAME\",\"ORIGIN_COUNTRY_NAME\", \"count\")\n",
    "dfcv.show()"
   ]
  },
  {
   "cell_type": "code",
   "execution_count": 0,
   "metadata": {
    "application/vnd.databricks.v1+cell": {
     "cellMetadata": {
      "byteLimit": 2048000,
      "rowLimit": 10000
     },
     "inputWidgets": {},
     "nuid": "ce661a70-ac25-4740-87b2-5c673ecfd12b",
     "showTitle": false,
     "tableResultSettingsMap": {},
     "title": ""
    }
   },
   "outputs": [
    {
     "output_type": "stream",
     "name": "stdout",
     "output_type": "stream",
     "text": [
      "+-----------------+-------------------+-----+\n|DEST_COUNTRY_NAME|ORIGIN_COUNTRY_NAME|count|\n+-----------------+-------------------+-----+\n|United States    |Romania            |1    |\n|United States    |Ireland            |264  |\n|United States    |India              |69   |\n|Egypt            |United States      |24   |\n|Equatorial Guinea|United States      |1    |\n+-----------------+-------------------+-----+\nonly showing top 5 rows\n\n"
     ]
    }
   ],
   "source": [
    "dfcv.show(5,False)"
   ]
  },
  {
   "cell_type": "code",
   "execution_count": 0,
   "metadata": {
    "application/vnd.databricks.v1+cell": {
     "cellMetadata": {
      "byteLimit": 2048000,
      "rowLimit": 10000
     },
     "inputWidgets": {},
     "nuid": "af45d824-f53a-4399-8138-a33145061e27",
     "showTitle": true,
     "tableResultSettingsMap": {},
     "title": "Text files"
    }
   },
   "outputs": [],
   "source": [
    "text_path=\"dbfs:/FileStore/cts_data/wordcount.txt\""
   ]
  },
  {
   "cell_type": "code",
   "execution_count": 0,
   "metadata": {
    "application/vnd.databricks.v1+cell": {
     "cellMetadata": {
      "byteLimit": 2048000,
      "rowLimit": 10000
     },
     "inputWidgets": {},
     "nuid": "576b91aa-fd3a-4f66-bf78-151545b35ff8",
     "showTitle": false,
     "tableResultSettingsMap": {},
     "title": ""
    }
   },
   "outputs": [
    {
     "output_type": "stream",
     "name": "stdout",
     "output_type": "stream",
     "text": [
      "+----------------------------------------------+\n|value                                         |\n+----------------------------------------------+\n|spark is a general purpose execution framework|\n|spark can run on hadoop                       |\n|scala is preferred language for spark         |\n|spark also supports java and python           |\n|spark is a general purpose execution framework|\n|spark can run on hadoop                       |\n|scala is preferred language for spark         |\n|spark also supports java and python           |\n|python spark scala java pyspark hadoop        |\n|spark python spark rdd rdd rdd sql spark      |\n|pythom machine learning spark sql rdd rdd     |\n+----------------------------------------------+\n\n"
     ]
    }
   ],
   "source": [
    "dft=spark.read.text(text_path)\n",
    "dft.show(truncate=False)"
   ]
  },
  {
   "cell_type": "code",
   "execution_count": 0,
   "metadata": {
    "application/vnd.databricks.v1+cell": {
     "cellMetadata": {
      "byteLimit": 2048000,
      "rowLimit": 10000
     },
     "inputWidgets": {},
     "nuid": "2e5524b4-0201-4002-b0e3-a79b8c38c22e",
     "showTitle": false,
     "tableResultSettingsMap": {},
     "title": ""
    }
   },
   "outputs": [],
   "source": [
    "from pyspark.sql.functions import explode,split"
   ]
  },
  {
   "cell_type": "code",
   "execution_count": 0,
   "metadata": {
    "application/vnd.databricks.v1+cell": {
     "cellMetadata": {
      "byteLimit": 2048000,
      "rowLimit": 10000
     },
     "inputWidgets": {},
     "nuid": "5c30147b-a2c5-4bca-9951-10ee7de5d097",
     "showTitle": false,
     "tableResultSettingsMap": {},
     "title": ""
    }
   },
   "outputs": [
    {
     "output_type": "stream",
     "name": "stdout",
     "output_type": "stream",
     "text": [
      "+---------+-----+\n|    Words|count|\n+---------+-----+\n|        a|    2|\n|     also|    2|\n|      and|    2|\n|      can|    2|\n|execution|    2|\n|      for|    2|\n|framework|    2|\n|  general|    2|\n|   hadoop|    3|\n|       is|    4|\n|     java|    3|\n| language|    2|\n| learning|    1|\n|  machine|    1|\n|       on|    2|\n|preferred|    2|\n|  purpose|    2|\n|  pyspark|    1|\n|   pythom|    1|\n|   python|    4|\n+---------+-----+\nonly showing top 20 rows\n\n"
     ]
    }
   ],
   "source": [
    "df=dft.select(explode(split(dft[\"value\"],\" \")).alias(\"Words\"))\\\n",
    "  .groupBy(\"Words\").count()\\\n",
    "    .orderBy(\"Words\")\n",
    "df.show()"
   ]
  },
  {
   "cell_type": "code",
   "execution_count": 0,
   "metadata": {
    "application/vnd.databricks.v1+cell": {
     "cellMetadata": {
      "byteLimit": 2048000,
      "rowLimit": 10000
     },
     "inputWidgets": {},
     "nuid": "6dd9e212-07bd-4411-bb86-08f397d3e604",
     "showTitle": false,
     "tableResultSettingsMap": {},
     "title": ""
    }
   },
   "outputs": [],
   "source": [
    "df.select(\"Words\").write.mode(\"overwrite\").text(\"dbfs:/FilesStore/output/text\")"
   ]
  },
  {
   "cell_type": "code",
   "execution_count": 0,
   "metadata": {
    "application/vnd.databricks.v1+cell": {
     "cellMetadata": {
      "byteLimit": 2048000,
      "rowLimit": 10000
     },
     "inputWidgets": {},
     "nuid": "1b51e66d-04ce-46ec-b5e2-be8ca8eed8b7",
     "showTitle": false,
     "tableResultSettingsMap": {},
     "title": ""
    }
   },
   "outputs": [
    {
     "output_type": "stream",
     "name": "stdout",
     "output_type": "stream",
     "text": [
      "root\n |-- Words: string (nullable = false)\n |-- count: long (nullable = false)\n\n"
     ]
    }
   ],
   "source": [
    "df.printSchema()"
   ]
  },
  {
   "cell_type": "code",
   "execution_count": 0,
   "metadata": {
    "application/vnd.databricks.v1+cell": {
     "cellMetadata": {
      "byteLimit": 2048000,
      "rowLimit": 10000
     },
     "inputWidgets": {},
     "nuid": "ae622225-d582-4a70-a51f-65f6774b2de9",
     "showTitle": false,
     "tableResultSettingsMap": {},
     "title": ""
    }
   },
   "outputs": [
    {
     "output_type": "stream",
     "name": "stdout",
     "output_type": "stream",
     "text": [
      "+---------+\n|value    |\n+---------+\n|a        |\n|also     |\n|and      |\n|can      |\n|execution|\n|for      |\n|framework|\n|general  |\n|hadoop   |\n|is       |\n+---------+\nonly showing top 10 rows\n\n"
     ]
    }
   ],
   "source": [
    "df=spark.read.text(\"dbfs:/FilesStore/output/text\")\n",
    "df.show(10,False)"
   ]
  },
  {
   "cell_type": "markdown",
   "metadata": {
    "application/vnd.databricks.v1+cell": {
     "cellMetadata": {},
     "inputWidgets": {},
     "nuid": "cfe75c69-afd6-42cf-b05f-1df98f8fc466",
     "showTitle": false,
     "tableResultSettingsMap": {},
     "title": ""
    }
   },
   "source": [
    "**DATAFARME** **TRANSFORMATION** **METHOD**"
   ]
  },
  {
   "cell_type": "code",
   "execution_count": 0,
   "metadata": {
    "application/vnd.databricks.v1+cell": {
     "cellMetadata": {
      "byteLimit": 2048000,
      "rowLimit": 10000
     },
     "inputWidgets": {},
     "nuid": "5a11fda6-19cf-4047-8a65-134be010d274",
     "showTitle": false,
     "tableResultSettingsMap": {},
     "title": ""
    }
   },
   "outputs": [],
   "source": [
    "from pyspark.sql.types import StructType, StructField, StringType, IntegerType"
   ]
  },
  {
   "cell_type": "code",
   "execution_count": 0,
   "metadata": {
    "application/vnd.databricks.v1+cell": {
     "cellMetadata": {
      "byteLimit": 2048000,
      "rowLimit": 10000
     },
     "inputWidgets": {},
     "nuid": "94d52773-5a8b-4b18-ab92-0a5cea58fecd",
     "showTitle": false,
     "tableResultSettingsMap": {},
     "title": ""
    }
   },
   "outputs": [],
   "source": [
    "from pyspark.sql.functions import  when,lit,explode,split,col,asc,desc,avg,expr,count,max,sum,min"
   ]
  },
  {
   "cell_type": "code",
   "execution_count": 0,
   "metadata": {
    "application/vnd.databricks.v1+cell": {
     "cellMetadata": {
      "byteLimit": 2048000,
      "rowLimit": 10000
     },
     "inputWidgets": {},
     "nuid": "7b294eed-1474-4738-9e9a-176a6123ccfc",
     "showTitle": false,
     "tableResultSettingsMap": {},
     "title": ""
    }
   },
   "outputs": [],
   "source": [
    "ListUsers=[(1, \"Raju\", 5),\n",
    "            (2, \"Ramesh\", 15),\n",
    "            (3, \"Rajesh\", 18),\n",
    "            (4, \"Raghu\", 35),\n",
    "            (5, \"Ramya\", 25),\n",
    "            (6, \"Radhika\", 35),\n",
    "            (7, \"Ravi\", 70)]"
   ]
  },
  {
   "cell_type": "code",
   "execution_count": 0,
   "metadata": {
    "application/vnd.databricks.v1+cell": {
     "cellMetadata": {
      "byteLimit": 2048000,
      "rowLimit": 10000
     },
     "inputWidgets": {},
     "nuid": "e3e22435-c9c5-4887-b9ea-9a5150b9ddba",
     "showTitle": false,
     "tableResultSettingsMap": {},
     "title": ""
    }
   },
   "outputs": [],
   "source": [
    "Schema=StructType(\n",
    "  [StructField(\"id\",LongType(),True),\n",
    "   StructField(\"Name\",StringType(),True),\n",
    "   StructField(\"Age\",StringType(),True)\n",
    "   ]\n",
    ")\n",
    "        "
   ]
  },
  {
   "cell_type": "code",
   "execution_count": 0,
   "metadata": {
    "application/vnd.databricks.v1+cell": {
     "cellMetadata": {
      "byteLimit": 2048000,
      "rowLimit": 10000
     },
     "inputWidgets": {},
     "nuid": "3a0272a0-e1b7-4eea-89d5-482977afe634",
     "showTitle": false,
     "tableResultSettingsMap": {},
     "title": ""
    }
   },
   "outputs": [
    {
     "output_type": "stream",
     "name": "stdout",
     "output_type": "stream",
     "text": [
      "+---+-------+---+\n| Id|   Name|Age|\n+---+-------+---+\n|  1|   Raju|  5|\n|  2| Ramesh| 15|\n|  3| Rajesh| 18|\n|  4|  Raghu| 35|\n|  5|  Ramya| 25|\n|  6|Radhika| 35|\n|  7|   Ravi| 70|\n+---+-------+---+\n\n"
     ]
    }
   ],
   "source": [
    "#df=spark.createDataFrame(ListUsers)\n",
    "df=spark.createDataFrame(data=ListUsers,schema=my_schema)\n",
    "#df=spark.createDataFrame(ListUsers,[\"id\",\"Name\",\"Age\"])\n",
    "#df=spark.createDataFrame(ListUsers).toDF(\"id\",\"Name\",\"Age\")\n",
    "df.show()"
   ]
  },
  {
   "cell_type": "code",
   "execution_count": 0,
   "metadata": {
    "application/vnd.databricks.v1+cell": {
     "cellMetadata": {
      "byteLimit": 2048000,
      "rowLimit": 10000
     },
     "inputWidgets": {},
     "nuid": "ee032d1e-cc38-4ada-aa68-c3c019219850",
     "showTitle": false,
     "tableResultSettingsMap": {},
     "title": ""
    }
   },
   "outputs": [],
   "source": [
    "my_schema=\"Id int,Name string, Age int\""
   ]
  },
  {
   "cell_type": "code",
   "execution_count": 0,
   "metadata": {
    "application/vnd.databricks.v1+cell": {
     "cellMetadata": {
      "byteLimit": 2048000,
      "rowLimit": 10000
     },
     "inputWidgets": {},
     "nuid": "0073c2b9-55ae-4167-a581-4fdfec525d35",
     "showTitle": false,
     "tableResultSettingsMap": {},
     "title": ""
    }
   },
   "outputs": [
    {
     "output_type": "stream",
     "name": "stdout",
     "output_type": "stream",
     "text": [
      "Out[163]: [(1, 'Raju', 5),\n (2, 'Ramesh', 15),\n (3, 'Rajesh', 18),\n (4, 'Raghu', 35),\n (5, 'Ramya', 25),\n (6, 'Radhika', 35),\n (7, 'Ravi', 70)]"
     ]
    }
   ],
   "source": [
    "rdd=sc.parallelize(ListUsers,3)\n",
    "rdd.collect()"
   ]
  },
  {
   "cell_type": "code",
   "execution_count": 0,
   "metadata": {
    "application/vnd.databricks.v1+cell": {
     "cellMetadata": {
      "byteLimit": 2048000,
      "rowLimit": 10000
     },
     "inputWidgets": {},
     "nuid": "94ff35a7-2db4-4bcd-9aeb-ca0b821b9e3f",
     "showTitle": false,
     "tableResultSettingsMap": {},
     "title": ""
    }
   },
   "outputs": [
    {
     "output_type": "stream",
     "name": "stdout",
     "output_type": "stream",
     "text": [
      "+---+-------+---+\n| Id|   Name|Age|\n+---+-------+---+\n|  1|   Raju|  5|\n|  2| Ramesh| 15|\n|  3| Rajesh| 18|\n|  4|  Raghu| 35|\n|  5|  Ramya| 25|\n|  6|Radhika| 35|\n|  7|   Ravi| 70|\n+---+-------+---+\n\n"
     ]
    }
   ],
   "source": [
    "df=rdd.toDF([\"Id\",\"Name\",\"Age\"])\n",
    "df.show()"
   ]
  },
  {
   "cell_type": "code",
   "execution_count": 0,
   "metadata": {
    "application/vnd.databricks.v1+cell": {
     "cellMetadata": {
      "byteLimit": 2048000,
      "rowLimit": 10000
     },
     "inputWidgets": {},
     "nuid": "56d4ff99-dba0-46e5-ad4a-9204b137e18c",
     "showTitle": false,
     "tableResultSettingsMap": {},
     "title": ""
    }
   },
   "outputs": [
    {
     "output_type": "stream",
     "name": "stdout",
     "output_type": "stream",
     "text": [
      "Out[166]: [Row(Id=1, Name='Raju', Age=5),\n Row(Id=2, Name='Ramesh', Age=15),\n Row(Id=3, Name='Rajesh', Age=18),\n Row(Id=4, Name='Raghu', Age=35),\n Row(Id=5, Name='Ramya', Age=25),\n Row(Id=6, Name='Radhika', Age=35),\n Row(Id=7, Name='Ravi', Age=70)]"
     ]
    }
   ],
   "source": [
    "df.rdd.collect()"
   ]
  },
  {
   "cell_type": "code",
   "execution_count": 0,
   "metadata": {
    "application/vnd.databricks.v1+cell": {
     "cellMetadata": {
      "byteLimit": 2048000,
      "rowLimit": 10000
     },
     "inputWidgets": {},
     "nuid": "198a255b-a78a-4210-9533-c1cdec7c335f",
     "showTitle": false,
     "tableResultSettingsMap": {},
     "title": ""
    }
   },
   "outputs": [
    {
     "output_type": "stream",
     "name": "stdout",
     "output_type": "stream",
     "text": [
      "Out[167]: 3"
     ]
    }
   ],
   "source": [
    "Rdd=df.rdd\n",
    "Rdd.getNumPartitions()"
   ]
  },
  {
   "cell_type": "code",
   "execution_count": 0,
   "metadata": {
    "application/vnd.databricks.v1+cell": {
     "cellMetadata": {
      "byteLimit": 2048000,
      "rowLimit": 10000
     },
     "inputWidgets": {},
     "nuid": "df6e8380-98f3-4e51-a6cf-62eae7f15117",
     "showTitle": false,
     "tableResultSettingsMap": {},
     "title": ""
    }
   },
   "outputs": [
    {
     "output_type": "stream",
     "name": "stdout",
     "output_type": "stream",
     "text": [
      "Out[168]: [Row(Id=1, Name='Raju', Age=5),\n Row(Id=2, Name='Ramesh', Age=15),\n Row(Id=3, Name='Rajesh', Age=18),\n Row(Id=4, Name='Raghu', Age=35),\n Row(Id=5, Name='Ramya', Age=25),\n Row(Id=6, Name='Radhika', Age=35),\n Row(Id=7, Name='Ravi', Age=70)]"
     ]
    }
   ],
   "source": [
    "Rdd.collect()"
   ]
  },
  {
   "cell_type": "code",
   "execution_count": 0,
   "metadata": {
    "application/vnd.databricks.v1+cell": {
     "cellMetadata": {
      "byteLimit": 2048000,
      "rowLimit": 10000
     },
     "inputWidgets": {},
     "nuid": "1d79c3d8-03c6-433c-97ed-020114ad9d51",
     "showTitle": false,
     "tableResultSettingsMap": {},
     "title": ""
    }
   },
   "outputs": [],
   "source": [
    "datalist=[(\"vanitha,Hamsa\",24,\"ECE\"),\n",
    "          (\"Punith\",22,\"BSC\")]"
   ]
  },
  {
   "cell_type": "code",
   "execution_count": 0,
   "metadata": {
    "application/vnd.databricks.v1+cell": {
     "cellMetadata": {
      "byteLimit": 2048000,
      "rowLimit": 10000
     },
     "inputWidgets": {},
     "nuid": "c2af531e-3e0c-4945-b3a7-ea93b1786019",
     "showTitle": false,
     "tableResultSettingsMap": {},
     "title": ""
    }
   },
   "outputs": [],
   "source": [
    "column=\"Name string, Age int, Dept String\""
   ]
  },
  {
   "cell_type": "code",
   "execution_count": 0,
   "metadata": {
    "application/vnd.databricks.v1+cell": {
     "cellMetadata": {
      "byteLimit": 2048000,
      "rowLimit": 10000
     },
     "inputWidgets": {},
     "nuid": "c8b53972-ec49-4b10-bc80-d97e4ec47f2d",
     "showTitle": false,
     "tableResultSettingsMap": {},
     "title": ""
    }
   },
   "outputs": [
    {
     "output_type": "stream",
     "name": "stdout",
     "output_type": "stream",
     "text": [
      "+-------------+---+----+\n|         Name|Age|Dept|\n+-------------+---+----+\n|vanitha,Hamsa| 24| ECE|\n|       Punith| 22| BSC|\n+-------------+---+----+\n\n"
     ]
    }
   ],
   "source": [
    "#df=spark.createDataFrame(datalist,column)\n",
    "df=spark.createDataFrame(datalist,[\"Name\",\"Age\",\"Dept\"])\n",
    "df.show()"
   ]
  },
  {
   "cell_type": "code",
   "execution_count": 0,
   "metadata": {
    "application/vnd.databricks.v1+cell": {
     "cellMetadata": {
      "byteLimit": 2048000,
      "rowLimit": 10000
     },
     "inputWidgets": {},
     "nuid": "9268009b-fe38-4b3b-9879-9a7e5a6f8fc0",
     "showTitle": false,
     "tableResultSettingsMap": {},
     "title": ""
    }
   },
   "outputs": [
    {
     "output_type": "stream",
     "name": "stdout",
     "output_type": "stream",
     "text": [
      "+-------+---+----+\n|   Name|Age|Dept|\n+-------+---+----+\n|vanitha| 24| ECE|\n|  Hamsa| 24| ECE|\n| Punith| 22| BSC|\n+-------+---+----+\n\n"
     ]
    }
   ],
   "source": [
    "df.select(explode(split(df[\"Name\"],\",\")).alias(\"Name\"),df.Age,df.Dept).show()\n"
   ]
  },
  {
   "cell_type": "code",
   "execution_count": 0,
   "metadata": {
    "application/vnd.databricks.v1+cell": {
     "cellMetadata": {
      "byteLimit": 2048000,
      "rowLimit": 10000
     },
     "inputWidgets": {},
     "nuid": "66553514-9cce-4b0a-83b2-9de84d592ae6",
     "showTitle": false,
     "tableResultSettingsMap": {},
     "title": ""
    }
   },
   "outputs": [],
   "source": [
    "listdata=[(\"James,John\",\"USA\"),\n",
    "          (\"Robert,Michel\",\"UK\")]"
   ]
  },
  {
   "cell_type": "code",
   "execution_count": 0,
   "metadata": {
    "application/vnd.databricks.v1+cell": {
     "cellMetadata": {
      "byteLimit": 2048000,
      "rowLimit": 10000
     },
     "inputWidgets": {},
     "nuid": "68cb10c6-f4db-4750-ba57-2cfd8524aeba",
     "showTitle": false,
     "tableResultSettingsMap": {},
     "title": ""
    }
   },
   "outputs": [
    {
     "output_type": "stream",
     "name": "stdout",
     "output_type": "stream",
     "text": [
      "+-------------+-------+\n|         NAME|COUNTRY|\n+-------------+-------+\n|   James,John|    USA|\n|Robert,Michel|     UK|\n+-------------+-------+\n\n"
     ]
    }
   ],
   "source": [
    "df=spark.createDataFrame(listdata,[\"NAME\",\"COUNTRY\"])\n",
    "df.show()"
   ]
  },
  {
   "cell_type": "code",
   "execution_count": 0,
   "metadata": {
    "application/vnd.databricks.v1+cell": {
     "cellMetadata": {
      "byteLimit": 2048000,
      "rowLimit": 10000
     },
     "inputWidgets": {},
     "nuid": "cbd0f46b-6a81-4dbb-b947-57d81e57e60a",
     "showTitle": false,
     "tableResultSettingsMap": {},
     "title": ""
    }
   },
   "outputs": [
    {
     "output_type": "stream",
     "name": "stdout",
     "output_type": "stream",
     "text": [
      "+------+-------+\n|  NAME|COUNTRY|\n+------+-------+\n| James|    USA|\n|  John|    USA|\n|Robert|     UK|\n|Michel|     UK|\n+------+-------+\n\n"
     ]
    }
   ],
   "source": [
    "df.select(explode(split(df[\"NAME\"],\",\")).alias(\"NAME\"),df.COUNTRY).show()"
   ]
  },
  {
   "cell_type": "code",
   "execution_count": 0,
   "metadata": {
    "application/vnd.databricks.v1+cell": {
     "cellMetadata": {
      "byteLimit": 2048000,
      "rowLimit": 10000
     },
     "inputWidgets": {},
     "nuid": "bf0bd206-3520-4512-b7c0-8405e7ce34ea",
     "showTitle": false,
     "tableResultSettingsMap": {},
     "title": ""
    }
   },
   "outputs": [],
   "source": [
    "datalist=[(\"vanitha Hamsa\",24,\"ECE\")]\n",
    "column=\"NAME STRING,AGE INT, DEPT STRING\""
   ]
  },
  {
   "cell_type": "code",
   "execution_count": 0,
   "metadata": {
    "application/vnd.databricks.v1+cell": {
     "cellMetadata": {
      "byteLimit": 2048000,
      "rowLimit": 10000
     },
     "inputWidgets": {},
     "nuid": "cf4078ac-f0c2-4923-abff-7c7693236b2c",
     "showTitle": false,
     "tableResultSettingsMap": {},
     "title": ""
    }
   },
   "outputs": [],
   "source": [
    "df=spark.createDataFrame(datalist,column)"
   ]
  },
  {
   "cell_type": "code",
   "execution_count": 0,
   "metadata": {
    "application/vnd.databricks.v1+cell": {
     "cellMetadata": {
      "byteLimit": 2048000,
      "rowLimit": 10000
     },
     "inputWidgets": {},
     "nuid": "13975421-16b6-4622-aac2-c18f4312708d",
     "showTitle": false,
     "tableResultSettingsMap": {},
     "title": ""
    }
   },
   "outputs": [
    {
     "output_type": "stream",
     "name": "stdout",
     "output_type": "stream",
     "text": [
      "+-------+---+----+\n|   NAME|AGE|DEPT|\n+-------+---+----+\n|vanitha| 24| ECE|\n|  Hamsa| 24| ECE|\n+-------+---+----+\n\n"
     ]
    }
   ],
   "source": [
    "df.select(explode(split(df[\"NAME\"],\" \")).alias(\"NAME\"),df.AGE,df.DEPT).show()"
   ]
  },
  {
   "cell_type": "code",
   "execution_count": 0,
   "metadata": {
    "application/vnd.databricks.v1+cell": {
     "cellMetadata": {
      "byteLimit": 2048000,
      "rowLimit": 10000
     },
     "inputWidgets": {},
     "nuid": "43720116-1fe0-41f6-9fed-ffe66ddf803b",
     "showTitle": false,
     "tableResultSettingsMap": {},
     "title": ""
    }
   },
   "outputs": [],
   "source": [
    "data=[(\"vanitha\",(\"pyspark,python\")),\n",
    "      (\"hamsa\",(\"deveops,sql\"))]"
   ]
  },
  {
   "cell_type": "code",
   "execution_count": 0,
   "metadata": {
    "application/vnd.databricks.v1+cell": {
     "cellMetadata": {
      "byteLimit": 2048000,
      "rowLimit": 10000
     },
     "inputWidgets": {},
     "nuid": "a22cb8ef-a3a8-4b81-a329-68646a05b4ee",
     "showTitle": false,
     "tableResultSettingsMap": {},
     "title": ""
    }
   },
   "outputs": [
    {
     "output_type": "stream",
     "name": "stdout",
     "output_type": "stream",
     "text": [
      "+-------+--------------+\n|   NAME|       SUBJECT|\n+-------+--------------+\n|vanitha|pyspark,python|\n|  hamsa|   deveops,sql|\n+-------+--------------+\n\n"
     ]
    }
   ],
   "source": [
    "df=spark.createDataFrame(data,[\"NAME\",\"SUBJECT\"])\n",
    "df.show()"
   ]
  },
  {
   "cell_type": "code",
   "execution_count": 0,
   "metadata": {
    "application/vnd.databricks.v1+cell": {
     "cellMetadata": {
      "byteLimit": 2048000,
      "rowLimit": 10000
     },
     "inputWidgets": {},
     "nuid": "8b37581e-8be5-4d27-9343-63c3cdecac57",
     "showTitle": false,
     "tableResultSettingsMap": {},
     "title": ""
    }
   },
   "outputs": [
    {
     "output_type": "stream",
     "name": "stdout",
     "output_type": "stream",
     "text": [
      "+-------+-------+\n|   NAME|    sub|\n+-------+-------+\n|vanitha|pyspark|\n|vanitha| python|\n|  hamsa|deveops|\n|  hamsa|    sql|\n+-------+-------+\n\n"
     ]
    }
   ],
   "source": [
    "df.select(df.NAME,explode(split(df[\"SUBJECT\"],\",\")).alias(\"sub\")).show()"
   ]
  },
  {
   "cell_type": "code",
   "execution_count": 0,
   "metadata": {
    "application/vnd.databricks.v1+cell": {
     "cellMetadata": {
      "byteLimit": 2048000,
      "rowLimit": 10000
     },
     "inputWidgets": {},
     "nuid": "cbbe0839-ae78-4830-981c-4f2ed717c732",
     "showTitle": false,
     "tableResultSettingsMap": {},
     "title": ""
    }
   },
   "outputs": [
    {
     "output_type": "stream",
     "name": "stdout",
     "output_type": "stream",
     "text": [
      "Out[222]: [('vanitha',), ('punitha',)]"
     ]
    }
   ],
   "source": [
    "rdd=sc.parallelize([\"vanitha\",\n",
    "                    \"punitha\"])\n",
    "rdd1=rdd.map(lambda x:(x,))\n",
    "rdd1.collect()"
   ]
  },
  {
   "cell_type": "code",
   "execution_count": 0,
   "metadata": {
    "application/vnd.databricks.v1+cell": {
     "cellMetadata": {
      "byteLimit": 2048000,
      "rowLimit": 10000
     },
     "inputWidgets": {},
     "nuid": "31de9580-8886-4656-8b8f-de5060cafaca",
     "showTitle": false,
     "tableResultSettingsMap": {},
     "title": ""
    }
   },
   "outputs": [
    {
     "output_type": "stream",
     "name": "stdout",
     "output_type": "stream",
     "text": [
      "+-------+\n|   Name|\n+-------+\n|vanitha|\n|punitha|\n+-------+\n\n"
     ]
    }
   ],
   "source": [
    "df=rdd1.toDF([\"Name\"])\n",
    "df.show()"
   ]
  },
  {
   "cell_type": "code",
   "execution_count": 0,
   "metadata": {
    "application/vnd.databricks.v1+cell": {
     "cellMetadata": {
      "byteLimit": 2048000,
      "rowLimit": 10000
     },
     "inputWidgets": {},
     "nuid": "f0629815-32c7-4443-b8c3-63cbfcb2d51c",
     "showTitle": false,
     "tableResultSettingsMap": {},
     "title": ""
    }
   },
   "outputs": [
    {
     "output_type": "stream",
     "name": "stdout",
     "output_type": "stream",
     "text": [
      "+-------+\n|   NAME|\n+-------+\n|vanitha|\n|punitha|\n+-------+\n\n"
     ]
    }
   ],
   "source": [
    "df=spark.createDataFrame(rdd1,[\"NAME\"])\n",
    "df.show()"
   ]
  },
  {
   "cell_type": "code",
   "execution_count": 0,
   "metadata": {
    "application/vnd.databricks.v1+cell": {
     "cellMetadata": {
      "byteLimit": 2048000,
      "rowLimit": 10000
     },
     "inputWidgets": {},
     "nuid": "7f94c46b-6180-4085-a9a9-96470fca7e6a",
     "showTitle": false,
     "tableResultSettingsMap": {},
     "title": ""
    }
   },
   "outputs": [
    {
     "output_type": "stream",
     "name": "stdout",
     "output_type": "stream",
     "text": [
      "+-------+------+\n|   Name|    _2|\n+-------+------+\n|vanitha|punith|\n+-------+------+\n\n"
     ]
    }
   ],
   "source": [
    "df=spark.createDataFrame([(\"vanitha\",\"punith\")],[\"Name\"])\n",
    "df.show()"
   ]
  },
  {
   "cell_type": "code",
   "execution_count": 0,
   "metadata": {
    "application/vnd.databricks.v1+cell": {
     "cellMetadata": {
      "byteLimit": 2048000,
      "rowLimit": 10000
     },
     "inputWidgets": {},
     "nuid": "b26e8cb9-6712-4f58-a462-164f90fc3095",
     "showTitle": false,
     "tableResultSettingsMap": {},
     "title": ""
    }
   },
   "outputs": [
    {
     "output_type": "stream",
     "name": "stdout",
     "output_type": "stream",
     "text": [
      "+-------+------+\n|   Name|    _2|\n+-------+------+\n|vanitha|punith|\n+-------+------+\n\n"
     ]
    }
   ],
   "source": [
    "df=spark.createDataFrame([(\"vanitha\",\"punith\",)],[\"Name\"])\n",
    "df.show()"
   ]
  },
  {
   "cell_type": "code",
   "execution_count": 0,
   "metadata": {
    "application/vnd.databricks.v1+cell": {
     "cellMetadata": {
      "byteLimit": 2048000,
      "rowLimit": 10000
     },
     "inputWidgets": {},
     "nuid": "e4f8a113-8621-4d64-899c-ad1f2cb07788",
     "showTitle": false,
     "tableResultSettingsMap": {},
     "title": ""
    }
   },
   "outputs": [
    {
     "output_type": "stream",
     "name": "stdout",
     "output_type": "stream",
     "text": [
      "+-------+\n|   name|\n+-------+\n|Vanitha|\n| Punith|\n+-------+\n\n"
     ]
    }
   ],
   "source": [
    "df=spark.createDataFrame([(\"Vanitha,Punith\",)],[\"Name\"])\n",
    "df.select(explode(split(df[\"Name\"],\",\")).alias(\"name\")).show()"
   ]
  },
  {
   "cell_type": "code",
   "execution_count": 0,
   "metadata": {
    "application/vnd.databricks.v1+cell": {
     "cellMetadata": {
      "byteLimit": 2048000,
      "rowLimit": 10000
     },
     "inputWidgets": {},
     "nuid": "da38b33b-3f23-4b07-82c7-bb846a22cf79",
     "showTitle": false,
     "tableResultSettingsMap": {},
     "title": ""
    }
   },
   "outputs": [
    {
     "output_type": "stream",
     "name": "stdout",
     "output_type": "stream",
     "text": [
      "+-------+\n|   NAME|\n+-------+\n|vanitha|\n| Punith|\n+-------+\n\n"
     ]
    }
   ],
   "source": [
    "df=spark.createDataFrame([(\"vanitha Punith\",)],[\"NAME\"])\n",
    "df.select(explode(split(df[\"NAME\"],\" \")).alias(\"NAME\")).show()"
   ]
  },
  {
   "cell_type": "code",
   "execution_count": 0,
   "metadata": {
    "application/vnd.databricks.v1+cell": {
     "cellMetadata": {
      "byteLimit": 2048000,
      "rowLimit": 10000
     },
     "inputWidgets": {},
     "nuid": "5aee2e2e-a3e0-4111-86b7-8872cdc923f1",
     "showTitle": false,
     "tableResultSettingsMap": {},
     "title": ""
    }
   },
   "outputs": [],
   "source": [
    "samples=[(20,\"vanitha\",23),\n",
    "         (21,\"puni\",21),\n",
    "         (23,\"shrusti\",25),\n",
    "         (24,\"kavya\",28),\n",
    "         (25,\"hamsa\",24),\n",
    "         (26,\"thulsi\",24)]\n",
    "\n",
    "column=\"id int, name string, age int\""
   ]
  },
  {
   "cell_type": "code",
   "execution_count": 0,
   "metadata": {
    "application/vnd.databricks.v1+cell": {
     "cellMetadata": {
      "byteLimit": 2048000,
      "rowLimit": 10000
     },
     "inputWidgets": {},
     "nuid": "48afaac7-b895-4a08-9abf-c9118790aafb",
     "showTitle": false,
     "tableResultSettingsMap": {},
     "title": ""
    }
   },
   "outputs": [
    {
     "output_type": "stream",
     "name": "stdout",
     "output_type": "stream",
     "text": [
      "+---+-------+---+\n| id|   name|age|\n+---+-------+---+\n| 20|vanitha| 23|\n| 21|   puni| 21|\n| 23|shrusti| 25|\n| 24|  kavya| 28|\n| 25|  hamsa| 24|\n| 26| thulsi| 24|\n+---+-------+---+\n\n"
     ]
    }
   ],
   "source": [
    "df=spark.createDataFrame(samples,schema=column)\n",
    "df.show()"
   ]
  },
  {
   "cell_type": "code",
   "execution_count": 0,
   "metadata": {
    "application/vnd.databricks.v1+cell": {
     "cellMetadata": {
      "byteLimit": 2048000,
      "rowLimit": 10000
     },
     "inputWidgets": {},
     "nuid": "5cccd8ce-336e-4dc8-8419-cffc49920832",
     "showTitle": false,
     "tableResultSettingsMap": {},
     "title": ""
    }
   },
   "outputs": [
    {
     "output_type": "stream",
     "name": "stdout",
     "output_type": "stream",
     "text": [
      "Out[241]: [(20, 'vanitha', 23),\n (21, 'puni', 21),\n (23, 'shrusti', 25),\n (24, 'kavya', 28),\n (25, 'hamsa', 24),\n (26, 'thulsi', 24)]"
     ]
    }
   ],
   "source": [
    "rdd=sc.parallelize(samples,3)\n",
    "rdd.collect()"
   ]
  },
  {
   "cell_type": "code",
   "execution_count": 0,
   "metadata": {
    "application/vnd.databricks.v1+cell": {
     "cellMetadata": {
      "byteLimit": 2048000,
      "rowLimit": 10000
     },
     "inputWidgets": {},
     "nuid": "47d05998-fa33-4af5-83d0-00aebb6ca953",
     "showTitle": false,
     "tableResultSettingsMap": {},
     "title": ""
    }
   },
   "outputs": [
    {
     "output_type": "stream",
     "name": "stdout",
     "output_type": "stream",
     "text": [
      "+---+-------+---+\n| ID|   NAME|AGE|\n+---+-------+---+\n| 20|vanitha| 23|\n| 21|   puni| 21|\n| 23|shrusti| 25|\n| 24|  kavya| 28|\n| 25|  hamsa| 24|\n| 26| thulsi| 24|\n+---+-------+---+\n\n"
     ]
    }
   ],
   "source": [
    "df=rdd.toDF([\"ID\",\"NAME\",\"AGE\"])\n",
    "df.show()"
   ]
  },
  {
   "cell_type": "code",
   "execution_count": 0,
   "metadata": {
    "application/vnd.databricks.v1+cell": {
     "cellMetadata": {
      "byteLimit": 2048000,
      "rowLimit": 10000
     },
     "inputWidgets": {},
     "nuid": "ade2f55d-4bc6-4ede-aa60-1961e1fe41b0",
     "showTitle": false,
     "tableResultSettingsMap": {},
     "title": ""
    }
   },
   "outputs": [
    {
     "output_type": "stream",
     "name": "stdout",
     "output_type": "stream",
     "text": [
      "+--------------------+-------------------+-----+\n|   DEST_COUNTRY_NAME|ORIGIN_COUNTRY_NAME|count|\n+--------------------+-------------------+-----+\n|       United States|            Romania|    1|\n|       United States|            Ireland|  264|\n|       United States|              India|   69|\n|               Egypt|      United States|   24|\n|   Equatorial Guinea|      United States|    1|\n|       United States|          Singapore|   25|\n|       United States|            Grenada|   54|\n|          Costa Rica|      United States|  477|\n|             Senegal|      United States|   29|\n|       United States|   Marshall Islands|   44|\n|              Guyana|      United States|   17|\n|       United States|       Sint Maarten|   53|\n|               Malta|      United States|    1|\n|             Bolivia|      United States|   46|\n|            Anguilla|      United States|   21|\n|Turks and Caicos ...|      United States|  136|\n|       United States|        Afghanistan|    2|\n|Saint Vincent and...|      United States|    1|\n|               Italy|      United States|  390|\n|       United States|             Russia|  156|\n+--------------------+-------------------+-----+\nonly showing top 20 rows\n\n"
     ]
    }
   ],
   "source": [
    "path_json=\"dbfs:/FileStore/cts_data/json/2010_summary.json\"\n",
    "dfj=spark.read.json(path_json)\n",
    "dfj.show()"
   ]
  },
  {
   "cell_type": "code",
   "execution_count": 0,
   "metadata": {
    "application/vnd.databricks.v1+cell": {
     "cellMetadata": {
      "byteLimit": 2048000,
      "rowLimit": 10000
     },
     "inputWidgets": {},
     "nuid": "1267cef4-668e-4fd4-bd84-399420340c26",
     "showTitle": false,
     "tableResultSettingsMap": {},
     "title": ""
    }
   },
   "outputs": [
    {
     "output_type": "stream",
     "name": "stdout",
     "output_type": "stream",
     "text": [
      "+----------------+-----+-----------+\n|          origin|Count|Destination|\n+----------------+-----+-----------+\n|         Romania|   26|       true|\n|         Ireland|  289|       true|\n|           India|   94|       true|\n|   United States|   49|      false|\n|   United States|   26|      false|\n|       Singapore|   50|       true|\n|         Grenada|   79|       true|\n|   United States|  502|      false|\n|   United States|   54|      false|\n|Marshall Islands|   69|       true|\n|   United States|   42|      false|\n|    Sint Maarten|   78|       true|\n|   United States|   26|      false|\n|   United States|   71|      false|\n|   United States|   46|      false|\n|   United States|  161|      false|\n|     Afghanistan|   27|       true|\n|   United States|   26|      false|\n|   United States|  415|      false|\n|          Russia|  181|       true|\n+----------------+-----+-----------+\nonly showing top 20 rows\n\n"
     ]
    }
   ],
   "source": [
    "df2=dfj.select(col(\"ORIGIN_COUNTRY_NAME\").alias(\"origin\"),\n",
    "               expr(\"count+25 as Count\"),\n",
    "                  expr(\"DEST_COUNTRY_NAME ='United States' as Destination \")).show()\n"
   ]
  },
  {
   "cell_type": "code",
   "execution_count": 0,
   "metadata": {
    "application/vnd.databricks.v1+cell": {
     "cellMetadata": {
      "byteLimit": 2048000,
      "rowLimit": 10000
     },
     "inputWidgets": {},
     "nuid": "afd4c726-dfa5-47b6-b62b-e09a6a8bf9ad",
     "showTitle": false,
     "tableResultSettingsMap": {},
     "title": ""
    }
   },
   "outputs": [
    {
     "output_type": "stream",
     "name": "stdout",
     "output_type": "stream",
     "text": [
      "+--------------------+----------------+-----+--------+-------------+------+\n|         destination|          origin|Count|NewCount|HighFrequency|ORIGIN|\n+--------------------+----------------+-----+--------+-------------+------+\n|       United States|         Romania|    1|     101|        false| false|\n|       United States|         Ireland|  264|     364|        false| false|\n|       United States|           India|   69|     169|        false| false|\n|               Egypt|   United States|   24|     124|        false|  true|\n|   Equatorial Guinea|   United States|    1|     101|        false|  true|\n|       United States|       Singapore|   25|     125|        false| false|\n|       United States|         Grenada|   54|     154|        false| false|\n|          Costa Rica|   United States|  477|     577|        false|  true|\n|             Senegal|   United States|   29|     129|        false|  true|\n|       United States|Marshall Islands|   44|     144|        false| false|\n|              Guyana|   United States|   17|     117|        false|  true|\n|       United States|    Sint Maarten|   53|     153|        false| false|\n|               Malta|   United States|    1|     101|        false|  true|\n|             Bolivia|   United States|   46|     146|        false|  true|\n|            Anguilla|   United States|   21|     121|        false|  true|\n|Turks and Caicos ...|   United States|  136|     236|        false|  true|\n|       United States|     Afghanistan|    2|     102|        false| false|\n|Saint Vincent and...|   United States|    1|     101|        false|  true|\n|               Italy|   United States|  390|     490|        false|  true|\n|       United States|          Russia|  156|     256|        false| false|\n+--------------------+----------------+-----+--------+-------------+------+\nonly showing top 20 rows\n\n"
     ]
    }
   ],
   "source": [
    "df3=dfj.select(col(\"DEST_COUNTRY_NAME\").alias(\"destination\"),\n",
    "               col(\"ORIGIN_COUNTRY_NAME\").alias(\"origin\"),\n",
    "               col(\"count\").alias(\"Count\"),\n",
    "               expr(\"count+ 100 as NewCount\"),\n",
    "               expr(\"count > 500 as HighFrequency\"),\n",
    "               expr(\"ORIGIN_COUNTRY_NAME='United States' as ORIGIN\")).show()"
   ]
  },
  {
   "cell_type": "code",
   "execution_count": 0,
   "metadata": {
    "application/vnd.databricks.v1+cell": {
     "cellMetadata": {
      "byteLimit": 2048000,
      "rowLimit": 10000
     },
     "inputWidgets": {},
     "nuid": "2a09b367-f96b-4b91-963b-0c73a8a89f07",
     "showTitle": false,
     "tableResultSettingsMap": {},
     "title": ""
    }
   },
   "outputs": [
    {
     "output_type": "stream",
     "name": "stdout",
     "output_type": "stream",
     "text": [
      "+------------------+-------------------+------+-------------+-----------+\n| DEST_COUNTRY_NAME|ORIGIN_COUNTRY_NAME| count|HighFrequency|Destination|\n+------------------+-------------------+------+-------------+-----------+\n|     United States|        Netherlands|   570|         true|       true|\n|       The Bahamas|      United States|   903|         true|      false|\n|       El Salvador|      United States|   519|         true|      false|\n|            Mexico|      United States|  6200|         true|      false|\n|     United States|         Costa Rica|   501|         true|       true|\n|          Colombia|      United States|   785|         true|      false|\n|     United States|            Jamaica|   757|         true|       true|\n|     United States|        The Bahamas|   959|         true|       true|\n|     United States|              China|   505|         true|       true|\n|     United States| Dominican Republic|  1150|         true|       true|\n|     United States|      United States|348113|         true|       true|\n|           Germany|      United States|  1392|         true|      false|\n|     United States|        South Korea|   621|         true|       true|\n|            Canada|      United States|  8271|         true|      false|\n|           Jamaica|      United States|   733|         true|      false|\n|Dominican Republic|      United States|  1109|         true|      false|\n|             Japan|      United States|  1383|         true|      false|\n|     United States|             France|   776|         true|       true|\n|     United States|            Germany|  1406|         true|       true|\n|            Brazil|      United States|   995|         true|      false|\n+------------------+-------------------+------+-------------+-----------+\nonly showing top 20 rows\n\n"
     ]
    }
   ],
   "source": [
    "df1=dfj.filter(col(\"count\")>500)\\\n",
    "  .withColumn(\"HighFrequency\",col(\"count\")>500)\\\n",
    "    .withColumn(\"Destination\",expr(\"DEST_COUNTRY_NAME ='United States'\")).show()"
   ]
  },
  {
   "cell_type": "code",
   "execution_count": 0,
   "metadata": {
    "application/vnd.databricks.v1+cell": {
     "cellMetadata": {
      "byteLimit": 2048000,
      "rowLimit": 10000
     },
     "inputWidgets": {},
     "nuid": "920e1fdd-55b0-4c86-9d61-3adfcaf66f21",
     "showTitle": false,
     "tableResultSettingsMap": {},
     "title": ""
    }
   },
   "outputs": [
    {
     "output_type": "stream",
     "name": "stdout",
     "output_type": "stream",
     "text": [
      "+-----------------+-------------------+------+-----------+------------------+\n|DEST_COUNTRY_NAME|ORIGIN_COUNTRY_NAME| Count|Destination|            Origin|\n+-----------------+-------------------+------+-----------+------------------+\n|    United States|        Netherlands|   570|        USA|       Netherlands|\n|    United States|            Ecuador|   345|        USA|           Ecuador|\n|    United States|         Costa Rica|   501|        USA|        Costa Rica|\n|    United States|          Guatemala|   333|        USA|         Guatemala|\n|    United States|            Jamaica|   757|        USA|           Jamaica|\n|    United States|          Venezuela|   341|        USA|         Venezuela|\n|    United States|        The Bahamas|   959|        USA|       The Bahamas|\n|    United States|              China|   505|        USA|             China|\n|    United States| Dominican Republic|  1150|        USA|Dominican Republic|\n|    United States|      United States|348113|        USA|                US|\n|    United States|        South Korea|   621|        USA|       South Korea|\n|    United States|        El Salvador|   464|        USA|       El Salvador|\n|    United States|             Panama|   363|        USA|            Panama|\n|    United States|              Aruba|   349|        USA|             Aruba|\n|    United States|           Honduras|   393|        USA|          Honduras|\n|    United States|             France|   776|        USA|            France|\n|    United States|            Germany|  1406|        USA|           Germany|\n|    United States|             Mexico|  6220|        USA|            Mexico|\n|    United States|            Belgium|   355|        USA|           Belgium|\n|    United States|              Spain|   442|        USA|             Spain|\n+-----------------+-------------------+------+-----------+------------------+\nonly showing top 20 rows\n\n"
     ]
    }
   ],
   "source": [
    "df3=dfj.select(\"DEST_COUNTRY_NAME\",\"ORIGIN_COUNTRY_NAME\",\"count\")\\\n",
    "  .filter(\"DEST_COUNTRY_NAME='United States' and count >300\")\\\n",
    "    .withColumn(\"Count\",col(\"count\").cast(\"int\"))\\\n",
    "      .withColumn(\"Destination\",when(col(\"DEST_COUNTRY_NAME\")=='United States', lit(\"USA\")).otherwise(col(\"DEST_COUNTRY_NAME\")))\\\n",
    "        .withColumn(\"Origin\",expr(\"case when ORIGIN_COUNTRY_NAME='United States' then 'US' else ORIGIN_COUNTRY_NAME end\")).show()"
   ]
  },
  {
   "cell_type": "code",
   "execution_count": 0,
   "metadata": {
    "application/vnd.databricks.v1+cell": {
     "cellMetadata": {
      "byteLimit": 2048000,
      "rowLimit": 10000
     },
     "inputWidgets": {},
     "nuid": "059252fb-7015-4253-95ec-52bd00df9748",
     "showTitle": false,
     "tableResultSettingsMap": {},
     "title": ""
    }
   },
   "outputs": [
    {
     "output_type": "stream",
     "name": "stdout",
     "output_type": "stream",
     "text": [
      "+-----------------+-------------------+------+--------+------------------+----+\n|DEST_COUNTRY_NAME|ORIGIN_COUNTRY_NAME| count|NewCount|            origin|Dest|\n+-----------------+-------------------+------+--------+------------------+----+\n|    United States|            Jamaica|   757|     807|           Jamaica| USS|\n|    United States|        The Bahamas|   959|    1009|       The Bahamas| USS|\n|    United States| Dominican Republic|  1150|    1200|Dominican Republic| USS|\n|    United States|      United States|348113|  348163|               USA| USS|\n|    United States|             France|   776|     826|            France| USS|\n|    United States|            Germany|  1406|    1456|           Germany| USS|\n|    United States|             Mexico|  6220|    6270|            Mexico| USS|\n|    United States|              Japan|  1307|    1357|             Japan| USS|\n|    United States|     United Kingdom|  1503|    1553|    United Kingdom| USS|\n|    United States|             Canada|  8305|    8355|            Canada| USS|\n|    United States|           Colombia|   832|     882|          Colombia| USS|\n+-----------------+-------------------+------+--------+------------------+----+\n\n"
     ]
    }
   ],
   "source": [
    "df3=dfj.select(\"DEST_COUNTRY_NAME\",\"ORIGIN_COUNTRY_NAME\",\"count\")\\\n",
    "  .filter(\"DEST_COUNTRY_NAME ='United States' and count > 750\")\\\n",
    "    .withColumn(\"NewCount\",expr(\"count+50\"))\\\n",
    "    .withColumn(\"origin\",when(col(\"ORIGIN_COUNTRY_NAME\")=='United States', lit(\"USA\")).otherwise(col(\"ORIGIN_COUNTRY_NAME\")))\\\n",
    "      .withColumn(\"Dest\",expr(\" case when  DEST_COUNTRY_NAME= 'United States' then 'USS' else DEST_COUNTRY_NAME end\")).show()"
   ]
  },
  {
   "cell_type": "code",
   "execution_count": 0,
   "metadata": {
    "application/vnd.databricks.v1+cell": {
     "cellMetadata": {
      "byteLimit": 2048000,
      "rowLimit": 10000
     },
     "inputWidgets": {},
     "nuid": "b977df4f-badd-416b-9188-a6dddccfbd9c",
     "showTitle": false,
     "tableResultSettingsMap": {},
     "title": ""
    }
   },
   "outputs": [
    {
     "output_type": "stream",
     "name": "stdout",
     "output_type": "stream",
     "text": [
      "+--------------------+-------------------+-----+--------------------+\n|   DEST_COUNTRY_NAME|ORIGIN_COUNTRY_NAME|count|                dest|\n+--------------------+-------------------+-----+--------------------+\n|       United States|            Romania|    1|                 USA|\n|       United States|            Ireland|  264|                 USA|\n|       United States|              India|   69|                 USA|\n|               Egypt|      United States|   24|               Egypt|\n|   Equatorial Guinea|      United States|    1|   Equatorial Guinea|\n|       United States|          Singapore|   25|                 USA|\n|       United States|            Grenada|   54|                 USA|\n|          Costa Rica|      United States|  477|          Costa Rica|\n|             Senegal|      United States|   29|             Senegal|\n|       United States|   Marshall Islands|   44|                 USA|\n|              Guyana|      United States|   17|              Guyana|\n|       United States|       Sint Maarten|   53|                 USA|\n|               Malta|      United States|    1|               Malta|\n|             Bolivia|      United States|   46|             Bolivia|\n|            Anguilla|      United States|   21|            Anguilla|\n|Turks and Caicos ...|      United States|  136|Turks and Caicos ...|\n|       United States|        Afghanistan|    2|                 USA|\n|Saint Vincent and...|      United States|    1|Saint Vincent and...|\n|               Italy|      United States|  390|               Italy|\n|       United States|             Russia|  156|                 USA|\n+--------------------+-------------------+-----+--------------------+\nonly showing top 20 rows\n\n"
     ]
    }
   ],
   "source": [
    "dfj.withColumn(\"dest\",when(col(\"DEST_COUNTRY_NAME\")=='United States', lit(\"USA\")).otherwise(col(\"DEST_COUNTRY_NAME\"))).show()"
   ]
  },
  {
   "cell_type": "code",
   "execution_count": 0,
   "metadata": {
    "application/vnd.databricks.v1+cell": {
     "cellMetadata": {
      "byteLimit": 2048000,
      "rowLimit": 10000
     },
     "inputWidgets": {},
     "nuid": "fb2af421-0fc8-48ea-a621-492c0a9ca76e",
     "showTitle": false,
     "tableResultSettingsMap": {},
     "title": ""
    }
   },
   "outputs": [
    {
     "output_type": "stream",
     "name": "stdout",
     "output_type": "stream",
     "text": [
      "+--------------------+-------------------+-----+-----------+------+\n|   DEST_COUNTRY_NAME|ORIGIN_COUNTRY_NAME|Count|Destination|origin|\n+--------------------+-------------------+-----+-----------+------+\n|       United States|            Romania|    2|       true| false|\n|       United States|            Ireland|  528|       true| false|\n|       United States|              India|  138|       true| false|\n|               Egypt|      United States|   48|      false|  true|\n|   Equatorial Guinea|      United States|    2|      false|  true|\n|       United States|          Singapore|   50|       true| false|\n|       United States|            Grenada|  108|       true| false|\n|          Costa Rica|      United States|  954|      false|  true|\n|             Senegal|      United States|   58|      false|  true|\n|       United States|   Marshall Islands|   88|       true| false|\n|              Guyana|      United States|   34|      false|  true|\n|       United States|       Sint Maarten|  106|       true| false|\n|               Malta|      United States|    2|      false|  true|\n|             Bolivia|      United States|   92|      false|  true|\n|            Anguilla|      United States|   42|      false|  true|\n|Turks and Caicos ...|      United States|  272|      false|  true|\n|       United States|        Afghanistan|    4|       true| false|\n|Saint Vincent and...|      United States|    2|      false|  true|\n|               Italy|      United States|  780|      false|  true|\n|       United States|             Russia|  312|       true| false|\n+--------------------+-------------------+-----+-----------+------+\nonly showing top 20 rows\n\n"
     ]
    }
   ],
   "source": [
    "dfj.withColumn(\"Destination\",col(\"DEST_COUNTRY_NAME\")=='United States')\\\n",
    "  .withColumn(\"Count\", expr(\"count * 2\"))\\\n",
    "    .withColumn(\"origin\",col(\"ORIGIN_COUNTRY_NAME\")=='United States').show()"
   ]
  },
  {
   "cell_type": "code",
   "execution_count": 0,
   "metadata": {
    "application/vnd.databricks.v1+cell": {
     "cellMetadata": {
      "byteLimit": 2048000,
      "rowLimit": 10000
     },
     "inputWidgets": {},
     "nuid": "c2fb3274-5b54-4d94-9f21-6385f6a238ee",
     "showTitle": false,
     "tableResultSettingsMap": {},
     "title": ""
    }
   },
   "outputs": [
    {
     "output_type": "stream",
     "name": "stdout",
     "output_type": "stream",
     "text": [
      "+-----------------+-------------------+------+\n|DEST_COUNTRY_NAME|ORIGIN_COUNTRY_NAME| count|\n+-----------------+-------------------+------+\n|    United States|        Netherlands|   570|\n|    United States|         Costa Rica|   501|\n|    United States|            Jamaica|   757|\n|    United States|        The Bahamas|   959|\n|    United States|              China|   505|\n|    United States| Dominican Republic|  1150|\n|    United States|      United States|348113|\n|    United States|        South Korea|   621|\n|    United States|             France|   776|\n|    United States|            Germany|  1406|\n|    United States|             Mexico|  6220|\n|    United States|              Japan|  1307|\n|    United States|             Brazil|   578|\n|    United States|     United Kingdom|  1503|\n|    United States|             Canada|  8305|\n|    United States|           Colombia|   832|\n+-----------------+-------------------+------+\n\n"
     ]
    }
   ],
   "source": [
    "#dfj.filter(\"count>500\").show()\n",
    "#dfj.where(\"count>500\").show()\n",
    "#dfj.filter((col(\"count\")>500) & (col(\"DEST_COUNTRY_NAME\")=='United States')).show()\n",
    "dfj.filter(\"count>500 and DEST_COUNTRY_NAME=='United States'\").show()"
   ]
  },
  {
   "cell_type": "code",
   "execution_count": 0,
   "metadata": {
    "application/vnd.databricks.v1+cell": {
     "cellMetadata": {
      "byteLimit": 2048000,
      "rowLimit": 10000
     },
     "inputWidgets": {},
     "nuid": "39fc6e7c-9f06-4f8b-bdea-97347797cfb9",
     "showTitle": false,
     "tableResultSettingsMap": {},
     "title": ""
    }
   },
   "outputs": [
    {
     "output_type": "stream",
     "name": "stdout",
     "output_type": "stream",
     "text": [
      "+------------------+-------------------+------+---------+\n| DEST_COUNTRY_NAME|ORIGIN_COUNTRY_NAME| count|New_count|\n+------------------+-------------------+------+---------+\n|     United States|      United States|348113|   348213|\n|     United States|             Canada|  8305|     8405|\n|            Canada|      United States|  8271|     8371|\n|     United States|             Mexico|  6220|     6320|\n|            Mexico|      United States|  6200|     6300|\n|    United Kingdom|      United States|  1629|     1729|\n|     United States|     United Kingdom|  1503|     1603|\n|     United States|            Germany|  1406|     1506|\n|           Germany|      United States|  1392|     1492|\n|             Japan|      United States|  1383|     1483|\n|     United States|              Japan|  1307|     1407|\n|     United States| Dominican Republic|  1150|     1250|\n|Dominican Republic|      United States|  1109|     1209|\n+------------------+-------------------+------+---------+\n\n"
     ]
    }
   ],
   "source": [
    "dfj.select(\"DEST_COUNTRY_NAME\",\"ORIGIN_COUNTRY_NAME\",\"count\")\\\n",
    "  .filter(\"count>1000\")\\\n",
    "    .withColumn(\"New_count\",expr(\"count+100\"))\\\n",
    "      .orderBy(desc(\"count\")).show()"
   ]
  },
  {
   "cell_type": "code",
   "execution_count": 0,
   "metadata": {
    "application/vnd.databricks.v1+cell": {
     "cellMetadata": {
      "byteLimit": 2048000,
      "rowLimit": 10000
     },
     "inputWidgets": {},
     "nuid": "f21569a2-178e-4fd7-8c84-b459adb805ea",
     "showTitle": false,
     "tableResultSettingsMap": {},
     "title": ""
    }
   },
   "outputs": [
    {
     "output_type": "stream",
     "name": "stdout",
     "output_type": "stream",
     "text": [
      "+------------------+-------------------+------+\n| DEST_COUNTRY_NAME|ORIGIN_COUNTRY_NAME| count|\n+------------------+-------------------+------+\n|     United States|      United States|348113|\n|     United States|             Canada|  8305|\n|            Canada|      United States|  8271|\n|     United States|             Mexico|  6220|\n|            Mexico|      United States|  6200|\n|    United Kingdom|      United States|  1629|\n|     United States|     United Kingdom|  1503|\n|     United States|            Germany|  1406|\n|           Germany|      United States|  1392|\n|             Japan|      United States|  1383|\n|     United States|              Japan|  1307|\n|     United States| Dominican Republic|  1150|\n|Dominican Republic|      United States|  1109|\n|            Brazil|      United States|   995|\n|     United States|        The Bahamas|   959|\n|       The Bahamas|      United States|   903|\n|     United States|           Colombia|   832|\n|          Colombia|      United States|   785|\n|     United States|             France|   776|\n|            France|      United States|   774|\n+------------------+-------------------+------+\nonly showing top 20 rows\n\n"
     ]
    }
   ],
   "source": [
    "dfj.sort(col(\"count\").desc()).show()"
   ]
  },
  {
   "cell_type": "code",
   "execution_count": 0,
   "metadata": {
    "application/vnd.databricks.v1+cell": {
     "cellMetadata": {
      "byteLimit": 2048000,
      "rowLimit": 10000
     },
     "inputWidgets": {},
     "nuid": "46d2166b-4e14-4c12-8e4d-d29f83edb48e",
     "showTitle": false,
     "tableResultSettingsMap": {},
     "title": ""
    }
   },
   "outputs": [],
   "source": [
    "df2=dfj.select(col(\"DEST_COUNTRY_NAME\").alias(\"Destination\"),\n",
    "          col(\"ORIGIN_COUNTRY_NAME\").alias(\"origin\"),\n",
    "          col(\"count\").alias(\"NewCount\"),\n",
    "          expr(\"count+10 as addedNewCount\"),\n",
    "          expr(\"count>500 as HighFrequency\"),\n",
    "          expr(\"DEST_COUNTRY_NAME =ORIGIN_COUNTRY_NAME as newcolumn\"),\n",
    "          (col(\"DEST_COUNTRY_NAME\")=='ORIGIN_COUNTRY_NAME').alias(\"COUNT\"))"
   ]
  },
  {
   "cell_type": "code",
   "execution_count": 0,
   "metadata": {
    "application/vnd.databricks.v1+cell": {
     "cellMetadata": {
      "byteLimit": 2048000,
      "rowLimit": 10000
     },
     "inputWidgets": {},
     "nuid": "d5b5ec79-8de6-49f4-8c30-37b21419b43e",
     "showTitle": false,
     "tableResultSettingsMap": {},
     "title": ""
    }
   },
   "outputs": [
    {
     "output_type": "stream",
     "name": "stdout",
     "output_type": "stream",
     "text": [
      "+--------------------+-------------+-------------+\n|         Destination|HighFrequency|max(NewCount)|\n+--------------------+-------------+-------------+\n|Federated States ...|        false|           46|\n|                Cuba|        false|          243|\n|      Czech Republic|        false|           21|\n|           Australia|        false|          290|\n|            Pakistan|        false|            9|\n|          Martinique|        false|           23|\n|         Philippines|        false|          132|\n|               Qatar|        false|           41|\n|             Ukraine|        false|           19|\n|            Kiribati|        false|           17|\n|              Taiwan|        false|          275|\n|           Argentina|        false|          184|\n|               Haiti|        false|          238|\n|   Equatorial Guinea|        false|            1|\n|              Uganda|        false|            2|\n| Trinidad and Tobago|        false|          187|\n|Bonaire, Sint Eus...|        false|           16|\n|          Costa Rica|        false|          477|\n|    Marshall Islands|        false|           77|\n|          Kyrgyzstan|        false|            2|\n+--------------------+-------------+-------------+\nonly showing top 20 rows\n\n"
     ]
    }
   ],
   "source": [
    "#df3=df2.groupBy(\"Destination\",\"HighFrequency\").sum(\"NewCount\").show()\n",
    "#df3=df2.groupBy(\"Destination\",\"HighFrequency\").avg(\"NewCount\").show()\n",
    "df3=df2.groupBy(\"Destination\",\"HighFrequency\").max(\"NewCount\").show()\n",
    "  "
   ]
  },
  {
   "cell_type": "code",
   "execution_count": 0,
   "metadata": {
    "application/vnd.databricks.v1+cell": {
     "cellMetadata": {
      "byteLimit": 2048000,
      "rowLimit": 10000
     },
     "inputWidgets": {},
     "nuid": "0dfa4dcc-a6be-42e8-9292-0a3fee578ed9",
     "showTitle": false,
     "tableResultSettingsMap": {},
     "title": ""
    }
   },
   "outputs": [
    {
     "output_type": "stream",
     "name": "stdout",
     "output_type": "stream",
     "text": [
      "+--------------------+-------------+----------+--------+-------+\n|         Destination|HighFrequency|totalCount|Totalsum|Average|\n+--------------------+-------------+----------+--------+-------+\n|Federated States ...|        false|         1|      46|   46.0|\n|                Cuba|        false|         1|     243|  243.0|\n|      Czech Republic|        false|         1|      21|   21.0|\n|           Australia|        false|         1|     290|  290.0|\n|            Pakistan|        false|         1|       9|    9.0|\n|          Martinique|        false|         1|      23|   23.0|\n|         Philippines|        false|         1|     132|  132.0|\n|               Qatar|        false|         1|      41|   41.0|\n|             Ukraine|        false|         1|      19|   19.0|\n|            Kiribati|        false|         1|      17|   17.0|\n|              Taiwan|        false|         1|     275|  275.0|\n|           Argentina|        false|         1|     184|  184.0|\n|               Haiti|        false|         1|     238|  238.0|\n|   Equatorial Guinea|        false|         1|       1|    1.0|\n|              Uganda|        false|         1|       2|    2.0|\n| Trinidad and Tobago|        false|         1|     187|  187.0|\n|Bonaire, Sint Eus...|        false|         1|      16|   16.0|\n|          Costa Rica|        false|         1|     477|  477.0|\n|    Marshall Islands|        false|         1|      77|   77.0|\n|          Kyrgyzstan|        false|         1|       2|    2.0|\n+--------------------+-------------+----------+--------+-------+\nonly showing top 20 rows\n\n"
     ]
    }
   ],
   "source": [
    "df2.groupBy(\"Destination\",\"HighFrequency\")\\\n",
    "  .agg(count(\"NewCount\").alias(\"totalCount\"),\n",
    "       sum(\"NewCount\").alias(\"Totalsum\"),\n",
    "       avg(\"NewCount\").alias(\"Average\")).show()"
   ]
  },
  {
   "cell_type": "code",
   "execution_count": 0,
   "metadata": {
    "application/vnd.databricks.v1+cell": {
     "cellMetadata": {
      "byteLimit": 2048000,
      "rowLimit": 10000
     },
     "inputWidgets": {},
     "nuid": "b921cf70-5bad-4399-95e2-97c40c48ad29",
     "showTitle": false,
     "tableResultSettingsMap": {},
     "title": ""
    }
   },
   "outputs": [
    {
     "output_type": "stream",
     "name": "stdout",
     "output_type": "stream",
     "text": [
      "+--------------------+-------------+----------+---+\n|         Destination|HighFrequency|totalcount|sum|\n+--------------------+-------------+----------+---+\n|Federated States ...|        false|         1| 46|\n|                Cuba|        false|         1|243|\n|      Czech Republic|        false|         1| 21|\n|           Australia|        false|         1|290|\n|            Pakistan|        false|         1|  9|\n|          Martinique|        false|         1| 23|\n|         Philippines|        false|         1|132|\n|               Qatar|        false|         1| 41|\n|             Ukraine|        false|         1| 19|\n|            Kiribati|        false|         1| 17|\n|              Taiwan|        false|         1|275|\n|           Argentina|        false|         1|184|\n|               Haiti|        false|         1|238|\n|   Equatorial Guinea|        false|         1|  1|\n|              Uganda|        false|         1|  2|\n| Trinidad and Tobago|        false|         1|187|\n|Bonaire, Sint Eus...|        false|         1| 16|\n|          Costa Rica|        false|         1|477|\n|    Marshall Islands|        false|         1| 77|\n|          Kyrgyzstan|        false|         1|  2|\n+--------------------+-------------+----------+---+\nonly showing top 20 rows\n\n"
     ]
    }
   ],
   "source": [
    "df2.groupBy(\"Destination\",\"HighFrequency\")\\\n",
    "  .agg(count(\"NewCount\").alias(\"totalcount\"),\n",
    "       sum(\"NewCount\").alias(\"sum\")).show()"
   ]
  },
  {
   "cell_type": "code",
   "execution_count": 0,
   "metadata": {
    "application/vnd.databricks.v1+cell": {
     "cellMetadata": {
      "byteLimit": 2048000,
      "rowLimit": 10000
     },
     "inputWidgets": {},
     "nuid": "2323c3ae-0deb-4aaa-ac44-e66f04d3c1ba",
     "showTitle": false,
     "tableResultSettingsMap": {},
     "title": ""
    }
   },
   "outputs": [
    {
     "output_type": "stream",
     "name": "stdout",
     "output_type": "stream",
     "text": [
      "+-----------------+-------------------+-----+\n|DEST_COUNTRY_NAME|ORIGIN_COUNTRY_NAME|count|\n+-----------------+-------------------+-----+\n|    United States|            Romania|    1|\n|    United States|            Ireland|  264|\n|    United States|              India|   69|\n|            Egypt|      United States|   24|\n|Equatorial Guinea|      United States|    1|\n|    United States|          Singapore|   25|\n|    United States|            Grenada|   54|\n|       Costa Rica|      United States|  477|\n|          Senegal|      United States|   29|\n|    United States|   Marshall Islands|   44|\n+-----------------+-------------------+-----+\n\n"
     ]
    }
   ],
   "source": [
    "dfj.limit(10).show()"
   ]
  },
  {
   "cell_type": "code",
   "execution_count": 0,
   "metadata": {
    "application/vnd.databricks.v1+cell": {
     "cellMetadata": {
      "byteLimit": 2048000,
      "rowLimit": 10000
     },
     "inputWidgets": {},
     "nuid": "e4f10e1b-c4b2-4111-8cf7-cfef45863292",
     "showTitle": false,
     "tableResultSettingsMap": {},
     "title": ""
    }
   },
   "outputs": [
    {
     "output_type": "stream",
     "name": "stdout",
     "output_type": "stream",
     "text": [
      "+-----------------+-------------+--------+-------------+-------------+---------+-----+\n|      Destination|       origin|NewCount|addedNewCount|HighFrequency|newcolumn|COUNT|\n+-----------------+-------------+--------+-------------+-------------+---------+-----+\n|    United States|      Romania|       1|           11|        false|    false|false|\n|    United States|      Ireland|     264|          274|        false|    false|false|\n|    United States|        India|      69|           79|        false|    false|false|\n|            Egypt|United States|      24|           34|        false|    false|false|\n|Equatorial Guinea|United States|       1|           11|        false|    false|false|\n+-----------------+-------------+--------+-------------+-------------+---------+-----+\n\n"
     ]
    }
   ],
   "source": [
    "df2.limit(5).show()"
   ]
  },
  {
   "cell_type": "code",
   "execution_count": 0,
   "metadata": {
    "application/vnd.databricks.v1+cell": {
     "cellMetadata": {
      "byteLimit": 2048000,
      "rowLimit": 10000
     },
     "inputWidgets": {},
     "nuid": "760fa3c5-3c99-420d-89b2-11210b7568c6",
     "showTitle": false,
     "tableResultSettingsMap": {},
     "title": ""
    }
   },
   "outputs": [
    {
     "output_type": "stream",
     "name": "stdout",
     "output_type": "stream",
     "text": [
      "+-----+----------+--------+\n|Count|MultiCount|Domestic|\n+-----+----------+--------+\n|    1|       101|    true|\n|  264|       364|    true|\n|   69|       169|    true|\n|   24|       124|   false|\n|    1|       101|   false|\n|   25|       125|    true|\n|   54|       154|    true|\n|  477|       577|   false|\n|   29|       129|   false|\n|   44|       144|    true|\n|   17|       117|   false|\n|   53|       153|    true|\n|    1|       101|   false|\n|   46|       146|   false|\n|   21|       121|   false|\n|  136|       236|   false|\n|    2|       102|    true|\n|    1|       101|   false|\n|  390|       490|   false|\n|  156|       256|    true|\n+-----+----------+--------+\nonly showing top 20 rows\n\n"
     ]
    }
   ],
   "source": [
    "dfj.selectExpr(\"count as Count\",\n",
    "               \"count+100 as MultiCount\",\n",
    "               \"DEST_COUNTRY_NAME='United States' as Domestic\").show()"
   ]
  },
  {
   "cell_type": "code",
   "execution_count": 0,
   "metadata": {
    "application/vnd.databricks.v1+cell": {
     "cellMetadata": {
      "byteLimit": 2048000,
      "rowLimit": 10000
     },
     "inputWidgets": {},
     "nuid": "0d0b8a15-9130-401d-a8ac-a4723d20535a",
     "showTitle": false,
     "tableResultSettingsMap": {},
     "title": ""
    }
   },
   "outputs": [
    {
     "output_type": "stream",
     "name": "stdout",
     "output_type": "stream",
     "text": [
      "+--------------------+----------------+-----+--------+-------------+-------+-------+\n|         destination|           orign|Count|Newcount|HighFrequency|destiny|country|\n+--------------------+----------------+-----+--------+-------------+-------+-------+\n|       United States|         Romania|    1|      11|        false|  false|  INDIA|\n|       United States|         Ireland|  264|     274|        false|  false|  INDIA|\n|       United States|           India|   69|      79|        false|  false|  INDIA|\n|               Egypt|   United States|   24|      34|        false|  false|  INDIA|\n|   Equatorial Guinea|   United States|    1|      11|        false|  false|  INDIA|\n|       United States|       Singapore|   25|      35|        false|  false|  INDIA|\n|       United States|         Grenada|   54|      64|        false|  false|  INDIA|\n|          Costa Rica|   United States|  477|     487|        false|  false|  INDIA|\n|             Senegal|   United States|   29|      39|        false|  false|  INDIA|\n|       United States|Marshall Islands|   44|      54|        false|  false|  INDIA|\n|              Guyana|   United States|   17|      27|        false|  false|  INDIA|\n|       United States|    Sint Maarten|   53|      63|        false|  false|  INDIA|\n|               Malta|   United States|    1|      11|        false|  false|  INDIA|\n|             Bolivia|   United States|   46|      56|        false|  false|  INDIA|\n|            Anguilla|   United States|   21|      31|        false|  false|  INDIA|\n|Turks and Caicos ...|   United States|  136|     146|        false|  false|  INDIA|\n|       United States|     Afghanistan|    2|      12|        false|  false|  INDIA|\n|Saint Vincent and...|   United States|    1|      11|        false|  false|  INDIA|\n|               Italy|   United States|  390|     400|        false|  false|  INDIA|\n|       United States|          Russia|  156|     166|        false|  false|  INDIA|\n+--------------------+----------------+-----+--------+-------------+-------+-------+\nonly showing top 20 rows\n\n"
     ]
    }
   ],
   "source": [
    "dfj.withColumn(\"Count\",col(\"count\"))\\\n",
    "  .withColumn(\"Newcount\",col(\"count\")+10)\\\n",
    "      .withColumn(\"HighFrequency\",col(\"count\")>700)\\\n",
    "          .withColumn(\"destiny\",expr(\"DEST_COUNTRY_NAME=ORIGIN_COUNTRY_NAME\"))\\\n",
    "              .withColumnRenamed(\"DEST_COUNTRY_NAME\",\"destination\")\\\n",
    "                  .withColumnRenamed(\"ORIGIN_COUNTRY_NAME\",\"orign\")\\\n",
    "                      .withColumn(\"country\",lit(\"INDIA\")).show()"
   ]
  },
  {
   "cell_type": "code",
   "execution_count": 0,
   "metadata": {
    "application/vnd.databricks.v1+cell": {
     "cellMetadata": {
      "byteLimit": 2048000,
      "rowLimit": 10000
     },
     "inputWidgets": {},
     "nuid": "7dd0c688-0e33-43c8-a1d4-3e79c71869d1",
     "showTitle": false,
     "tableResultSettingsMap": {},
     "title": ""
    }
   },
   "outputs": [
    {
     "output_type": "stream",
     "name": "stdout",
     "output_type": "stream",
     "text": [
      "+--------------------+-------------------+-----+-------+----------------+\n|   DEST_COUNTRY_NAME|ORIGIN_COUNTRY_NAME|count|destiny|           first|\n+--------------------+-------------------+-----+-------+----------------+\n|       United States|            Romania|    1|  INDIA|         Romania|\n|       United States|            Ireland|  264|  INDIA|         Ireland|\n|       United States|              India|   69|  INDIA|           India|\n|               Egypt|      United States|   24|DESTINY|   United States|\n|   Equatorial Guinea|      United States|    1|DESTINY|   United States|\n|       United States|          Singapore|   25|  INDIA|       Singapore|\n|       United States|            Grenada|   54|  INDIA|         Grenada|\n|          Costa Rica|      United States|  477|DESTINY|   United States|\n|             Senegal|      United States|   29|DESTINY|   United States|\n|       United States|   Marshall Islands|   44|  INDIA|Marshall Islands|\n|              Guyana|      United States|   17|DESTINY|   United States|\n|       United States|       Sint Maarten|   53|  INDIA|    Sint Maarten|\n|               Malta|      United States|    1|DESTINY|   United States|\n|             Bolivia|      United States|   46|DESTINY|   United States|\n|            Anguilla|      United States|   21|DESTINY|   United States|\n|Turks and Caicos ...|      United States|  136|DESTINY|   United States|\n|       United States|        Afghanistan|    2|  INDIA|     Afghanistan|\n|Saint Vincent and...|      United States|    1|DESTINY|   United States|\n|               Italy|      United States|  390|DESTINY|   United States|\n|       United States|             Russia|  156|  INDIA|          Russia|\n+--------------------+-------------------+-----+-------+----------------+\nonly showing top 20 rows\n\n"
     ]
    }
   ],
   "source": [
    "dfj.withColumn(\"destiny\",when(col(\"DEST_COUNTRY_NAME\")=='United States',lit(\"INDIA\")).otherwise(\"DESTINY\"))\\\n",
    "  .withColumn(\"first\",expr(\"case when  DEST_COUNTRY_NAME=ORIGIN_COUNTRY_NAME then 'ORIGIN' else ORIGIN_COUNTRY_NAME end \")).show()"
   ]
  },
  {
   "cell_type": "code",
   "execution_count": 0,
   "metadata": {
    "application/vnd.databricks.v1+cell": {
     "cellMetadata": {
      "byteLimit": 2048000,
      "rowLimit": 10000
     },
     "inputWidgets": {},
     "nuid": "a7178823-33a3-43ef-b61a-5c2315758105",
     "showTitle": false,
     "tableResultSettingsMap": {},
     "title": ""
    }
   },
   "outputs": [],
   "source": [
    "listUsers = [(1, \"Raju\", 5),\n",
    "             (1, \"Raju\", 5),\n",
    "             (3, \"Raju\", 5),\n",
    "             (4, \"Raghu\", 35),\n",
    "             (4, \"Raghu\", 35),\n",
    "             (6, \"Raghu\", 35),\n",
    "             (7, \"Ravi\", 70)]"
   ]
  },
  {
   "cell_type": "code",
   "execution_count": 0,
   "metadata": {
    "application/vnd.databricks.v1+cell": {
     "cellMetadata": {
      "byteLimit": 2048000,
      "rowLimit": 10000
     },
     "inputWidgets": {},
     "nuid": "2705496a-d65b-4754-bfb6-d9a82e420f64",
     "showTitle": false,
     "tableResultSettingsMap": {},
     "title": ""
    }
   },
   "outputs": [
    {
     "output_type": "stream",
     "name": "stdout",
     "output_type": "stream",
     "text": [
      "+---+-----+---+\n| Id| Name|Age|\n+---+-----+---+\n|  1| Raju|  5|\n|  1| Raju|  5|\n|  3| Raju|  5|\n|  4|Raghu| 35|\n|  4|Raghu| 35|\n|  6|Raghu| 35|\n|  7| Ravi| 70|\n+---+-----+---+\n\n"
     ]
    }
   ],
   "source": [
    "df=spark.createDataFrame(listUsers).toDF(\"Id\",\"Name\",\"Age\")\n",
    "df.show()"
   ]
  },
  {
   "cell_type": "code",
   "execution_count": 0,
   "metadata": {
    "application/vnd.databricks.v1+cell": {
     "cellMetadata": {
      "byteLimit": 2048000,
      "rowLimit": 10000
     },
     "inputWidgets": {},
     "nuid": "e563ce3e-fa73-43a9-b4f0-f434ac8ffc22",
     "showTitle": false,
     "tableResultSettingsMap": {},
     "title": ""
    }
   },
   "outputs": [
    {
     "output_type": "stream",
     "name": "stdout",
     "output_type": "stream",
     "text": [
      "+---+-----+---+\n| Id| Name|Age|\n+---+-----+---+\n|  1| Raju|  5|\n|  3| Raju|  5|\n|  4|Raghu| 35|\n|  6|Raghu| 35|\n|  7| Ravi| 70|\n+---+-----+---+\n\n"
     ]
    }
   ],
   "source": [
    "df.dropDuplicates().show()"
   ]
  },
  {
   "cell_type": "code",
   "execution_count": 0,
   "metadata": {
    "application/vnd.databricks.v1+cell": {
     "cellMetadata": {
      "byteLimit": 2048000,
      "rowLimit": 10000
     },
     "inputWidgets": {},
     "nuid": "37840881-77d2-46b1-8c00-325e30952a57",
     "showTitle": false,
     "tableResultSettingsMap": {},
     "title": ""
    }
   },
   "outputs": [
    {
     "output_type": "stream",
     "name": "stdout",
     "output_type": "stream",
     "text": [
      "Out[311]: 5"
     ]
    }
   ],
   "source": [
    "df.dropDuplicates().count()"
   ]
  },
  {
   "cell_type": "code",
   "execution_count": 0,
   "metadata": {
    "application/vnd.databricks.v1+cell": {
     "cellMetadata": {
      "byteLimit": 2048000,
      "rowLimit": 10000
     },
     "inputWidgets": {},
     "nuid": "0384ab16-01d8-40ee-8519-10f1c520b550",
     "showTitle": false,
     "tableResultSettingsMap": {},
     "title": ""
    }
   },
   "outputs": [
    {
     "output_type": "stream",
     "name": "stdout",
     "output_type": "stream",
     "text": [
      "Out[312]: 5"
     ]
    }
   ],
   "source": [
    "df.distinct().count()"
   ]
  },
  {
   "cell_type": "code",
   "execution_count": 0,
   "metadata": {
    "application/vnd.databricks.v1+cell": {
     "cellMetadata": {
      "byteLimit": 2048000,
      "rowLimit": 10000
     },
     "inputWidgets": {},
     "nuid": "12b988ca-5900-42d7-973e-a6184ad351b3",
     "showTitle": false,
     "tableResultSettingsMap": {},
     "title": ""
    }
   },
   "outputs": [
    {
     "output_type": "stream",
     "name": "stdout",
     "output_type": "stream",
     "text": [
      "Out[313]: 255"
     ]
    }
   ],
   "source": [
    "dfj.select(\"DEST_COUNTRY_NAME\").count()"
   ]
  },
  {
   "cell_type": "code",
   "execution_count": 0,
   "metadata": {
    "application/vnd.databricks.v1+cell": {
     "cellMetadata": {
      "byteLimit": 2048000,
      "rowLimit": 10000
     },
     "inputWidgets": {},
     "nuid": "215f0d75-767d-436d-bad1-36096ce77fc5",
     "showTitle": false,
     "tableResultSettingsMap": {},
     "title": ""
    }
   },
   "outputs": [
    {
     "output_type": "stream",
     "name": "stdout",
     "output_type": "stream",
     "text": [
      "Out[314]: 125"
     ]
    }
   ],
   "source": [
    "dfj.select(\"DEST_COUNTRY_NAME\").distinct().count()"
   ]
  },
  {
   "cell_type": "code",
   "execution_count": 0,
   "metadata": {
    "application/vnd.databricks.v1+cell": {
     "cellMetadata": {
      "byteLimit": 2048000,
      "rowLimit": 10000
     },
     "inputWidgets": {},
     "nuid": "ede50f22-f81c-4246-9d9c-40582f3e04c6",
     "showTitle": false,
     "tableResultSettingsMap": {},
     "title": ""
    }
   },
   "outputs": [
    {
     "output_type": "stream",
     "name": "stdout",
     "output_type": "stream",
     "text": [
      "+---+-----+---+\n| Id| Name|Age|\n+---+-----+---+\n|  1| Raju|  5|\n|  4|Raghu| 35|\n|  7| Ravi| 70|\n+---+-----+---+\n\n"
     ]
    }
   ],
   "source": [
    "df.dropDuplicates([\"Name\",\"Age\"]).show()"
   ]
  },
  {
   "cell_type": "code",
   "execution_count": 0,
   "metadata": {
    "application/vnd.databricks.v1+cell": {
     "cellMetadata": {
      "byteLimit": 2048000,
      "rowLimit": 10000
     },
     "inputWidgets": {},
     "nuid": "7b5dbcb9-18a7-4f76-a3a0-c5e782f7c110",
     "showTitle": false,
     "tableResultSettingsMap": {},
     "title": ""
    }
   },
   "outputs": [
    {
     "output_type": "stream",
     "name": "stdout",
     "output_type": "stream",
     "text": [
      "Out[316]: 3"
     ]
    }
   ],
   "source": [
    "df.dropDuplicates([\"Name\",\"Age\"]).count()"
   ]
  },
  {
   "cell_type": "code",
   "execution_count": 0,
   "metadata": {
    "application/vnd.databricks.v1+cell": {
     "cellMetadata": {
      "byteLimit": 2048000,
      "rowLimit": 10000
     },
     "inputWidgets": {},
     "nuid": "9faf24e7-f562-4850-a5b5-c4c324045cea",
     "showTitle": false,
     "tableResultSettingsMap": {},
     "title": ""
    }
   },
   "outputs": [
    {
     "output_type": "stream",
     "name": "stdout",
     "output_type": "stream",
     "text": [
      "Out[317]: 5"
     ]
    }
   ],
   "source": [
    "df.distinct().count()"
   ]
  },
  {
   "cell_type": "code",
   "execution_count": 0,
   "metadata": {
    "application/vnd.databricks.v1+cell": {
     "cellMetadata": {
      "byteLimit": 2048000,
      "rowLimit": 10000
     },
     "inputWidgets": {},
     "nuid": "ef0771b8-dd90-4537-a64f-4154df95fb09",
     "showTitle": false,
     "tableResultSettingsMap": {},
     "title": ""
    }
   },
   "outputs": [
    {
     "output_type": "stream",
     "name": "stdout",
     "output_type": "stream",
     "text": [
      "Out[318]: 5"
     ]
    }
   ],
   "source": [
    "rdd1=df.rdd.repartition(5)\n",
    "rdd1.getNumPartitions()"
   ]
  },
  {
   "cell_type": "code",
   "execution_count": 0,
   "metadata": {
    "application/vnd.databricks.v1+cell": {
     "cellMetadata": {
      "byteLimit": 2048000,
      "rowLimit": 10000
     },
     "inputWidgets": {},
     "nuid": "c9672e91-92b6-4896-8e29-d87dbc1f2685",
     "showTitle": false,
     "tableResultSettingsMap": {},
     "title": ""
    }
   },
   "outputs": [
    {
     "output_type": "stream",
     "name": "stdout",
     "output_type": "stream",
     "text": [
      "Out[320]: 3"
     ]
    }
   ],
   "source": [
    "df.rdd.coalesce(3).getNumPartitions()"
   ]
  },
  {
   "cell_type": "code",
   "execution_count": 0,
   "metadata": {
    "application/vnd.databricks.v1+cell": {
     "cellMetadata": {
      "byteLimit": 2048000,
      "rowLimit": 10000
     },
     "inputWidgets": {},
     "nuid": "426f89f0-b339-4c0d-aa85-00eb8c42f756",
     "showTitle": false,
     "tableResultSettingsMap": {},
     "title": ""
    }
   },
   "outputs": [],
   "source": [
    "listUsers = [(1, \"Raju\", 5),\n",
    "             (2, \"Ramesh\", 75),\n",
    "             (3, \"Rajesh\", 18),\n",
    "             (4, \"Raghu\", 35),\n",
    "             (5, \"Ramya\", 25),\n",
    "             (6, \"Radhika\", 35),\n",
    "             (7, \"Ravi\", 20)]"
   ]
  },
  {
   "cell_type": "code",
   "execution_count": 0,
   "metadata": {
    "application/vnd.databricks.v1+cell": {
     "cellMetadata": {
      "byteLimit": 2048000,
      "rowLimit": 10000
     },
     "inputWidgets": {},
     "nuid": "fdc7ab02-b704-477e-8e0c-7c7134846e15",
     "showTitle": false,
     "tableResultSettingsMap": {},
     "title": ""
    }
   },
   "outputs": [
    {
     "output_type": "stream",
     "name": "stdout",
     "output_type": "stream",
     "text": [
      "+---+-------+---+\n| Id|   Name|Age|\n+---+-------+---+\n|  1|   Raju|  5|\n|  2| Ramesh| 75|\n|  3| Rajesh| 18|\n|  4|  Raghu| 35|\n|  5|  Ramya| 25|\n|  6|Radhika| 35|\n|  7|   Ravi| 20|\n+---+-------+---+\n\n"
     ]
    }
   ],
   "source": [
    "df=spark.createDataFrame(listUsers,[\"Id\",\"Name\",\"Age\"])\n",
    "df.show()"
   ]
  },
  {
   "cell_type": "code",
   "execution_count": 0,
   "metadata": {
    "application/vnd.databricks.v1+cell": {
     "cellMetadata": {
      "byteLimit": 2048000,
      "rowLimit": 10000
     },
     "inputWidgets": {},
     "nuid": "8cd8d154-75e9-4fe5-8576-7a423581d0df",
     "showTitle": false,
     "tableResultSettingsMap": {},
     "title": ""
    }
   },
   "outputs": [],
   "source": [
    "df1=df.withColumn(\"agegroup\",when(col(\"age\")<7,\"child\")\\\n",
    "  .when(col(\"age\")<25,\"Teenage\")\\\n",
    "    .when(col(\"age\")<60,\"Adult\")\\\n",
    "      .otherwise(\"senior\"))\n",
    "              "
   ]
  },
  {
   "cell_type": "code",
   "execution_count": 0,
   "metadata": {
    "application/vnd.databricks.v1+cell": {
     "cellMetadata": {
      "byteLimit": 2048000,
      "rowLimit": 10000
     },
     "inputWidgets": {},
     "nuid": "50d476b6-af56-4d81-a246-d873c422f4bf",
     "showTitle": false,
     "tableResultSettingsMap": {},
     "title": ""
    }
   },
   "outputs": [
    {
     "output_type": "stream",
     "name": "stdout",
     "output_type": "stream",
     "text": [
      "+---+-------+---+--------+\n| Id|   Name|Age|agegroup|\n+---+-------+---+--------+\n|  1|   Raju|  5|   child|\n|  2| Ramesh| 75|  senior|\n|  3| Rajesh| 18| Teenage|\n|  4|  Raghu| 35|   Adult|\n|  5|  Ramya| 25|   Adult|\n|  6|Radhika| 35|   Adult|\n|  7|   Ravi| 20| Teenage|\n+---+-------+---+--------+\n\n"
     ]
    }
   ],
   "source": [
    "df1.show()"
   ]
  },
  {
   "cell_type": "code",
   "execution_count": 0,
   "metadata": {
    "application/vnd.databricks.v1+cell": {
     "cellMetadata": {
      "byteLimit": 2048000,
      "rowLimit": 10000
     },
     "inputWidgets": {},
     "nuid": "946c4fc0-1a03-4a13-9080-0dfad1a4c191",
     "showTitle": false,
     "tableResultSettingsMap": {},
     "title": ""
    }
   },
   "outputs": [
    {
     "output_type": "stream",
     "name": "stdout",
     "output_type": "stream",
     "text": [
      "+---+-------+---+--------+-------+\n| Id|   Name|Age|agegroup| AGEGRP|\n+---+-------+---+--------+-------+\n|  1|   Raju|  5|   child|  Child|\n|  2| Ramesh| 75|  senior| Senior|\n|  3| Rajesh| 18| Teenage|Teenage|\n|  4|  Raghu| 35|   Adult|  Adult|\n|  5|  Ramya| 25|   Adult|  Adult|\n|  6|Radhika| 35|   Adult|  Adult|\n|  7|   Ravi| 20| Teenage|Teenage|\n+---+-------+---+--------+-------+\n\n"
     ]
    }
   ],
   "source": [
    "def age_grp(Age):\n",
    "  if Age<7:\n",
    "    return \"Child\"\n",
    "  elif Age <25:\n",
    "    return \"Teenage\"\n",
    "  elif Age<60:\n",
    "    return \"Adult\"\n",
    "  else:\n",
    "    return \"Senior\"\n",
    "\n",
    "age_udf=udf(age_grp,returnType=StringType())\n",
    "dfu=df1.withColumn(\"AGEGRP\",age_udf(col(\"Age\")))\n",
    "dfu.show()\n"
   ]
  },
  {
   "cell_type": "code",
   "execution_count": 0,
   "metadata": {
    "application/vnd.databricks.v1+cell": {
     "cellMetadata": {
      "byteLimit": 2048000,
      "rowLimit": 10000
     },
     "inputWidgets": {},
     "nuid": "444586b0-b5e9-42b5-b167-d883797f2f91",
     "showTitle": false,
     "tableResultSettingsMap": {},
     "title": ""
    }
   },
   "outputs": [
    {
     "output_type": "stream",
     "name": "stdout",
     "output_type": "stream",
     "text": [
      "+---+-------+---+--------+---------+\n| Id|   Name|Age|agegroup|Age_group|\n+---+-------+---+--------+---------+\n|  1|   Raju|  5|   child|    Child|\n|  2| Ramesh| 75|  senior|   Senior|\n|  3| Rajesh| 18| Teenage|  Teenage|\n|  4|  Raghu| 35|   Adult|    Adult|\n|  5|  Ramya| 25|   Adult|    Adult|\n|  6|Radhika| 35|   Adult|    Adult|\n|  7|   Ravi| 20| Teenage|  Teenage|\n+---+-------+---+--------+---------+\n\n"
     ]
    }
   ],
   "source": [
    "def age_grp(Age):\n",
    "  if Age<7:\n",
    "    return \"Child\"\n",
    "  elif Age <25:\n",
    "    return \"Teenage\"\n",
    "  elif Age<60:\n",
    "    return \"Adult\"\n",
    "  else:\n",
    "    return \"Senior\"\n",
    "\n",
    "age_udf=udf(age_grp,returnType=StringType())\n",
    "df2=df1.withColumn(\"Age_group\",age_udf(col(\"Age\")))\n",
    "df2.show()"
   ]
  },
  {
   "cell_type": "code",
   "execution_count": 0,
   "metadata": {
    "application/vnd.databricks.v1+cell": {
     "cellMetadata": {
      "byteLimit": 2048000,
      "rowLimit": 10000
     },
     "inputWidgets": {},
     "nuid": "1309f887-dd78-450e-9148-c892ce246067",
     "showTitle": true,
     "tableResultSettingsMap": {},
     "title": "UDF FUNCTIONS"
    }
   },
   "outputs": [
    {
     "output_type": "stream",
     "name": "stdout",
     "output_type": "stream",
     "text": [
      "+---+-------+---+--------+---------+\n| Id|   Name|Age|agegroup|AGE_GROUP|\n+---+-------+---+--------+---------+\n|  1|   Raju|  5|   child|    Child|\n|  2| Ramesh| 75|  senior|   Senior|\n|  3| Rajesh| 18| Teenage|  Teenage|\n|  4|  Raghu| 35|   Adult|    Adult|\n|  5|  Ramya| 25|   Adult|    Adult|\n|  6|Radhika| 35|   Adult|    Adult|\n|  7|   Ravi| 20| Teenage|  Teenage|\n+---+-------+---+--------+---------+\n\n"
     ]
    }
   ],
   "source": [
    "@udf(returnType=StringType())\n",
    "def age_grp(Age):\n",
    "  if Age<7:\n",
    "    return \"Child\"\n",
    "  elif Age <25:\n",
    "    return \"Teenage\"\n",
    "  elif Age<60:\n",
    "    return \"Adult\"\n",
    "  else:\n",
    "    return \"Senior\"\n",
    "df_udf=df1.withColumn(\"AGE_GROUP\",age_grp(col(\"Age\")))\n",
    "df_udf.show()"
   ]
  },
  {
   "cell_type": "code",
   "execution_count": 0,
   "metadata": {
    "application/vnd.databricks.v1+cell": {
     "cellMetadata": {
      "byteLimit": 2048000,
      "rowLimit": 10000
     },
     "inputWidgets": {},
     "nuid": "f7057a37-2a21-495c-8785-c70d2a169e9e",
     "showTitle": false,
     "tableResultSettingsMap": {},
     "title": ""
    }
   },
   "outputs": [],
   "source": [
    "df.createOrReplaceTempView(\"users\")"
   ]
  },
  {
   "cell_type": "code",
   "execution_count": 0,
   "metadata": {
    "application/vnd.databricks.v1+cell": {
     "cellMetadata": {
      "byteLimit": 2048000,
      "rowLimit": 10000
     },
     "inputWidgets": {},
     "nuid": "fbc06d7b-9d01-48d5-aefd-e055f07dc129",
     "showTitle": false,
     "tableResultSettingsMap": {},
     "title": ""
    }
   },
   "outputs": [
    {
     "output_type": "stream",
     "name": "stdout",
     "output_type": "stream",
     "text": [
      "Out[354]: <function __main__.age_grp(Age)>"
     ]
    }
   ],
   "source": [
    "def age_grp(Age):\n",
    "  if Age<7:\n",
    "    return \"Child\"\n",
    "  elif Age <25:\n",
    "    return \"Teenage\"\n",
    "  elif Age<60:\n",
    "    return \"Adult\"\n",
    "  else:\n",
    "    return \"Senior\"\n",
    "\n",
    "age_udf=udf(age_grp,returnType=StringType())\n",
    "spark.udf.register(\"age_udf\",age_grp,returnType=StringType())"
   ]
  },
  {
   "cell_type": "code",
   "execution_count": 0,
   "metadata": {
    "application/vnd.databricks.v1+cell": {
     "cellMetadata": {
      "byteLimit": 2048000,
      "implicitDf": true,
      "rowLimit": 10000
     },
     "inputWidgets": {},
     "nuid": "be981656-6c6b-4e61-83c8-0a2dbd08441b",
     "showTitle": false,
     "tableResultSettingsMap": {},
     "title": ""
    }
   },
   "outputs": [
    {
     "output_type": "display_data",
     "data": {
      "text/html": [
       "<style scoped>\n",
       "  .table-result-container {\n",
       "    max-height: 300px;\n",
       "    overflow: auto;\n",
       "  }\n",
       "  table, th, td {\n",
       "    border: 1px solid black;\n",
       "    border-collapse: collapse;\n",
       "  }\n",
       "  th, td {\n",
       "    padding: 5px;\n",
       "  }\n",
       "  th {\n",
       "    text-align: left;\n",
       "  }\n",
       "</style><div class='table-result-container'><table class='table-result'><thead style='background-color: white'><tr><th>Id</th><th>Name</th><th>Age</th><th>AGEGROUP</th></tr></thead><tbody><tr><td>1</td><td>Raju</td><td>5</td><td>Child</td></tr><tr><td>2</td><td>Ramesh</td><td>75</td><td>Senior</td></tr><tr><td>3</td><td>Rajesh</td><td>18</td><td>Teenage</td></tr><tr><td>4</td><td>Raghu</td><td>35</td><td>Adult</td></tr><tr><td>5</td><td>Ramya</td><td>25</td><td>Adult</td></tr><tr><td>6</td><td>Radhika</td><td>35</td><td>Adult</td></tr><tr><td>7</td><td>Ravi</td><td>20</td><td>Teenage</td></tr></tbody></table></div>"
      ]
     },
     "metadata": {
      "application/vnd.databricks.v1+output": {
       "addedWidgets": {},
       "aggData": [],
       "aggError": "",
       "aggOverflow": false,
       "aggSchema": [],
       "aggSeriesLimitReached": false,
       "aggType": "",
       "arguments": {},
       "columnCustomDisplayInfos": {},
       "data": [
        [
         1,
         "Raju",
         5,
         "Child"
        ],
        [
         2,
         "Ramesh",
         75,
         "Senior"
        ],
        [
         3,
         "Rajesh",
         18,
         "Teenage"
        ],
        [
         4,
         "Raghu",
         35,
         "Adult"
        ],
        [
         5,
         "Ramya",
         25,
         "Adult"
        ],
        [
         6,
         "Radhika",
         35,
         "Adult"
        ],
        [
         7,
         "Ravi",
         20,
         "Teenage"
        ]
       ],
       "datasetInfos": [],
       "dbfsResultPath": null,
       "isJsonSchema": true,
       "metadata": {},
       "overflow": false,
       "plotOptions": {
        "customPlotOptions": {},
        "displayType": "table",
        "pivotAggregation": null,
        "pivotColumns": null,
        "xColumns": null,
        "yColumns": null
       },
       "removedWidgets": [],
       "schema": [
        {
         "metadata": "{}",
         "name": "Id",
         "type": "\"long\""
        },
        {
         "metadata": "{}",
         "name": "Name",
         "type": "\"string\""
        },
        {
         "metadata": "{}",
         "name": "Age",
         "type": "\"long\""
        },
        {
         "metadata": "{}",
         "name": "AGEGROUP",
         "type": "\"string\""
        }
       ],
       "type": "table"
      }
     },
     "output_type": "display_data"
    }
   ],
   "source": [
    "%sql\n",
    "select *,age_udf(Age) as AGEGROUP from users"
   ]
  },
  {
   "cell_type": "code",
   "execution_count": 0,
   "metadata": {
    "application/vnd.databricks.v1+cell": {
     "cellMetadata": {
      "byteLimit": 2048000,
      "rowLimit": 10000
     },
     "inputWidgets": {},
     "nuid": "432cb220-8321-4728-9b31-98720f4f5d0e",
     "showTitle": false,
     "tableResultSettingsMap": {},
     "title": ""
    }
   },
   "outputs": [
    {
     "output_type": "stream",
     "name": "stdout",
     "output_type": "stream",
     "text": [
      "+---+-------+---+--------+\n| Id|   Name|Age|agegroup|\n+---+-------+---+--------+\n|  1|   Raju|  5|   child|\n|  2| Ramesh| 75|  senior|\n|  3| Rajesh| 18| Teenage|\n|  4|  Raghu| 35|   Adult|\n|  5|  Ramya| 25|   Adult|\n|  6|Radhika| 35|   Adult|\n|  7|   Ravi| 20| Teenage|\n+---+-------+---+--------+\n\n"
     ]
    }
   ],
   "source": [
    "df2.drop(\"Age_group\").show()"
   ]
  },
  {
   "cell_type": "code",
   "execution_count": 0,
   "metadata": {
    "application/vnd.databricks.v1+cell": {
     "cellMetadata": {
      "byteLimit": 2048000,
      "rowLimit": 10000
     },
     "inputWidgets": {},
     "nuid": "df1c128e-4010-4f70-9fb8-948873ea035e",
     "showTitle": true,
     "tableResultSettingsMap": {},
     "title": "Drop"
    }
   },
   "outputs": [
    {
     "output_type": "stream",
     "name": "stdout",
     "output_type": "stream",
     "text": [
      "+---+-------+---+\n| Id|   Name|Age|\n+---+-------+---+\n|  1|   Raju|  5|\n|  2| Ramesh| 75|\n|  3| Rajesh| 18|\n|  4|  Raghu| 35|\n|  5|  Ramya| 25|\n|  6|Radhika| 35|\n|  7|   Ravi| 20|\n+---+-------+---+\n\n"
     ]
    }
   ],
   "source": [
    "df2.drop(\"agegroup\",\"Age_group\").show()"
   ]
  },
  {
   "cell_type": "code",
   "execution_count": 0,
   "metadata": {
    "application/vnd.databricks.v1+cell": {
     "cellMetadata": {
      "byteLimit": 2048000,
      "rowLimit": 10000
     },
     "inputWidgets": {},
     "nuid": "65d1b8f1-7c76-44b3-b719-944e6336b927",
     "showTitle": true,
     "tableResultSettingsMap": {},
     "title": "dropDuplicates"
    }
   },
   "outputs": [
    {
     "output_type": "stream",
     "name": "stdout",
     "output_type": "stream",
     "text": [
      "+---+-------+---+--------+---------+\n| Id|   Name|Age|agegroup|Age_group|\n+---+-------+---+--------+---------+\n|  6|Radhika| 35|   Adult|    Adult|\n|  4|  Raghu| 35|   Adult|    Adult|\n|  3| Rajesh| 18| Teenage|  Teenage|\n|  1|   Raju|  5|   child|    Child|\n|  2| Ramesh| 75|  senior|   Senior|\n|  5|  Ramya| 25|   Adult|    Adult|\n|  7|   Ravi| 20| Teenage|  Teenage|\n+---+-------+---+--------+---------+\n\n"
     ]
    }
   ],
   "source": [
    "df2.dropDuplicates([\"Name\"]).show()"
   ]
  },
  {
   "cell_type": "code",
   "execution_count": 0,
   "metadata": {
    "application/vnd.databricks.v1+cell": {
     "cellMetadata": {
      "byteLimit": 2048000,
      "rowLimit": 10000
     },
     "inputWidgets": {},
     "nuid": "a3abdd25-19bd-4775-8cdf-fce09fad4d3c",
     "showTitle": false,
     "tableResultSettingsMap": {},
     "title": ""
    }
   },
   "outputs": [
    {
     "output_type": "stream",
     "name": "stdout",
     "output_type": "stream",
     "text": [
      "+----+------+------+----------+------+\n| age|gender|  name|     phone|userid|\n+----+------+------+----------+------+\n|  25|  Male| Satya|8501099876|     1|\n|null|  Male| Vivek|5676599876|     2|\n|  25|  Male| Rahim|      null|     3|\n|  28|Female|Sandra|8508899001|     4|\n|  15|Female|Keerti|      null|     5|\n|  13|  Male|Sundar|8522233456|     6|\n|  28|  Male| Steve|8501085009|     7|\n|  55|Female|Smriti|9246655498|     8|\n+----+------+------+----------+------+\n\n"
     ]
    }
   ],
   "source": [
    "path=\"dbfs:/FileStore/users.json\"\n",
    "df=spark.read.json(path)\n",
    "df.show()"
   ]
  },
  {
   "cell_type": "code",
   "execution_count": 0,
   "metadata": {
    "application/vnd.databricks.v1+cell": {
     "cellMetadata": {
      "byteLimit": 2048000,
      "rowLimit": 10000
     },
     "inputWidgets": {},
     "nuid": "81409ae1-e31c-4224-8189-cf1817013c44",
     "showTitle": true,
     "tableResultSettingsMap": {},
     "title": "dropna"
    }
   },
   "outputs": [
    {
     "output_type": "stream",
     "name": "stdout",
     "output_type": "stream",
     "text": [
      "+---+------+------+----------+------+\n|age|gender|  name|     phone|userid|\n+---+------+------+----------+------+\n| 25|  Male| Satya|8501099876|     1|\n| 28|Female|Sandra|8508899001|     4|\n| 13|  Male|Sundar|8522233456|     6|\n| 28|  Male| Steve|8501085009|     7|\n| 55|Female|Smriti|9246655498|     8|\n+---+------+------+----------+------+\n\n"
     ]
    }
   ],
   "source": [
    "df.dropna().show()"
   ]
  },
  {
   "cell_type": "code",
   "execution_count": 0,
   "metadata": {
    "application/vnd.databricks.v1+cell": {
     "cellMetadata": {
      "byteLimit": 2048000,
      "rowLimit": 10000
     },
     "inputWidgets": {},
     "nuid": "fd58f6d0-95fb-44af-aae2-562c85013deb",
     "showTitle": false,
     "tableResultSettingsMap": {},
     "title": ""
    }
   },
   "outputs": [
    {
     "output_type": "stream",
     "name": "stdout",
     "output_type": "stream",
     "text": [
      "+---+------+------+----------+------+\n|age|gender|  name|     phone|userid|\n+---+------+------+----------+------+\n| 25|  Male| Satya|8501099876|     1|\n| 28|Female|Sandra|8508899001|     4|\n| 13|  Male|Sundar|8522233456|     6|\n| 28|  Male| Steve|8501085009|     7|\n| 55|Female|Smriti|9246655498|     8|\n+---+------+------+----------+------+\n\n"
     ]
    }
   ],
   "source": [
    "df.dropna(subset=[\"phone\",\"age\"]).show()"
   ]
  },
  {
   "cell_type": "code",
   "execution_count": 0,
   "metadata": {
    "application/vnd.databricks.v1+cell": {
     "cellMetadata": {
      "byteLimit": 2048000,
      "rowLimit": 10000
     },
     "inputWidgets": {},
     "nuid": "fe88c17e-81da-42db-a84c-eeca7c2f88ac",
     "showTitle": false,
     "tableResultSettingsMap": {},
     "title": ""
    }
   },
   "outputs": [
    {
     "output_type": "stream",
     "name": "stdout",
     "output_type": "stream",
     "text": [
      "+----+------+------+----------+------+\n| age|gender|  name|     phone|userid|\n+----+------+------+----------+------+\n|  25|  Male| Satya|8501099876|     1|\n|null|  Male| Vivek|5676599876|     2|\n|  28|Female|Sandra|8508899001|     4|\n|  13|  Male|Sundar|8522233456|     6|\n|  28|  Male| Steve|8501085009|     7|\n|  55|Female|Smriti|9246655498|     8|\n+----+------+------+----------+------+\n\n"
     ]
    }
   ],
   "source": [
    "df.na.drop(subset=[\"phone\"]).show()"
   ]
  },
  {
   "cell_type": "code",
   "execution_count": 0,
   "metadata": {
    "application/vnd.databricks.v1+cell": {
     "cellMetadata": {
      "byteLimit": 2048000,
      "rowLimit": 10000
     },
     "inputWidgets": {},
     "nuid": "a21e1510-f734-4682-8b34-621aebfee3b5",
     "showTitle": true,
     "tableResultSettingsMap": {},
     "title": "fillna"
    }
   },
   "outputs": [
    {
     "output_type": "stream",
     "name": "stdout",
     "output_type": "stream",
     "text": [
      "+---+------+------+----------+------+\n|age|gender|  name|     phone|userid|\n+---+------+------+----------+------+\n| 25|  Male| Satya|8501099876|     1|\n| 99|  Male| Vivek|5676599876|     2|\n| 25|  Male| Rahim|    999999|     3|\n| 28|Female|Sandra|8508899001|     4|\n| 15|Female|Keerti|    999999|     5|\n| 13|  Male|Sundar|8522233456|     6|\n| 28|  Male| Steve|8501085009|     7|\n| 55|Female|Smriti|9246655498|     8|\n+---+------+------+----------+------+\n\n"
     ]
    }
   ],
   "source": [
    "df.na.fill(99,subset=[\"age\"]).na.fill('999999',subset=[\"phone\"]).show()"
   ]
  },
  {
   "cell_type": "code",
   "execution_count": 0,
   "metadata": {
    "application/vnd.databricks.v1+cell": {
     "cellMetadata": {
      "byteLimit": 2048000,
      "rowLimit": 10000
     },
     "inputWidgets": {},
     "nuid": "25963cb5-4231-4efc-8ba4-14a285678591",
     "showTitle": false,
     "tableResultSettingsMap": {},
     "title": ""
    }
   },
   "outputs": [
    {
     "output_type": "stream",
     "name": "stdout",
     "output_type": "stream",
     "text": [
      "+---+------+------+----------+------+\n|age|gender|  name|     phone|userid|\n+---+------+------+----------+------+\n| 25|  Male| Satya|8501099876|     1|\n| 99|  Male| Vivek|5676599876|     2|\n| 25|  Male| Rahim|      null|     3|\n| 28|Female|Sandra|8508899001|     4|\n| 15|Female|Keerti|      null|     5|\n| 13|  Male|Sundar|8522233456|     6|\n| 28|  Male| Steve|8501085009|     7|\n| 55|Female|Smriti|9246655498|     8|\n+---+------+------+----------+------+\n\n"
     ]
    }
   ],
   "source": [
    "df.fillna(99,subset=[\"age\"]).show()"
   ]
  },
  {
   "cell_type": "code",
   "execution_count": 0,
   "metadata": {
    "application/vnd.databricks.v1+cell": {
     "cellMetadata": {
      "byteLimit": 2048000,
      "rowLimit": 10000
     },
     "inputWidgets": {},
     "nuid": "8ae0aae5-65c6-44ca-8092-15cd2b3ba5ba",
     "showTitle": true,
     "tableResultSettingsMap": {},
     "title": "replace"
    }
   },
   "outputs": [
    {
     "output_type": "stream",
     "name": "stdout",
     "output_type": "stream",
     "text": [
      "+----+------+------+----------+------+\n| age|gender|  name|     phone|userid|\n+----+------+------+----------+------+\n| 250|     M| Satya|8501099876|     1|\n|null|     M| Vivek|5676599876|     2|\n| 250|     M| Rahim|      null|     3|\n|  28|     F|Sandra|8508899001|     4|\n|  15|     F|Keerti|      null|     5|\n|  13|     M|Sundar|8522233456|     6|\n|  28|     M| Steve|8501085009|     7|\n|  55|     F|Smriti|9246655498|     8|\n+----+------+------+----------+------+\n\n"
     ]
    }
   ],
   "source": [
    "df.na.replace(\"Male\",\"M\",subset=[\"gender\"]).na.replace(\"Female\",\"F\",subset=[\"gender\"]).na.replace(25,250,subset=[\"age\"]).show()"
   ]
  },
  {
   "cell_type": "code",
   "execution_count": 0,
   "metadata": {
    "application/vnd.databricks.v1+cell": {
     "cellMetadata": {
      "byteLimit": 2048000,
      "rowLimit": 10000
     },
     "inputWidgets": {},
     "nuid": "d97b5d66-b818-44c4-a604-5a8ad0485fb6",
     "showTitle": false,
     "tableResultSettingsMap": {},
     "title": ""
    }
   },
   "outputs": [],
   "source": [
    "ipath=\"dbfs:/FileStore/cts_data/csv/2015_summary.csv\""
   ]
  },
  {
   "cell_type": "code",
   "execution_count": 0,
   "metadata": {
    "application/vnd.databricks.v1+cell": {
     "cellMetadata": {
      "byteLimit": 2048000,
      "rowLimit": 10000
     },
     "inputWidgets": {},
     "nuid": "bc93f6e4-2fec-4f3f-8155-92149e76c7e8",
     "showTitle": false,
     "tableResultSettingsMap": {},
     "title": ""
    }
   },
   "outputs": [
    {
     "output_type": "stream",
     "name": "stdout",
     "output_type": "stream",
     "text": [
      "+--------------------+-------------------+-----+\n|   DEST_COUNTRY_NAME|ORIGIN_COUNTRY_NAME|count|\n+--------------------+-------------------+-----+\n|       United States|            Romania|   15|\n|       United States|            Croatia|    1|\n|       United States|            Ireland|  344|\n|               Egypt|      United States|   15|\n|       United States|              India|   62|\n|       United States|          Singapore|    1|\n|       United States|            Grenada|   62|\n|          Costa Rica|      United States|  588|\n|             Senegal|      United States|   40|\n|             Moldova|      United States|    1|\n|       United States|       Sint Maarten|  325|\n|       United States|   Marshall Islands|   39|\n|              Guyana|      United States|   64|\n|               Malta|      United States|    1|\n|            Anguilla|      United States|   41|\n|             Bolivia|      United States|   30|\n|       United States|           Paraguay|    6|\n|             Algeria|      United States|    4|\n|Turks and Caicos ...|      United States|  230|\n|       United States|          Gibraltar|    1|\n+--------------------+-------------------+-----+\nonly showing top 20 rows\n\n"
     ]
    }
   ],
   "source": [
    "df1=spark.read.csv(ipath,inferSchema=True,header=True)\n",
    "df1.show()\n"
   ]
  },
  {
   "cell_type": "code",
   "execution_count": 0,
   "metadata": {
    "application/vnd.databricks.v1+cell": {
     "cellMetadata": {
      "byteLimit": 2048000,
      "rowLimit": 10000
     },
     "inputWidgets": {},
     "nuid": "7b1a39b4-a287-4db2-9f0e-8794a507060f",
     "showTitle": false,
     "tableResultSettingsMap": {},
     "title": ""
    }
   },
   "outputs": [
    {
     "output_type": "stream",
     "name": "stdout",
     "output_type": "stream",
     "text": [
      "+------------------+-------------------+------+\n| DEST_COUNTRY_NAME|ORIGIN_COUNTRY_NAME| count|\n+------------------+-------------------+------+\n|            Mexico|      United States|  7140|\n|     United States| Dominican Republic|  1420|\n|     United States|      United States|370002|\n|           Germany|      United States|  1468|\n|            Canada|      United States|  8399|\n|Dominican Republic|      United States|  1353|\n|             Japan|      United States|  1548|\n|     United States|            Germany|  1336|\n|     United States|             Mexico|  7187|\n|    United Kingdom|      United States|  2025|\n|     United States|              Japan|  1496|\n|     United States|     United Kingdom|  1970|\n|     United States|             Canada|  8483|\n|       South Korea|      United States|  1048|\n+------------------+-------------------+------+\n\n"
     ]
    }
   ],
   "source": [
    "df2=df1.where(\"count>1000\")\n",
    "df2.show()"
   ]
  },
  {
   "cell_type": "code",
   "execution_count": 0,
   "metadata": {
    "application/vnd.databricks.v1+cell": {
     "cellMetadata": {
      "byteLimit": 2048000,
      "rowLimit": 10000
     },
     "inputWidgets": {},
     "nuid": "9ccbac26-574d-422d-a0d9-db93088dd580",
     "showTitle": false,
     "tableResultSettingsMap": {},
     "title": ""
    }
   },
   "outputs": [
    {
     "output_type": "stream",
     "name": "stdout",
     "output_type": "stream",
     "text": [
      "+-----------------+-------------------+-----+\n|DEST_COUNTRY_NAME|ORIGIN_COUNTRY_NAME|count|\n+-----------------+-------------------+-----+\n|    United States|              India|   62|\n+-----------------+-------------------+-----+\n\n"
     ]
    }
   ],
   "source": [
    "df3=df1.where(\"ORIGIN_COUNTRY_NAME='India'\")\n",
    "df3.show()"
   ]
  },
  {
   "cell_type": "code",
   "execution_count": 0,
   "metadata": {
    "application/vnd.databricks.v1+cell": {
     "cellMetadata": {
      "byteLimit": 2048000,
      "rowLimit": 10000
     },
     "inputWidgets": {},
     "nuid": "e64dc75c-7082-414f-be64-1cbd8756b61b",
     "showTitle": false,
     "tableResultSettingsMap": {},
     "title": ""
    }
   },
   "outputs": [
    {
     "output_type": "stream",
     "name": "stdout",
     "output_type": "stream",
     "text": [
      "+------------------+-------------------+------+\n| DEST_COUNTRY_NAME|ORIGIN_COUNTRY_NAME| count|\n+------------------+-------------------+------+\n|            Mexico|      United States|  7140|\n|     United States| Dominican Republic|  1420|\n|     United States|      United States|370002|\n|           Germany|      United States|  1468|\n|            Canada|      United States|  8399|\n|Dominican Republic|      United States|  1353|\n|             Japan|      United States|  1548|\n|     United States|            Germany|  1336|\n|     United States|             Mexico|  7187|\n|    United Kingdom|      United States|  2025|\n|     United States|              Japan|  1496|\n|     United States|     United Kingdom|  1970|\n|     United States|             Canada|  8483|\n|       South Korea|      United States|  1048|\n|     United States|              India|    62|\n+------------------+-------------------+------+\n\n"
     ]
    }
   ],
   "source": [
    "df5=df2.union(df3).show()"
   ]
  },
  {
   "cell_type": "code",
   "execution_count": 0,
   "metadata": {
    "application/vnd.databricks.v1+cell": {
     "cellMetadata": {
      "byteLimit": 2048000,
      "rowLimit": 10000
     },
     "inputWidgets": {},
     "nuid": "fc091620-6413-486c-91d1-94d31d34b9d5",
     "showTitle": false,
     "tableResultSettingsMap": {},
     "title": ""
    }
   },
   "outputs": [],
   "source": [
    "path=\"dbfs:/FileStore/flight-data/csv/2013_summary.csv\""
   ]
  },
  {
   "cell_type": "code",
   "execution_count": 0,
   "metadata": {
    "application/vnd.databricks.v1+cell": {
     "cellMetadata": {
      "byteLimit": 2048000,
      "rowLimit": 10000
     },
     "inputWidgets": {},
     "nuid": "fd97d350-cd28-4268-aa37-4a812ab58c68",
     "showTitle": false,
     "tableResultSettingsMap": {},
     "title": ""
    }
   },
   "outputs": [
    {
     "output_type": "stream",
     "name": "stdout",
     "output_type": "stream",
     "text": [
      "+--------------------+-------------------+-----+\n|   DEST_COUNTRY_NAME|ORIGIN_COUNTRY_NAME|count|\n+--------------------+-------------------+-----+\n|       United States|            Romania|   12|\n|       United States|            Croatia|    1|\n|       United States|            Ireland|  266|\n|               Egypt|      United States|   13|\n|       United States|              India|   60|\n|   Equatorial Guinea|      United States|    1|\n|       United States|              Niger|    1|\n|       United States|          Singapore|   22|\n|       United States|            Grenada|   40|\n|          Costa Rica|      United States|  509|\n|             Senegal|      United States|   28|\n|              Guyana|      United States|   34|\n|       United States|       Sint Maarten|  260|\n|       United States|   Marshall Islands|   33|\n|             Bolivia|      United States|   33|\n|            Anguilla|      United States|   22|\n|       United States|           Paraguay|   15|\n|             Algeria|      United States|    2|\n|Turks and Caicos ...|      United States|  181|\n|Saint Vincent and...|      United States|    4|\n+--------------------+-------------------+-----+\nonly showing top 20 rows\n\n"
     ]
    }
   ],
   "source": [
    "df=spark.read.csv(path,header=True)\n",
    "df.show()"
   ]
  }
 ],
 "metadata": {
  "application/vnd.databricks.v1+notebook": {
   "dashboards": [],
   "environmentMetadata": null,
   "language": "python",
   "notebookMetadata": {
    "mostRecentlyExecutedCommandWithImplicitDF": {
     "commandId": 3684636821846303,
     "dataframes": [
      "_sqldf"
     ]
    },
    "pythonIndentUnit": 2
   },
   "notebookName": "Dataframe_Transformations and Actions",
   "widgets": {}
  }
 },
 "nbformat": 4,
 "nbformat_minor": 0
}
