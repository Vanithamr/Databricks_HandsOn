{
 "cells": [
  {
   "cell_type": "code",
   "execution_count": 0,
   "metadata": {
    "application/vnd.databricks.v1+cell": {
     "cellMetadata": {
      "byteLimit": 2048000,
      "rowLimit": 10000
     },
     "inputWidgets": {},
     "nuid": "cbfee906-bf9d-43bd-a817-95e73b1861ef",
     "showTitle": false,
     "tableResultSettingsMap": {},
     "title": ""
    }
   },
   "outputs": [],
   "source": [
    "data=([(1,'Jerry','Male','Finance',138705),\n",
    "(2,'Larry','Male','IT',101004),\n",
    "(3,'Dennis','Male','IT',115163),\n",
    "(5,'Ruby','Female','HR',65476),\n",
    "(4,'manasa','Female','Finance',45906),\n",
    "(6,'Angela','Female','Sales',95570),\n",
    "(7,'Frances','Female','HR',139852),\n",
    "(8,'Louise','Female','HR',63241),\n",
    "(9,'Julie','Female','IT',102508),\n",
    "(10,'Brandon','Male','HR',112807),\n",
    "(11,'Gary','Male','Sales',109831),\n",
    "(12,'Kimberly','Female','Finance',\t41426),\n",
    "(13,'Lillian','Female','Finance',59414),\n",
    "(14,'Jeremy','Male','Sales',90370)])"
   ]
  },
  {
   "cell_type": "code",
   "execution_count": 0,
   "metadata": {
    "application/vnd.databricks.v1+cell": {
     "cellMetadata": {
      "byteLimit": 2048000,
      "rowLimit": 10000
     },
     "inputWidgets": {},
     "nuid": "f24ed601-1bee-4b36-9c9f-e32304329a5a",
     "showTitle": false,
     "tableResultSettingsMap": {},
     "title": ""
    }
   },
   "outputs": [
    {
     "output_type": "stream",
     "name": "stdout",
     "output_type": "stream",
     "text": [
      "+---+--------+------+-------+------+\n| id|    Name|Gender|   DEPt|Salary|\n+---+--------+------+-------+------+\n|  1|   Jerry|  Male|Finance|138705|\n|  2|   Larry|  Male|     IT|101004|\n|  3|  Dennis|  Male|     IT|115163|\n|  5|    Ruby|Female|     HR| 65476|\n|  4|  manasa|Female|Finance| 45906|\n|  6|  Angela|Female|  Sales| 95570|\n|  7| Frances|Female|     HR|139852|\n|  8|  Louise|Female|     HR| 63241|\n|  9|   Julie|Female|     IT|102508|\n| 10| Brandon|  Male|     HR|112807|\n| 11|    Gary|  Male|  Sales|109831|\n| 12|Kimberly|Female|Finance| 41426|\n| 13| Lillian|Female|Finance| 59414|\n| 14|  Jeremy|  Male|  Sales| 90370|\n+---+--------+------+-------+------+\n\n"
     ]
    }
   ],
   "source": [
    "df=spark.createDataFrame(data,[\"id\",\"Name\",\"Gender\",\"DEPt\",\"Salary\"])\n",
    "df.show()"
   ]
  },
  {
   "cell_type": "code",
   "execution_count": 0,
   "metadata": {
    "application/vnd.databricks.v1+cell": {
     "cellMetadata": {
      "byteLimit": 2048000,
      "rowLimit": 10000
     },
     "inputWidgets": {},
     "nuid": "939706d8-6bc8-44d1-b894-f2667c5db161",
     "showTitle": false,
     "tableResultSettingsMap": {},
     "title": ""
    }
   },
   "outputs": [],
   "source": [
    "from pyspark.sql.window import Window\n",
    "from pyspark.sql.functions import sum,avg,max,min,count,col,expr,round\n",
    "from pyspark.sql.functions import row_number,rank,dense_rank,lead,lag,ntile"
   ]
  },
  {
   "cell_type": "code",
   "execution_count": 0,
   "metadata": {
    "application/vnd.databricks.v1+cell": {
     "cellMetadata": {
      "byteLimit": 2048000,
      "rowLimit": 10000
     },
     "inputWidgets": {},
     "nuid": "9b355934-cf98-4318-abc2-8e60e883cc19",
     "showTitle": false,
     "tableResultSettingsMap": {},
     "title": ""
    }
   },
   "outputs": [],
   "source": [
    "window_spec=Window.partitionBy(\"DEPt\")"
   ]
  },
  {
   "cell_type": "code",
   "execution_count": 0,
   "metadata": {
    "application/vnd.databricks.v1+cell": {
     "cellMetadata": {
      "byteLimit": 2048000,
      "rowLimit": 10000
     },
     "inputWidgets": {},
     "nuid": "265b7a29-0b35-433b-a941-f099f6ab326e",
     "showTitle": false,
     "tableResultSettingsMap": {},
     "title": ""
    }
   },
   "outputs": [
    {
     "output_type": "stream",
     "name": "stdout",
     "output_type": "stream",
     "text": [
      "+---+--------+------+-------+------+------+--------+------+\n| id|    Name|Gender|   DEPt|Salary| Total| Average|   Max|\n+---+--------+------+-------+------+------+--------+------+\n|  1|   Jerry|  Male|Finance|138705|285451| 71362.8|138705|\n|  4|  manasa|Female|Finance| 45906|285451| 71362.8|138705|\n| 12|Kimberly|Female|Finance| 41426|285451| 71362.8|138705|\n| 13| Lillian|Female|Finance| 59414|285451| 71362.8|138705|\n|  5|    Ruby|Female|     HR| 65476|381376| 95344.0|139852|\n|  7| Frances|Female|     HR|139852|381376| 95344.0|139852|\n|  8|  Louise|Female|     HR| 63241|381376| 95344.0|139852|\n| 10| Brandon|  Male|     HR|112807|381376| 95344.0|139852|\n|  2|   Larry|  Male|     IT|101004|318675|106225.0|115163|\n|  3|  Dennis|  Male|     IT|115163|318675|106225.0|115163|\n|  9|   Julie|Female|     IT|102508|318675|106225.0|115163|\n|  6|  Angela|Female|  Sales| 95570|295771| 98590.3|109831|\n| 11|    Gary|  Male|  Sales|109831|295771| 98590.3|109831|\n| 14|  Jeremy|  Male|  Sales| 90370|295771| 98590.3|109831|\n+---+--------+------+-------+------+------+--------+------+\n\n"
     ]
    }
   ],
   "source": [
    "df2=df.withColumn(\"Total\",sum(\"Salary\").over(window_spec))\\\n",
    "  .withColumn(\"Average\",round(avg(\"Salary\").over(window_spec),1))\\\n",
    "    .withColumn(\"Max\",max(\"Salary\").over(window_spec))\n",
    "df2.show()"
   ]
  },
  {
   "cell_type": "code",
   "execution_count": 0,
   "metadata": {
    "application/vnd.databricks.v1+cell": {
     "cellMetadata": {
      "byteLimit": 2048000,
      "rowLimit": 10000
     },
     "inputWidgets": {},
     "nuid": "715c3c93-39d1-4b7c-b672-af9e66922b68",
     "showTitle": false,
     "tableResultSettingsMap": {},
     "title": ""
    }
   },
   "outputs": [],
   "source": [
    "window_spec=Window.partitionBy(\"DEPt\").orderBy(\"Salary\")"
   ]
  },
  {
   "cell_type": "code",
   "execution_count": 0,
   "metadata": {
    "application/vnd.databricks.v1+cell": {
     "cellMetadata": {
      "byteLimit": 2048000,
      "rowLimit": 10000
     },
     "inputWidgets": {},
     "nuid": "96cc938c-0b61-4d6e-b7e8-d0306588b0e6",
     "showTitle": true,
     "tableResultSettingsMap": {},
     "title": "Row_Number()"
    }
   },
   "outputs": [
    {
     "output_type": "stream",
     "name": "stdout",
     "output_type": "stream",
     "text": [
      "+---+--------+------+-------+------+----------+\n| id|    Name|Gender|   DEPt|Salary|Row_number|\n+---+--------+------+-------+------+----------+\n| 12|Kimberly|Female|Finance| 41426|         1|\n|  4|  manasa|Female|Finance| 45906|         2|\n| 13| Lillian|Female|Finance| 59414|         3|\n|  1|   Jerry|  Male|Finance|138705|         4|\n|  8|  Louise|Female|     HR| 63241|         1|\n|  5|    Ruby|Female|     HR| 65476|         2|\n| 10| Brandon|  Male|     HR|112807|         3|\n|  7| Frances|Female|     HR|139852|         4|\n|  2|   Larry|  Male|     IT|101004|         1|\n|  9|   Julie|Female|     IT|102508|         2|\n|  3|  Dennis|  Male|     IT|115163|         3|\n| 14|  Jeremy|  Male|  Sales| 90370|         1|\n|  6|  Angela|Female|  Sales| 95570|         2|\n| 11|    Gary|  Male|  Sales|109831|         3|\n+---+--------+------+-------+------+----------+\n\n"
     ]
    }
   ],
   "source": [
    "df3=df.withColumn(\"Row_number\",row_number().over(window_spec))\n",
    "df3.show()"
   ]
  },
  {
   "cell_type": "code",
   "execution_count": 0,
   "metadata": {
    "application/vnd.databricks.v1+cell": {
     "cellMetadata": {
      "byteLimit": 2048000,
      "rowLimit": 10000
     },
     "inputWidgets": {},
     "nuid": "894910b7-9cb9-4fbe-9f27-921a3bccd4b1",
     "showTitle": true,
     "tableResultSettingsMap": {},
     "title": "Rank()"
    }
   },
   "outputs": [
    {
     "output_type": "stream",
     "name": "stdout",
     "output_type": "stream",
     "text": [
      "+---+--------+------+-------+------+----+\n| id|    Name|Gender|   DEPt|Salary|Rank|\n+---+--------+------+-------+------+----+\n| 12|Kimberly|Female|Finance| 41426|   1|\n|  4|  manasa|Female|Finance| 45906|   2|\n| 13| Lillian|Female|Finance| 59414|   3|\n|  1|   Jerry|  Male|Finance|138705|   4|\n|  8|  Louise|Female|     HR| 63241|   1|\n|  5|    Ruby|Female|     HR| 65476|   2|\n| 10| Brandon|  Male|     HR|112807|   3|\n|  7| Frances|Female|     HR|139852|   4|\n|  2|   Larry|  Male|     IT|101004|   1|\n|  9|   Julie|Female|     IT|102508|   2|\n|  3|  Dennis|  Male|     IT|115163|   3|\n| 14|  Jeremy|  Male|  Sales| 90370|   1|\n|  6|  Angela|Female|  Sales| 95570|   2|\n| 11|    Gary|  Male|  Sales|109831|   3|\n+---+--------+------+-------+------+----+\n\n"
     ]
    }
   ],
   "source": [
    "df4=df.withColumn(\"Rank\",rank().over(window_spec))\n",
    "df4.show()"
   ]
  },
  {
   "cell_type": "code",
   "execution_count": 0,
   "metadata": {
    "application/vnd.databricks.v1+cell": {
     "cellMetadata": {
      "byteLimit": 2048000,
      "rowLimit": 10000
     },
     "inputWidgets": {},
     "nuid": "e7fa0c3b-81d0-4035-8051-f627407191a9",
     "showTitle": true,
     "tableResultSettingsMap": {},
     "title": "Dense_rank()"
    }
   },
   "outputs": [
    {
     "output_type": "stream",
     "name": "stdout",
     "output_type": "stream",
     "text": [
      "+---+--------+------+-------+------+----------+\n| id|    Name|Gender|   DEPt|Salary|Dense_rank|\n+---+--------+------+-------+------+----------+\n| 12|Kimberly|Female|Finance| 41426|         1|\n|  4|  manasa|Female|Finance| 45906|         2|\n| 13| Lillian|Female|Finance| 59414|         3|\n|  1|   Jerry|  Male|Finance|138705|         4|\n|  8|  Louise|Female|     HR| 63241|         1|\n|  5|    Ruby|Female|     HR| 65476|         2|\n| 10| Brandon|  Male|     HR|112807|         3|\n|  7| Frances|Female|     HR|139852|         4|\n|  2|   Larry|  Male|     IT|101004|         1|\n|  9|   Julie|Female|     IT|102508|         2|\n|  3|  Dennis|  Male|     IT|115163|         3|\n| 14|  Jeremy|  Male|  Sales| 90370|         1|\n|  6|  Angela|Female|  Sales| 95570|         2|\n| 11|    Gary|  Male|  Sales|109831|         3|\n+---+--------+------+-------+------+----------+\n\n"
     ]
    }
   ],
   "source": [
    "df5=df.withColumn(\"Dense_rank\",dense_rank().over(window_spec))\n",
    "df5.show()"
   ]
  },
  {
   "cell_type": "code",
   "execution_count": 0,
   "metadata": {
    "application/vnd.databricks.v1+cell": {
     "cellMetadata": {
      "byteLimit": 2048000,
      "rowLimit": 10000
     },
     "inputWidgets": {},
     "nuid": "8ebb2485-7f8e-4732-a636-1658f1dcb556",
     "showTitle": true,
     "tableResultSettingsMap": {},
     "title": "Lead(),Lag()"
    }
   },
   "outputs": [
    {
     "output_type": "stream",
     "name": "stdout",
     "output_type": "stream",
     "text": [
      "+---+--------+------+-------+------+------+------+\n| id|    Name|Gender|   DEPt|Salary|  Lead|   Lag|\n+---+--------+------+-------+------+------+------+\n| 12|Kimberly|Female|Finance| 41426| 45906|  null|\n|  4|  manasa|Female|Finance| 45906| 59414| 41426|\n| 13| Lillian|Female|Finance| 59414|138705| 45906|\n|  1|   Jerry|  Male|Finance|138705|  null| 59414|\n|  8|  Louise|Female|     HR| 63241| 65476|  null|\n|  5|    Ruby|Female|     HR| 65476|112807| 63241|\n| 10| Brandon|  Male|     HR|112807|139852| 65476|\n|  7| Frances|Female|     HR|139852|  null|112807|\n|  2|   Larry|  Male|     IT|101004|102508|  null|\n|  9|   Julie|Female|     IT|102508|115163|101004|\n|  3|  Dennis|  Male|     IT|115163|  null|102508|\n| 14|  Jeremy|  Male|  Sales| 90370| 95570|  null|\n|  6|  Angela|Female|  Sales| 95570|109831| 90370|\n| 11|    Gary|  Male|  Sales|109831|  null| 95570|\n+---+--------+------+-------+------+------+------+\n\n"
     ]
    }
   ],
   "source": [
    "df4=df.withColumn(\"Lead\",lead(\"Salary\").over(window_spec))\\\n",
    "  .withColumn(\"Lag\",lag(\"Salary\").over(window_spec))\n",
    "df4.show()"
   ]
  },
  {
   "cell_type": "code",
   "execution_count": 0,
   "metadata": {
    "application/vnd.databricks.v1+cell": {
     "cellMetadata": {
      "byteLimit": 2048000,
      "rowLimit": 10000
     },
     "inputWidgets": {},
     "nuid": "de56c928-40d7-4c7b-ab4e-b86eaf032cb3",
     "showTitle": true,
     "tableResultSettingsMap": {},
     "title": "ntile()"
    }
   },
   "outputs": [
    {
     "output_type": "stream",
     "name": "stdout",
     "output_type": "stream",
     "text": [
      "+---+--------+------+-------+------+-----+\n| id|    Name|Gender|   DEPt|Salary|ntile|\n+---+--------+------+-------+------+-----+\n| 12|Kimberly|Female|Finance| 41426|    1|\n|  4|  manasa|Female|Finance| 45906|    1|\n| 13| Lillian|Female|Finance| 59414|    2|\n|  1|   Jerry|  Male|Finance|138705|    3|\n|  8|  Louise|Female|     HR| 63241|    1|\n|  5|    Ruby|Female|     HR| 65476|    1|\n| 10| Brandon|  Male|     HR|112807|    2|\n|  7| Frances|Female|     HR|139852|    3|\n|  2|   Larry|  Male|     IT|101004|    1|\n|  9|   Julie|Female|     IT|102508|    2|\n|  3|  Dennis|  Male|     IT|115163|    3|\n| 14|  Jeremy|  Male|  Sales| 90370|    1|\n|  6|  Angela|Female|  Sales| 95570|    2|\n| 11|    Gary|  Male|  Sales|109831|    3|\n+---+--------+------+-------+------+-----+\n\n"
     ]
    }
   ],
   "source": [
    "df7=df.withColumn(\"ntile\",ntile(3).over(window_spec))\n",
    "df7.show()"
   ]
  },
  {
   "cell_type": "code",
   "execution_count": 0,
   "metadata": {
    "application/vnd.databricks.v1+cell": {
     "cellMetadata": {
      "byteLimit": 2048000,
      "rowLimit": 10000
     },
     "inputWidgets": {},
     "nuid": "79ed6a5d-535c-4561-b589-e3b1ecdc8021",
     "showTitle": false,
     "tableResultSettingsMap": {},
     "title": ""
    }
   },
   "outputs": [
    {
     "output_type": "stream",
     "name": "stdout",
     "output_type": "stream",
     "text": [
      "+---+--------+------+-------+------+------+------+\n| id|    Name|Gender|   DEPt|Salary|  lead|   lag|\n+---+--------+------+-------+------+------+------+\n| 12|Kimberly|Female|Finance| 41426| 59414|     0|\n|  4|  manasa|Female|Finance| 45906|138705|     0|\n| 13| Lillian|Female|Finance| 59414|  null| 41426|\n|  1|   Jerry|  Male|Finance|138705|  null| 45906|\n|  8|  Louise|Female|     HR| 63241|112807|     0|\n|  5|    Ruby|Female|     HR| 65476|139852|     0|\n| 10| Brandon|  Male|     HR|112807|  null| 63241|\n|  7| Frances|Female|     HR|139852|  null| 65476|\n|  2|   Larry|  Male|     IT|101004|115163|     0|\n|  9|   Julie|Female|     IT|102508|  null|     0|\n|  3|  Dennis|  Male|     IT|115163|  null|101004|\n| 14|  Jeremy|  Male|  Sales| 90370|109831|     0|\n|  6|  Angela|Female|  Sales| 95570|  null|     0|\n| 11|    Gary|  Male|  Sales|109831|  null| 90370|\n+---+--------+------+-------+------+------+------+\n\n"
     ]
    }
   ],
   "source": [
    "df5=df.withColumn(\"lead\",lead(\"Salary\",2,\"null\").over(window_spec))\\\n",
    "  .withColumn(\"lag\",lag(\"Salary\",2,0).over(window_spec))\n",
    "df5.show()"
   ]
  },
  {
   "cell_type": "code",
   "execution_count": 0,
   "metadata": {
    "application/vnd.databricks.v1+cell": {
     "cellMetadata": {
      "byteLimit": 2048000,
      "rowLimit": 10000
     },
     "inputWidgets": {},
     "nuid": "e5cff454-2d19-498d-9c6b-9888e4f779d8",
     "showTitle": false,
     "tableResultSettingsMap": {},
     "title": ""
    }
   },
   "outputs": [],
   "source": [
    "sampleData = ((\"Ram\", 28, \"Sales\", 3000),\n",
    "              (\"Meena\", 33, \"Sales\", 4600),\n",
    "              (\"Robin\", 40, \"Sales\", 4100),\n",
    "              (\"Kunal\", 25, \"Finance\", 3000),\n",
    "              (\"Ram\", 28, \"Sales\", 3000),\n",
    "              (\"Srishti\", 46, \"Management\", 3300),\n",
    "              (\"Jeny\", 26, \"Finance\", 3900),\n",
    "              (\"Hitesh\", 30, \"Marketing\", 3000),\n",
    "              (\"Kailash\", 29, \"Marketing\", 2000),\n",
    "              (\"Sharad\", 39, \"Sales\", 4100)\n",
    "              )"
   ]
  },
  {
   "cell_type": "code",
   "execution_count": 0,
   "metadata": {
    "application/vnd.databricks.v1+cell": {
     "cellMetadata": {
      "byteLimit": 2048000,
      "rowLimit": 10000
     },
     "inputWidgets": {},
     "nuid": "76ce848e-55a8-4276-ab35-918cd7049bf4",
     "showTitle": false,
     "tableResultSettingsMap": {},
     "title": ""
    }
   },
   "outputs": [
    {
     "output_type": "stream",
     "name": "stdout",
     "output_type": "stream",
     "text": [
      "+-------+---+----------+------+\n|   Name|age|      Dept|Salary|\n+-------+---+----------+------+\n|    Ram| 28|     Sales|  3000|\n|  Meena| 33|     Sales|  4600|\n|  Robin| 40|     Sales|  4100|\n|  Kunal| 25|   Finance|  3000|\n|    Ram| 28|     Sales|  3000|\n|Srishti| 46|Management|  3300|\n|   Jeny| 26|   Finance|  3900|\n| Hitesh| 30| Marketing|  3000|\n|Kailash| 29| Marketing|  2000|\n| Sharad| 39|     Sales|  4100|\n+-------+---+----------+------+\n\n"
     ]
    }
   ],
   "source": [
    "df=spark.createDataFrame(sampleData,[\"Name\",\"age\",\"Dept\",\"Salary\"])\n",
    "df.show()"
   ]
  },
  {
   "cell_type": "code",
   "execution_count": 0,
   "metadata": {
    "application/vnd.databricks.v1+cell": {
     "cellMetadata": {
      "byteLimit": 2048000,
      "rowLimit": 10000
     },
     "inputWidgets": {},
     "nuid": "b2360c9d-a805-4ca9-9602-8176c6264c6c",
     "showTitle": false,
     "tableResultSettingsMap": {},
     "title": ""
    }
   },
   "outputs": [],
   "source": [
    "window_part=Window.partitionBy(\"Dept\").orderBy(\"Salary\")"
   ]
  },
  {
   "cell_type": "code",
   "execution_count": 0,
   "metadata": {
    "application/vnd.databricks.v1+cell": {
     "cellMetadata": {
      "byteLimit": 2048000,
      "rowLimit": 10000
     },
     "inputWidgets": {},
     "nuid": "236a17a6-e15b-4828-80e6-e69a4ad0f227",
     "showTitle": false,
     "tableResultSettingsMap": {},
     "title": ""
    }
   },
   "outputs": [
    {
     "output_type": "stream",
     "name": "stdout",
     "output_type": "stream",
     "text": [
      "+-------+---+----------+------+----------+\n|   Name|age|      Dept|Salary|Row_Number|\n+-------+---+----------+------+----------+\n|  Kunal| 25|   Finance|  3000|         1|\n|   Jeny| 26|   Finance|  3900|         2|\n|Srishti| 46|Management|  3300|         1|\n|Kailash| 29| Marketing|  2000|         1|\n| Hitesh| 30| Marketing|  3000|         2|\n|    Ram| 28|     Sales|  3000|         1|\n|    Ram| 28|     Sales|  3000|         2|\n|  Robin| 40|     Sales|  4100|         3|\n| Sharad| 39|     Sales|  4100|         4|\n|  Meena| 33|     Sales|  4600|         5|\n+-------+---+----------+------+----------+\n\n"
     ]
    }
   ],
   "source": [
    "df1=df.withColumn(\"Row_Number\",row_number().over(window_part))\n",
    "df1.show()"
   ]
  },
  {
   "cell_type": "code",
   "execution_count": 0,
   "metadata": {
    "application/vnd.databricks.v1+cell": {
     "cellMetadata": {
      "byteLimit": 2048000,
      "rowLimit": 10000
     },
     "inputWidgets": {},
     "nuid": "4ec0020e-e07c-419d-9dc4-f79f65399de9",
     "showTitle": false,
     "tableResultSettingsMap": {},
     "title": ""
    }
   },
   "outputs": [
    {
     "output_type": "stream",
     "name": "stdout",
     "output_type": "stream",
     "text": [
      "+-------+---+----------+------+----+\n|   Name|age|      Dept|Salary|Rank|\n+-------+---+----------+------+----+\n|  Kunal| 25|   Finance|  3000|   1|\n|   Jeny| 26|   Finance|  3900|   2|\n|Srishti| 46|Management|  3300|   1|\n|Kailash| 29| Marketing|  2000|   1|\n| Hitesh| 30| Marketing|  3000|   2|\n|    Ram| 28|     Sales|  3000|   1|\n|    Ram| 28|     Sales|  3000|   1|\n|  Robin| 40|     Sales|  4100|   3|\n| Sharad| 39|     Sales|  4100|   3|\n|  Meena| 33|     Sales|  4600|   5|\n+-------+---+----------+------+----+\n\n"
     ]
    }
   ],
   "source": [
    "df2=df.withColumn(\"Rank\",rank().over(window_part))\n",
    "df2.show()"
   ]
  },
  {
   "cell_type": "code",
   "execution_count": 0,
   "metadata": {
    "application/vnd.databricks.v1+cell": {
     "cellMetadata": {
      "byteLimit": 2048000,
      "rowLimit": 10000
     },
     "inputWidgets": {},
     "nuid": "e9332884-29c5-4bd9-a39e-9066f4f32866",
     "showTitle": false,
     "tableResultSettingsMap": {},
     "title": ""
    }
   },
   "outputs": [
    {
     "output_type": "stream",
     "name": "stdout",
     "output_type": "stream",
     "text": [
      "+-------+---+----------+------+----------+\n|   Name|age|      Dept|Salary|Dense_rank|\n+-------+---+----------+------+----------+\n|  Kunal| 25|   Finance|  3000|         1|\n|   Jeny| 26|   Finance|  3900|         2|\n|Srishti| 46|Management|  3300|         1|\n|Kailash| 29| Marketing|  2000|         1|\n| Hitesh| 30| Marketing|  3000|         2|\n|    Ram| 28|     Sales|  3000|         1|\n|    Ram| 28|     Sales|  3000|         1|\n|  Robin| 40|     Sales|  4100|         2|\n| Sharad| 39|     Sales|  4100|         2|\n|  Meena| 33|     Sales|  4600|         3|\n+-------+---+----------+------+----------+\n\n"
     ]
    }
   ],
   "source": [
    "df3=df.withColumn(\"Dense_rank\",dense_rank().over(window_part))\n",
    "df3.show()"
   ]
  },
  {
   "cell_type": "code",
   "execution_count": 0,
   "metadata": {
    "application/vnd.databricks.v1+cell": {
     "cellMetadata": {
      "byteLimit": 2048000,
      "rowLimit": 10000
     },
     "inputWidgets": {},
     "nuid": "d8d9e7e6-6412-4127-a07b-e6901474aa23",
     "showTitle": false,
     "tableResultSettingsMap": {},
     "title": ""
    }
   },
   "outputs": [
    {
     "output_type": "stream",
     "name": "stdout",
     "output_type": "stream",
     "text": [
      "+-------+---+----------+------+----+----+\n|   Name|age|      Dept|Salary|lead| lag|\n+-------+---+----------+------+----+----+\n|  Kunal| 25|   Finance|  3000|3900|null|\n|   Jeny| 26|   Finance|  3900|null|3000|\n|Srishti| 46|Management|  3300|null|null|\n|Kailash| 29| Marketing|  2000|3000|null|\n| Hitesh| 30| Marketing|  3000|null|2000|\n|    Ram| 28|     Sales|  3000|3000|null|\n|    Ram| 28|     Sales|  3000|4100|3000|\n|  Robin| 40|     Sales|  4100|4100|3000|\n| Sharad| 39|     Sales|  4100|4600|4100|\n|  Meena| 33|     Sales|  4600|null|4100|\n+-------+---+----------+------+----+----+\n\n"
     ]
    }
   ],
   "source": [
    "df4=df.withColumn(\"lead\",lead(\"Salary\",1).over(window_part))\\\n",
    "  .withColumn(\"lag\",lag(\"Salary\",1).over(window_part))\n",
    "df4.show()"
   ]
  }
 ],
 "metadata": {
  "application/vnd.databricks.v1+notebook": {
   "dashboards": [],
   "environmentMetadata": null,
   "language": "python",
   "notebookMetadata": {
    "pythonIndentUnit": 4
   },
   "notebookName": "Windows Functions",
   "widgets": {}
  }
 },
 "nbformat": 4,
 "nbformat_minor": 0
}
