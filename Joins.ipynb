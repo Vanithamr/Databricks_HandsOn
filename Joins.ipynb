{
 "cells": [
  {
   "cell_type": "code",
   "execution_count": 0,
   "metadata": {
    "application/vnd.databricks.v1+cell": {
     "cellMetadata": {
      "byteLimit": 2048000,
      "rowLimit": 10000
     },
     "inputWidgets": {},
     "nuid": "4772bcf0-6269-4b97-b6fb-d8053f4ff023",
     "showTitle": false,
     "tableResultSettingsMap": {},
     "title": ""
    }
   },
   "outputs": [],
   "source": [
    "employee = spark.createDataFrame([\n",
    "    (1, \"Raju\", 25, 101),\n",
    "    (2, \"Ramesh\", 26, 101),\n",
    "    (3, \"Amrita\", 30, 102),\n",
    "    (4, \"Madhu\", 32, 102),\n",
    "    (5, \"Aditya\", 28, 102),\n",
    "    (6, \"Vinay\", 42, 103),\n",
    "    (7, \"Smita\", 27, 103),\n",
    "    (8, \"Vinod\", 28, 100)],[\"id\", \"name\", \"age\", \"deptid\"])\n",
    "\n",
    "department = spark.createDataFrame([\n",
    "    (101, \"IT\", 1),\n",
    "    (102, \"ITES\", 2),\n",
    "    (103, \"Opearation\", 3),\n",
    "    (104, \"HRD\", 4)])\\\n",
    "  .toDF(\"id\", \"deptname\", \"locationid\")\n",
    "  \n",
    "location = spark.createDataFrame([\n",
    "    (1, 'Hyderabad'),\n",
    "    (2, 'Chennai'),\n",
    "    (3, 'Bengalure'),\n",
    "    (4, 'Pune')])\\\n",
    "  .toDF(\"locationid\", \"location\")"
   ]
  },
  {
   "cell_type": "code",
   "execution_count": 0,
   "metadata": {
    "application/vnd.databricks.v1+cell": {
     "cellMetadata": {
      "byteLimit": 2048000,
      "rowLimit": 10000
     },
     "inputWidgets": {},
     "nuid": "db78063d-f9dc-4286-b925-f22549d9e5f3",
     "showTitle": false,
     "tableResultSettingsMap": {},
     "title": ""
    }
   },
   "outputs": [],
   "source": [
    "employee.createOrReplaceTempView(\"emp\")\n",
    "department.createOrReplaceTempView(\"dept\")\n",
    "location.createOrReplaceTempView(\"loc\")"
   ]
  },
  {
   "cell_type": "code",
   "execution_count": 0,
   "metadata": {
    "application/vnd.databricks.v1+cell": {
     "cellMetadata": {
      "byteLimit": 2048000,
      "implicitDf": true,
      "rowLimit": 10000
     },
     "inputWidgets": {},
     "nuid": "7c7611a7-8c94-4428-b2eb-e9bfac9cfaba",
     "showTitle": false,
     "tableResultSettingsMap": {},
     "title": ""
    }
   },
   "outputs": [
    {
     "output_type": "display_data",
     "data": {
      "text/html": [
       "<style scoped>\n",
       "  .table-result-container {\n",
       "    max-height: 300px;\n",
       "    overflow: auto;\n",
       "  }\n",
       "  table, th, td {\n",
       "    border: 1px solid black;\n",
       "    border-collapse: collapse;\n",
       "  }\n",
       "  th, td {\n",
       "    padding: 5px;\n",
       "  }\n",
       "  th {\n",
       "    text-align: left;\n",
       "  }\n",
       "</style><div class='table-result-container'><table class='table-result'><thead style='background-color: white'><tr><th>id</th><th>name</th><th>age</th><th>deptid</th><th>id</th><th>location</th></tr></thead><tbody><tr><td>2</td><td>Ramesh</td><td>26</td><td>101</td><td>101</td><td>Hyderabad</td></tr><tr><td>1</td><td>Raju</td><td>25</td><td>101</td><td>101</td><td>Hyderabad</td></tr><tr><td>5</td><td>Aditya</td><td>28</td><td>102</td><td>102</td><td>Chennai</td></tr><tr><td>4</td><td>Madhu</td><td>32</td><td>102</td><td>102</td><td>Chennai</td></tr><tr><td>3</td><td>Amrita</td><td>30</td><td>102</td><td>102</td><td>Chennai</td></tr><tr><td>7</td><td>Smita</td><td>27</td><td>103</td><td>103</td><td>Bengalure</td></tr><tr><td>6</td><td>Vinay</td><td>42</td><td>103</td><td>103</td><td>Bengalure</td></tr></tbody></table></div>"
      ]
     },
     "metadata": {
      "application/vnd.databricks.v1+output": {
       "addedWidgets": {},
       "aggData": [],
       "aggError": "",
       "aggOverflow": false,
       "aggSchema": [],
       "aggSeriesLimitReached": false,
       "aggType": "",
       "arguments": {},
       "columnCustomDisplayInfos": {},
       "data": [
        [
         2,
         "Ramesh",
         26,
         101,
         101,
         "Hyderabad"
        ],
        [
         1,
         "Raju",
         25,
         101,
         101,
         "Hyderabad"
        ],
        [
         5,
         "Aditya",
         28,
         102,
         102,
         "Chennai"
        ],
        [
         4,
         "Madhu",
         32,
         102,
         102,
         "Chennai"
        ],
        [
         3,
         "Amrita",
         30,
         102,
         102,
         "Chennai"
        ],
        [
         7,
         "Smita",
         27,
         103,
         103,
         "Bengalure"
        ],
        [
         6,
         "Vinay",
         42,
         103,
         103,
         "Bengalure"
        ]
       ],
       "datasetInfos": [],
       "dbfsResultPath": null,
       "isJsonSchema": true,
       "metadata": {},
       "overflow": false,
       "plotOptions": {
        "customPlotOptions": {},
        "displayType": "table",
        "pivotAggregation": null,
        "pivotColumns": null,
        "xColumns": null,
        "yColumns": null
       },
       "removedWidgets": [],
       "schema": [
        {
         "metadata": "{}",
         "name": "id",
         "type": "\"long\""
        },
        {
         "metadata": "{}",
         "name": "name",
         "type": "\"string\""
        },
        {
         "metadata": "{}",
         "name": "age",
         "type": "\"long\""
        },
        {
         "metadata": "{}",
         "name": "deptid",
         "type": "\"long\""
        },
        {
         "metadata": "{}",
         "name": "id",
         "type": "\"long\""
        },
        {
         "metadata": "{}",
         "name": "location",
         "type": "\"string\""
        }
       ],
       "type": "table"
      }
     },
     "output_type": "display_data"
    }
   ],
   "source": [
    "%sql\n",
    "select emp.*,dept.id,loc.location from emp\n",
    "join dept on emp.deptid=dept.id\n",
    "join loc on loc.locationid=dept.locationid"
   ]
  },
  {
   "cell_type": "code",
   "execution_count": 0,
   "metadata": {
    "application/vnd.databricks.v1+cell": {
     "cellMetadata": {
      "byteLimit": 2048000,
      "implicitDf": true,
      "rowLimit": 10000
     },
     "inputWidgets": {},
     "nuid": "14273f20-d661-4859-83a3-5d803ebac9e4",
     "showTitle": false,
     "tableResultSettingsMap": {},
     "title": ""
    }
   },
   "outputs": [
    {
     "output_type": "display_data",
     "data": {
      "text/html": [
       "<style scoped>\n",
       "  .table-result-container {\n",
       "    max-height: 300px;\n",
       "    overflow: auto;\n",
       "  }\n",
       "  table, th, td {\n",
       "    border: 1px solid black;\n",
       "    border-collapse: collapse;\n",
       "  }\n",
       "  th, td {\n",
       "    padding: 5px;\n",
       "  }\n",
       "  th {\n",
       "    text-align: left;\n",
       "  }\n",
       "</style><div class='table-result-container'><table class='table-result'><thead style='background-color: white'><tr><th>id</th><th>name</th><th>age</th><th>deptid</th><th>deptname</th><th>id</th><th>locationid</th><th>locationid</th></tr></thead><tbody><tr><td>1</td><td>Raju</td><td>25</td><td>101</td><td>IT</td><td>101</td><td>1</td><td>1</td></tr><tr><td>2</td><td>Ramesh</td><td>26</td><td>101</td><td>IT</td><td>101</td><td>1</td><td>1</td></tr><tr><td>3</td><td>Amrita</td><td>30</td><td>102</td><td>ITES</td><td>102</td><td>2</td><td>2</td></tr><tr><td>4</td><td>Madhu</td><td>32</td><td>102</td><td>ITES</td><td>102</td><td>2</td><td>2</td></tr><tr><td>5</td><td>Aditya</td><td>28</td><td>102</td><td>ITES</td><td>102</td><td>2</td><td>2</td></tr><tr><td>6</td><td>Vinay</td><td>42</td><td>103</td><td>Opearation</td><td>103</td><td>3</td><td>3</td></tr><tr><td>7</td><td>Smita</td><td>27</td><td>103</td><td>Opearation</td><td>103</td><td>3</td><td>3</td></tr><tr><td>8</td><td>Vinod</td><td>28</td><td>100</td><td>null</td><td>null</td><td>null</td><td>null</td></tr></tbody></table></div>"
      ]
     },
     "metadata": {
      "application/vnd.databricks.v1+output": {
       "addedWidgets": {},
       "aggData": [],
       "aggError": "",
       "aggOverflow": false,
       "aggSchema": [],
       "aggSeriesLimitReached": false,
       "aggType": "",
       "arguments": {},
       "columnCustomDisplayInfos": {},
       "data": [
        [
         1,
         "Raju",
         25,
         101,
         "IT",
         101,
         1,
         1
        ],
        [
         2,
         "Ramesh",
         26,
         101,
         "IT",
         101,
         1,
         1
        ],
        [
         3,
         "Amrita",
         30,
         102,
         "ITES",
         102,
         2,
         2
        ],
        [
         4,
         "Madhu",
         32,
         102,
         "ITES",
         102,
         2,
         2
        ],
        [
         5,
         "Aditya",
         28,
         102,
         "ITES",
         102,
         2,
         2
        ],
        [
         6,
         "Vinay",
         42,
         103,
         "Opearation",
         103,
         3,
         3
        ],
        [
         7,
         "Smita",
         27,
         103,
         "Opearation",
         103,
         3,
         3
        ],
        [
         8,
         "Vinod",
         28,
         100,
         null,
         null,
         null,
         null
        ]
       ],
       "datasetInfos": [],
       "dbfsResultPath": null,
       "isJsonSchema": true,
       "metadata": {},
       "overflow": false,
       "plotOptions": {
        "customPlotOptions": {},
        "displayType": "table",
        "pivotAggregation": null,
        "pivotColumns": null,
        "xColumns": null,
        "yColumns": null
       },
       "removedWidgets": [],
       "schema": [
        {
         "metadata": "{}",
         "name": "id",
         "type": "\"long\""
        },
        {
         "metadata": "{}",
         "name": "name",
         "type": "\"string\""
        },
        {
         "metadata": "{}",
         "name": "age",
         "type": "\"long\""
        },
        {
         "metadata": "{}",
         "name": "deptid",
         "type": "\"long\""
        },
        {
         "metadata": "{}",
         "name": "deptname",
         "type": "\"string\""
        },
        {
         "metadata": "{}",
         "name": "id",
         "type": "\"long\""
        },
        {
         "metadata": "{}",
         "name": "locationid",
         "type": "\"long\""
        },
        {
         "metadata": "{}",
         "name": "locationid",
         "type": "\"long\""
        }
       ],
       "type": "table"
      }
     },
     "output_type": "display_data"
    }
   ],
   "source": [
    "%sql\n",
    "select emp.*,dept.deptname,dept.id,dept.locationid,loc.locationid from emp\n",
    "left join dept on emp.deptid=dept.id\n",
    "left join loc on dept.locationid=loc.locationid"
   ]
  },
  {
   "cell_type": "code",
   "execution_count": 0,
   "metadata": {
    "application/vnd.databricks.v1+cell": {
     "cellMetadata": {
      "byteLimit": 2048000,
      "rowLimit": 10000
     },
     "inputWidgets": {},
     "nuid": "e73feba1-3c59-4418-bd72-4a3656cfb24d",
     "showTitle": true,
     "tableResultSettingsMap": {},
     "title": "Inner Join"
    }
   },
   "outputs": [
    {
     "output_type": "stream",
     "name": "stdout",
     "output_type": "stream",
     "text": [
      "+---+------+---+------+---+----------+----------+----------+---------+\n| id|  name|age|deptid| id|  deptname|locationid|locationid| location|\n+---+------+---+------+---+----------+----------+----------+---------+\n|  2|Ramesh| 26|   101|101|        IT|         1|         1|Hyderabad|\n|  1|  Raju| 25|   101|101|        IT|         1|         1|Hyderabad|\n|  5|Aditya| 28|   102|102|      ITES|         2|         2|  Chennai|\n|  4| Madhu| 32|   102|102|      ITES|         2|         2|  Chennai|\n|  3|Amrita| 30|   102|102|      ITES|         2|         2|  Chennai|\n|  7| Smita| 27|   103|103|Opearation|         3|         3|Bengalure|\n|  6| Vinay| 42|   103|103|Opearation|         3|         3|Bengalure|\n+---+------+---+------+---+----------+----------+----------+---------+\n\n"
     ]
    }
   ],
   "source": [
    "df=employee.join(department,employee.deptid==department.id,\"inner\")\\\n",
    "  .join(location,department.locationid==location.locationid,\"inner\")\n",
    "df.show()"
   ]
  },
  {
   "cell_type": "code",
   "execution_count": 0,
   "metadata": {
    "application/vnd.databricks.v1+cell": {
     "cellMetadata": {
      "byteLimit": 2048000,
      "rowLimit": 10000
     },
     "inputWidgets": {},
     "nuid": "4cb27cd2-7f3a-40be-bafd-74512e087fc2",
     "showTitle": true,
     "tableResultSettingsMap": {},
     "title": "Left Join"
    }
   },
   "outputs": [
    {
     "output_type": "stream",
     "name": "stdout",
     "output_type": "stream",
     "text": [
      "+---+------+---+------+----+----------+----------+----------+---------+\n| id|  name|age|deptid|  id|  deptname|locationid|locationid| location|\n+---+------+---+------+----+----------+----------+----------+---------+\n|  1|  Raju| 25|   101| 101|        IT|         1|         1|Hyderabad|\n|  2|Ramesh| 26|   101| 101|        IT|         1|         1|Hyderabad|\n|  3|Amrita| 30|   102| 102|      ITES|         2|         2|  Chennai|\n|  4| Madhu| 32|   102| 102|      ITES|         2|         2|  Chennai|\n|  5|Aditya| 28|   102| 102|      ITES|         2|         2|  Chennai|\n|  6| Vinay| 42|   103| 103|Opearation|         3|         3|Bengalure|\n|  7| Smita| 27|   103| 103|Opearation|         3|         3|Bengalure|\n|  8| Vinod| 28|   100|null|      null|      null|      null|     null|\n+---+------+---+------+----+----------+----------+----------+---------+\n\n"
     ]
    }
   ],
   "source": [
    "df=employee.join(department,employee.deptid==department.id,\"left\")\\\n",
    "  .join(location,department.locationid==location.locationid,\"left\")\n",
    "df.show()"
   ]
  },
  {
   "cell_type": "code",
   "execution_count": 0,
   "metadata": {
    "application/vnd.databricks.v1+cell": {
     "cellMetadata": {
      "byteLimit": 2048000,
      "rowLimit": 10000
     },
     "inputWidgets": {},
     "nuid": "6c182264-7310-4d9f-b99e-d2375539e9b7",
     "showTitle": true,
     "tableResultSettingsMap": {},
     "title": "Right Join"
    }
   },
   "outputs": [
    {
     "output_type": "stream",
     "name": "stdout",
     "output_type": "stream",
     "text": [
      "+----+------+----+------+---+----------+----------+----------+---------+\n|  id|  name| age|deptid| id|  deptname|locationid|locationid| location|\n+----+------+----+------+---+----------+----------+----------+---------+\n|   1|  Raju|  25|   101|101|        IT|         1|         1|Hyderabad|\n|   2|Ramesh|  26|   101|101|        IT|         1|         1|Hyderabad|\n|   3|Amrita|  30|   102|102|      ITES|         2|         2|  Chennai|\n|   4| Madhu|  32|   102|102|      ITES|         2|         2|  Chennai|\n|   5|Aditya|  28|   102|102|      ITES|         2|         2|  Chennai|\n|   6| Vinay|  42|   103|103|Opearation|         3|         3|Bengalure|\n|   7| Smita|  27|   103|103|Opearation|         3|         3|Bengalure|\n|null|  null|null|  null|104|       HRD|         4|         4|     Pune|\n+----+------+----+------+---+----------+----------+----------+---------+\n\n"
     ]
    }
   ],
   "source": [
    "df=employee.join(department,employee.deptid==department.id,\"right\")\\\n",
    "  .join(location,department.locationid==location.locationid,\"right\")\n",
    "df.show()"
   ]
  },
  {
   "cell_type": "code",
   "execution_count": 0,
   "metadata": {
    "application/vnd.databricks.v1+cell": {
     "cellMetadata": {
      "byteLimit": 2048000,
      "rowLimit": 10000
     },
     "inputWidgets": {},
     "nuid": "1981719d-1ac3-451a-a89e-c483431dd65c",
     "showTitle": true,
     "tableResultSettingsMap": {},
     "title": "Full outer join"
    }
   },
   "outputs": [
    {
     "output_type": "stream",
     "name": "stdout",
     "output_type": "stream",
     "text": [
      "+----+------+----+------+----+----------+----------+----------+---------+\n|  id|  name| age|deptid|  id|  deptname|locationid|locationid| location|\n+----+------+----+------+----+----------+----------+----------+---------+\n|   8| Vinod|  28|   100|null|      null|      null|      null|     null|\n|   1|  Raju|  25|   101| 101|        IT|         1|         1|Hyderabad|\n|   2|Ramesh|  26|   101| 101|        IT|         1|         1|Hyderabad|\n|   3|Amrita|  30|   102| 102|      ITES|         2|         2|  Chennai|\n|   4| Madhu|  32|   102| 102|      ITES|         2|         2|  Chennai|\n|   5|Aditya|  28|   102| 102|      ITES|         2|         2|  Chennai|\n|   6| Vinay|  42|   103| 103|Opearation|         3|         3|Bengalure|\n|   7| Smita|  27|   103| 103|Opearation|         3|         3|Bengalure|\n|null|  null|null|  null| 104|       HRD|         4|         4|     Pune|\n+----+------+----+------+----+----------+----------+----------+---------+\n\n"
     ]
    }
   ],
   "source": [
    "df=employee.join(department,employee.deptid==department.id,\"full\")\\\n",
    "  .join(location,department.locationid==location.locationid,\"full\")\n",
    "df.show()"
   ]
  },
  {
   "cell_type": "code",
   "execution_count": 0,
   "metadata": {
    "application/vnd.databricks.v1+cell": {
     "cellMetadata": {
      "byteLimit": 2048000,
      "rowLimit": 10000
     },
     "inputWidgets": {},
     "nuid": "94b70d56-7805-464c-9ecf-5c1e4cf78d45",
     "showTitle": true,
     "tableResultSettingsMap": {},
     "title": "Anti Join"
    }
   },
   "outputs": [
    {
     "output_type": "stream",
     "name": "stdout",
     "output_type": "stream",
     "text": [
      "+---+-----+---+------+\n| id| name|age|deptid|\n+---+-----+---+------+\n|  8|Vinod| 28|   100|\n+---+-----+---+------+\n\n"
     ]
    }
   ],
   "source": [
    "df=employee.join(department,employee.deptid==department.id,\"anti\")\n",
    "df.show()"
   ]
  },
  {
   "cell_type": "code",
   "execution_count": 0,
   "metadata": {
    "application/vnd.databricks.v1+cell": {
     "cellMetadata": {
      "byteLimit": 2048000,
      "rowLimit": 10000
     },
     "inputWidgets": {},
     "nuid": "cb9a5070-831b-4705-bb94-ef7ffbcbfff8",
     "showTitle": true,
     "tableResultSettingsMap": {},
     "title": "Semi join"
    }
   },
   "outputs": [
    {
     "output_type": "stream",
     "name": "stdout",
     "output_type": "stream",
     "text": [
      "+---+------+---+------+\n| id|  name|age|deptid|\n+---+------+---+------+\n|  1|  Raju| 25|   101|\n|  2|Ramesh| 26|   101|\n|  3|Amrita| 30|   102|\n|  4| Madhu| 32|   102|\n|  5|Aditya| 28|   102|\n|  6| Vinay| 42|   103|\n|  7| Smita| 27|   103|\n+---+------+---+------+\n\n"
     ]
    }
   ],
   "source": [
    "df=employee.join(department,employee.deptid==department.id,\"semi\")\n",
    "df.show()"
   ]
  },
  {
   "cell_type": "code",
   "execution_count": 0,
   "metadata": {
    "application/vnd.databricks.v1+cell": {
     "cellMetadata": {
      "byteLimit": 2048000,
      "rowLimit": 10000
     },
     "inputWidgets": {},
     "nuid": "4cc3863b-ca67-419d-8f4e-2bb802145fd1",
     "showTitle": false,
     "tableResultSettingsMap": {},
     "title": ""
    }
   },
   "outputs": [
    {
     "output_type": "stream",
     "name": "stdout",
     "output_type": "stream",
     "text": [
      "['dept', 'emp', 'loc']\n"
     ]
    }
   ],
   "source": [
    "print([ table.name for table in spark.catalog.listTables()])"
   ]
  },
  {
   "cell_type": "code",
   "execution_count": 0,
   "metadata": {
    "application/vnd.databricks.v1+cell": {
     "cellMetadata": {
      "byteLimit": 2048000,
      "implicitDf": true,
      "rowLimit": 10000
     },
     "inputWidgets": {},
     "nuid": "b4c89182-2123-4d79-8e43-d7bd5b10e3e0",
     "showTitle": true,
     "tableResultSettingsMap": {},
     "title": "cross join"
    }
   },
   "outputs": [
    {
     "output_type": "display_data",
     "data": {
      "text/html": [
       "<style scoped>\n",
       "  .table-result-container {\n",
       "    max-height: 300px;\n",
       "    overflow: auto;\n",
       "  }\n",
       "  table, th, td {\n",
       "    border: 1px solid black;\n",
       "    border-collapse: collapse;\n",
       "  }\n",
       "  th, td {\n",
       "    padding: 5px;\n",
       "  }\n",
       "  th {\n",
       "    text-align: left;\n",
       "  }\n",
       "</style><div class='table-result-container'><table class='table-result'><thead style='background-color: white'><tr><th>id</th><th>name</th><th>age</th><th>deptid</th><th>id</th><th>deptname</th><th>locationid</th></tr></thead><tbody><tr><td>1</td><td>Raju</td><td>25</td><td>101</td><td>101</td><td>IT</td><td>1</td></tr><tr><td>1</td><td>Raju</td><td>25</td><td>101</td><td>102</td><td>ITES</td><td>2</td></tr><tr><td>1</td><td>Raju</td><td>25</td><td>101</td><td>103</td><td>Opearation</td><td>3</td></tr><tr><td>1</td><td>Raju</td><td>25</td><td>101</td><td>104</td><td>HRD</td><td>4</td></tr><tr><td>2</td><td>Ramesh</td><td>26</td><td>101</td><td>101</td><td>IT</td><td>1</td></tr><tr><td>2</td><td>Ramesh</td><td>26</td><td>101</td><td>102</td><td>ITES</td><td>2</td></tr><tr><td>2</td><td>Ramesh</td><td>26</td><td>101</td><td>103</td><td>Opearation</td><td>3</td></tr><tr><td>2</td><td>Ramesh</td><td>26</td><td>101</td><td>104</td><td>HRD</td><td>4</td></tr><tr><td>3</td><td>Amrita</td><td>30</td><td>102</td><td>101</td><td>IT</td><td>1</td></tr><tr><td>3</td><td>Amrita</td><td>30</td><td>102</td><td>102</td><td>ITES</td><td>2</td></tr><tr><td>3</td><td>Amrita</td><td>30</td><td>102</td><td>103</td><td>Opearation</td><td>3</td></tr><tr><td>3</td><td>Amrita</td><td>30</td><td>102</td><td>104</td><td>HRD</td><td>4</td></tr><tr><td>4</td><td>Madhu</td><td>32</td><td>102</td><td>101</td><td>IT</td><td>1</td></tr><tr><td>4</td><td>Madhu</td><td>32</td><td>102</td><td>102</td><td>ITES</td><td>2</td></tr><tr><td>4</td><td>Madhu</td><td>32</td><td>102</td><td>103</td><td>Opearation</td><td>3</td></tr><tr><td>4</td><td>Madhu</td><td>32</td><td>102</td><td>104</td><td>HRD</td><td>4</td></tr><tr><td>5</td><td>Aditya</td><td>28</td><td>102</td><td>101</td><td>IT</td><td>1</td></tr><tr><td>5</td><td>Aditya</td><td>28</td><td>102</td><td>102</td><td>ITES</td><td>2</td></tr><tr><td>5</td><td>Aditya</td><td>28</td><td>102</td><td>103</td><td>Opearation</td><td>3</td></tr><tr><td>5</td><td>Aditya</td><td>28</td><td>102</td><td>104</td><td>HRD</td><td>4</td></tr><tr><td>6</td><td>Vinay</td><td>42</td><td>103</td><td>101</td><td>IT</td><td>1</td></tr><tr><td>6</td><td>Vinay</td><td>42</td><td>103</td><td>102</td><td>ITES</td><td>2</td></tr><tr><td>6</td><td>Vinay</td><td>42</td><td>103</td><td>103</td><td>Opearation</td><td>3</td></tr><tr><td>6</td><td>Vinay</td><td>42</td><td>103</td><td>104</td><td>HRD</td><td>4</td></tr><tr><td>7</td><td>Smita</td><td>27</td><td>103</td><td>101</td><td>IT</td><td>1</td></tr><tr><td>7</td><td>Smita</td><td>27</td><td>103</td><td>102</td><td>ITES</td><td>2</td></tr><tr><td>7</td><td>Smita</td><td>27</td><td>103</td><td>103</td><td>Opearation</td><td>3</td></tr><tr><td>7</td><td>Smita</td><td>27</td><td>103</td><td>104</td><td>HRD</td><td>4</td></tr><tr><td>8</td><td>Vinod</td><td>28</td><td>100</td><td>101</td><td>IT</td><td>1</td></tr><tr><td>8</td><td>Vinod</td><td>28</td><td>100</td><td>102</td><td>ITES</td><td>2</td></tr><tr><td>8</td><td>Vinod</td><td>28</td><td>100</td><td>103</td><td>Opearation</td><td>3</td></tr><tr><td>8</td><td>Vinod</td><td>28</td><td>100</td><td>104</td><td>HRD</td><td>4</td></tr></tbody></table></div>"
      ]
     },
     "metadata": {
      "application/vnd.databricks.v1+output": {
       "addedWidgets": {},
       "aggData": [],
       "aggError": "",
       "aggOverflow": false,
       "aggSchema": [],
       "aggSeriesLimitReached": false,
       "aggType": "",
       "arguments": {},
       "columnCustomDisplayInfos": {},
       "data": [
        [
         1,
         "Raju",
         25,
         101,
         101,
         "IT",
         1
        ],
        [
         1,
         "Raju",
         25,
         101,
         102,
         "ITES",
         2
        ],
        [
         1,
         "Raju",
         25,
         101,
         103,
         "Opearation",
         3
        ],
        [
         1,
         "Raju",
         25,
         101,
         104,
         "HRD",
         4
        ],
        [
         2,
         "Ramesh",
         26,
         101,
         101,
         "IT",
         1
        ],
        [
         2,
         "Ramesh",
         26,
         101,
         102,
         "ITES",
         2
        ],
        [
         2,
         "Ramesh",
         26,
         101,
         103,
         "Opearation",
         3
        ],
        [
         2,
         "Ramesh",
         26,
         101,
         104,
         "HRD",
         4
        ],
        [
         3,
         "Amrita",
         30,
         102,
         101,
         "IT",
         1
        ],
        [
         3,
         "Amrita",
         30,
         102,
         102,
         "ITES",
         2
        ],
        [
         3,
         "Amrita",
         30,
         102,
         103,
         "Opearation",
         3
        ],
        [
         3,
         "Amrita",
         30,
         102,
         104,
         "HRD",
         4
        ],
        [
         4,
         "Madhu",
         32,
         102,
         101,
         "IT",
         1
        ],
        [
         4,
         "Madhu",
         32,
         102,
         102,
         "ITES",
         2
        ],
        [
         4,
         "Madhu",
         32,
         102,
         103,
         "Opearation",
         3
        ],
        [
         4,
         "Madhu",
         32,
         102,
         104,
         "HRD",
         4
        ],
        [
         5,
         "Aditya",
         28,
         102,
         101,
         "IT",
         1
        ],
        [
         5,
         "Aditya",
         28,
         102,
         102,
         "ITES",
         2
        ],
        [
         5,
         "Aditya",
         28,
         102,
         103,
         "Opearation",
         3
        ],
        [
         5,
         "Aditya",
         28,
         102,
         104,
         "HRD",
         4
        ],
        [
         6,
         "Vinay",
         42,
         103,
         101,
         "IT",
         1
        ],
        [
         6,
         "Vinay",
         42,
         103,
         102,
         "ITES",
         2
        ],
        [
         6,
         "Vinay",
         42,
         103,
         103,
         "Opearation",
         3
        ],
        [
         6,
         "Vinay",
         42,
         103,
         104,
         "HRD",
         4
        ],
        [
         7,
         "Smita",
         27,
         103,
         101,
         "IT",
         1
        ],
        [
         7,
         "Smita",
         27,
         103,
         102,
         "ITES",
         2
        ],
        [
         7,
         "Smita",
         27,
         103,
         103,
         "Opearation",
         3
        ],
        [
         7,
         "Smita",
         27,
         103,
         104,
         "HRD",
         4
        ],
        [
         8,
         "Vinod",
         28,
         100,
         101,
         "IT",
         1
        ],
        [
         8,
         "Vinod",
         28,
         100,
         102,
         "ITES",
         2
        ],
        [
         8,
         "Vinod",
         28,
         100,
         103,
         "Opearation",
         3
        ],
        [
         8,
         "Vinod",
         28,
         100,
         104,
         "HRD",
         4
        ]
       ],
       "datasetInfos": [],
       "dbfsResultPath": null,
       "isJsonSchema": true,
       "metadata": {},
       "overflow": false,
       "plotOptions": {
        "customPlotOptions": {},
        "displayType": "table",
        "pivotAggregation": null,
        "pivotColumns": null,
        "xColumns": null,
        "yColumns": null
       },
       "removedWidgets": [],
       "schema": [
        {
         "metadata": "{}",
         "name": "id",
         "type": "\"long\""
        },
        {
         "metadata": "{}",
         "name": "name",
         "type": "\"string\""
        },
        {
         "metadata": "{}",
         "name": "age",
         "type": "\"long\""
        },
        {
         "metadata": "{}",
         "name": "deptid",
         "type": "\"long\""
        },
        {
         "metadata": "{}",
         "name": "id",
         "type": "\"long\""
        },
        {
         "metadata": "{}",
         "name": "deptname",
         "type": "\"string\""
        },
        {
         "metadata": "{}",
         "name": "locationid",
         "type": "\"long\""
        }
       ],
       "type": "table"
      }
     },
     "output_type": "display_data"
    }
   ],
   "source": [
    "%sql\n",
    "select emp.*,dept.* from emp\n",
    "cross join dept"
   ]
  },
  {
   "cell_type": "code",
   "execution_count": 0,
   "metadata": {
    "application/vnd.databricks.v1+cell": {
     "cellMetadata": {
      "byteLimit": 2048000,
      "implicitDf": true,
      "rowLimit": 10000
     },
     "inputWidgets": {},
     "nuid": "248987c4-7756-4600-98e1-b3d95643cf7f",
     "showTitle": false,
     "tableResultSettingsMap": {},
     "title": ""
    }
   },
   "outputs": [
    {
     "output_type": "display_data",
     "data": {
      "text/html": [
       "<style scoped>\n",
       "  .table-result-container {\n",
       "    max-height: 300px;\n",
       "    overflow: auto;\n",
       "  }\n",
       "  table, th, td {\n",
       "    border: 1px solid black;\n",
       "    border-collapse: collapse;\n",
       "  }\n",
       "  th, td {\n",
       "    padding: 5px;\n",
       "  }\n",
       "  th {\n",
       "    text-align: left;\n",
       "  }\n",
       "</style><div class='table-result-container'><table class='table-result'><thead style='background-color: white'><tr><th>id</th><th>name</th><th>age</th><th>deptid</th><th>id</th><th>deptname</th><th>locationid</th></tr></thead><tbody><tr><td>1</td><td>Raju</td><td>25</td><td>101</td><td>101</td><td>IT</td><td>1</td></tr><tr><td>1</td><td>Raju</td><td>25</td><td>101</td><td>102</td><td>ITES</td><td>2</td></tr><tr><td>1</td><td>Raju</td><td>25</td><td>101</td><td>103</td><td>Opearation</td><td>3</td></tr><tr><td>1</td><td>Raju</td><td>25</td><td>101</td><td>104</td><td>HRD</td><td>4</td></tr><tr><td>2</td><td>Ramesh</td><td>26</td><td>101</td><td>101</td><td>IT</td><td>1</td></tr><tr><td>2</td><td>Ramesh</td><td>26</td><td>101</td><td>102</td><td>ITES</td><td>2</td></tr><tr><td>2</td><td>Ramesh</td><td>26</td><td>101</td><td>103</td><td>Opearation</td><td>3</td></tr><tr><td>2</td><td>Ramesh</td><td>26</td><td>101</td><td>104</td><td>HRD</td><td>4</td></tr><tr><td>3</td><td>Amrita</td><td>30</td><td>102</td><td>101</td><td>IT</td><td>1</td></tr><tr><td>3</td><td>Amrita</td><td>30</td><td>102</td><td>102</td><td>ITES</td><td>2</td></tr><tr><td>3</td><td>Amrita</td><td>30</td><td>102</td><td>103</td><td>Opearation</td><td>3</td></tr><tr><td>3</td><td>Amrita</td><td>30</td><td>102</td><td>104</td><td>HRD</td><td>4</td></tr><tr><td>4</td><td>Madhu</td><td>32</td><td>102</td><td>101</td><td>IT</td><td>1</td></tr><tr><td>4</td><td>Madhu</td><td>32</td><td>102</td><td>102</td><td>ITES</td><td>2</td></tr><tr><td>4</td><td>Madhu</td><td>32</td><td>102</td><td>103</td><td>Opearation</td><td>3</td></tr><tr><td>4</td><td>Madhu</td><td>32</td><td>102</td><td>104</td><td>HRD</td><td>4</td></tr><tr><td>5</td><td>Aditya</td><td>28</td><td>102</td><td>101</td><td>IT</td><td>1</td></tr><tr><td>5</td><td>Aditya</td><td>28</td><td>102</td><td>102</td><td>ITES</td><td>2</td></tr><tr><td>5</td><td>Aditya</td><td>28</td><td>102</td><td>103</td><td>Opearation</td><td>3</td></tr><tr><td>5</td><td>Aditya</td><td>28</td><td>102</td><td>104</td><td>HRD</td><td>4</td></tr><tr><td>6</td><td>Vinay</td><td>42</td><td>103</td><td>101</td><td>IT</td><td>1</td></tr><tr><td>6</td><td>Vinay</td><td>42</td><td>103</td><td>102</td><td>ITES</td><td>2</td></tr><tr><td>6</td><td>Vinay</td><td>42</td><td>103</td><td>103</td><td>Opearation</td><td>3</td></tr><tr><td>6</td><td>Vinay</td><td>42</td><td>103</td><td>104</td><td>HRD</td><td>4</td></tr><tr><td>7</td><td>Smita</td><td>27</td><td>103</td><td>101</td><td>IT</td><td>1</td></tr><tr><td>7</td><td>Smita</td><td>27</td><td>103</td><td>102</td><td>ITES</td><td>2</td></tr><tr><td>7</td><td>Smita</td><td>27</td><td>103</td><td>103</td><td>Opearation</td><td>3</td></tr><tr><td>7</td><td>Smita</td><td>27</td><td>103</td><td>104</td><td>HRD</td><td>4</td></tr><tr><td>8</td><td>Vinod</td><td>28</td><td>100</td><td>101</td><td>IT</td><td>1</td></tr><tr><td>8</td><td>Vinod</td><td>28</td><td>100</td><td>102</td><td>ITES</td><td>2</td></tr><tr><td>8</td><td>Vinod</td><td>28</td><td>100</td><td>103</td><td>Opearation</td><td>3</td></tr><tr><td>8</td><td>Vinod</td><td>28</td><td>100</td><td>104</td><td>HRD</td><td>4</td></tr></tbody></table></div>"
      ]
     },
     "metadata": {
      "application/vnd.databricks.v1+output": {
       "addedWidgets": {},
       "aggData": [],
       "aggError": "",
       "aggOverflow": false,
       "aggSchema": [],
       "aggSeriesLimitReached": false,
       "aggType": "",
       "arguments": {},
       "columnCustomDisplayInfos": {},
       "data": [
        [
         1,
         "Raju",
         25,
         101,
         101,
         "IT",
         1
        ],
        [
         1,
         "Raju",
         25,
         101,
         102,
         "ITES",
         2
        ],
        [
         1,
         "Raju",
         25,
         101,
         103,
         "Opearation",
         3
        ],
        [
         1,
         "Raju",
         25,
         101,
         104,
         "HRD",
         4
        ],
        [
         2,
         "Ramesh",
         26,
         101,
         101,
         "IT",
         1
        ],
        [
         2,
         "Ramesh",
         26,
         101,
         102,
         "ITES",
         2
        ],
        [
         2,
         "Ramesh",
         26,
         101,
         103,
         "Opearation",
         3
        ],
        [
         2,
         "Ramesh",
         26,
         101,
         104,
         "HRD",
         4
        ],
        [
         3,
         "Amrita",
         30,
         102,
         101,
         "IT",
         1
        ],
        [
         3,
         "Amrita",
         30,
         102,
         102,
         "ITES",
         2
        ],
        [
         3,
         "Amrita",
         30,
         102,
         103,
         "Opearation",
         3
        ],
        [
         3,
         "Amrita",
         30,
         102,
         104,
         "HRD",
         4
        ],
        [
         4,
         "Madhu",
         32,
         102,
         101,
         "IT",
         1
        ],
        [
         4,
         "Madhu",
         32,
         102,
         102,
         "ITES",
         2
        ],
        [
         4,
         "Madhu",
         32,
         102,
         103,
         "Opearation",
         3
        ],
        [
         4,
         "Madhu",
         32,
         102,
         104,
         "HRD",
         4
        ],
        [
         5,
         "Aditya",
         28,
         102,
         101,
         "IT",
         1
        ],
        [
         5,
         "Aditya",
         28,
         102,
         102,
         "ITES",
         2
        ],
        [
         5,
         "Aditya",
         28,
         102,
         103,
         "Opearation",
         3
        ],
        [
         5,
         "Aditya",
         28,
         102,
         104,
         "HRD",
         4
        ],
        [
         6,
         "Vinay",
         42,
         103,
         101,
         "IT",
         1
        ],
        [
         6,
         "Vinay",
         42,
         103,
         102,
         "ITES",
         2
        ],
        [
         6,
         "Vinay",
         42,
         103,
         103,
         "Opearation",
         3
        ],
        [
         6,
         "Vinay",
         42,
         103,
         104,
         "HRD",
         4
        ],
        [
         7,
         "Smita",
         27,
         103,
         101,
         "IT",
         1
        ],
        [
         7,
         "Smita",
         27,
         103,
         102,
         "ITES",
         2
        ],
        [
         7,
         "Smita",
         27,
         103,
         103,
         "Opearation",
         3
        ],
        [
         7,
         "Smita",
         27,
         103,
         104,
         "HRD",
         4
        ],
        [
         8,
         "Vinod",
         28,
         100,
         101,
         "IT",
         1
        ],
        [
         8,
         "Vinod",
         28,
         100,
         102,
         "ITES",
         2
        ],
        [
         8,
         "Vinod",
         28,
         100,
         103,
         "Opearation",
         3
        ],
        [
         8,
         "Vinod",
         28,
         100,
         104,
         "HRD",
         4
        ]
       ],
       "datasetInfos": [],
       "dbfsResultPath": null,
       "isJsonSchema": true,
       "metadata": {},
       "overflow": false,
       "plotOptions": {
        "customPlotOptions": {},
        "displayType": "table",
        "pivotAggregation": null,
        "pivotColumns": null,
        "xColumns": null,
        "yColumns": null
       },
       "removedWidgets": [],
       "schema": [
        {
         "metadata": "{}",
         "name": "id",
         "type": "\"long\""
        },
        {
         "metadata": "{}",
         "name": "name",
         "type": "\"string\""
        },
        {
         "metadata": "{}",
         "name": "age",
         "type": "\"long\""
        },
        {
         "metadata": "{}",
         "name": "deptid",
         "type": "\"long\""
        },
        {
         "metadata": "{}",
         "name": "id",
         "type": "\"long\""
        },
        {
         "metadata": "{}",
         "name": "deptname",
         "type": "\"string\""
        },
        {
         "metadata": "{}",
         "name": "locationid",
         "type": "\"long\""
        }
       ],
       "type": "table"
      }
     },
     "output_type": "display_data"
    }
   ],
   "source": [
    "%sql\n",
    "select emp.*,dept.* from emp\n",
    "cross join dept"
   ]
  },
  {
   "cell_type": "code",
   "execution_count": 0,
   "metadata": {
    "application/vnd.databricks.v1+cell": {
     "cellMetadata": {
      "byteLimit": 2048000,
      "rowLimit": 10000
     },
     "inputWidgets": {},
     "nuid": "457d2f65-aae5-4aa7-b651-3e69fa240e6d",
     "showTitle": false,
     "tableResultSettingsMap": {},
     "title": ""
    }
   },
   "outputs": [],
   "source": [
    "from pyspark.sql.functions import broadcast"
   ]
  },
  {
   "cell_type": "code",
   "execution_count": 0,
   "metadata": {
    "application/vnd.databricks.v1+cell": {
     "cellMetadata": {
      "byteLimit": 2048000,
      "rowLimit": 10000
     },
     "inputWidgets": {},
     "nuid": "ea1ad4a9-639a-4f29-b699-64777fb544d5",
     "showTitle": true,
     "tableResultSettingsMap": {},
     "title": "Broadcast join"
    }
   },
   "outputs": [
    {
     "output_type": "stream",
     "name": "stdout",
     "output_type": "stream",
     "text": [
      "+---+------+---+------+---+----------+----------+\n| id|  name|age|deptid| id|  deptname|locationid|\n+---+------+---+------+---+----------+----------+\n|  1|  Raju| 25|   101|101|        IT|         1|\n|  2|Ramesh| 26|   101|101|        IT|         1|\n|  3|Amrita| 30|   102|102|      ITES|         2|\n|  4| Madhu| 32|   102|102|      ITES|         2|\n|  5|Aditya| 28|   102|102|      ITES|         2|\n|  6| Vinay| 42|   103|103|Opearation|         3|\n|  7| Smita| 27|   103|103|Opearation|         3|\n+---+------+---+------+---+----------+----------+\n\n"
     ]
    }
   ],
   "source": [
    "df=employee.join(broadcast(department),employee.deptid==department.id)\n",
    "df.show()"
   ]
  }
 ],
 "metadata": {
  "application/vnd.databricks.v1+notebook": {
   "dashboards": [],
   "environmentMetadata": null,
   "language": "python",
   "notebookMetadata": {
    "mostRecentlyExecutedCommandWithImplicitDF": {
     "commandId": 1411004730429583,
     "dataframes": [
      "_sqldf"
     ]
    },
    "pythonIndentUnit": 4
   },
   "notebookName": "Joins",
   "widgets": {}
  }
 },
 "nbformat": 4,
 "nbformat_minor": 0
}
