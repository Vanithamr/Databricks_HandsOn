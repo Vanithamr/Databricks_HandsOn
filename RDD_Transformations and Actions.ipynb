{
 "cells": [
  {
   "cell_type": "markdown",
   "metadata": {
    "application/vnd.databricks.v1+cell": {
     "cellMetadata": {},
     "inputWidgets": {},
     "nuid": "8b5d3d9f-566f-4db1-bbcf-7dc5d1592341",
     "showTitle": false,
     "tableResultSettingsMap": {},
     "title": ""
    }
   },
   "source": [
    "## **RDD(Reselient Data Distributions)**\n",
    " *3 Ways of Creating Rdd*\n",
    "- Programmatic data\n",
    "- External files\n",
    "- Existing Transformations"
   ]
  },
  {
   "cell_type": "markdown",
   "metadata": {
    "application/vnd.databricks.v1+cell": {
     "cellMetadata": {},
     "inputWidgets": {},
     "nuid": "2af20120-2fe6-47d2-bb85-bb6e36534790",
     "showTitle": false,
     "tableResultSettingsMap": {},
     "title": ""
    }
   },
   "source": [
    "**Transformations**\n",
    "- Map\n",
    "- FlatMap\n",
    "- Filter\n",
    "- glom\n",
    "- MapPartitions\n",
    "- MapValues\n",
    "- PartitionBy\n",
    "- Distinct\n",
    "- groupBy\n",
    "- groupByKey\n",
    "- reduceByKey\n",
    "- sort\n",
    "- sortByKey\n"
   ]
  },
  {
   "cell_type": "code",
   "execution_count": 0,
   "metadata": {
    "application/vnd.databricks.v1+cell": {
     "cellMetadata": {
      "byteLimit": 2048000,
      "rowLimit": 10000
     },
     "inputWidgets": {},
     "nuid": "83f721e1-3727-4fc0-8f0e-09dde1687a5b",
     "showTitle": true,
     "tableResultSettingsMap": {},
     "title": "Creating a RDD from programmatic data"
    }
   },
   "outputs": [
    {
     "output_type": "stream",
     "name": "stdout",
     "output_type": "stream",
     "text": [
      "Out[5]: [1, 2, 3, 4, 5, 6, 7, 8, 9, 12, 13, 14, 11, 15, 16, 18]"
     ]
    }
   ],
   "source": [
    "rdd=sc.parallelize([1,2,3,4,5,6,7,8,9,12,13,14,11,15,16,18],3)\n",
    "rdd.collect()"
   ]
  },
  {
   "cell_type": "code",
   "execution_count": 0,
   "metadata": {
    "application/vnd.databricks.v1+cell": {
     "cellMetadata": {
      "byteLimit": 2048000,
      "rowLimit": 10000
     },
     "inputWidgets": {},
     "nuid": "61a7fbf4-054a-4f72-ae69-abd65896a03a",
     "showTitle": true,
     "tableResultSettingsMap": {},
     "title": "MAP"
    }
   },
   "outputs": [
    {
     "output_type": "stream",
     "name": "stdout",
     "output_type": "stream",
     "text": [
      "Out[6]: [2, 4, 6, 8, 10, 12, 14, 16, 18, 24, 26, 28, 22, 30, 32, 36]"
     ]
    }
   ],
   "source": [
    "rdd1=rdd.map(lambda x:x*2)\n",
    "rdd1.collect()"
   ]
  },
  {
   "cell_type": "code",
   "execution_count": 0,
   "metadata": {
    "application/vnd.databricks.v1+cell": {
     "cellMetadata": {
      "byteLimit": 2048000,
      "rowLimit": 10000
     },
     "inputWidgets": {},
     "nuid": "dbbf433b-b10a-47d1-948c-e5cf2b4a055f",
     "showTitle": false,
     "tableResultSettingsMap": {},
     "title": ""
    }
   },
   "outputs": [
    {
     "output_type": "stream",
     "name": "stdout",
     "output_type": "stream",
     "text": [
      "Out[7]: [False,\n False,\n True,\n True,\n True,\n True,\n True,\n True,\n True,\n True,\n True,\n True,\n True,\n True,\n True,\n True]"
     ]
    }
   ],
   "source": [
    "rdd1.map(lambda x:(x>5)).collect()"
   ]
  },
  {
   "cell_type": "code",
   "execution_count": 0,
   "metadata": {
    "application/vnd.databricks.v1+cell": {
     "cellMetadata": {
      "byteLimit": 2048000,
      "rowLimit": 10000
     },
     "inputWidgets": {},
     "nuid": "83c83c21-d3a8-48bb-8f6a-38a0aa996ff3",
     "showTitle": false,
     "tableResultSettingsMap": {},
     "title": ""
    }
   },
   "outputs": [
    {
     "output_type": "stream",
     "name": "stdout",
     "output_type": "stream",
     "text": [
      "Out[8]: [False,\n False,\n True,\n True,\n True,\n True,\n True,\n True,\n True,\n True,\n True,\n True,\n True,\n True,\n True,\n True]"
     ]
    }
   ],
   "source": [
    "rdd1.map(lambda x:((x>5) and (x%2==0))).collect()"
   ]
  },
  {
   "cell_type": "code",
   "execution_count": 0,
   "metadata": {
    "application/vnd.databricks.v1+cell": {
     "cellMetadata": {
      "byteLimit": 2048000,
      "rowLimit": 10000
     },
     "inputWidgets": {},
     "nuid": "4db9e062-006b-4556-8289-f9fbdf61977d",
     "showTitle": false,
     "tableResultSettingsMap": {},
     "title": ""
    }
   },
   "outputs": [
    {
     "output_type": "stream",
     "name": "stdout",
     "output_type": "stream",
     "text": [
      "Out[9]: [(2, 1),\n (4, 3),\n (6, 5),\n (8, 7),\n (10, 9),\n (12, 11),\n (14, 13),\n (16, 15),\n (18, 17),\n (24, 23),\n (26, 25),\n (28, 27),\n (22, 21),\n (30, 29),\n (32, 31),\n (36, 35)]"
     ]
    }
   ],
   "source": [
    "rdd2=rdd1.map(lambda x:(x,x-1))\n",
    "rdd2.collect()"
   ]
  },
  {
   "cell_type": "code",
   "execution_count": 0,
   "metadata": {
    "application/vnd.databricks.v1+cell": {
     "cellMetadata": {
      "byteLimit": 2048000,
      "rowLimit": 10000
     },
     "inputWidgets": {},
     "nuid": "49923ba0-6660-4c64-9299-609e82b328a8",
     "showTitle": false,
     "tableResultSettingsMap": {},
     "title": ""
    }
   },
   "outputs": [
    {
     "output_type": "stream",
     "name": "stdout",
     "output_type": "stream",
     "text": [
      "Out[10]: [0, 0, 0, 0, 0, 0, 0, 0, 0, 0, 0, 0, 0, 0, 0, 0]"
     ]
    }
   ],
   "source": [
    "rdd2.map(lambda x:x[0]%2).collect()"
   ]
  },
  {
   "cell_type": "code",
   "execution_count": 0,
   "metadata": {
    "application/vnd.databricks.v1+cell": {
     "cellMetadata": {
      "byteLimit": 2048000,
      "rowLimit": 10000
     },
     "inputWidgets": {},
     "nuid": "8d4c4c99-7c16-4851-a785-c925d987371b",
     "showTitle": false,
     "tableResultSettingsMap": {},
     "title": ""
    }
   },
   "outputs": [
    {
     "output_type": "stream",
     "name": "stdout",
     "output_type": "stream",
     "text": [
      "Out[11]: [3, 7, 11, 15, 19, 23, 27, 31, 35, 47, 51, 55, 43, 59, 63, 71]"
     ]
    }
   ],
   "source": [
    "rdd2.map(lambda x:x[0]*2-1).collect()"
   ]
  },
  {
   "cell_type": "code",
   "execution_count": 0,
   "metadata": {
    "application/vnd.databricks.v1+cell": {
     "cellMetadata": {
      "byteLimit": 2048000,
      "rowLimit": 10000
     },
     "inputWidgets": {},
     "nuid": "38d20e3c-3414-4f46-becc-82e2fe36ee7a",
     "showTitle": true,
     "tableResultSettingsMap": {},
     "title": "filter"
    }
   },
   "outputs": [
    {
     "output_type": "stream",
     "name": "stdout",
     "output_type": "stream",
     "text": [
      "Out[12]: [(4, 3), (8, 7), (12, 11), (16, 15), (24, 23), (28, 27), (32, 31), (36, 35)]"
     ]
    }
   ],
   "source": [
    "rdd2.filter(lambda x:(x[0]%4==0)).collect()"
   ]
  },
  {
   "cell_type": "code",
   "execution_count": 0,
   "metadata": {
    "application/vnd.databricks.v1+cell": {
     "cellMetadata": {
      "byteLimit": 2048000,
      "rowLimit": 10000
     },
     "inputWidgets": {},
     "nuid": "0390d4d2-af12-407d-8264-f8631d201cdb",
     "showTitle": false,
     "tableResultSettingsMap": {},
     "title": ""
    }
   },
   "outputs": [
    {
     "output_type": "stream",
     "name": "stdout",
     "output_type": "stream",
     "text": [
      "Out[13]: [False,\n False,\n True,\n True,\n True,\n True,\n True,\n True,\n True,\n True,\n True,\n True,\n True,\n True,\n True,\n True]"
     ]
    }
   ],
   "source": [
    "rdd1.map(lambda x:(x>5)).collect()"
   ]
  },
  {
   "cell_type": "code",
   "execution_count": 0,
   "metadata": {
    "application/vnd.databricks.v1+cell": {
     "cellMetadata": {
      "byteLimit": 2048000,
      "rowLimit": 10000
     },
     "inputWidgets": {},
     "nuid": "bee4b2a7-e92d-46b9-b386-4cd23ab171df",
     "showTitle": false,
     "tableResultSettingsMap": {},
     "title": ""
    }
   },
   "outputs": [
    {
     "output_type": "stream",
     "name": "stdout",
     "output_type": "stream",
     "text": [
      "Out[14]: [2, 4, 6, 8, 10, 12, 14, 16, 18, 24, 26, 28, 22, 30, 32, 36]"
     ]
    }
   ],
   "source": [
    "rdd1.filter(lambda x:(x%2==0)).collect()"
   ]
  },
  {
   "cell_type": "code",
   "execution_count": 0,
   "metadata": {
    "application/vnd.databricks.v1+cell": {
     "cellMetadata": {
      "byteLimit": 2048000,
      "rowLimit": 10000
     },
     "inputWidgets": {},
     "nuid": "675b4303-f06b-45f5-9ddb-ac1e6cc3d56c",
     "showTitle": true,
     "tableResultSettingsMap": {},
     "title": "glom"
    }
   },
   "outputs": [
    {
     "output_type": "stream",
     "name": "stdout",
     "output_type": "stream",
     "text": [
      "Out[15]: [[2, 4, 6, 8, 10], [12, 14, 16, 18, 24], [26, 28, 22, 30, 32, 36]]"
     ]
    }
   ],
   "source": [
    "rdd1.glom().collect()"
   ]
  },
  {
   "cell_type": "code",
   "execution_count": 0,
   "metadata": {
    "application/vnd.databricks.v1+cell": {
     "cellMetadata": {
      "byteLimit": 2048000,
      "rowLimit": 10000
     },
     "inputWidgets": {},
     "nuid": "f27ca6a4-8481-46ed-a5d8-b2530d0f6d71",
     "showTitle": false,
     "tableResultSettingsMap": {},
     "title": ""
    }
   },
   "outputs": [
    {
     "output_type": "stream",
     "name": "stdout",
     "output_type": "stream",
     "text": [
      "Out[16]: [30, 84, 174]"
     ]
    }
   ],
   "source": [
    "rdd1.glom().map(sum).collect()"
   ]
  },
  {
   "cell_type": "code",
   "execution_count": 0,
   "metadata": {
    "application/vnd.databricks.v1+cell": {
     "cellMetadata": {
      "byteLimit": 2048000,
      "rowLimit": 10000
     },
     "inputWidgets": {},
     "nuid": "cb405de8-cfdd-4e6e-ab55-7b36bbab03a3",
     "showTitle": false,
     "tableResultSettingsMap": {},
     "title": ""
    }
   },
   "outputs": [
    {
     "output_type": "stream",
     "name": "stdout",
     "output_type": "stream",
     "text": [
      "Out[17]: [5, 5, 6]"
     ]
    }
   ],
   "source": [
    "rdd1.glom().map(len).collect()"
   ]
  },
  {
   "cell_type": "code",
   "execution_count": 0,
   "metadata": {
    "application/vnd.databricks.v1+cell": {
     "cellMetadata": {
      "byteLimit": 2048000,
      "rowLimit": 10000
     },
     "inputWidgets": {},
     "nuid": "3d5f862b-473c-43d4-98f1-ec86ff0c1ff8",
     "showTitle": false,
     "tableResultSettingsMap": {},
     "title": ""
    }
   },
   "outputs": [
    {
     "output_type": "stream",
     "name": "stdout",
     "output_type": "stream",
     "text": [
      "Out[18]: [[2, 4, 6, 8, 10], [12, 14, 16, 18, 24], [26, 28, 22, 30, 32, 36]]"
     ]
    }
   ],
   "source": [
    "rdd1.glom().map(list).collect()"
   ]
  },
  {
   "cell_type": "code",
   "execution_count": 0,
   "metadata": {
    "application/vnd.databricks.v1+cell": {
     "cellMetadata": {
      "byteLimit": 2048000,
      "rowLimit": 10000
     },
     "inputWidgets": {},
     "nuid": "250a9fdf-bc58-4907-ae83-0f5631b32379",
     "showTitle": false,
     "tableResultSettingsMap": {},
     "title": ""
    }
   },
   "outputs": [
    {
     "output_type": "stream",
     "name": "stdout",
     "output_type": "stream",
     "text": [
      "Out[19]: [10, 24, 36]"
     ]
    }
   ],
   "source": [
    "rdd1.glom().map(max).collect()"
   ]
  },
  {
   "cell_type": "code",
   "execution_count": 0,
   "metadata": {
    "application/vnd.databricks.v1+cell": {
     "cellMetadata": {
      "byteLimit": 2048000,
      "rowLimit": 10000
     },
     "inputWidgets": {},
     "nuid": "5bba448d-b7eb-4f54-940b-bd74c9484193",
     "showTitle": false,
     "tableResultSettingsMap": {},
     "title": ""
    }
   },
   "outputs": [
    {
     "output_type": "stream",
     "name": "stdout",
     "output_type": "stream",
     "text": [
      "Out[20]: ['she is employee of cts, where she is working on data engineer role, she has  3 years  of  total experience']"
     ]
    }
   ],
   "source": [
    "strng=sc.parallelize([\"she is employee of cts, where she is working on data engineer role, she has  3 years  of  total experience\"],3)\n",
    "strng.collect()"
   ]
  },
  {
   "cell_type": "code",
   "execution_count": 0,
   "metadata": {
    "application/vnd.databricks.v1+cell": {
     "cellMetadata": {
      "byteLimit": 2048000,
      "rowLimit": 10000
     },
     "inputWidgets": {},
     "nuid": "34fe7086-e63a-48f9-ad52-c7533ddc596b",
     "showTitle": false,
     "tableResultSettingsMap": {},
     "title": ""
    }
   },
   "outputs": [
    {
     "output_type": "stream",
     "name": "stdout",
     "output_type": "stream",
     "text": [
      "Out[21]: [['she is employee of cts',\n  ' where she is working on data engineer role',\n  ' she has  3 years  of  total experience']]"
     ]
    }
   ],
   "source": [
    "s1=strng.map(lambda x:x.split(\",\"))\n",
    "s1.collect()"
   ]
  },
  {
   "cell_type": "code",
   "execution_count": 0,
   "metadata": {
    "application/vnd.databricks.v1+cell": {
     "cellMetadata": {
      "byteLimit": 2048000,
      "rowLimit": 10000
     },
     "inputWidgets": {},
     "nuid": "276a43e0-10e8-428a-9a7a-71aeffa7ecbc",
     "showTitle": false,
     "tableResultSettingsMap": {},
     "title": ""
    }
   },
   "outputs": [
    {
     "output_type": "stream",
     "name": "stdout",
     "output_type": "stream",
     "text": [
      "Out[22]: [2,\n 1,\n 4,\n 3,\n 6,\n 5,\n 8,\n 7,\n 10,\n 9,\n 12,\n 11,\n 14,\n 13,\n 16,\n 15,\n 18,\n 17,\n 24,\n 23,\n 26,\n 25,\n 28,\n 27,\n 22,\n 21,\n 30,\n 29,\n 32,\n 31,\n 36,\n 35]"
     ]
    }
   ],
   "source": [
    "rdd1.map(lambda x:(x,x-1)).flatMap(lambda x:x).collect()"
   ]
  },
  {
   "cell_type": "code",
   "execution_count": 0,
   "metadata": {
    "application/vnd.databricks.v1+cell": {
     "cellMetadata": {
      "byteLimit": 2048000,
      "rowLimit": 10000
     },
     "inputWidgets": {},
     "nuid": "3eb4d58a-2e58-493f-8751-17f4f12950e6",
     "showTitle": false,
     "tableResultSettingsMap": {},
     "title": ""
    }
   },
   "outputs": [
    {
     "output_type": "stream",
     "name": "stdout",
     "output_type": "stream",
     "text": [
      "Out[23]: [2,\n 4,\n 4,\n 16,\n 6,\n 36,\n 8,\n 64,\n 10,\n 100,\n 12,\n 144,\n 14,\n 196,\n 16,\n 256,\n 18,\n 324,\n 24,\n 576,\n 26,\n 676,\n 28,\n 784,\n 22,\n 484,\n 30,\n 900,\n 32,\n 1024,\n 36,\n 1296]"
     ]
    }
   ],
   "source": [
    "rdd1.map(lambda x:(x,x**2)).flatMap(lambda x:x).collect()"
   ]
  },
  {
   "cell_type": "code",
   "execution_count": 0,
   "metadata": {
    "application/vnd.databricks.v1+cell": {
     "cellMetadata": {
      "byteLimit": 2048000,
      "rowLimit": 10000
     },
     "inputWidgets": {},
     "nuid": "bc60e84c-9db6-452f-bd51-934fb576764d",
     "showTitle": false,
     "tableResultSettingsMap": {},
     "title": ""
    }
   },
   "outputs": [
    {
     "output_type": "stream",
     "name": "stdout",
     "output_type": "stream",
     "text": [
      "Out[24]: [6, 12, 18, 24, 30, 36]"
     ]
    }
   ],
   "source": [
    "def fun(n):\n",
    "  return n%3==0\n",
    "\n",
    "rdd1.filter(fun).collect()"
   ]
  },
  {
   "cell_type": "code",
   "execution_count": 0,
   "metadata": {
    "application/vnd.databricks.v1+cell": {
     "cellMetadata": {
      "byteLimit": 2048000,
      "rowLimit": 10000
     },
     "inputWidgets": {},
     "nuid": "91975b0a-5fad-4cf9-853a-c61cadc86da3",
     "showTitle": false,
     "tableResultSettingsMap": {},
     "title": ""
    }
   },
   "outputs": [
    {
     "output_type": "stream",
     "name": "stdout",
     "output_type": "stream",
     "text": [
      "Out[25]: [4,\n 5,\n 0,\n 8,\n 7,\n 2,\n 12,\n 9,\n 4,\n 16,\n 11,\n 6,\n 20,\n 13,\n 8,\n 24,\n 15,\n 10,\n 28,\n 17,\n 12,\n 32,\n 19,\n 14,\n 36,\n 21,\n 16,\n 48,\n 27,\n 22,\n 52,\n 29,\n 24,\n 56,\n 31,\n 26,\n 44,\n 25,\n 20,\n 60,\n 33,\n 28,\n 64,\n 35,\n 30,\n 72,\n 39,\n 34]"
     ]
    }
   ],
   "source": [
    "rdd1.map(lambda x:x).flatMap(lambda x:(x*2,x+3,x-2)).collect()"
   ]
  },
  {
   "cell_type": "code",
   "execution_count": 0,
   "metadata": {
    "application/vnd.databricks.v1+cell": {
     "cellMetadata": {
      "byteLimit": 2048000,
      "rowLimit": 10000
     },
     "inputWidgets": {},
     "nuid": "a5eb3802-0257-4399-ad75-efd7cb46619c",
     "showTitle": false,
     "tableResultSettingsMap": {},
     "title": ""
    }
   },
   "outputs": [
    {
     "output_type": "stream",
     "name": "stdout",
     "output_type": "stream",
     "text": [
      "Out[26]: [(2, 4),\n (4, 8),\n (6, 12),\n (8, 16),\n (10, 20),\n (12, 24),\n (14, 28),\n (16, 32),\n (18, 36),\n (24, 48),\n (26, 52),\n (28, 56),\n (22, 44),\n (30, 60),\n (32, 64),\n (36, 72)]"
     ]
    }
   ],
   "source": [
    "rdd1.map(lambda x:(x,x*2)).filter(lambda x:x[1]%2==0).collect()"
   ]
  },
  {
   "cell_type": "code",
   "execution_count": 0,
   "metadata": {
    "application/vnd.databricks.v1+cell": {
     "cellMetadata": {
      "byteLimit": 2048000,
      "rowLimit": 10000
     },
     "inputWidgets": {},
     "nuid": "a47742cd-0cb3-4e05-90af-3d41e760befd",
     "showTitle": false,
     "tableResultSettingsMap": {},
     "title": ""
    }
   },
   "outputs": [
    {
     "output_type": "stream",
     "name": "stdout",
     "output_type": "stream",
     "text": [
      "Out[27]: ['spark is a general purpose execution framework',\n 'spark can run on hadoop',\n 'scala is preferred language for spark',\n 'spark also supports java and python',\n 'spark is a general purpose execution framework',\n 'spark can run on hadoop',\n 'scala is preferred language for spark',\n 'spark also supports java and python',\n 'python spark scala java pyspark hadoop',\n 'spark python spark rdd rdd rdd sql spark',\n 'pythom machine learning spark sql rdd rdd']"
     ]
    }
   ],
   "source": [
    "text=sc.textFile(\"dbfs:/FileStore/cts_data/wordcount.txt\",3)\n",
    "text.collect()"
   ]
  },
  {
   "cell_type": "code",
   "execution_count": 0,
   "metadata": {
    "application/vnd.databricks.v1+cell": {
     "cellMetadata": {
      "byteLimit": 2048000,
      "rowLimit": 10000
     },
     "inputWidgets": {},
     "nuid": "c90da0cd-ec8f-4722-a719-979a7efa9428",
     "showTitle": false,
     "tableResultSettingsMap": {},
     "title": ""
    }
   },
   "outputs": [
    {
     "output_type": "stream",
     "name": "stdout",
     "output_type": "stream",
     "text": [
      "Out[28]: [46, 23, 37, 35, 46, 23, 37, 35, 38, 40, 41]"
     ]
    }
   ],
   "source": [
    "text.map(lambda x:len(x)).collect()"
   ]
  },
  {
   "cell_type": "code",
   "execution_count": 0,
   "metadata": {
    "application/vnd.databricks.v1+cell": {
     "cellMetadata": {
      "byteLimit": 2048000,
      "rowLimit": 10000
     },
     "inputWidgets": {},
     "nuid": "327e5e8f-cb1d-46e5-bf14-d9735ee028c8",
     "showTitle": false,
     "tableResultSettingsMap": {},
     "title": ""
    }
   },
   "outputs": [
    {
     "output_type": "stream",
     "name": "stdout",
     "output_type": "stream",
     "text": [
      "Out[29]: ['python spark scala java pyspark hadoop']"
     ]
    }
   ],
   "source": [
    "text.filter(lambda x:(len(x)>25 and x[-1]=='p')).collect()"
   ]
  },
  {
   "cell_type": "code",
   "execution_count": 0,
   "metadata": {
    "application/vnd.databricks.v1+cell": {
     "cellMetadata": {
      "byteLimit": 2048000,
      "rowLimit": 10000
     },
     "inputWidgets": {},
     "nuid": "efb83641-0581-4a88-86a1-ae9ae7af2c52",
     "showTitle": false,
     "tableResultSettingsMap": {},
     "title": ""
    }
   },
   "outputs": [
    {
     "output_type": "stream",
     "name": "stdout",
     "output_type": "stream",
     "text": [
      "Out[30]: ['scala is preferred language for spark',\n 'scala is preferred language for spark',\n 'spark python spark rdd rdd rdd sql spark']"
     ]
    }
   ],
   "source": [
    "text.filter(lambda x:x[-5]==\"s\").collect()"
   ]
  },
  {
   "cell_type": "code",
   "execution_count": 0,
   "metadata": {
    "application/vnd.databricks.v1+cell": {
     "cellMetadata": {
      "byteLimit": 2048000,
      "rowLimit": 10000
     },
     "inputWidgets": {},
     "nuid": "0cfcfc6f-31c1-49bd-9173-9b715cf19dd9",
     "showTitle": false,
     "tableResultSettingsMap": {},
     "title": ""
    }
   },
   "outputs": [
    {
     "output_type": "stream",
     "name": "stdout",
     "output_type": "stream",
     "text": [
      "Out[31]: [['spark', 'is', 'a', 'general', 'purpose', 'execution', 'framework'],\n ['spark', 'can', 'run', 'on', 'hadoop'],\n ['scala', 'is', 'preferred', 'language', 'for', 'spark'],\n ['spark', 'also', 'supports', 'java', 'and', 'python'],\n ['spark', 'is', 'a', 'general', 'purpose', 'execution', 'framework'],\n ['spark', 'can', 'run', 'on', 'hadoop'],\n ['scala', 'is', 'preferred', 'language', 'for', 'spark'],\n ['spark', 'also', 'supports', 'java', 'and', 'python'],\n ['python', 'spark', 'scala', 'java', 'pyspark', 'hadoop'],\n ['spark', 'python', 'spark', 'rdd', 'rdd', 'rdd', 'sql', 'spark'],\n ['pythom', 'machine', 'learning', 'spark', 'sql', 'rdd', 'rdd']]"
     ]
    }
   ],
   "source": [
    "ts=text.map(lambda x:x.split())\n",
    "ts.collect()"
   ]
  },
  {
   "cell_type": "code",
   "execution_count": 0,
   "metadata": {
    "application/vnd.databricks.v1+cell": {
     "cellMetadata": {
      "byteLimit": 2048000,
      "rowLimit": 10000
     },
     "inputWidgets": {},
     "nuid": "f874275b-92e3-42dc-af1c-d6989f98baff",
     "showTitle": false,
     "tableResultSettingsMap": {},
     "title": ""
    }
   },
   "outputs": [
    {
     "output_type": "stream",
     "name": "stdout",
     "output_type": "stream",
     "text": [
      "Out[32]: [[7, 5, 6, 6], [7, 5, 6, 6], [6, 8, 7]]"
     ]
    }
   ],
   "source": [
    "ts.map(lambda x:len(x)).glom().collect()"
   ]
  },
  {
   "cell_type": "code",
   "execution_count": 0,
   "metadata": {
    "application/vnd.databricks.v1+cell": {
     "cellMetadata": {
      "byteLimit": 2048000,
      "rowLimit": 10000
     },
     "inputWidgets": {},
     "nuid": "85123be4-2ccb-4fc6-b70e-a23a32bb62a2",
     "showTitle": false,
     "tableResultSettingsMap": {},
     "title": ""
    }
   },
   "outputs": [
    {
     "output_type": "stream",
     "name": "stdout",
     "output_type": "stream",
     "text": [
      "Out[33]: ['java and python', 'java and python']"
     ]
    }
   ],
   "source": [
    "text.map(lambda x:x[-15:]).filter(lambda x:x[-1]=='n').collect()"
   ]
  },
  {
   "cell_type": "code",
   "execution_count": 0,
   "metadata": {
    "application/vnd.databricks.v1+cell": {
     "cellMetadata": {
      "byteLimit": 2048000,
      "rowLimit": 10000
     },
     "inputWidgets": {},
     "nuid": "b29a0538-57a8-44cf-84b4-ec39f075c9c7",
     "showTitle": false,
     "tableResultSettingsMap": {},
     "title": ""
    }
   },
   "outputs": [
    {
     "output_type": "stream",
     "name": "stdout",
     "output_type": "stream",
     "text": [
      "Out[72]: ['spark also supports java and python', 'spark also supports java and python']"
     ]
    }
   ],
   "source": [
    "text.filter(lambda x:(x[-15:] and x[-1]=='n')).collect()"
   ]
  },
  {
   "cell_type": "code",
   "execution_count": 0,
   "metadata": {
    "application/vnd.databricks.v1+cell": {
     "cellMetadata": {
      "byteLimit": 2048000,
      "rowLimit": 10000
     },
     "inputWidgets": {},
     "nuid": "e17211d3-ce44-47ee-8427-2f5fa02e8520",
     "showTitle": false,
     "tableResultSettingsMap": {},
     "title": ""
    }
   },
   "outputs": [
    {
     "output_type": "stream",
     "name": "stdout",
     "output_type": "stream",
     "text": [
      "Out[34]: ['spark is a general purpose execution framework',\n 'spark can run on hadoop',\n 'scala is preferred language for spark',\n 'spark also supports java and python',\n 'spark is a general purpose execution framework',\n 'spark can run on hadoop',\n 'scala is preferred language for spark',\n 'spark also supports java and python',\n 'spark python spark rdd rdd rdd sql spark']"
     ]
    }
   ],
   "source": [
    "text.filter(lambda x:x[0]=='s').collect()"
   ]
  },
  {
   "cell_type": "code",
   "execution_count": 0,
   "metadata": {
    "application/vnd.databricks.v1+cell": {
     "cellMetadata": {
      "byteLimit": 2048000,
      "rowLimit": 10000
     },
     "inputWidgets": {},
     "nuid": "0025dc93-06e6-4a78-8442-dd97f7e179cd",
     "showTitle": false,
     "tableResultSettingsMap": {},
     "title": ""
    }
   },
   "outputs": [
    {
     "output_type": "stream",
     "name": "stdout",
     "output_type": "stream",
     "text": [
      "Out[35]: [7, 5, 6, 6, 7, 5, 6, 6, 6, 8, 7]"
     ]
    }
   ],
   "source": [
    "ts.map(lambda x:len(x)).collect()"
   ]
  },
  {
   "cell_type": "code",
   "execution_count": 0,
   "metadata": {
    "application/vnd.databricks.v1+cell": {
     "cellMetadata": {
      "byteLimit": 2048000,
      "rowLimit": 10000
     },
     "inputWidgets": {},
     "nuid": "86007ade-a924-4c4b-b3ac-e1e40b4ef5f4",
     "showTitle": false,
     "tableResultSettingsMap": {},
     "title": ""
    }
   },
   "outputs": [
    {
     "output_type": "stream",
     "name": "stdout",
     "output_type": "stream",
     "text": [
      "Out[36]: ['spark',\n 'is',\n 'a',\n 'general',\n 'purpose',\n 'execution',\n 'framework',\n 'spark',\n 'can',\n 'run',\n 'on',\n 'hadoop',\n 'scala',\n 'is',\n 'preferred',\n 'language',\n 'for',\n 'spark',\n 'spark',\n 'also',\n 'supports',\n 'java',\n 'and',\n 'python',\n 'spark',\n 'is',\n 'a',\n 'general',\n 'purpose',\n 'execution',\n 'framework',\n 'spark',\n 'can',\n 'run',\n 'on',\n 'hadoop',\n 'scala',\n 'is',\n 'preferred',\n 'language',\n 'for',\n 'spark',\n 'spark',\n 'also',\n 'supports',\n 'java',\n 'and',\n 'python',\n 'python',\n 'spark',\n 'scala',\n 'java',\n 'pyspark',\n 'hadoop',\n 'spark',\n 'python',\n 'spark',\n 'rdd',\n 'rdd',\n 'rdd',\n 'sql',\n 'spark',\n 'pythom',\n 'machine',\n 'learning',\n 'spark',\n 'sql',\n 'rdd',\n 'rdd']"
     ]
    }
   ],
   "source": [
    "fm=text.flatMap(lambda x:x.split())\n",
    "fm.collect()"
   ]
  },
  {
   "cell_type": "code",
   "execution_count": 0,
   "metadata": {
    "application/vnd.databricks.v1+cell": {
     "cellMetadata": {
      "byteLimit": 2048000,
      "rowLimit": 10000
     },
     "inputWidgets": {},
     "nuid": "6682a9fb-f706-4b1c-a31c-ffba169cb081",
     "showTitle": false,
     "tableResultSettingsMap": {},
     "title": ""
    }
   },
   "outputs": [
    {
     "output_type": "stream",
     "name": "stdout",
     "output_type": "stream",
     "text": [
      "Out[37]: [5,\n 2,\n 1,\n 7,\n 7,\n 9,\n 9,\n 5,\n 3,\n 3,\n 2,\n 6,\n 5,\n 2,\n 9,\n 8,\n 3,\n 5,\n 5,\n 4,\n 8,\n 4,\n 3,\n 6,\n 5,\n 2,\n 1,\n 7,\n 7,\n 9,\n 9,\n 5,\n 3,\n 3,\n 2,\n 6,\n 5,\n 2,\n 9,\n 8,\n 3,\n 5,\n 5,\n 4,\n 8,\n 4,\n 3,\n 6,\n 6,\n 5,\n 5,\n 4,\n 7,\n 6,\n 5,\n 6,\n 5,\n 3,\n 3,\n 3,\n 3,\n 5,\n 6,\n 7,\n 8,\n 5,\n 3,\n 3,\n 3]"
     ]
    }
   ],
   "source": [
    "fm.map(lambda x:len(x)).collect()\n"
   ]
  },
  {
   "cell_type": "code",
   "execution_count": 0,
   "metadata": {
    "application/vnd.databricks.v1+cell": {
     "cellMetadata": {
      "byteLimit": 2048000,
      "rowLimit": 10000
     },
     "inputWidgets": {},
     "nuid": "bc21128d-d253-487a-9e51-a2415e26039c",
     "showTitle": false,
     "tableResultSettingsMap": {},
     "title": ""
    }
   },
   "outputs": [
    {
     "output_type": "stream",
     "name": "stdout",
     "output_type": "stream",
     "text": [
      "Out[38]: [['python'], ['python'], ['python', 'python']]"
     ]
    }
   ],
   "source": [
    "fm.filter(lambda x:x=='python').glom().collect()"
   ]
  },
  {
   "cell_type": "code",
   "execution_count": 0,
   "metadata": {
    "application/vnd.databricks.v1+cell": {
     "cellMetadata": {
      "byteLimit": 2048000,
      "rowLimit": 10000
     },
     "inputWidgets": {},
     "nuid": "0c45f7e1-be27-42fb-8b02-14fb7836f8bf",
     "showTitle": false,
     "tableResultSettingsMap": {},
     "title": ""
    }
   },
   "outputs": [
    {
     "output_type": "stream",
     "name": "stdout",
     "output_type": "stream",
     "text": [
      "Out[39]: ['hadoop', 'hadoop', 'hadoop']"
     ]
    }
   ],
   "source": [
    "fm.filter(lambda x:x[0]=='h').collect()"
   ]
  },
  {
   "cell_type": "code",
   "execution_count": 0,
   "metadata": {
    "application/vnd.databricks.v1+cell": {
     "cellMetadata": {
      "byteLimit": 2048000,
      "rowLimit": 10000
     },
     "inputWidgets": {},
     "nuid": "cdc61b1d-0282-4acf-af0b-eaefeb02ea9f",
     "showTitle": false,
     "tableResultSettingsMap": {},
     "title": ""
    }
   },
   "outputs": [
    {
     "output_type": "stream",
     "name": "stdout",
     "output_type": "stream",
     "text": [
      "Out[40]: ['learning']"
     ]
    }
   ],
   "source": [
    "fm.map(lambda x:x[:10]).filter(lambda x:x[-1]=='g').collect()"
   ]
  },
  {
   "cell_type": "code",
   "execution_count": 0,
   "metadata": {
    "application/vnd.databricks.v1+cell": {
     "cellMetadata": {
      "byteLimit": 2048000,
      "rowLimit": 10000
     },
     "inputWidgets": {},
     "nuid": "201bdd33-bf78-46f1-aa91-7fdb21841edb",
     "showTitle": false,
     "tableResultSettingsMap": {},
     "title": ""
    }
   },
   "outputs": [
    {
     "output_type": "stream",
     "name": "stdout",
     "output_type": "stream",
     "text": [
      "Out[41]: ['s',\n 'p',\n 'a',\n 'r',\n 'k',\n 'i',\n 's',\n 'a',\n 'g',\n 'e',\n 'n',\n 'e',\n 'r',\n 'a',\n 'l',\n 'p',\n 'u',\n 'r',\n 'p',\n 'o',\n 's',\n 'e',\n 'e',\n 'x',\n 'e',\n 'c',\n 'u',\n 't',\n 'i',\n 'o',\n 'n',\n 'f',\n 'r',\n 'a',\n 'm',\n 'e',\n 'w',\n 'o',\n 'r',\n 'k',\n 's',\n 'p',\n 'a',\n 'r',\n 'k',\n 'c',\n 'a',\n 'n',\n 'r',\n 'u',\n 'n',\n 'o',\n 'n',\n 'h',\n 'a',\n 'd',\n 'o',\n 'o',\n 'p',\n 's',\n 'c',\n 'a',\n 'l',\n 'a',\n 'i',\n 's',\n 'p',\n 'r',\n 'e',\n 'f',\n 'e',\n 'r',\n 'r',\n 'e',\n 'd',\n 'l',\n 'a',\n 'n',\n 'g',\n 'u',\n 'a',\n 'g',\n 'e',\n 'f',\n 'o',\n 'r',\n 's',\n 'p',\n 'a',\n 'r',\n 'k',\n 's',\n 'p',\n 'a',\n 'r',\n 'k',\n 'a',\n 'l',\n 's',\n 'o',\n 's',\n 'u',\n 'p',\n 'p',\n 'o',\n 'r',\n 't',\n 's',\n 'j',\n 'a',\n 'v',\n 'a',\n 'a',\n 'n',\n 'd',\n 'p',\n 'y',\n 't',\n 'h',\n 'o',\n 'n',\n 's',\n 'p',\n 'a',\n 'r',\n 'k',\n 'i',\n 's',\n 'a',\n 'g',\n 'e',\n 'n',\n 'e',\n 'r',\n 'a',\n 'l',\n 'p',\n 'u',\n 'r',\n 'p',\n 'o',\n 's',\n 'e',\n 'e',\n 'x',\n 'e',\n 'c',\n 'u',\n 't',\n 'i',\n 'o',\n 'n',\n 'f',\n 'r',\n 'a',\n 'm',\n 'e',\n 'w',\n 'o',\n 'r',\n 'k',\n 's',\n 'p',\n 'a',\n 'r',\n 'k',\n 'c',\n 'a',\n 'n',\n 'r',\n 'u',\n 'n',\n 'o',\n 'n',\n 'h',\n 'a',\n 'd',\n 'o',\n 'o',\n 'p',\n 's',\n 'c',\n 'a',\n 'l',\n 'a',\n 'i',\n 's',\n 'p',\n 'r',\n 'e',\n 'f',\n 'e',\n 'r',\n 'r',\n 'e',\n 'd',\n 'l',\n 'a',\n 'n',\n 'g',\n 'u',\n 'a',\n 'g',\n 'e',\n 'f',\n 'o',\n 'r',\n 's',\n 'p',\n 'a',\n 'r',\n 'k',\n 's',\n 'p',\n 'a',\n 'r',\n 'k',\n 'a',\n 'l',\n 's',\n 'o',\n 's',\n 'u',\n 'p',\n 'p',\n 'o',\n 'r',\n 't',\n 's',\n 'j',\n 'a',\n 'v',\n 'a',\n 'a',\n 'n',\n 'd',\n 'p',\n 'y',\n 't',\n 'h',\n 'o',\n 'n',\n 'p',\n 'y',\n 't',\n 'h',\n 'o',\n 'n',\n 's',\n 'p',\n 'a',\n 'r',\n 'k',\n 's',\n 'c',\n 'a',\n 'l',\n 'a',\n 'j',\n 'a',\n 'v',\n 'a',\n 'p',\n 'y',\n 's',\n 'p',\n 'a',\n 'r',\n 'k',\n 'h',\n 'a',\n 'd',\n 'o',\n 'o',\n 'p',\n 's',\n 'p',\n 'a',\n 'r',\n 'k',\n 'p',\n 'y',\n 't',\n 'h',\n 'o',\n 'n',\n 's',\n 'p',\n 'a',\n 'r',\n 'k',\n 'r',\n 'd',\n 'd',\n 'r',\n 'd',\n 'd',\n 'r',\n 'd',\n 'd',\n 's',\n 'q',\n 'l',\n 's',\n 'p',\n 'a',\n 'r',\n 'k',\n 'p',\n 'y',\n 't',\n 'h',\n 'o',\n 'm',\n 'm',\n 'a',\n 'c',\n 'h',\n 'i',\n 'n',\n 'e',\n 'l',\n 'e',\n 'a',\n 'r',\n 'n',\n 'i',\n 'n',\n 'g',\n 's',\n 'p',\n 'a',\n 'r',\n 'k',\n 's',\n 'q',\n 'l',\n 'r',\n 'd',\n 'd',\n 'r',\n 'd',\n 'd']"
     ]
    }
   ],
   "source": [
    "fm.flatMap(lambda x:x).collect()"
   ]
  },
  {
   "cell_type": "code",
   "execution_count": 0,
   "metadata": {
    "application/vnd.databricks.v1+cell": {
     "cellMetadata": {
      "byteLimit": 2048000,
      "rowLimit": 10000
     },
     "inputWidgets": {},
     "nuid": "ba4dfda4-dc3c-4932-9d10-df99de02d1b2",
     "showTitle": false,
     "tableResultSettingsMap": {},
     "title": ""
    }
   },
   "outputs": [
    {
     "output_type": "stream",
     "name": "stdout",
     "output_type": "stream",
     "text": [
      "Out[42]: [121, 121, 101]"
     ]
    }
   ],
   "source": [
    "fm.map(lambda x:len(x)).glom().map(sum).collect()"
   ]
  },
  {
   "cell_type": "code",
   "execution_count": 0,
   "metadata": {
    "application/vnd.databricks.v1+cell": {
     "cellMetadata": {
      "byteLimit": 2048000,
      "rowLimit": 10000
     },
     "inputWidgets": {},
     "nuid": "40d7b7de-676f-46d2-a75c-3e1bda85c38d",
     "showTitle": false,
     "tableResultSettingsMap": {},
     "title": ""
    }
   },
   "outputs": [
    {
     "output_type": "stream",
     "name": "stdout",
     "output_type": "stream",
     "text": [
      "Out[43]: [4, 4, 3]"
     ]
    }
   ],
   "source": [
    "text.map(lambda x:len(x)).glom().map(len).collect()"
   ]
  },
  {
   "cell_type": "code",
   "execution_count": 0,
   "metadata": {
    "application/vnd.databricks.v1+cell": {
     "cellMetadata": {
      "byteLimit": 2048000,
      "rowLimit": 10000
     },
     "inputWidgets": {},
     "nuid": "ad01f4c9-6de8-4f4e-8e8c-8403bdc70aa3",
     "showTitle": false,
     "tableResultSettingsMap": {},
     "title": ""
    }
   },
   "outputs": [
    {
     "output_type": "stream",
     "name": "stdout",
     "output_type": "stream",
     "text": [
      "Out[44]: [24, 24, 21]"
     ]
    }
   ],
   "source": [
    "fm.map(lambda x:len(x)).glom().map(len).collect()"
   ]
  },
  {
   "cell_type": "code",
   "execution_count": 0,
   "metadata": {
    "application/vnd.databricks.v1+cell": {
     "cellMetadata": {
      "byteLimit": 2048000,
      "rowLimit": 10000
     },
     "inputWidgets": {},
     "nuid": "19550ff3-c331-457d-a52b-d1c10e60bacf",
     "showTitle": false,
     "tableResultSettingsMap": {},
     "title": ""
    }
   },
   "outputs": [
    {
     "output_type": "stream",
     "name": "stdout",
     "output_type": "stream",
     "text": [
      "Out[73]: [[7, 5, 6, 6], [7, 5, 6, 6], [6, 8, 7]]"
     ]
    }
   ],
   "source": [
    "text.map(lambda x:len(x.split())).glom().collect()"
   ]
  },
  {
   "cell_type": "code",
   "execution_count": 0,
   "metadata": {
    "application/vnd.databricks.v1+cell": {
     "cellMetadata": {
      "byteLimit": 2048000,
      "rowLimit": 10000
     },
     "inputWidgets": {},
     "nuid": "4b608ed5-edc5-4fe2-8be3-8a66c1cb4fe3",
     "showTitle": false,
     "tableResultSettingsMap": {},
     "title": ""
    }
   },
   "outputs": [
    {
     "output_type": "stream",
     "name": "stdout",
     "output_type": "stream",
     "text": [
      "Out[46]: [30, 84, 174]"
     ]
    }
   ],
   "source": [
    "rdd1.mapPartitions(lambda x:[sum(x)]).collect()"
   ]
  },
  {
   "cell_type": "code",
   "execution_count": 0,
   "metadata": {
    "application/vnd.databricks.v1+cell": {
     "cellMetadata": {
      "byteLimit": 2048000,
      "rowLimit": 10000
     },
     "inputWidgets": {},
     "nuid": "5451ff5a-202c-4092-baaf-d95e9e61d8b8",
     "showTitle": false,
     "tableResultSettingsMap": {},
     "title": ""
    }
   },
   "outputs": [
    {
     "output_type": "stream",
     "name": "stdout",
     "output_type": "stream",
     "text": [
      "Out[47]: [30, 84, 174]"
     ]
    }
   ],
   "source": [
    "rdd1.glom().map(sum).collect()"
   ]
  },
  {
   "cell_type": "code",
   "execution_count": 0,
   "metadata": {
    "application/vnd.databricks.v1+cell": {
     "cellMetadata": {
      "byteLimit": 2048000,
      "rowLimit": 10000
     },
     "inputWidgets": {},
     "nuid": "42ef7432-de70-474c-bed7-fd0f18fd960e",
     "showTitle": true,
     "tableResultSettingsMap": {},
     "title": "mapPartitions"
    }
   },
   "outputs": [
    {
     "output_type": "stream",
     "name": "stdout",
     "output_type": "stream",
     "text": [
      "Out[48]: [4, 8, 12, 16, 20, 24, 28, 32, 36, 48, 52, 56, 44, 60, 64, 72]"
     ]
    }
   ],
   "source": [
    "rdd1.mapPartitions(lambda p:map(lambda x:x*2,p)).collect()"
   ]
  },
  {
   "cell_type": "code",
   "execution_count": 0,
   "metadata": {
    "application/vnd.databricks.v1+cell": {
     "cellMetadata": {
      "byteLimit": 2048000,
      "rowLimit": 10000
     },
     "inputWidgets": {},
     "nuid": "c0c5b1a1-35dc-466e-a0a8-0bde34a0b65e",
     "showTitle": false,
     "tableResultSettingsMap": {},
     "title": ""
    }
   },
   "outputs": [
    {
     "output_type": "stream",
     "name": "stdout",
     "output_type": "stream",
     "text": [
      "Out[49]: [4, 8, 12, 16, 20, 24, 28, 32, 36, 48, 52, 56, 44, 60, 64, 72]"
     ]
    }
   ],
   "source": [
    "rdd1.map(lambda x:x*2).collect()"
   ]
  },
  {
   "cell_type": "code",
   "execution_count": 0,
   "metadata": {
    "application/vnd.databricks.v1+cell": {
     "cellMetadata": {
      "byteLimit": 2048000,
      "rowLimit": 10000
     },
     "inputWidgets": {},
     "nuid": "887a62a6-07f7-45e5-aa09-6d1307ede174",
     "showTitle": false,
     "tableResultSettingsMap": {},
     "title": ""
    }
   },
   "outputs": [
    {
     "output_type": "stream",
     "name": "stdout",
     "output_type": "stream",
     "text": [
      "Out[50]: [12, 24, 36, 48, 60, 72]"
     ]
    }
   ],
   "source": [
    "rdd1.mapPartitions(lambda x:map(lambda p:p*2,x)).filter(lambda x: x>5 and x%3==0).collect()"
   ]
  },
  {
   "cell_type": "code",
   "execution_count": 0,
   "metadata": {
    "application/vnd.databricks.v1+cell": {
     "cellMetadata": {
      "byteLimit": 2048000,
      "rowLimit": 10000
     },
     "inputWidgets": {},
     "nuid": "7b8c857f-4565-4c1b-a0bd-861b8705e108",
     "showTitle": false,
     "tableResultSettingsMap": {},
     "title": ""
    }
   },
   "outputs": [
    {
     "output_type": "stream",
     "name": "stdout",
     "output_type": "stream",
     "text": [
      "Out[51]: [10, 24, 36]"
     ]
    }
   ],
   "source": [
    "rdd1.mapPartitions(lambda x:[max(x)]).collect()"
   ]
  },
  {
   "cell_type": "code",
   "execution_count": 0,
   "metadata": {
    "application/vnd.databricks.v1+cell": {
     "cellMetadata": {
      "byteLimit": 2048000,
      "rowLimit": 10000
     },
     "inputWidgets": {},
     "nuid": "a4ac5095-a147-4dd7-9ae0-7ed93326b8c8",
     "showTitle": false,
     "tableResultSettingsMap": {},
     "title": ""
    }
   },
   "outputs": [
    {
     "output_type": "stream",
     "name": "stdout",
     "output_type": "stream",
     "text": [
      "Out[52]: [10, 24, 36]"
     ]
    }
   ],
   "source": [
    "rdd1.glom().map(max).collect()"
   ]
  },
  {
   "cell_type": "code",
   "execution_count": 0,
   "metadata": {
    "application/vnd.databricks.v1+cell": {
     "cellMetadata": {
      "byteLimit": 2048000,
      "rowLimit": 10000
     },
     "inputWidgets": {},
     "nuid": "32233bf1-1707-448c-a2a3-251f85a1a9dd",
     "showTitle": false,
     "tableResultSettingsMap": {},
     "title": ""
    }
   },
   "outputs": [
    {
     "output_type": "stream",
     "name": "stdout",
     "output_type": "stream",
     "text": [
      "Out[53]: [(2, [3, 7]),\n (4, [7, 15]),\n (6, [11, 23]),\n (8, [15, 31]),\n (10, [19, 39]),\n (12, [23, 47]),\n (14, [27, 55]),\n (16, [31, 63]),\n (18, [35, 71]),\n (24, [47, 95]),\n (26, [51, 103]),\n (28, [55, 111]),\n (22, [43, 87]),\n (30, [59, 119]),\n (32, [63, 127]),\n (36, [71, 143])]"
     ]
    }
   ],
   "source": [
    "rdd1.map(lambda x:(x,x*2)).mapValues(lambda x:[x-1,x*2-1]).collect()"
   ]
  },
  {
   "cell_type": "code",
   "execution_count": 0,
   "metadata": {
    "application/vnd.databricks.v1+cell": {
     "cellMetadata": {
      "byteLimit": 2048000,
      "rowLimit": 10000
     },
     "inputWidgets": {},
     "nuid": "95a85712-4b2f-43f1-bd34-cb6f14c3a989",
     "showTitle": false,
     "tableResultSettingsMap": {},
     "title": ""
    }
   },
   "outputs": [
    {
     "output_type": "stream",
     "name": "stdout",
     "output_type": "stream",
     "text": [
      "Out[54]: [(4, 4),\n (8, 6),\n (12, 8),\n (16, 10),\n (20, 12),\n (24, 14),\n (28, 16),\n (32, 18),\n (36, 20),\n (48, 26),\n (52, 28),\n (56, 30),\n (44, 24),\n (60, 32),\n (64, 34),\n (72, 38)]"
     ]
    }
   ],
   "source": [
    "mv=rdd1.map(lambda x:(x*2,x+2))\n",
    "mv.collect()"
   ]
  },
  {
   "cell_type": "code",
   "execution_count": 0,
   "metadata": {
    "application/vnd.databricks.v1+cell": {
     "cellMetadata": {
      "byteLimit": 2048000,
      "rowLimit": 10000
     },
     "inputWidgets": {},
     "nuid": "77049ec8-aea1-4a5d-87ac-77038f1494e3",
     "showTitle": true,
     "tableResultSettingsMap": {},
     "title": "mapValues"
    }
   },
   "outputs": [
    {
     "output_type": "stream",
     "name": "stdout",
     "output_type": "stream",
     "text": [
      "Out[55]: [(4, [(3, 4), (3, 4)]),\n (8, [(5, 6), (5, 6)]),\n (12, [(7, 8), (7, 8)]),\n (16, [(9, 10), (9, 10)]),\n (20, [(11, 12), (11, 12)]),\n (24, [(13, 14), (13, 14)]),\n (28, [(15, 16), (15, 16)]),\n (32, [(17, 18), (17, 18)]),\n (36, [(19, 20), (19, 20)]),\n (48, [(25, 26), (25, 26)]),\n (52, [(27, 28), (27, 28)]),\n (56, [(29, 30), (29, 30)]),\n (44, [(23, 24), (23, 24)]),\n (60, [(31, 32), (31, 32)]),\n (64, [(33, 34), (33, 34)]),\n (72, [(37, 38), (37, 38)])]"
     ]
    }
   ],
   "source": [
    "mv.mapValues(lambda x:[(x-1,x*1)]).mapValues(lambda x:x*2).collect()"
   ]
  },
  {
   "cell_type": "code",
   "execution_count": 0,
   "metadata": {
    "application/vnd.databricks.v1+cell": {
     "cellMetadata": {
      "byteLimit": 2048000,
      "rowLimit": 10000
     },
     "inputWidgets": {},
     "nuid": "983cc759-5b0c-4683-8e11-a62f234cdfee",
     "showTitle": false,
     "tableResultSettingsMap": {},
     "title": ""
    }
   },
   "outputs": [
    {
     "output_type": "stream",
     "name": "stdout",
     "output_type": "stream",
     "text": [
      "Out[56]: [(4, 15),\n (8, 23),\n (12, 31),\n (16, 39),\n (20, 47),\n (24, 55),\n (28, 63),\n (32, 71),\n (36, 79),\n (48, 103),\n (52, 111),\n (56, 119),\n (44, 95),\n (60, 127),\n (64, 135),\n (72, 151)]"
     ]
    }
   ],
   "source": [
    "mv.mapValues(lambda x:[x-1,x*3]).mapValues(sum).collect()"
   ]
  },
  {
   "cell_type": "code",
   "execution_count": 0,
   "metadata": {
    "application/vnd.databricks.v1+cell": {
     "cellMetadata": {
      "byteLimit": 2048000,
      "rowLimit": 10000
     },
     "inputWidgets": {},
     "nuid": "d60f2eae-0475-4997-94a2-871ea0b7a364",
     "showTitle": false,
     "tableResultSettingsMap": {},
     "title": ""
    }
   },
   "outputs": [
    {
     "output_type": "stream",
     "name": "stdout",
     "output_type": "stream",
     "text": [
      "Out[57]: [(4, 2),\n (8, 2),\n (12, 2),\n (16, 2),\n (20, 2),\n (24, 2),\n (28, 2),\n (32, 2),\n (36, 2),\n (48, 2),\n (52, 2),\n (56, 2),\n (44, 2),\n (60, 2),\n (64, 2),\n (72, 2)]"
     ]
    }
   ],
   "source": [
    "mv.mapValues(lambda x:(x-2,x+1)).mapValues(len).collect()"
   ]
  },
  {
   "cell_type": "code",
   "execution_count": 0,
   "metadata": {
    "application/vnd.databricks.v1+cell": {
     "cellMetadata": {
      "byteLimit": 2048000,
      "rowLimit": 10000
     },
     "inputWidgets": {},
     "nuid": "fd49c1c7-f9a8-4206-ae72-f19f184071c0",
     "showTitle": false,
     "tableResultSettingsMap": {},
     "title": ""
    }
   },
   "outputs": [
    {
     "output_type": "stream",
     "name": "stdout",
     "output_type": "stream",
     "text": [
      "Out[58]: [6, 12, 18, 24, 30, 36, 4, 10, 16, 28, 22, 2, 8, 14, 26, 32]"
     ]
    }
   ],
   "source": [
    "rdd1.distinct().collect()"
   ]
  },
  {
   "cell_type": "code",
   "execution_count": 0,
   "metadata": {
    "application/vnd.databricks.v1+cell": {
     "cellMetadata": {
      "byteLimit": 2048000,
      "rowLimit": 10000
     },
     "inputWidgets": {},
     "nuid": "8fc9957d-23b8-433d-af1d-d40246ec08af",
     "showTitle": true,
     "tableResultSettingsMap": {},
     "title": "distinct"
    }
   },
   "outputs": [
    {
     "output_type": "stream",
     "name": "stdout",
     "output_type": "stream",
     "text": [
      "Out[59]: ['general',\n 'purpose',\n 'framework',\n 'run',\n 'language',\n 'for',\n 'also',\n 'python',\n 'machine',\n 'learning',\n 'is',\n 'can',\n 'supports',\n 'java',\n 'and',\n 'pyspark',\n 'rdd',\n 'sql',\n 'pythom',\n 'spark',\n 'a',\n 'execution',\n 'on',\n 'hadoop',\n 'scala',\n 'preferred']"
     ]
    }
   ],
   "source": [
    "fm.distinct().collect()"
   ]
  },
  {
   "cell_type": "code",
   "execution_count": 0,
   "metadata": {
    "application/vnd.databricks.v1+cell": {
     "cellMetadata": {
      "byteLimit": 2048000,
      "rowLimit": 10000
     },
     "inputWidgets": {},
     "nuid": "842cda7e-c1a8-4422-b51c-1884df6837b3",
     "showTitle": true,
     "tableResultSettingsMap": {},
     "title": "sortBy"
    }
   },
   "outputs": [
    {
     "output_type": "stream",
     "name": "stdout",
     "output_type": "stream",
     "text": [
      "Out[60]: [36, 32, 30, 28, 26, 24, 22, 18, 16, 14, 12, 10, 8, 6, 4, 2]"
     ]
    }
   ],
   "source": [
    "rdd1.sortBy(lambda x:x,False).collect()"
   ]
  },
  {
   "cell_type": "code",
   "execution_count": 0,
   "metadata": {
    "application/vnd.databricks.v1+cell": {
     "cellMetadata": {
      "byteLimit": 2048000,
      "rowLimit": 10000
     },
     "inputWidgets": {},
     "nuid": "4cbad75a-06ba-4565-a210-4eee03c188df",
     "showTitle": false,
     "tableResultSettingsMap": {},
     "title": ""
    }
   },
   "outputs": [
    {
     "output_type": "stream",
     "name": "stdout",
     "output_type": "stream",
     "text": [
      "Out[61]: [(36, 1406),\n (32, 1122),\n (30, 992),\n (28, 870),\n (26, 756),\n (24, 650),\n (22, 552),\n (18, 380),\n (16, 306),\n (14, 240),\n (12, 182),\n (10, 132),\n (8, 90),\n (6, 56),\n (4, 30),\n (2, 12)]"
     ]
    }
   ],
   "source": [
    "rdd1.map(lambda x:(x,x+1)).mapValues(lambda x:[x,x*x]).mapValues(sum).sortBy(lambda x:x,False).collect()"
   ]
  },
  {
   "cell_type": "code",
   "execution_count": 0,
   "metadata": {
    "application/vnd.databricks.v1+cell": {
     "cellMetadata": {
      "byteLimit": 2048000,
      "rowLimit": 10000
     },
     "inputWidgets": {},
     "nuid": "01c0528f-1777-447d-98d6-2f22b9ada96f",
     "showTitle": false,
     "tableResultSettingsMap": {},
     "title": ""
    }
   },
   "outputs": [
    {
     "output_type": "stream",
     "name": "stdout",
     "output_type": "stream",
     "text": [
      "Out[62]: [(4, 4),\n (8, 6),\n (12, 8),\n (16, 10),\n (20, 12),\n (24, 14),\n (28, 16),\n (32, 18),\n (36, 20),\n (48, 26),\n (52, 28),\n (56, 30),\n (44, 24),\n (60, 32),\n (64, 34),\n (72, 38)]"
     ]
    }
   ],
   "source": [
    "mv.collect()"
   ]
  },
  {
   "cell_type": "code",
   "execution_count": 0,
   "metadata": {
    "application/vnd.databricks.v1+cell": {
     "cellMetadata": {
      "byteLimit": 2048000,
      "rowLimit": 10000
     },
     "inputWidgets": {},
     "nuid": "5be82f2e-d483-49d4-96b9-c615aa9a3227",
     "showTitle": false,
     "tableResultSettingsMap": {},
     "title": ""
    }
   },
   "outputs": [
    {
     "output_type": "stream",
     "name": "stdout",
     "output_type": "stream",
     "text": [
      "Out[63]: [110, 98, 92, 86, 80, 74, 68, 56, 50, 44, 38, 32, 26, 20, 14, 8]"
     ]
    }
   ],
   "source": [
    "mv.map(lambda x:(x[0]+x[1])).sortBy(lambda x:x,False).collect()"
   ]
  },
  {
   "cell_type": "code",
   "execution_count": 0,
   "metadata": {
    "application/vnd.databricks.v1+cell": {
     "cellMetadata": {
      "byteLimit": 2048000,
      "rowLimit": 10000
     },
     "inputWidgets": {},
     "nuid": "df0ba1d1-f304-4cab-877c-231d504582af",
     "showTitle": false,
     "tableResultSettingsMap": {},
     "title": ""
    }
   },
   "outputs": [
    {
     "output_type": "stream",
     "name": "stdout",
     "output_type": "stream",
     "text": [
      "Out[64]: ['supports',\n 'supports',\n 'sql',\n 'sql',\n 'spark',\n 'spark',\n 'spark',\n 'spark',\n 'spark',\n 'spark',\n 'spark',\n 'spark',\n 'spark',\n 'spark',\n 'spark',\n 'spark',\n 'spark',\n 'scala',\n 'scala',\n 'scala',\n 'run',\n 'run',\n 'rdd',\n 'rdd',\n 'rdd',\n 'rdd',\n 'rdd',\n 'python',\n 'python',\n 'python',\n 'python',\n 'pythom',\n 'pyspark',\n 'purpose',\n 'purpose',\n 'preferred',\n 'preferred',\n 'on',\n 'on',\n 'machine',\n 'learning',\n 'language',\n 'language',\n 'java',\n 'java',\n 'java',\n 'is',\n 'is',\n 'is',\n 'is',\n 'hadoop',\n 'hadoop',\n 'hadoop',\n 'general',\n 'general',\n 'framework',\n 'framework',\n 'for',\n 'for',\n 'execution',\n 'execution',\n 'can',\n 'can',\n 'and',\n 'and',\n 'also',\n 'also',\n 'a',\n 'a']"
     ]
    }
   ],
   "source": [
    "fm.map(lambda x:x).sortBy(lambda x:x,False).collect()"
   ]
  },
  {
   "cell_type": "code",
   "execution_count": 0,
   "metadata": {
    "application/vnd.databricks.v1+cell": {
     "cellMetadata": {
      "byteLimit": 2048000,
      "rowLimit": 10000
     },
     "inputWidgets": {},
     "nuid": "f7a17c4b-3977-43ed-82c7-ea3cf9cb9d0d",
     "showTitle": false,
     "tableResultSettingsMap": {},
     "title": ""
    }
   },
   "outputs": [
    {
     "output_type": "stream",
     "name": "stdout",
     "output_type": "stream",
     "text": [
      "Out[65]: [9,\n 9,\n 9,\n 9,\n 9,\n 9,\n 8,\n 8,\n 8,\n 8,\n 8,\n 7,\n 7,\n 7,\n 7,\n 7,\n 7,\n 6,\n 6,\n 6,\n 6,\n 6,\n 6,\n 6,\n 6,\n 5,\n 5,\n 5,\n 5,\n 5,\n 5,\n 5,\n 5,\n 5,\n 5,\n 5,\n 5,\n 5,\n 5,\n 5,\n 5,\n 4,\n 4,\n 4,\n 4,\n 4,\n 3,\n 3,\n 3,\n 3,\n 3,\n 3,\n 3,\n 3,\n 3,\n 3,\n 3,\n 3,\n 3,\n 3,\n 3,\n 2,\n 2,\n 2,\n 2,\n 2,\n 2,\n 1,\n 1]"
     ]
    }
   ],
   "source": [
    "fm.map(lambda x:len(x)).sortBy(lambda x:x,False).collect()"
   ]
  },
  {
   "cell_type": "code",
   "execution_count": 0,
   "metadata": {
    "application/vnd.databricks.v1+cell": {
     "cellMetadata": {
      "byteLimit": 2048000,
      "rowLimit": 10000
     },
     "inputWidgets": {},
     "nuid": "f87121fe-4b0d-4dee-9832-9759d8391bf9",
     "showTitle": false,
     "tableResultSettingsMap": {},
     "title": ""
    }
   },
   "outputs": [
    {
     "output_type": "stream",
     "name": "stdout",
     "output_type": "stream",
     "text": [
      "Out[66]: [23, 23, 35, 35, 37, 37, 38, 40, 41, 46, 46]"
     ]
    }
   ],
   "source": [
    "text.map(lambda x:len(x)).sortBy(lambda x:x).collect()"
   ]
  },
  {
   "cell_type": "code",
   "execution_count": 0,
   "metadata": {
    "application/vnd.databricks.v1+cell": {
     "cellMetadata": {
      "byteLimit": 2048000,
      "rowLimit": 10000
     },
     "inputWidgets": {},
     "nuid": "815786d4-5d7b-453f-8f74-788ce9c494e1",
     "showTitle": false,
     "tableResultSettingsMap": {},
     "title": ""
    }
   },
   "outputs": [
    {
     "output_type": "stream",
     "name": "stdout",
     "output_type": "stream",
     "text": [
      "Out[67]: [46, 46, 41, 40, 38, 37, 37, 35, 35, 23, 23]"
     ]
    }
   ],
   "source": [
    "text.map(lambda x:len(x)).sortBy(lambda x:x,False).collect()"
   ]
  },
  {
   "cell_type": "code",
   "execution_count": 0,
   "metadata": {
    "application/vnd.databricks.v1+cell": {
     "cellMetadata": {
      "byteLimit": 2048000,
      "rowLimit": 10000
     },
     "inputWidgets": {},
     "nuid": "44a3f7e7-eaaa-448e-8c67-e9e4018c06f3",
     "showTitle": false,
     "tableResultSettingsMap": {},
     "title": ""
    }
   },
   "outputs": [
    {
     "output_type": "stream",
     "name": "stdout",
     "output_type": "stream",
     "text": [
      "Out[68]: ['spark is a general purpose execution framework',\n 'spark is a general purpose execution framework',\n 'pythom machine learning spark sql rdd rdd',\n 'spark python spark rdd rdd rdd sql spark',\n 'python spark scala java pyspark hadoop',\n 'scala is preferred language for spark',\n 'scala is preferred language for spark',\n 'spark also supports java and python',\n 'spark also supports java and python',\n 'spark can run on hadoop',\n 'spark can run on hadoop']"
     ]
    }
   ],
   "source": [
    "text.map(lambda x:x).sortBy(lambda x:len(x),False).collect()"
   ]
  },
  {
   "cell_type": "code",
   "execution_count": 0,
   "metadata": {
    "application/vnd.databricks.v1+cell": {
     "cellMetadata": {
      "byteLimit": 2048000,
      "rowLimit": 10000
     },
     "inputWidgets": {},
     "nuid": "fbf7e14d-267a-47ba-a7a5-a2489dcd8180",
     "showTitle": false,
     "tableResultSettingsMap": {},
     "title": ""
    }
   },
   "outputs": [
    {
     "output_type": "stream",
     "name": "stdout",
     "output_type": "stream",
     "text": [
      "Out[69]: ['execution',\n 'framework',\n 'preferred',\n 'execution',\n 'framework',\n 'preferred',\n 'language',\n 'supports',\n 'language',\n 'supports',\n 'learning',\n 'general',\n 'purpose',\n 'general',\n 'purpose',\n 'pyspark',\n 'machine',\n 'hadoop',\n 'python',\n 'hadoop',\n 'python',\n 'python',\n 'hadoop',\n 'python',\n 'pythom',\n 'spark',\n 'spark',\n 'scala',\n 'spark',\n 'spark',\n 'spark',\n 'spark',\n 'scala',\n 'spark',\n 'spark',\n 'spark',\n 'scala',\n 'spark',\n 'spark',\n 'spark',\n 'spark',\n 'also',\n 'java',\n 'also',\n 'java',\n 'java',\n 'can',\n 'run',\n 'for',\n 'and',\n 'can',\n 'run',\n 'for',\n 'and',\n 'rdd',\n 'rdd',\n 'rdd',\n 'sql',\n 'sql',\n 'rdd',\n 'rdd',\n 'is',\n 'on',\n 'is',\n 'is',\n 'on',\n 'is',\n 'a',\n 'a']"
     ]
    }
   ],
   "source": [
    "fm.sortBy(lambda x:len(x),False).collect()"
   ]
  },
  {
   "cell_type": "code",
   "execution_count": 0,
   "metadata": {
    "application/vnd.databricks.v1+cell": {
     "cellMetadata": {
      "byteLimit": 2048000,
      "rowLimit": 10000
     },
     "inputWidgets": {},
     "nuid": "af8e173c-23d2-484e-9bfc-6b9dd9c02636",
     "showTitle": false,
     "tableResultSettingsMap": {},
     "title": ""
    }
   },
   "outputs": [
    {
     "output_type": "stream",
     "name": "stdout",
     "output_type": "stream",
     "text": [
      "Out[70]: [['spark', 'python', 'spark', 'rdd', 'rdd', 'rdd', 'sql', 'spark'],\n ['spark', 'is', 'a', 'general', 'purpose', 'execution', 'framework'],\n ['spark', 'is', 'a', 'general', 'purpose', 'execution', 'framework'],\n ['pythom', 'machine', 'learning', 'spark', 'sql', 'rdd', 'rdd'],\n ['scala', 'is', 'preferred', 'language', 'for', 'spark'],\n ['spark', 'also', 'supports', 'java', 'and', 'python'],\n ['scala', 'is', 'preferred', 'language', 'for', 'spark'],\n ['spark', 'also', 'supports', 'java', 'and', 'python'],\n ['python', 'spark', 'scala', 'java', 'pyspark', 'hadoop'],\n ['spark', 'can', 'run', 'on', 'hadoop'],\n ['spark', 'can', 'run', 'on', 'hadoop']]"
     ]
    }
   ],
   "source": [
    "text.map(lambda x:(x.split())).sortBy(lambda x:len(x),False).collect()"
   ]
  },
  {
   "cell_type": "code",
   "execution_count": 0,
   "metadata": {
    "application/vnd.databricks.v1+cell": {
     "cellMetadata": {
      "byteLimit": 2048000,
      "rowLimit": 10000
     },
     "inputWidgets": {},
     "nuid": "d5703d21-28dd-404b-b015-41acaafa72ec",
     "showTitle": false,
     "tableResultSettingsMap": {},
     "title": ""
    }
   },
   "outputs": [
    {
     "output_type": "stream",
     "name": "stdout",
     "output_type": "stream",
     "text": [
      "Out[71]: ['SPARK',\n 'GENERAL',\n 'PURPOSE',\n 'EXECUTION',\n 'FRAMEWORK',\n 'SPARK',\n 'HADOOP',\n 'SCALA',\n 'PREFERRED',\n 'LANGUAGE',\n 'SPARK',\n 'SPARK',\n 'SUPPORTS',\n 'PYTHON',\n 'SPARK',\n 'GENERAL',\n 'PURPOSE',\n 'EXECUTION',\n 'FRAMEWORK',\n 'SPARK',\n 'HADOOP',\n 'SCALA',\n 'PREFERRED',\n 'LANGUAGE',\n 'SPARK',\n 'SPARK',\n 'SUPPORTS',\n 'PYTHON',\n 'PYTHON',\n 'SPARK',\n 'SCALA',\n 'PYSPARK',\n 'HADOOP',\n 'SPARK',\n 'PYTHON',\n 'SPARK',\n 'SPARK',\n 'PYTHOM',\n 'MACHINE',\n 'LEARNING',\n 'SPARK']"
     ]
    }
   ],
   "source": [
    "fm.map(lambda x:x.upper()).filter(lambda x:len(x)>4).collect()"
   ]
  },
  {
   "cell_type": "code",
   "execution_count": 0,
   "metadata": {
    "application/vnd.databricks.v1+cell": {
     "cellMetadata": {
      "byteLimit": 2048000,
      "rowLimit": 10000
     },
     "inputWidgets": {},
     "nuid": "e7107049-4333-48dc-bb29-363d95e01800",
     "showTitle": false,
     "tableResultSettingsMap": {},
     "title": ""
    }
   },
   "outputs": [
    {
     "output_type": "stream",
     "name": "stdout",
     "output_type": "stream",
     "text": [
      "Out[74]: [1, 2, 3, 4, 5, 6, 7, 8, 9, 11, 12, 14, 13, 15, 16]"
     ]
    }
   ],
   "source": [
    "Rdd=sc.parallelize([1,2,3,4,5,6,7,8,9,11,12,14,13,15,16],3)\n",
    "Rdd.collect()"
   ]
  },
  {
   "cell_type": "code",
   "execution_count": 0,
   "metadata": {
    "application/vnd.databricks.v1+cell": {
     "cellMetadata": {
      "byteLimit": 2048000,
      "rowLimit": 10000
     },
     "inputWidgets": {},
     "nuid": "67f918e7-5479-4986-94e7-b1541a9b88ed",
     "showTitle": false,
     "tableResultSettingsMap": {},
     "title": ""
    }
   },
   "outputs": [
    {
     "output_type": "stream",
     "name": "stdout",
     "output_type": "stream",
     "text": [
      "Out[75]: [(16, [16]),\n (15, [15]),\n (14, [14]),\n (13, [13]),\n (12, [12]),\n (11, [11]),\n (9, [9]),\n (8, [8]),\n (7, [7]),\n (6, [6]),\n (5, [5]),\n (4, [4]),\n (3, [3]),\n (2, [2]),\n (1, [1])]"
     ]
    }
   ],
   "source": [
    "Rdd.groupBy(lambda x:x).mapValues(list).sortBy(lambda x:x[0],False).collect()"
   ]
  },
  {
   "cell_type": "code",
   "execution_count": 0,
   "metadata": {
    "application/vnd.databricks.v1+cell": {
     "cellMetadata": {
      "byteLimit": 2048000,
      "rowLimit": 10000
     },
     "inputWidgets": {},
     "nuid": "b642b58b-6df1-4314-bb21-0423d0b72c74",
     "showTitle": true,
     "tableResultSettingsMap": {},
     "title": "groupBy"
    }
   },
   "outputs": [
    {
     "output_type": "stream",
     "name": "stdout",
     "output_type": "stream",
     "text": [
      "Out[76]: [(0, [2, 4, 6, 8, 12, 14, 16]), (1, [1, 3, 5, 7, 9, 11, 13, 15])]"
     ]
    }
   ],
   "source": [
    "Rdd.groupBy(lambda x:x%2).mapValues(list).sortBy(lambda x:x[0]).collect()"
   ]
  },
  {
   "cell_type": "code",
   "execution_count": 0,
   "metadata": {
    "application/vnd.databricks.v1+cell": {
     "cellMetadata": {
      "byteLimit": 2048000,
      "rowLimit": 10000
     },
     "inputWidgets": {},
     "nuid": "bfd5d24e-3468-423d-9f2e-e74ea4938b4e",
     "showTitle": false,
     "tableResultSettingsMap": {},
     "title": ""
    }
   },
   "outputs": [
    {
     "output_type": "stream",
     "name": "stdout",
     "output_type": "stream",
     "text": [
      "Out[77]: [(1, 64), (0, 62)]"
     ]
    }
   ],
   "source": [
    "Rdd.groupBy(lambda x:x%2).mapValues(sum).sortBy(lambda x:x[0],False).collect()"
   ]
  },
  {
   "cell_type": "code",
   "execution_count": 0,
   "metadata": {
    "application/vnd.databricks.v1+cell": {
     "cellMetadata": {
      "byteLimit": 2048000,
      "rowLimit": 10000
     },
     "inputWidgets": {},
     "nuid": "7c94828c-e241-42f1-b02a-5f4f5c15a820",
     "showTitle": false,
     "tableResultSettingsMap": {},
     "title": ""
    }
   },
   "outputs": [
    {
     "output_type": "stream",
     "name": "stdout",
     "output_type": "stream",
     "text": [
      "Out[78]: [(0, [4, 8, 12, 16]), (1, [1, 5, 9, 13]), (2, [2, 6, 14]), (3, [3, 7, 11, 15])]"
     ]
    }
   ],
   "source": [
    "Rdd.groupBy(lambda x:x%4).mapValues(list).sortBy(lambda x:x[0]).collect()"
   ]
  },
  {
   "cell_type": "code",
   "execution_count": 0,
   "metadata": {
    "application/vnd.databricks.v1+cell": {
     "cellMetadata": {
      "byteLimit": 2048000,
      "rowLimit": 10000
     },
     "inputWidgets": {},
     "nuid": "56fb517d-c728-4bd9-b80e-654ef0ed4920",
     "showTitle": false,
     "tableResultSettingsMap": {},
     "title": ""
    }
   },
   "outputs": [
    {
     "output_type": "stream",
     "name": "stdout",
     "output_type": "stream",
     "text": [
      "Out[80]: [(0, 40), (3, 36), (1, 28), (2, 22)]"
     ]
    }
   ],
   "source": [
    "Rdd.groupBy(lambda x:x%4).mapValues(sum).sortBy(lambda x:x[1],False).collect()"
   ]
  },
  {
   "cell_type": "code",
   "execution_count": 0,
   "metadata": {
    "application/vnd.databricks.v1+cell": {
     "cellMetadata": {
      "byteLimit": 2048000,
      "rowLimit": 10000
     },
     "inputWidgets": {},
     "nuid": "65939ccf-d4bc-4870-a273-c5490de24c40",
     "showTitle": false,
     "tableResultSettingsMap": {},
     "title": ""
    }
   },
   "outputs": [
    {
     "output_type": "stream",
     "name": "stdout",
     "output_type": "stream",
     "text": [
      "Out[83]: [('supports', 2),\n ('sql', 2),\n ('spark', 13),\n ('scala', 3),\n ('run', 2),\n ('rdd', 5),\n ('python', 4),\n ('pythom', 1),\n ('pyspark', 1),\n ('purpose', 2),\n ('preferred', 2),\n ('on', 2),\n ('machine', 1),\n ('learning', 1),\n ('language', 2),\n ('java', 3),\n ('is', 4),\n ('hadoop', 3),\n ('general', 2),\n ('framework', 2),\n ('for', 2),\n ('execution', 2),\n ('can', 2),\n ('and', 2),\n ('also', 2),\n ('a', 2)]"
     ]
    }
   ],
   "source": [
    "text.flatMap(lambda x:x.split())\\\n",
    "  .groupBy(lambda x:x)\\\n",
    "    .mapValues(len)\\\n",
    "      .sortBy(lambda x:x[0],False).collect()"
   ]
  },
  {
   "cell_type": "code",
   "execution_count": 0,
   "metadata": {
    "application/vnd.databricks.v1+cell": {
     "cellMetadata": {
      "byteLimit": 2048000,
      "rowLimit": 10000
     },
     "inputWidgets": {},
     "nuid": "8d04946c-bc87-473d-9b36-be035ae18a75",
     "showTitle": false,
     "tableResultSettingsMap": {},
     "title": ""
    }
   },
   "outputs": [
    {
     "output_type": "stream",
     "name": "stdout",
     "output_type": "stream",
     "text": [
      "Out[85]: [('supports', 2),\n ('sql', 2),\n ('spark', 13),\n ('scala', 3),\n ('run', 2),\n ('rdd', 5),\n ('python', 4),\n ('pythom', 1),\n ('pyspark', 1),\n ('purpose', 2),\n ('preferred', 2),\n ('on', 2),\n ('machine', 1),\n ('learning', 1),\n ('language', 2),\n ('java', 3),\n ('is', 4),\n ('hadoop', 3),\n ('general', 2),\n ('framework', 2),\n ('for', 2),\n ('execution', 2),\n ('can', 2),\n ('and', 2),\n ('also', 2),\n ('a', 2)]"
     ]
    }
   ],
   "source": [
    "text.map(lambda x:x.split())\\\n",
    "  .flatMap(lambda x:x)\\\n",
    "    .groupBy(lambda x:x)\\\n",
    "      .mapValues(len)\\\n",
    "        .sortBy(lambda x:x[0],False).collect()"
   ]
  },
  {
   "cell_type": "code",
   "execution_count": 0,
   "metadata": {
    "application/vnd.databricks.v1+cell": {
     "cellMetadata": {
      "byteLimit": 2048000,
      "rowLimit": 10000
     },
     "inputWidgets": {},
     "nuid": "f676740a-78cb-4436-9e0d-0f9a1d8a1807",
     "showTitle": false,
     "tableResultSettingsMap": {},
     "title": ""
    }
   },
   "outputs": [
    {
     "output_type": "stream",
     "name": "stdout",
     "output_type": "stream",
     "text": [
      "Out[89]: [('supports', 2),\n ('sql', 2),\n ('spark', 13),\n ('scala', 3),\n ('run', 2),\n ('rdd', 5),\n ('python', 4),\n ('pythom', 1),\n ('pyspark', 1),\n ('purpose', 2),\n ('preferred', 2),\n ('on', 2),\n ('machine', 1),\n ('learning', 1),\n ('language', 2),\n ('java', 3),\n ('is', 4),\n ('hadoop', 3),\n ('general', 2),\n ('framework', 2),\n ('for', 2),\n ('execution', 2),\n ('can', 2),\n ('and', 2),\n ('also', 2),\n ('a', 2)]"
     ]
    }
   ],
   "source": [
    "text.flatMap(lambda x:x.split())\\\n",
    "  .map(lambda x:(x,1))\\\n",
    "    .groupByKey()\\\n",
    "      .mapValues(len)\\\n",
    "        .sortBy(lambda x:x[0],False).collect()"
   ]
  },
  {
   "cell_type": "code",
   "execution_count": 0,
   "metadata": {
    "application/vnd.databricks.v1+cell": {
     "cellMetadata": {
      "byteLimit": 2048000,
      "rowLimit": 10000
     },
     "inputWidgets": {},
     "nuid": "b9c231e2-dc2f-46f7-90c5-284e0057debd",
     "showTitle": false,
     "tableResultSettingsMap": {},
     "title": ""
    }
   },
   "outputs": [],
   "source": [
    "rgy=sc.parallelize([1,1,1,2,3,4,5,2,3,2,3,4,5,6,7,8,8,7,6,7,8,7,6,7,8,5,6,5,7],4)"
   ]
  },
  {
   "cell_type": "code",
   "execution_count": 0,
   "metadata": {
    "application/vnd.databricks.v1+cell": {
     "cellMetadata": {
      "byteLimit": 2048000,
      "rowLimit": 10000
     },
     "inputWidgets": {},
     "nuid": "98a2f630-8ab2-4820-a12d-9797fa32927e",
     "showTitle": false,
     "tableResultSettingsMap": {},
     "title": ""
    }
   },
   "outputs": [
    {
     "output_type": "stream",
     "name": "stdout",
     "output_type": "stream",
     "text": [
      "Out[91]: [(1, 3), (2, 3), (3, 3), (4, 2), (5, 4), (6, 4), (7, 6), (8, 4)]"
     ]
    }
   ],
   "source": [
    "rgy.groupBy(lambda x:x).mapValues(len).sortBy(lambda x:x[0]).collect()"
   ]
  },
  {
   "cell_type": "code",
   "execution_count": 0,
   "metadata": {
    "application/vnd.databricks.v1+cell": {
     "cellMetadata": {
      "byteLimit": 2048000,
      "rowLimit": 10000
     },
     "inputWidgets": {},
     "nuid": "2c24e64e-6ac6-4efa-a12e-7b5e18287baf",
     "showTitle": false,
     "tableResultSettingsMap": {},
     "title": ""
    }
   },
   "outputs": [
    {
     "output_type": "stream",
     "name": "stdout",
     "output_type": "stream",
     "text": [
      "Out[92]: [(1, [1, 1, 1]),\n (2, [2, 2, 2]),\n (3, [3, 3, 3]),\n (4, [4, 4]),\n (5, [5, 5, 5, 5]),\n (6, [6, 6, 6, 6]),\n (7, [7, 7, 7, 7, 7, 7]),\n (8, [8, 8, 8, 8])]"
     ]
    }
   ],
   "source": [
    "rgy.groupBy(lambda x:x).mapValues(list).sortBy(lambda x:x[0]).collect()"
   ]
  },
  {
   "cell_type": "code",
   "execution_count": 0,
   "metadata": {
    "application/vnd.databricks.v1+cell": {
     "cellMetadata": {
      "byteLimit": 2048000,
      "rowLimit": 10000
     },
     "inputWidgets": {},
     "nuid": "1f3db375-bb8a-4955-8eca-748465d4d763",
     "showTitle": false,
     "tableResultSettingsMap": {},
     "title": ""
    }
   },
   "outputs": [
    {
     "output_type": "stream",
     "name": "stdout",
     "output_type": "stream",
     "text": [
      "Out[94]: [(8, 32), (7, 42), (6, 24), (5, 20), (4, 8), (3, 9), (2, 6), (1, 3)]"
     ]
    }
   ],
   "source": [
    "rgy.groupBy(lambda x:x).mapValues(sum).sortBy(lambda x:x[0],False).collect()"
   ]
  },
  {
   "cell_type": "code",
   "execution_count": 0,
   "metadata": {
    "application/vnd.databricks.v1+cell": {
     "cellMetadata": {
      "byteLimit": 2048000,
      "rowLimit": 10000
     },
     "inputWidgets": {},
     "nuid": "899ab278-8286-43e7-8412-ca56571895d3",
     "showTitle": false,
     "tableResultSettingsMap": {},
     "title": ""
    }
   },
   "outputs": [
    {
     "output_type": "stream",
     "name": "stdout",
     "output_type": "stream",
     "text": [
      "Out[97]: [('supports', 2),\n ('sql', 2),\n ('spark', 13),\n ('scala', 3),\n ('run', 2),\n ('rdd', 5),\n ('python', 4),\n ('pythom', 1),\n ('pyspark', 1),\n ('purpose', 2),\n ('preferred', 2),\n ('on', 2),\n ('machine', 1),\n ('learning', 1),\n ('language', 2),\n ('java', 3),\n ('is', 4),\n ('hadoop', 3),\n ('general', 2),\n ('framework', 2),\n ('for', 2),\n ('execution', 2),\n ('can', 2),\n ('and', 2),\n ('also', 2),\n ('a', 2)]"
     ]
    }
   ],
   "source": [
    "fm.groupBy(lambda x:x).mapValues(len).sortBy(lambda x:x[0],False).collect()"
   ]
  },
  {
   "cell_type": "code",
   "execution_count": 0,
   "metadata": {
    "application/vnd.databricks.v1+cell": {
     "cellMetadata": {
      "byteLimit": 2048000,
      "rowLimit": 10000
     },
     "inputWidgets": {},
     "nuid": "bc32d0af-02db-462c-ae48-0e391cfc4e9c",
     "showTitle": false,
     "tableResultSettingsMap": {},
     "title": ""
    }
   },
   "outputs": [
    {
     "output_type": "stream",
     "name": "stdout",
     "output_type": "stream",
     "text": [
      "Out[99]: [(1, ['a', 'a']),\n (2, ['is', 'on', 'is', 'is', 'on', 'is']),\n (3,\n  ['can',\n   'run',\n   'for',\n   'and',\n   'can',\n   'run',\n   'for',\n   'and',\n   'rdd',\n   'rdd',\n   'rdd',\n   'sql',\n   'sql',\n   'rdd',\n   'rdd']),\n (4, ['also', 'java', 'also', 'java', 'java']),\n (5,\n  ['spark',\n   'spark',\n   'scala',\n   'spark',\n   'spark',\n   'spark',\n   'spark',\n   'scala',\n   'spark',\n   'spark',\n   'spark',\n   'scala',\n   'spark',\n   'spark',\n   'spark',\n   'spark']),\n (6,\n  ['hadoop',\n   'python',\n   'hadoop',\n   'python',\n   'python',\n   'hadoop',\n   'python',\n   'pythom']),\n (7, ['general', 'purpose', 'general', 'purpose', 'pyspark', 'machine']),\n (8, ['language', 'supports', 'language', 'supports', 'learning']),\n (9,\n  ['execution',\n   'framework',\n   'preferred',\n   'execution',\n   'framework',\n   'preferred'])]"
     ]
    }
   ],
   "source": [
    "fm.groupBy(len).mapValues(list).sortBy(lambda x:x[0]).collect()"
   ]
  },
  {
   "cell_type": "code",
   "execution_count": 0,
   "metadata": {
    "application/vnd.databricks.v1+cell": {
     "cellMetadata": {
      "byteLimit": 2048000,
      "rowLimit": 10000
     },
     "inputWidgets": {},
     "nuid": "2dadcb9c-86bf-49f6-a56a-895abdc7aae0",
     "showTitle": false,
     "tableResultSettingsMap": {},
     "title": ""
    }
   },
   "outputs": [
    {
     "output_type": "stream",
     "name": "stdout",
     "output_type": "stream",
     "text": [
      "Out[100]: [(1, 2), (2, 6), (3, 15), (4, 5), (5, 16), (6, 8), (7, 6), (8, 5), (9, 6)]"
     ]
    }
   ],
   "source": [
    "fm.groupBy(len).mapValues(len).sortBy(lambda x:x[0]).collect()"
   ]
  },
  {
   "cell_type": "code",
   "execution_count": 0,
   "metadata": {
    "application/vnd.databricks.v1+cell": {
     "cellMetadata": {
      "byteLimit": 2048000,
      "rowLimit": 10000
     },
     "inputWidgets": {},
     "nuid": "3a51c0d9-e669-4258-b066-0bdc72642fe7",
     "showTitle": false,
     "tableResultSettingsMap": {},
     "title": ""
    }
   },
   "outputs": [
    {
     "output_type": "stream",
     "name": "stdout",
     "output_type": "stream",
     "text": [
      "Out[101]: [(0, [2, 4, 2, 2, 4, 6, 8, 8, 6, 8, 6, 8, 6]),\n (1, [1, 1, 1, 3, 5, 3, 3, 5, 7, 7, 7, 7, 7, 5, 5, 7])]"
     ]
    }
   ],
   "source": [
    "rgy.groupBy(lambda x:x%2).mapValues(list).sortBy(lambda x:x[0]).collect()"
   ]
  },
  {
   "cell_type": "code",
   "execution_count": 0,
   "metadata": {
    "application/vnd.databricks.v1+cell": {
     "cellMetadata": {
      "byteLimit": 2048000,
      "rowLimit": 10000
     },
     "inputWidgets": {},
     "nuid": "9784a419-8415-4495-9328-aacb967b16e3",
     "showTitle": false,
     "tableResultSettingsMap": {},
     "title": ""
    }
   },
   "outputs": [
    {
     "output_type": "stream",
     "name": "stdout",
     "output_type": "stream",
     "text": [
      "Out[102]: [(1, 16), (0, 13)]"
     ]
    }
   ],
   "source": [
    "rgy.groupBy(lambda x:x%2).mapValues(len).sortBy(lambda x:x[0],False).collect()"
   ]
  },
  {
   "cell_type": "code",
   "execution_count": 0,
   "metadata": {
    "application/vnd.databricks.v1+cell": {
     "cellMetadata": {
      "byteLimit": 2048000,
      "rowLimit": 10000
     },
     "inputWidgets": {},
     "nuid": "e90cba1c-9588-4ab6-8b9b-46392ac92683",
     "showTitle": false,
     "tableResultSettingsMap": {},
     "title": ""
    }
   },
   "outputs": [
    {
     "output_type": "stream",
     "name": "stdout",
     "output_type": "stream",
     "text": [
      "Out[103]: [(0, 70), (1, 74)]"
     ]
    }
   ],
   "source": [
    "rgy.groupBy(lambda x:x%2).mapValues(sum).sortBy(lambda x:x[1]).collect()"
   ]
  },
  {
   "cell_type": "code",
   "execution_count": 0,
   "metadata": {
    "application/vnd.databricks.v1+cell": {
     "cellMetadata": {
      "byteLimit": 2048000,
      "rowLimit": 10000
     },
     "inputWidgets": {},
     "nuid": "69c25d6f-e12c-4545-921f-1d2213651714",
     "showTitle": false,
     "tableResultSettingsMap": {},
     "title": ""
    }
   },
   "outputs": [
    {
     "output_type": "stream",
     "name": "stdout",
     "output_type": "stream",
     "text": [
      "Out[104]: [(False, [1, 1, 1, 2, 3, 4, 5, 2, 3, 2, 3, 4, 5, 6, 6, 6, 5, 6, 5]),\n (True, [7, 8, 8, 7, 7, 8, 7, 7, 8, 7])]"
     ]
    }
   ],
   "source": [
    "rgy.groupBy(lambda x:x>6).mapValues(list).sortBy(lambda x:[0]).collect()"
   ]
  },
  {
   "cell_type": "code",
   "execution_count": 0,
   "metadata": {
    "application/vnd.databricks.v1+cell": {
     "cellMetadata": {
      "byteLimit": 2048000,
      "rowLimit": 10000
     },
     "inputWidgets": {},
     "nuid": "63acd57d-0115-4070-84d3-61072f7fb945",
     "showTitle": false,
     "tableResultSettingsMap": {},
     "title": ""
    }
   },
   "outputs": [
    {
     "output_type": "stream",
     "name": "stdout",
     "output_type": "stream",
     "text": [
      "Out[105]: [(False, 19), (True, 10)]"
     ]
    }
   ],
   "source": [
    "rgy.groupBy(lambda x:x>6).mapValues(len).sortBy(lambda x:[0]).collect()"
   ]
  },
  {
   "cell_type": "code",
   "execution_count": 0,
   "metadata": {
    "application/vnd.databricks.v1+cell": {
     "cellMetadata": {
      "byteLimit": 2048000,
      "rowLimit": 10000
     },
     "inputWidgets": {},
     "nuid": "1c4d7781-1be4-4cf9-b9a4-1c90e95b9d9a",
     "showTitle": false,
     "tableResultSettingsMap": {},
     "title": ""
    }
   },
   "outputs": [
    {
     "output_type": "stream",
     "name": "stdout",
     "output_type": "stream",
     "text": [
      "Out[109]: [(True, 74), (False, 70)]"
     ]
    }
   ],
   "source": [
    "rgy.groupBy(lambda x:x>6).mapValues(sum).sortBy(lambda x:x[1],False).collect()"
   ]
  },
  {
   "cell_type": "code",
   "execution_count": 0,
   "metadata": {
    "application/vnd.databricks.v1+cell": {
     "cellMetadata": {
      "byteLimit": 2048000,
      "rowLimit": 10000
     },
     "inputWidgets": {},
     "nuid": "4beaeb20-9fe0-41aa-abae-40cdea4d34b6",
     "showTitle": false,
     "tableResultSettingsMap": {},
     "title": ""
    }
   },
   "outputs": [
    {
     "output_type": "stream",
     "name": "stdout",
     "output_type": "stream",
     "text": [
      "Out[111]: [(8, [8, 8, 8, 8]), (7, [7, 7, 7, 7, 7, 7]), (6, [6, 6, 6, 6])]"
     ]
    }
   ],
   "source": [
    "rgy.filter(lambda x:x>5).groupBy(lambda x:x).mapValues(list).sortBy(lambda x:x[0],False).collect()"
   ]
  },
  {
   "cell_type": "code",
   "execution_count": 0,
   "metadata": {
    "application/vnd.databricks.v1+cell": {
     "cellMetadata": {
      "byteLimit": 2048000,
      "rowLimit": 10000
     },
     "inputWidgets": {},
     "nuid": "121d8029-1a4a-4469-8f0e-e58246e34b2b",
     "showTitle": false,
     "tableResultSettingsMap": {},
     "title": ""
    }
   },
   "outputs": [
    {
     "output_type": "stream",
     "name": "stdout",
     "output_type": "stream",
     "text": [
      "Out[112]: [(8, 32), (7, 42), (6, 24)]"
     ]
    }
   ],
   "source": [
    "rgy.filter(lambda x:x>5).groupBy(lambda x:x).mapValues(sum).sortBy(lambda x:x[0],False).collect()"
   ]
  },
  {
   "cell_type": "code",
   "execution_count": 0,
   "metadata": {
    "application/vnd.databricks.v1+cell": {
     "cellMetadata": {
      "byteLimit": 2048000,
      "rowLimit": 10000
     },
     "inputWidgets": {},
     "nuid": "a49275d5-abdc-481b-8ea7-04b04eef9172",
     "showTitle": false,
     "tableResultSettingsMap": {},
     "title": ""
    }
   },
   "outputs": [
    {
     "output_type": "stream",
     "name": "stdout",
     "output_type": "stream",
     "text": [
      "Out[113]: [('a', ['a', 'also', 'and', 'a', 'also', 'and']),\n ('c', ['can', 'can']),\n ('e', ['execution', 'execution']),\n ('f', ['framework', 'for', 'framework', 'for']),\n ('g', ['general', 'general']),\n ('h', ['hadoop', 'hadoop', 'hadoop']),\n ('i', ['is', 'is', 'is', 'is']),\n ('j', ['java', 'java', 'java']),\n ('l', ['language', 'language', 'learning']),\n ('m', ['machine']),\n ('o', ['on', 'on']),\n ('p',\n  ['purpose',\n   'preferred',\n   'python',\n   'purpose',\n   'preferred',\n   'python',\n   'python',\n   'pyspark',\n   'python',\n   'pythom']),\n ('r', ['run', 'run', 'rdd', 'rdd', 'rdd', 'rdd', 'rdd']),\n ('s',\n  ['spark',\n   'spark',\n   'scala',\n   'spark',\n   'spark',\n   'supports',\n   'spark',\n   'spark',\n   'scala',\n   'spark',\n   'spark',\n   'supports',\n   'spark',\n   'scala',\n   'spark',\n   'spark',\n   'sql',\n   'spark',\n   'spark',\n   'sql'])]"
     ]
    }
   ],
   "source": [
    "fm.groupBy(lambda x:x[0]).mapValues(list).sortBy(lambda x:x[0]).collect()"
   ]
  },
  {
   "cell_type": "code",
   "execution_count": 0,
   "metadata": {
    "application/vnd.databricks.v1+cell": {
     "cellMetadata": {
      "byteLimit": 2048000,
      "rowLimit": 10000
     },
     "inputWidgets": {},
     "nuid": "7279ca75-73a3-4130-9e72-c74fcfa98454",
     "showTitle": false,
     "tableResultSettingsMap": {},
     "title": ""
    }
   },
   "outputs": [
    {
     "output_type": "stream",
     "name": "stdout",
     "output_type": "stream",
     "text": [
      "Out[116]: [('supports', 2),\n ('sql', 2),\n ('spark', 13),\n ('scala', 3),\n ('run', 2),\n ('rdd', 5),\n ('python', 4),\n ('pythom', 1),\n ('pyspark', 1),\n ('purpose', 2),\n ('preferred', 2),\n ('on', 2),\n ('machine', 1),\n ('learning', 1),\n ('language', 2),\n ('java', 3),\n ('is', 4),\n ('hadoop', 3),\n ('general', 2),\n ('framework', 2),\n ('for', 2),\n ('execution', 2),\n ('can', 2),\n ('and', 2),\n ('also', 2),\n ('a', 2)]"
     ]
    }
   ],
   "source": [
    "ds=fm.groupBy(lambda x:x).mapValues(len).sortBy(lambda x:x[0],False)\n",
    "ds.collect()"
   ]
  },
  {
   "cell_type": "code",
   "execution_count": 0,
   "metadata": {
    "application/vnd.databricks.v1+cell": {
     "cellMetadata": {
      "byteLimit": 2048000,
      "rowLimit": 10000
     },
     "inputWidgets": {},
     "nuid": "95038152-cb3a-424e-ae5a-35238093dcef",
     "showTitle": false,
     "tableResultSettingsMap": {},
     "title": ""
    }
   },
   "outputs": [],
   "source": [
    "ds.saveAsTextFile(\"dbfs:/FileStore/Practice1/wordcount1\")"
   ]
  },
  {
   "cell_type": "code",
   "execution_count": 0,
   "metadata": {
    "application/vnd.databricks.v1+cell": {
     "cellMetadata": {
      "byteLimit": 2048000,
      "rowLimit": 10000
     },
     "inputWidgets": {},
     "nuid": "ec730f75-4f4c-4561-858d-dd419498775f",
     "showTitle": false,
     "tableResultSettingsMap": {},
     "title": ""
    }
   },
   "outputs": [
    {
     "output_type": "stream",
     "name": "stdout",
     "output_type": "stream",
     "text": [
      "+----------------+\n|           value|\n+----------------+\n|  ('pyspark', 1)|\n|  ('purpose', 2)|\n|('preferred', 2)|\n|       ('on', 2)|\n|  ('machine', 1)|\n| ('learning', 1)|\n| ('language', 2)|\n|     ('java', 3)|\n|       ('is', 4)|\n|   ('hadoop', 3)|\n|  ('general', 2)|\n|('framework', 2)|\n|      ('for', 2)|\n|('execution', 2)|\n|      ('can', 2)|\n|      ('and', 2)|\n|     ('also', 2)|\n|        ('a', 2)|\n| ('supports', 2)|\n|      ('sql', 2)|\n+----------------+\nonly showing top 20 rows\n\n"
     ]
    }
   ],
   "source": [
    "df=spark.read.text(\"dbfs:/FileStore/Practice1/wordcount1\")\n",
    "df.show()"
   ]
  },
  {
   "cell_type": "code",
   "execution_count": 0,
   "metadata": {
    "application/vnd.databricks.v1+cell": {
     "cellMetadata": {
      "byteLimit": 2048000,
      "rowLimit": 10000
     },
     "inputWidgets": {},
     "nuid": "16aed75e-270a-401a-b69b-f1bb827a4502",
     "showTitle": false,
     "tableResultSettingsMap": {},
     "title": ""
    }
   },
   "outputs": [
    {
     "output_type": "stream",
     "name": "stdout",
     "output_type": "stream",
     "text": [
      "Out[129]: [(4, 1),\n (4, 1),\n (8, 1),\n (8, 1),\n (8, 1),\n (8, 1),\n (1, 1),\n (1, 1),\n (1, 1),\n (5, 1),\n (5, 1),\n (5, 1),\n (5, 1),\n (2, 1),\n (2, 1),\n (2, 1),\n (6, 1),\n (6, 1),\n (6, 1),\n (6, 1),\n (3, 1),\n (3, 1),\n (3, 1),\n (7, 1),\n (7, 1),\n (7, 1),\n (7, 1),\n (7, 1),\n (7, 1)]"
     ]
    }
   ],
   "source": [
    "rgy.map(lambda x:(x,1)).partitionBy(4).collect()"
   ]
  },
  {
   "cell_type": "code",
   "execution_count": 0,
   "metadata": {
    "application/vnd.databricks.v1+cell": {
     "cellMetadata": {
      "byteLimit": 2048000,
      "rowLimit": 10000
     },
     "inputWidgets": {},
     "nuid": "983c9af0-d24b-4fd9-8927-99139998e927",
     "showTitle": false,
     "tableResultSettingsMap": {},
     "title": ""
    }
   },
   "outputs": [
    {
     "output_type": "stream",
     "name": "stdout",
     "output_type": "stream",
     "text": [
      "Out[131]: [1, 2, 3, 2, 3, 4, 5, 67, 8, 7, 8, 6, 8, 6, 8, 4, 6, 24, 26]"
     ]
    }
   ],
   "source": [
    "rp=sc.parallelize([1,2,3,2,3,4,5,67,8,7,8,6,8,6,8,4,6,24,26],4)\n",
    "rp.collect()"
   ]
  },
  {
   "cell_type": "code",
   "execution_count": 0,
   "metadata": {
    "application/vnd.databricks.v1+cell": {
     "cellMetadata": {
      "byteLimit": 2048000,
      "rowLimit": 10000
     },
     "inputWidgets": {},
     "nuid": "65b76acb-398b-4d7a-afd9-f4cf00a5d3c5",
     "showTitle": false,
     "tableResultSettingsMap": {},
     "title": ""
    }
   },
   "outputs": [
    {
     "output_type": "stream",
     "name": "stdout",
     "output_type": "stream",
     "text": [
      "Out[132]: [(3, 1),\n (3, 1),\n (6, 1),\n (6, 1),\n (6, 1),\n (24, 1),\n (1, 1),\n (4, 1),\n (67, 1),\n (7, 1),\n (4, 1),\n (2, 1),\n (2, 1),\n (5, 1),\n (8, 1),\n (8, 1),\n (8, 1),\n (8, 1),\n (26, 1)]"
     ]
    }
   ],
   "source": [
    "rp.map(lambda x:(x,1)).partitionBy(3).collect()"
   ]
  },
  {
   "cell_type": "code",
   "execution_count": 0,
   "metadata": {
    "application/vnd.databricks.v1+cell": {
     "cellMetadata": {
      "byteLimit": 2048000,
      "rowLimit": 10000
     },
     "inputWidgets": {},
     "nuid": "43546e12-0868-495e-acc1-cc0c0aadd212",
     "showTitle": false,
     "tableResultSettingsMap": {},
     "title": ""
    }
   },
   "outputs": [
    {
     "output_type": "stream",
     "name": "stdout",
     "output_type": "stream",
     "text": [
      "Out[135]: [(2, 3),\n (2, 3),\n (5, 6),\n (8, 9),\n (8, 9),\n (8, 9),\n (8, 9),\n (26, 27),\n (3, 4),\n (3, 4),\n (6, 7),\n (6, 7),\n (6, 7),\n (24, 25),\n (1, 2),\n (4, 5),\n (67, 68),\n (7, 8),\n (4, 5)]"
     ]
    }
   ],
   "source": [
    "rp.map(lambda x:(x,x+1)).partitionBy(3,lambda x:x+1).collect()"
   ]
  },
  {
   "cell_type": "code",
   "execution_count": 0,
   "metadata": {
    "application/vnd.databricks.v1+cell": {
     "cellMetadata": {
      "byteLimit": 2048000,
      "rowLimit": 10000
     },
     "inputWidgets": {},
     "nuid": "91def287-ffec-40ea-8ed2-6333db515374",
     "showTitle": false,
     "tableResultSettingsMap": {},
     "title": ""
    }
   },
   "outputs": [
    {
     "output_type": "stream",
     "name": "stdout",
     "output_type": "stream",
     "text": [
      "Out[137]: [(67, 1),\n (26, 1),\n (24, 1),\n (8, 1),\n (8, 1),\n (8, 1),\n (8, 1),\n (7, 1),\n (6, 1),\n (6, 1),\n (6, 1),\n (5, 1),\n (4, 1),\n (4, 1),\n (3, 1),\n (3, 1),\n (2, 1),\n (2, 1),\n (1, 1)]"
     ]
    }
   ],
   "source": [
    "rp.map(lambda x:(x,1)).sortByKey(False).collect()"
   ]
  },
  {
   "cell_type": "code",
   "execution_count": 0,
   "metadata": {
    "application/vnd.databricks.v1+cell": {
     "cellMetadata": {
      "byteLimit": 2048000,
      "rowLimit": 10000
     },
     "inputWidgets": {},
     "nuid": "d36f2f8d-5164-40db-8621-bbf49a9305ff",
     "showTitle": false,
     "tableResultSettingsMap": {},
     "title": ""
    }
   },
   "outputs": [
    {
     "output_type": "stream",
     "name": "stdout",
     "output_type": "stream",
     "text": [
      "Out[138]: [('spark', 13),\n ('rdd', 5),\n ('python', 4),\n ('is', 4),\n ('java', 3),\n ('hadoop', 3),\n ('scala', 3),\n ('general', 2),\n ('purpose', 2),\n ('framework', 2),\n ('run', 2),\n ('language', 2),\n ('for', 2),\n ('also', 2),\n ('can', 2),\n ('supports', 2),\n ('and', 2),\n ('sql', 2),\n ('a', 2),\n ('execution', 2),\n ('on', 2),\n ('preferred', 2),\n ('machine', 1),\n ('learning', 1),\n ('pyspark', 1),\n ('pythom', 1)]"
     ]
    }
   ],
   "source": [
    "fm.map(lambda x:(x,x)).groupByKey().mapValues(len).sortBy(lambda x:x[1],False).collect()"
   ]
  },
  {
   "cell_type": "code",
   "execution_count": 0,
   "metadata": {
    "application/vnd.databricks.v1+cell": {
     "cellMetadata": {
      "byteLimit": 2048000,
      "rowLimit": 10000
     },
     "inputWidgets": {},
     "nuid": "0f05bf08-d044-4ae1-a0e7-1f348b81ad00",
     "showTitle": false,
     "tableResultSettingsMap": {},
     "title": ""
    }
   },
   "outputs": [
    {
     "output_type": "stream",
     "name": "stdout",
     "output_type": "stream",
     "text": [
      "Out[139]: [('spark', ['s', 'p', 'a', 'r', 'k']),\n ('is', ['i', 's']),\n ('a', ['a']),\n ('general', ['g', 'e', 'n', 'e', 'r', 'a', 'l']),\n ('purpose', ['p', 'u', 'r', 'p', 'o', 's', 'e']),\n ('execution', ['e', 'x', 'e', 'c', 'u', 't', 'i', 'o', 'n']),\n ('framework', ['f', 'r', 'a', 'm', 'e', 'w', 'o', 'r', 'k']),\n ('spark', ['s', 'p', 'a', 'r', 'k']),\n ('can', ['c', 'a', 'n']),\n ('run', ['r', 'u', 'n']),\n ('on', ['o', 'n']),\n ('hadoop', ['h', 'a', 'd', 'o', 'o', 'p']),\n ('scala', ['s', 'c', 'a', 'l', 'a']),\n ('is', ['i', 's']),\n ('preferred', ['p', 'r', 'e', 'f', 'e', 'r', 'r', 'e', 'd']),\n ('language', ['l', 'a', 'n', 'g', 'u', 'a', 'g', 'e']),\n ('for', ['f', 'o', 'r']),\n ('spark', ['s', 'p', 'a', 'r', 'k']),\n ('spark', ['s', 'p', 'a', 'r', 'k']),\n ('also', ['a', 'l', 's', 'o']),\n ('supports', ['s', 'u', 'p', 'p', 'o', 'r', 't', 's']),\n ('java', ['j', 'a', 'v', 'a']),\n ('and', ['a', 'n', 'd']),\n ('python', ['p', 'y', 't', 'h', 'o', 'n']),\n ('spark', ['s', 'p', 'a', 'r', 'k']),\n ('is', ['i', 's']),\n ('a', ['a']),\n ('general', ['g', 'e', 'n', 'e', 'r', 'a', 'l']),\n ('purpose', ['p', 'u', 'r', 'p', 'o', 's', 'e']),\n ('execution', ['e', 'x', 'e', 'c', 'u', 't', 'i', 'o', 'n']),\n ('framework', ['f', 'r', 'a', 'm', 'e', 'w', 'o', 'r', 'k']),\n ('spark', ['s', 'p', 'a', 'r', 'k']),\n ('can', ['c', 'a', 'n']),\n ('run', ['r', 'u', 'n']),\n ('on', ['o', 'n']),\n ('hadoop', ['h', 'a', 'd', 'o', 'o', 'p']),\n ('scala', ['s', 'c', 'a', 'l', 'a']),\n ('is', ['i', 's']),\n ('preferred', ['p', 'r', 'e', 'f', 'e', 'r', 'r', 'e', 'd']),\n ('language', ['l', 'a', 'n', 'g', 'u', 'a', 'g', 'e']),\n ('for', ['f', 'o', 'r']),\n ('spark', ['s', 'p', 'a', 'r', 'k']),\n ('spark', ['s', 'p', 'a', 'r', 'k']),\n ('also', ['a', 'l', 's', 'o']),\n ('supports', ['s', 'u', 'p', 'p', 'o', 'r', 't', 's']),\n ('java', ['j', 'a', 'v', 'a']),\n ('and', ['a', 'n', 'd']),\n ('python', ['p', 'y', 't', 'h', 'o', 'n']),\n ('python', ['p', 'y', 't', 'h', 'o', 'n']),\n ('spark', ['s', 'p', 'a', 'r', 'k']),\n ('scala', ['s', 'c', 'a', 'l', 'a']),\n ('java', ['j', 'a', 'v', 'a']),\n ('pyspark', ['p', 'y', 's', 'p', 'a', 'r', 'k']),\n ('hadoop', ['h', 'a', 'd', 'o', 'o', 'p']),\n ('spark', ['s', 'p', 'a', 'r', 'k']),\n ('python', ['p', 'y', 't', 'h', 'o', 'n']),\n ('spark', ['s', 'p', 'a', 'r', 'k']),\n ('rdd', ['r', 'd', 'd']),\n ('rdd', ['r', 'd', 'd']),\n ('rdd', ['r', 'd', 'd']),\n ('sql', ['s', 'q', 'l']),\n ('spark', ['s', 'p', 'a', 'r', 'k']),\n ('pythom', ['p', 'y', 't', 'h', 'o', 'm']),\n ('machine', ['m', 'a', 'c', 'h', 'i', 'n', 'e']),\n ('learning', ['l', 'e', 'a', 'r', 'n', 'i', 'n', 'g']),\n ('spark', ['s', 'p', 'a', 'r', 'k']),\n ('sql', ['s', 'q', 'l']),\n ('rdd', ['r', 'd', 'd']),\n ('rdd', ['r', 'd', 'd'])]"
     ]
    }
   ],
   "source": [
    "fm.map(lambda x:(x,x)).mapValues(list).collect()"
   ]
  },
  {
   "cell_type": "code",
   "execution_count": 0,
   "metadata": {
    "application/vnd.databricks.v1+cell": {
     "cellMetadata": {
      "byteLimit": 2048000,
      "rowLimit": 10000
     },
     "inputWidgets": {},
     "nuid": "eee592a0-847d-4e51-86dd-3f74bf41b712",
     "showTitle": false,
     "tableResultSettingsMap": {},
     "title": ""
    }
   },
   "outputs": [
    {
     "output_type": "stream",
     "name": "stdout",
     "output_type": "stream",
     "text": [
      "Out[141]: [('spark', 5),\n ('is', 2),\n ('a', 1),\n ('general', 7),\n ('purpose', 7),\n ('execution', 9),\n ('framework', 9),\n ('spark', 5),\n ('can', 3),\n ('run', 3),\n ('on', 2),\n ('hadoop', 6),\n ('scala', 5),\n ('is', 2),\n ('preferred', 9),\n ('language', 8),\n ('for', 3),\n ('spark', 5),\n ('spark', 5),\n ('also', 4),\n ('supports', 8),\n ('java', 4),\n ('and', 3),\n ('python', 6),\n ('spark', 5),\n ('is', 2),\n ('a', 1),\n ('general', 7),\n ('purpose', 7),\n ('execution', 9),\n ('framework', 9),\n ('spark', 5),\n ('can', 3),\n ('run', 3),\n ('on', 2),\n ('hadoop', 6),\n ('scala', 5),\n ('is', 2),\n ('preferred', 9),\n ('language', 8),\n ('for', 3),\n ('spark', 5),\n ('spark', 5),\n ('also', 4),\n ('supports', 8),\n ('java', 4),\n ('and', 3),\n ('python', 6),\n ('python', 6),\n ('spark', 5),\n ('scala', 5),\n ('java', 4),\n ('pyspark', 7),\n ('hadoop', 6),\n ('spark', 5),\n ('python', 6),\n ('spark', 5),\n ('rdd', 3),\n ('rdd', 3),\n ('rdd', 3),\n ('sql', 3),\n ('spark', 5),\n ('pythom', 6),\n ('machine', 7),\n ('learning', 8),\n ('spark', 5),\n ('sql', 3),\n ('rdd', 3),\n ('rdd', 3)]"
     ]
    }
   ],
   "source": [
    "fm.map(lambda x:(x,x)).mapValues(len).collect()"
   ]
  },
  {
   "cell_type": "code",
   "execution_count": 0,
   "metadata": {
    "application/vnd.databricks.v1+cell": {
     "cellMetadata": {
      "byteLimit": 2048000,
      "rowLimit": 10000
     },
     "inputWidgets": {},
     "nuid": "680c18df-643a-43e4-a965-94e99751a990",
     "showTitle": false,
     "tableResultSettingsMap": {},
     "title": ""
    }
   },
   "outputs": [],
   "source": [
    "sp=sc.parallelize([1,3,4,2,3,4,3,5,6,8,7,8,6,7,5,6,7],3)"
   ]
  },
  {
   "cell_type": "code",
   "execution_count": 0,
   "metadata": {
    "application/vnd.databricks.v1+cell": {
     "cellMetadata": {
      "byteLimit": 2048000,
      "rowLimit": 10000
     },
     "inputWidgets": {},
     "nuid": "05f9e478-5b7e-4b5f-b55c-14cd3f017a5c",
     "showTitle": false,
     "tableResultSettingsMap": {},
     "title": ""
    }
   },
   "outputs": [
    {
     "output_type": "stream",
     "name": "stdout",
     "output_type": "stream",
     "text": [
      "Out[143]: [(1, [1]),\n (2, [2]),\n (3, [3, 3, 3]),\n (4, [4, 4]),\n (5, [5, 5]),\n (6, [6, 6, 6]),\n (7, [7, 7, 7]),\n (8, [8, 8])]"
     ]
    }
   ],
   "source": [
    "sp.map(lambda x:(x,x)).groupByKey().mapValues(list).sortByKey().collect()"
   ]
  },
  {
   "cell_type": "code",
   "execution_count": 0,
   "metadata": {
    "application/vnd.databricks.v1+cell": {
     "cellMetadata": {
      "byteLimit": 2048000,
      "rowLimit": 10000
     },
     "inputWidgets": {},
     "nuid": "11daf359-7cab-4630-b000-39607d93b3dc",
     "showTitle": false,
     "tableResultSettingsMap": {},
     "title": ""
    }
   },
   "outputs": [
    {
     "output_type": "stream",
     "name": "stdout",
     "output_type": "stream",
     "text": [
      "Out[144]: [(1, 1), (2, 2), (3, 9), (4, 8), (5, 10), (6, 18), (7, 21), (8, 16)]"
     ]
    }
   ],
   "source": [
    "sp.map(lambda x:(x,x)).reduceByKey(lambda x,y:x+y).sortByKey().collect()"
   ]
  },
  {
   "cell_type": "code",
   "execution_count": 0,
   "metadata": {
    "application/vnd.databricks.v1+cell": {
     "cellMetadata": {
      "byteLimit": 2048000,
      "rowLimit": 10000
     },
     "inputWidgets": {},
     "nuid": "aa1aba8f-7f0d-4944-9c81-b44bc924b62c",
     "showTitle": false,
     "tableResultSettingsMap": {},
     "title": ""
    }
   },
   "outputs": [
    {
     "output_type": "stream",
     "name": "stdout",
     "output_type": "stream",
     "text": [
      "Out[146]: [('a', 2),\n ('also', 2),\n ('and', 2),\n ('can', 2),\n ('execution', 2),\n ('for', 2),\n ('framework', 2),\n ('general', 2),\n ('hadoop', 3),\n ('is', 4),\n ('java', 3),\n ('language', 2),\n ('learning', 1),\n ('machine', 1),\n ('on', 2),\n ('preferred', 2),\n ('purpose', 2),\n ('pyspark', 1),\n ('pythom', 1),\n ('python', 4),\n ('rdd', 5),\n ('run', 2),\n ('scala', 3),\n ('spark', 13),\n ('sql', 2),\n ('supports', 2)]"
     ]
    }
   ],
   "source": [
    "fm.map(lambda x:(x,1)).reduceByKey(lambda x,y:x+y).sortByKey().collect()"
   ]
  },
  {
   "cell_type": "code",
   "execution_count": 0,
   "metadata": {
    "application/vnd.databricks.v1+cell": {
     "cellMetadata": {
      "byteLimit": 2048000,
      "rowLimit": 10000
     },
     "inputWidgets": {},
     "nuid": "8f0f4371-638b-4bb9-90ca-44d8ccac600f",
     "showTitle": false,
     "tableResultSettingsMap": {},
     "title": ""
    }
   },
   "outputs": [
    {
     "output_type": "stream",
     "name": "stdout",
     "output_type": "stream",
     "text": [
      "Out[147]: [(1, 3), (1, 4), (2, 5), (2, 6), (2, 7), (4, 6), (4, 7), (3, 6), (3, 8)]"
     ]
    }
   ],
   "source": [
    "rr=sc.parallelize([(1,3),(1,4),(2,5),(2,6),(2,7),(4,6),(4,7),(3,6),(3,8)],3)\n",
    "rr.collect()"
   ]
  },
  {
   "cell_type": "code",
   "execution_count": 0,
   "metadata": {
    "application/vnd.databricks.v1+cell": {
     "cellMetadata": {
      "byteLimit": 2048000,
      "rowLimit": 10000
     },
     "inputWidgets": {},
     "nuid": "12edcf79-0c10-4b40-a15a-f725cc003ada",
     "showTitle": false,
     "tableResultSettingsMap": {},
     "title": ""
    }
   },
   "outputs": [
    {
     "output_type": "stream",
     "name": "stdout",
     "output_type": "stream",
     "text": [
      "Out[148]: [(4, 13), (3, 14), (2, 18), (1, 7)]"
     ]
    }
   ],
   "source": [
    "rr.reduceByKey(lambda x,y:x+y).sortByKey(False).collect()"
   ]
  },
  {
   "cell_type": "code",
   "execution_count": 0,
   "metadata": {
    "application/vnd.databricks.v1+cell": {
     "cellMetadata": {
      "byteLimit": 2048000,
      "rowLimit": 10000
     },
     "inputWidgets": {},
     "nuid": "5fab0c6e-bcf8-4ada-a1fc-30a93cd095dd",
     "showTitle": false,
     "tableResultSettingsMap": {},
     "title": ""
    }
   },
   "outputs": [
    {
     "output_type": "stream",
     "name": "stdout",
     "output_type": "stream",
     "text": [
      "Out[149]: [('a', 1), ('a', 2), ('b', 6), ('a', 7), ('b', 6), ('c', 4), ('c', 6)]"
     ]
    }
   ],
   "source": [
    "rs=sc.parallelize([('a',1),('a',2),('b',6),('a',7),('b',6),('c',4),('c',6)],2)\n",
    "rs.collect()"
   ]
  },
  {
   "cell_type": "code",
   "execution_count": 0,
   "metadata": {
    "application/vnd.databricks.v1+cell": {
     "cellMetadata": {
      "byteLimit": 2048000,
      "rowLimit": 10000
     },
     "inputWidgets": {},
     "nuid": "e0e9c86a-4774-411a-85f9-15b807f8e0c4",
     "showTitle": true,
     "tableResultSettingsMap": {},
     "title": "reduceByKey"
    }
   },
   "outputs": [
    {
     "output_type": "stream",
     "name": "stdout",
     "output_type": "stream",
     "text": [
      "Out[150]: [('a', 10), ('b', 12), ('c', 10)]"
     ]
    }
   ],
   "source": [
    "rs.reduceByKey(lambda x,y:x+y).sortByKey(True).collect()"
   ]
  },
  {
   "cell_type": "code",
   "execution_count": 0,
   "metadata": {
    "application/vnd.databricks.v1+cell": {
     "cellMetadata": {
      "byteLimit": 2048000,
      "rowLimit": 10000
     },
     "inputWidgets": {},
     "nuid": "164053a4-1757-4165-8aeb-72f7d54b622d",
     "showTitle": false,
     "tableResultSettingsMap": {},
     "title": ""
    }
   },
   "outputs": [
    {
     "output_type": "stream",
     "name": "stdout",
     "output_type": "stream",
     "text": [
      "Out[156]: ('general,purpose,framework,run,language,for,also,python,machine,learning,is,can,supports,java,and,pyspark,rdd,sql,pythom,spark,a,execution,on,hadoop,scala,preferred',\n 69)"
     ]
    }
   ],
   "source": [
    "fm.groupBy(lambda x:x).mapValues(len).reduce(lambda x,y:(x[0]+\",\"+y[0],x[1]+y[1]))\n",
    "\n"
   ]
  },
  {
   "cell_type": "code",
   "execution_count": 0,
   "metadata": {
    "application/vnd.databricks.v1+cell": {
     "cellMetadata": {
      "byteLimit": 2048000,
      "rowLimit": 10000
     },
     "inputWidgets": {},
     "nuid": "0db4a191-c207-4a1b-b758-0fa644aa586d",
     "showTitle": false,
     "tableResultSettingsMap": {},
     "title": ""
    }
   },
   "outputs": [
    {
     "output_type": "stream",
     "name": "stdout",
     "output_type": "stream",
     "text": [
      "Out[158]: 2"
     ]
    }
   ],
   "source": [
    "rs.getNumPartitions()"
   ]
  },
  {
   "cell_type": "code",
   "execution_count": 0,
   "metadata": {
    "application/vnd.databricks.v1+cell": {
     "cellMetadata": {
      "byteLimit": 2048000,
      "rowLimit": 10000
     },
     "inputWidgets": {},
     "nuid": "c8bc7f70-dfba-4c6b-bb8a-4ac7ddddf024",
     "showTitle": false,
     "tableResultSettingsMap": {},
     "title": ""
    }
   },
   "outputs": [
    {
     "output_type": "stream",
     "name": "stdout",
     "output_type": "stream",
     "text": [
      "Out[159]: 3"
     ]
    }
   ],
   "source": [
    "fm.getNumPartitions()"
   ]
  },
  {
   "cell_type": "markdown",
   "metadata": {
    "application/vnd.databricks.v1+cell": {
     "cellMetadata": {},
     "inputWidgets": {},
     "nuid": "fabcb69a-872c-4037-9b85-469d40ef100d",
     "showTitle": false,
     "tableResultSettingsMap": {},
     "title": ""
    }
   },
   "source": [
    "**Actions**\n",
    "- collect\n",
    "- count\n",
    "- repartitions\n",
    "- coalesce\n",
    "- take\n",
    "- takeOrder\n"
   ]
  },
  {
   "cell_type": "code",
   "execution_count": 0,
   "metadata": {
    "application/vnd.databricks.v1+cell": {
     "cellMetadata": {
      "byteLimit": 2048000,
      "rowLimit": 10000
     },
     "inputWidgets": {},
     "nuid": "904ef16e-6300-464a-8c73-99fdb8ee20ca",
     "showTitle": true,
     "tableResultSettingsMap": {},
     "title": "Repartitions"
    }
   },
   "outputs": [
    {
     "output_type": "stream",
     "name": "stdout",
     "output_type": "stream",
     "text": [
      "Out[160]: 5"
     ]
    }
   ],
   "source": [
    "fm.repartition(5).getNumPartitions()"
   ]
  },
  {
   "cell_type": "code",
   "execution_count": 0,
   "metadata": {
    "application/vnd.databricks.v1+cell": {
     "cellMetadata": {
      "byteLimit": 2048000,
      "rowLimit": 10000
     },
     "inputWidgets": {},
     "nuid": "29a94e35-2d6f-442b-a19a-e1da6245b948",
     "showTitle": false,
     "tableResultSettingsMap": {},
     "title": ""
    }
   },
   "outputs": [
    {
     "output_type": "stream",
     "name": "stdout",
     "output_type": "stream",
     "text": [
      "Out[161]: 3"
     ]
    }
   ],
   "source": [
    "fm.coalesce(3).getNumPartitions()"
   ]
  },
  {
   "cell_type": "code",
   "execution_count": 0,
   "metadata": {
    "application/vnd.databricks.v1+cell": {
     "cellMetadata": {
      "byteLimit": 2048000,
      "rowLimit": 10000
     },
     "inputWidgets": {},
     "nuid": "f94aacc7-d164-4ae8-ac2f-b7f6d2bfb72d",
     "showTitle": false,
     "tableResultSettingsMap": {},
     "title": ""
    }
   },
   "outputs": [
    {
     "output_type": "stream",
     "name": "stdout",
     "output_type": "stream",
     "text": [
      "Out[162]: 3"
     ]
    }
   ],
   "source": [
    "rdd1.getNumPartitions()"
   ]
  },
  {
   "cell_type": "code",
   "execution_count": 0,
   "metadata": {
    "application/vnd.databricks.v1+cell": {
     "cellMetadata": {
      "byteLimit": 2048000,
      "rowLimit": 10000
     },
     "inputWidgets": {},
     "nuid": "17d976e3-f447-4386-86a5-e504dd4f2bc3",
     "showTitle": false,
     "tableResultSettingsMap": {},
     "title": ""
    }
   },
   "outputs": [
    {
     "output_type": "stream",
     "name": "stdout",
     "output_type": "stream",
     "text": [
      "Out[163]: 6"
     ]
    }
   ],
   "source": [
    "rdd1.repartition(6).getNumPartitions()"
   ]
  },
  {
   "cell_type": "code",
   "execution_count": 0,
   "metadata": {
    "application/vnd.databricks.v1+cell": {
     "cellMetadata": {
      "byteLimit": 2048000,
      "rowLimit": 10000
     },
     "inputWidgets": {},
     "nuid": "4f03a4de-01c8-46d8-884c-19f8dd3d0efc",
     "showTitle": false,
     "tableResultSettingsMap": {},
     "title": ""
    }
   },
   "outputs": [
    {
     "output_type": "stream",
     "name": "stdout",
     "output_type": "stream",
     "text": [
      "Out[164]: [2, 4, 6, 8, 10]"
     ]
    }
   ],
   "source": [
    "rdd1.take(5)"
   ]
  },
  {
   "cell_type": "code",
   "execution_count": 0,
   "metadata": {
    "application/vnd.databricks.v1+cell": {
     "cellMetadata": {
      "byteLimit": 2048000,
      "rowLimit": 10000
     },
     "inputWidgets": {},
     "nuid": "f68df84d-0347-4bbc-be0c-b17681dedbbb",
     "showTitle": false,
     "tableResultSettingsMap": {},
     "title": ""
    }
   },
   "outputs": [
    {
     "output_type": "stream",
     "name": "stdout",
     "output_type": "stream",
     "text": [
      "Out[165]: [(2, 1), (4, 3), (6, 5), (8, 7), (10, 9), (12, 11)]"
     ]
    }
   ],
   "source": [
    "rdd2.takeOrdered(6)"
   ]
  },
  {
   "cell_type": "code",
   "execution_count": 0,
   "metadata": {
    "application/vnd.databricks.v1+cell": {
     "cellMetadata": {
      "byteLimit": 2048000,
      "rowLimit": 10000
     },
     "inputWidgets": {},
     "nuid": "4fd97cb2-9061-4841-872e-f52fbeaa819b",
     "showTitle": false,
     "tableResultSettingsMap": {},
     "title": ""
    }
   },
   "outputs": [
    {
     "output_type": "stream",
     "name": "stdout",
     "output_type": "stream",
     "text": [
      "Out[169]: [30, 22, 26, 8, 36, 22]"
     ]
    }
   ],
   "source": [
    "rdd1.takeSample(True,6)"
   ]
  },
  {
   "cell_type": "code",
   "execution_count": 0,
   "metadata": {
    "application/vnd.databricks.v1+cell": {
     "cellMetadata": {
      "byteLimit": 2048000,
      "rowLimit": 10000
     },
     "inputWidgets": {},
     "nuid": "cd8a1eb0-0f65-4c67-bf50-63f4e5f587ea",
     "showTitle": false,
     "tableResultSettingsMap": {},
     "title": ""
    }
   },
   "outputs": [
    {
     "output_type": "stream",
     "name": "stdout",
     "output_type": "stream",
     "text": [
      "Out[170]: [4, 6, 8, 14, 26]"
     ]
    }
   ],
   "source": [
    "rdd1.takeSample(False,5)"
   ]
  },
  {
   "cell_type": "code",
   "execution_count": 0,
   "metadata": {
    "application/vnd.databricks.v1+cell": {
     "cellMetadata": {
      "byteLimit": 2048000,
      "rowLimit": 10000
     },
     "inputWidgets": {},
     "nuid": "9e763def-2ea1-4ed6-8bed-33583ddf77f9",
     "showTitle": false,
     "tableResultSettingsMap": {},
     "title": ""
    }
   },
   "outputs": [
    {
     "output_type": "stream",
     "name": "stdout",
     "output_type": "stream",
     "text": [
      "Out[171]: defaultdict(int,\n            {'spark': 13,\n             'is': 4,\n             'a': 2,\n             'general': 2,\n             'purpose': 2,\n             'execution': 2,\n             'framework': 2,\n             'can': 2,\n             'run': 2,\n             'on': 2,\n             'hadoop': 3,\n             'scala': 3,\n             'preferred': 2,\n             'language': 2,\n             'for': 2,\n             'also': 2,\n             'supports': 2,\n             'java': 3,\n             'and': 2,\n             'python': 4,\n             'pyspark': 1,\n             'rdd': 5,\n             'sql': 2,\n             'pythom': 1,\n             'machine': 1,\n             'learning': 1})"
     ]
    }
   ],
   "source": [
    "fm.map(lambda x:x).countByValue()"
   ]
  },
  {
   "cell_type": "code",
   "execution_count": 0,
   "metadata": {
    "application/vnd.databricks.v1+cell": {
     "cellMetadata": {
      "byteLimit": 2048000,
      "rowLimit": 10000
     },
     "inputWidgets": {},
     "nuid": "9e3b7528-86a3-46f8-ae31-1ed2a439ea06",
     "showTitle": false,
     "tableResultSettingsMap": {},
     "title": ""
    }
   },
   "outputs": [
    {
     "output_type": "stream",
     "name": "stdout",
     "output_type": "stream",
     "text": [
      "Out[172]: defaultdict(int,\n            {2: 1,\n             4: 1,\n             6: 1,\n             8: 1,\n             10: 1,\n             12: 1,\n             14: 1,\n             16: 1,\n             18: 1,\n             24: 1,\n             26: 1,\n             28: 1,\n             22: 1,\n             30: 1,\n             32: 1,\n             36: 1})"
     ]
    }
   ],
   "source": [
    "rdd2.countByKey()"
   ]
  },
  {
   "cell_type": "code",
   "execution_count": 0,
   "metadata": {
    "application/vnd.databricks.v1+cell": {
     "cellMetadata": {
      "byteLimit": 2048000,
      "rowLimit": 10000
     },
     "inputWidgets": {},
     "nuid": "6da5faa8-87e7-4210-aa41-1b737efab90f",
     "showTitle": false,
     "tableResultSettingsMap": {},
     "title": ""
    }
   },
   "outputs": [],
   "source": [
    "rddkey=sc.parallelize([(10,10),(10,10),(10,20),(20,10),(30,15),(20,15),(10,5)])"
   ]
  },
  {
   "cell_type": "code",
   "execution_count": 0,
   "metadata": {
    "application/vnd.databricks.v1+cell": {
     "cellMetadata": {
      "byteLimit": 2048000,
      "rowLimit": 10000
     },
     "inputWidgets": {},
     "nuid": "df91ea0e-de87-40c9-a7e0-56d31b58b6cd",
     "showTitle": false,
     "tableResultSettingsMap": {},
     "title": ""
    }
   },
   "outputs": [
    {
     "output_type": "stream",
     "name": "stdout",
     "output_type": "stream",
     "text": [
      "Out[174]: defaultdict(int, {10: 4, 20: 2, 30: 1})"
     ]
    }
   ],
   "source": [
    "rddkey.countByKey()"
   ]
  },
  {
   "cell_type": "code",
   "execution_count": 0,
   "metadata": {
    "application/vnd.databricks.v1+cell": {
     "cellMetadata": {
      "byteLimit": 2048000,
      "rowLimit": 10000
     },
     "inputWidgets": {},
     "nuid": "06f62104-20ed-4147-b054-60cd0259416b",
     "showTitle": false,
     "tableResultSettingsMap": {},
     "title": ""
    }
   },
   "outputs": [
    {
     "output_type": "stream",
     "name": "stdout",
     "output_type": "stream",
     "text": [
      "Out[175]: defaultdict(int,\n            {(10, 10): 2,\n             (10, 20): 1,\n             (20, 10): 1,\n             (30, 15): 1,\n             (20, 15): 1,\n             (10, 5): 1})"
     ]
    }
   ],
   "source": [
    "rddkey.countByValue()"
   ]
  },
  {
   "cell_type": "code",
   "execution_count": 0,
   "metadata": {
    "application/vnd.databricks.v1+cell": {
     "cellMetadata": {
      "byteLimit": 2048000,
      "rowLimit": 10000
     },
     "inputWidgets": {},
     "nuid": "aac67c8c-9bec-4c67-9838-9ebe551ad888",
     "showTitle": false,
     "tableResultSettingsMap": {},
     "title": ""
    }
   },
   "outputs": [],
   "source": [
    "f=fm.groupBy(lambda x:(x,1)).reduceByKey(lambda x,y:x+y)"
   ]
  },
  {
   "cell_type": "code",
   "execution_count": 0,
   "metadata": {
    "application/vnd.databricks.v1+cell": {
     "cellMetadata": {
      "byteLimit": 2048000,
      "rowLimit": 10000
     },
     "inputWidgets": {},
     "nuid": "659fec1e-3f7b-4978-a9be-854596cd4c8b",
     "showTitle": false,
     "tableResultSettingsMap": {},
     "title": ""
    }
   },
   "outputs": [],
   "source": [
    "f.foreach(lambda x:print(\"key:{},value:{}\".format(x[0],x[1])))"
   ]
  },
  {
   "cell_type": "code",
   "execution_count": 0,
   "metadata": {
    "application/vnd.databricks.v1+cell": {
     "cellMetadata": {
      "byteLimit": 2048000,
      "rowLimit": 10000
     },
     "inputWidgets": {},
     "nuid": "457b83c6-801a-4df2-b7a2-7588b62d83a0",
     "showTitle": false,
     "tableResultSettingsMap": {},
     "title": ""
    }
   },
   "outputs": [],
   "source": [
    "file_path = \"dbfs:/FileStore/cts_data/wordcount.txt\""
   ]
  },
  {
   "cell_type": "code",
   "execution_count": 0,
   "metadata": {
    "application/vnd.databricks.v1+cell": {
     "cellMetadata": {
      "byteLimit": 2048000,
      "rowLimit": 10000
     },
     "inputWidgets": {},
     "nuid": "3d302207-5d9a-4351-8cc2-f57e89c5adca",
     "showTitle": false,
     "tableResultSettingsMap": {},
     "title": ""
    }
   },
   "outputs": [
    {
     "output_type": "stream",
     "name": "stdout",
     "output_type": "stream",
     "text": [
      "Out[184]: [('supports', 2),\n ('sql', 2),\n ('spark', 13),\n ('scala', 3),\n ('run', 2),\n ('rdd', 5),\n ('python', 4),\n ('pythom', 1),\n ('pyspark', 1),\n ('purpose', 2),\n ('preferred', 2),\n ('on', 2),\n ('machine', 1),\n ('learning', 1),\n ('language', 2),\n ('java', 3),\n ('is', 4),\n ('hadoop', 3),\n ('general', 2),\n ('framework', 2),\n ('for', 2),\n ('execution', 2),\n ('can', 2),\n ('and', 2),\n ('also', 2),\n ('a', 2)]"
     ]
    }
   ],
   "source": [
    "scount=sc.textFile(file_path,4)\\\n",
    "  .flatMap(lambda x:x.split())\\\n",
    "    .groupBy(lambda x:x)\\\n",
    "      .mapValues(len)\\\n",
    "        .sortBy(lambda x:x,False)\n",
    "scount.collect()"
   ]
  },
  {
   "cell_type": "code",
   "execution_count": 0,
   "metadata": {
    "application/vnd.databricks.v1+cell": {
     "cellMetadata": {
      "byteLimit": 2048000,
      "rowLimit": 10000
     },
     "inputWidgets": {},
     "nuid": "a530ad8f-81d4-4769-a872-d0719bc2c4ca",
     "showTitle": false,
     "tableResultSettingsMap": {},
     "title": ""
    }
   },
   "outputs": [
    {
     "output_type": "stream",
     "name": "stdout",
     "output_type": "stream",
     "text": [
      "Out[186]: [('supports', 2),\n ('sql', 2),\n ('spark', 13),\n ('scala', 3),\n ('run', 2),\n ('rdd', 5),\n ('python', 4),\n ('pythom', 1),\n ('pyspark', 1),\n ('purpose', 2),\n ('preferred', 2),\n ('on', 2),\n ('machine', 1),\n ('learning', 1),\n ('language', 2),\n ('java', 3),\n ('is', 4),\n ('hadoop', 3),\n ('general', 2),\n ('framework', 2),\n ('for', 2),\n ('execution', 2),\n ('can', 2),\n ('and', 2),\n ('also', 2),\n ('a', 2)]"
     ]
    }
   ],
   "source": [
    "scount=sc.textFile(file_path,3)\\\n",
    "  .flatMap(lambda x:x.split())\\\n",
    "    .map(lambda x:(x,x))\\\n",
    "      .groupByKey()\\\n",
    "        .mapValues(len)\\\n",
    "          .sortByKey(False)\n",
    "scount.collect()"
   ]
  },
  {
   "cell_type": "code",
   "execution_count": 0,
   "metadata": {
    "application/vnd.databricks.v1+cell": {
     "cellMetadata": {
      "byteLimit": 2048000,
      "rowLimit": 10000
     },
     "inputWidgets": {},
     "nuid": "99efd141-b210-4d4b-a42a-ce866b1c6a45",
     "showTitle": false,
     "tableResultSettingsMap": {},
     "title": ""
    }
   },
   "outputs": [
    {
     "output_type": "stream",
     "name": "stdout",
     "output_type": "stream",
     "text": [
      "Out[187]: [('supports', 2),\n ('sql', 2),\n ('spark', 13),\n ('scala', 3),\n ('run', 2),\n ('rdd', 5),\n ('python', 4),\n ('pythom', 1),\n ('pyspark', 1),\n ('purpose', 2),\n ('preferred', 2),\n ('on', 2),\n ('machine', 1),\n ('learning', 1),\n ('language', 2),\n ('java', 3),\n ('is', 4),\n ('hadoop', 3),\n ('general', 2),\n ('framework', 2),\n ('for', 2),\n ('execution', 2),\n ('can', 2),\n ('and', 2),\n ('also', 2),\n ('a', 2)]"
     ]
    }
   ],
   "source": [
    "scount=sc.textFile(file_path,3)\\\n",
    "  .flatMap(lambda x:x.split())\\\n",
    "    .map(lambda x:(x,1))\\\n",
    "      .reduceByKey(lambda x,y:x+y)\\\n",
    "          .sortByKey(False)\n",
    "scount.collect()"
   ]
  },
  {
   "cell_type": "code",
   "execution_count": 0,
   "metadata": {
    "application/vnd.databricks.v1+cell": {
     "cellMetadata": {
      "byteLimit": 2048000,
      "rowLimit": 10000
     },
     "inputWidgets": {},
     "nuid": "0cb29a39-52d5-4656-abc1-d8cd4ba97f19",
     "showTitle": false,
     "tableResultSettingsMap": {},
     "title": ""
    }
   },
   "outputs": [],
   "source": [
    "c_path=\"dbfs:/FileStore/cts_data/cars.tsv\"\n",
    "rdd_car=sc.textFile(c_path,4)"
   ]
  },
  {
   "cell_type": "code",
   "execution_count": 0,
   "metadata": {
    "application/vnd.databricks.v1+cell": {
     "cellMetadata": {
      "byteLimit": 2048000,
      "rowLimit": 10000
     },
     "inputWidgets": {},
     "nuid": "e8a0876d-b875-410f-b192-d4809b68117d",
     "showTitle": false,
     "tableResultSettingsMap": {},
     "title": ""
    }
   },
   "outputs": [
    {
     "output_type": "stream",
     "name": "stdout",
     "output_type": "stream",
     "text": [
      "Out[201]: [('hi', 4732.0),\n ('chevy', 4376.0),\n ('pontiac', 4327.75),\n ('dodge', 4300.0),\n ('ford', 3791.625),\n ('buick', 3760.333),\n ('chevrolet', 3460.9),\n ('plymouth', 3382.857),\n ('amc', 3239.222),\n ('mercury', 2220.0)]"
     ]
    }
   ],
   "source": [
    "rdde=rdd_car.map(lambda x: x.split(\"\\t\"))\\\n",
    ".filter(lambda x:x[-1]==\"American\")\\\n",
    "    .map(lambda x:(x[0],int(x[6])))\\\n",
    "      .groupByKey()\\\n",
    "        .mapValues(lambda x:round(sum(x)/len(x),3))\\\n",
    "            .sortBy(lambda x:x[1],False)\n",
    "rdde.collect()"
   ]
  },
  {
   "cell_type": "markdown",
   "metadata": {
    "application/vnd.databricks.v1+cell": {
     "cellMetadata": {},
     "inputWidgets": {},
     "nuid": "ea069a0c-8a98-4a33-a08f-fc77bb869a87",
     "showTitle": false,
     "tableResultSettingsMap": {},
     "title": ""
    }
   },
   "source": [
    "### HandsOn DBFS files system"
   ]
  },
  {
   "cell_type": "code",
   "execution_count": 0,
   "metadata": {
    "application/vnd.databricks.v1+cell": {
     "cellMetadata": {
      "byteLimit": 2048000,
      "rowLimit": 10000
     },
     "inputWidgets": {},
     "nuid": "5ccb130a-ac12-405e-8945-aa2ffb9bd275",
     "showTitle": false,
     "tableResultSettingsMap": {},
     "title": ""
    }
   },
   "outputs": [
    {
     "output_type": "display_data",
     "data": {
      "text/html": [
       "<style scoped>\n",
       "  .table-result-container {\n",
       "    max-height: 300px;\n",
       "    overflow: auto;\n",
       "  }\n",
       "  table, th, td {\n",
       "    border: 1px solid black;\n",
       "    border-collapse: collapse;\n",
       "  }\n",
       "  th, td {\n",
       "    padding: 5px;\n",
       "  }\n",
       "  th {\n",
       "    text-align: left;\n",
       "  }\n",
       "</style><div class='table-result-container'><table class='table-result'><thead style='background-color: white'><tr><th>path</th><th>name</th><th>size</th><th>modificationTime</th></tr></thead><tbody><tr><td>dbfs:/FileStore/</td><td>FileStore/</td><td>0</td><td>0</td></tr><tr><td>dbfs:/FilesStore/</td><td>FilesStore/</td><td>0</td><td>0</td></tr><tr><td>dbfs:/databricks-datasets/</td><td>databricks-datasets/</td><td>0</td><td>0</td></tr><tr><td>dbfs:/databricks-results/</td><td>databricks-results/</td><td>0</td><td>0</td></tr><tr><td>dbfs:/dbfs:/</td><td>dbfs:/</td><td>0</td><td>0</td></tr><tr><td>dbfs:/local_disk0/</td><td>local_disk0/</td><td>0</td><td>0</td></tr></tbody></table></div>"
      ]
     },
     "metadata": {
      "application/vnd.databricks.v1+output": {
       "addedWidgets": {},
       "aggData": [],
       "aggError": "",
       "aggOverflow": false,
       "aggSchema": [],
       "aggSeriesLimitReached": false,
       "aggType": "",
       "arguments": {},
       "columnCustomDisplayInfos": {},
       "data": [
        [
         "dbfs:/FileStore/",
         "FileStore/",
         0,
         0
        ],
        [
         "dbfs:/FilesStore/",
         "FilesStore/",
         0,
         0
        ],
        [
         "dbfs:/databricks-datasets/",
         "databricks-datasets/",
         0,
         0
        ],
        [
         "dbfs:/databricks-results/",
         "databricks-results/",
         0,
         0
        ],
        [
         "dbfs:/dbfs:/",
         "dbfs:/",
         0,
         0
        ],
        [
         "dbfs:/local_disk0/",
         "local_disk0/",
         0,
         0
        ]
       ],
       "datasetInfos": [],
       "dbfsResultPath": null,
       "isJsonSchema": true,
       "metadata": {
        "isDbfsCommandResult": false
       },
       "overflow": false,
       "plotOptions": {
        "customPlotOptions": {},
        "displayType": "table",
        "pivotAggregation": null,
        "pivotColumns": null,
        "xColumns": null,
        "yColumns": null
       },
       "removedWidgets": [],
       "schema": [
        {
         "metadata": "{}",
         "name": "path",
         "type": "\"string\""
        },
        {
         "metadata": "{}",
         "name": "name",
         "type": "\"string\""
        },
        {
         "metadata": "{}",
         "name": "size",
         "type": "\"long\""
        },
        {
         "metadata": "{}",
         "name": "modificationTime",
         "type": "\"long\""
        }
       ],
       "type": "table"
      }
     },
     "output_type": "display_data"
    }
   ],
   "source": [
    "%fs ls"
   ]
  },
  {
   "cell_type": "code",
   "execution_count": 0,
   "metadata": {
    "application/vnd.databricks.v1+cell": {
     "cellMetadata": {
      "byteLimit": 2048000,
      "rowLimit": 10000
     },
     "inputWidgets": {},
     "nuid": "2dc93d3b-fe74-4fa7-babb-07c6eaeb4978",
     "showTitle": false,
     "tableResultSettingsMap": {},
     "title": ""
    }
   },
   "outputs": [
    {
     "output_type": "display_data",
     "data": {
      "text/html": [
       "<style scoped>\n",
       "  .table-result-container {\n",
       "    max-height: 300px;\n",
       "    overflow: auto;\n",
       "  }\n",
       "  table, th, td {\n",
       "    border: 1px solid black;\n",
       "    border-collapse: collapse;\n",
       "  }\n",
       "  th, td {\n",
       "    padding: 5px;\n",
       "  }\n",
       "  th {\n",
       "    text-align: left;\n",
       "  }\n",
       "</style><div class='table-result-container'><table class='table-result'><thead style='background-color: white'><tr><th>path</th><th>name</th><th>size</th><th>modificationTime</th></tr></thead><tbody><tr><td>dbfs:/FileStore/2010_summary.json</td><td>2010_summary.json</td><td>21353</td><td>1703488577000</td></tr><tr><td>dbfs:/FileStore/DBFS_File_Operations.dbc</td><td>DBFS_File_Operations.dbc</td><td>2082</td><td>1712115004000</td></tr><tr><td>dbfs:/FileStore/Practice1/</td><td>Practice1/</td><td>0</td><td>0</td></tr><tr><td>dbfs:/FileStore/blt_programming_with_pyspark-1.dbc</td><td>blt_programming_with_pyspark-1.dbc</td><td>1418856</td><td>1708675784000</td></tr><tr><td>dbfs:/FileStore/checkpoint/</td><td>checkpoint/</td><td>0</td><td>0</td></tr><tr><td>dbfs:/FileStore/cts_data/</td><td>cts_data/</td><td>0</td><td>0</td></tr><tr><td>dbfs:/FileStore/flight-data/</td><td>flight-data/</td><td>0</td><td>0</td></tr><tr><td>dbfs:/FileStore/outPut_json/</td><td>outPut_json/</td><td>0</td><td>0</td></tr><tr><td>dbfs:/FileStore/output/</td><td>output/</td><td>0</td><td>0</td></tr><tr><td>dbfs:/FileStore/tables/</td><td>tables/</td><td>0</td><td>0</td></tr><tr><td>dbfs:/FileStore/users.json</td><td>users.json</td><td>601</td><td>1703053612000</td></tr><tr><td>dbfs:/FileStore/users_multiline.json</td><td>users_multiline.json</td><td>226</td><td>1703497611000</td></tr><tr><td>dbfs:/FileStore/users_nested.json</td><td>users_nested.json</td><td>836</td><td>1703497633000</td></tr></tbody></table></div>"
      ]
     },
     "metadata": {
      "application/vnd.databricks.v1+output": {
       "addedWidgets": {},
       "aggData": [],
       "aggError": "",
       "aggOverflow": false,
       "aggSchema": [],
       "aggSeriesLimitReached": false,
       "aggType": "",
       "arguments": {},
       "columnCustomDisplayInfos": {},
       "data": [
        [
         "dbfs:/FileStore/2010_summary.json",
         "2010_summary.json",
         21353,
         1703488577000
        ],
        [
         "dbfs:/FileStore/DBFS_File_Operations.dbc",
         "DBFS_File_Operations.dbc",
         2082,
         1712115004000
        ],
        [
         "dbfs:/FileStore/Practice1/",
         "Practice1/",
         0,
         0
        ],
        [
         "dbfs:/FileStore/blt_programming_with_pyspark-1.dbc",
         "blt_programming_with_pyspark-1.dbc",
         1418856,
         1708675784000
        ],
        [
         "dbfs:/FileStore/checkpoint/",
         "checkpoint/",
         0,
         0
        ],
        [
         "dbfs:/FileStore/cts_data/",
         "cts_data/",
         0,
         0
        ],
        [
         "dbfs:/FileStore/flight-data/",
         "flight-data/",
         0,
         0
        ],
        [
         "dbfs:/FileStore/outPut_json/",
         "outPut_json/",
         0,
         0
        ],
        [
         "dbfs:/FileStore/output/",
         "output/",
         0,
         0
        ],
        [
         "dbfs:/FileStore/tables/",
         "tables/",
         0,
         0
        ],
        [
         "dbfs:/FileStore/users.json",
         "users.json",
         601,
         1703053612000
        ],
        [
         "dbfs:/FileStore/users_multiline.json",
         "users_multiline.json",
         226,
         1703497611000
        ],
        [
         "dbfs:/FileStore/users_nested.json",
         "users_nested.json",
         836,
         1703497633000
        ]
       ],
       "datasetInfos": [],
       "dbfsResultPath": null,
       "isJsonSchema": true,
       "metadata": {
        "isDbfsCommandResult": false
       },
       "overflow": false,
       "plotOptions": {
        "customPlotOptions": {},
        "displayType": "table",
        "pivotAggregation": null,
        "pivotColumns": null,
        "xColumns": null,
        "yColumns": null
       },
       "removedWidgets": [],
       "schema": [
        {
         "metadata": "{}",
         "name": "path",
         "type": "\"string\""
        },
        {
         "metadata": "{}",
         "name": "name",
         "type": "\"string\""
        },
        {
         "metadata": "{}",
         "name": "size",
         "type": "\"long\""
        },
        {
         "metadata": "{}",
         "name": "modificationTime",
         "type": "\"long\""
        }
       ],
       "type": "table"
      }
     },
     "output_type": "display_data"
    }
   ],
   "source": [
    "%fs ls dbfs:/FileStore/"
   ]
  },
  {
   "cell_type": "code",
   "execution_count": 0,
   "metadata": {
    "application/vnd.databricks.v1+cell": {
     "cellMetadata": {
      "byteLimit": 2048000,
      "rowLimit": 10000
     },
     "inputWidgets": {},
     "nuid": "478ec988-aec6-4e35-8395-44c23dc91b47",
     "showTitle": false,
     "tableResultSettingsMap": {},
     "title": ""
    }
   },
   "outputs": [
    {
     "output_type": "display_data",
     "data": {
      "text/html": [
       "<style scoped>\n",
       "  .table-result-container {\n",
       "    max-height: 300px;\n",
       "    overflow: auto;\n",
       "  }\n",
       "  table, th, td {\n",
       "    border: 1px solid black;\n",
       "    border-collapse: collapse;\n",
       "  }\n",
       "  th, td {\n",
       "    padding: 5px;\n",
       "  }\n",
       "  th {\n",
       "    text-align: left;\n",
       "  }\n",
       "</style><div class='table-result-container'><table class='table-result'><thead style='background-color: white'><tr><th>path</th><th>name</th><th>size</th><th>modificationTime</th></tr></thead><tbody><tr><td>dbfs:/FileStore/cts_data/blt_programming_with_pyspark.dbc</td><td>blt_programming_with_pyspark.dbc</td><td>1418856</td><td>1708675888000</td></tr><tr><td>dbfs:/FileStore/cts_data/cars.tsv</td><td>cars.tsv</td><td>3700</td><td>1702969570000</td></tr><tr><td>dbfs:/FileStore/cts_data/csv/</td><td>csv/</td><td>0</td><td>0</td></tr><tr><td>dbfs:/FileStore/cts_data/json/</td><td>json/</td><td>0</td><td>0</td></tr><tr><td>dbfs:/FileStore/cts_data/output/</td><td>output/</td><td>0</td><td>0</td></tr><tr><td>dbfs:/FileStore/cts_data/wordcount.txt</td><td>wordcount.txt</td><td>411</td><td>1699860900000</td></tr></tbody></table></div>"
      ]
     },
     "metadata": {
      "application/vnd.databricks.v1+output": {
       "addedWidgets": {},
       "aggData": [],
       "aggError": "",
       "aggOverflow": false,
       "aggSchema": [],
       "aggSeriesLimitReached": false,
       "aggType": "",
       "arguments": {},
       "columnCustomDisplayInfos": {},
       "data": [
        [
         "dbfs:/FileStore/cts_data/blt_programming_with_pyspark.dbc",
         "blt_programming_with_pyspark.dbc",
         1418856,
         1708675888000
        ],
        [
         "dbfs:/FileStore/cts_data/cars.tsv",
         "cars.tsv",
         3700,
         1702969570000
        ],
        [
         "dbfs:/FileStore/cts_data/csv/",
         "csv/",
         0,
         0
        ],
        [
         "dbfs:/FileStore/cts_data/json/",
         "json/",
         0,
         0
        ],
        [
         "dbfs:/FileStore/cts_data/output/",
         "output/",
         0,
         0
        ],
        [
         "dbfs:/FileStore/cts_data/wordcount.txt",
         "wordcount.txt",
         411,
         1699860900000
        ]
       ],
       "datasetInfos": [],
       "dbfsResultPath": null,
       "isJsonSchema": true,
       "metadata": {
        "isDbfsCommandResult": false
       },
       "overflow": false,
       "plotOptions": {
        "customPlotOptions": {},
        "displayType": "table",
        "pivotAggregation": null,
        "pivotColumns": null,
        "xColumns": null,
        "yColumns": null
       },
       "removedWidgets": [],
       "schema": [
        {
         "metadata": "{}",
         "name": "path",
         "type": "\"string\""
        },
        {
         "metadata": "{}",
         "name": "name",
         "type": "\"string\""
        },
        {
         "metadata": "{}",
         "name": "size",
         "type": "\"long\""
        },
        {
         "metadata": "{}",
         "name": "modificationTime",
         "type": "\"long\""
        }
       ],
       "type": "table"
      }
     },
     "output_type": "display_data"
    }
   ],
   "source": [
    "%fs ls dbfs:/FileStore/cts_data/"
   ]
  },
  {
   "cell_type": "code",
   "execution_count": 0,
   "metadata": {
    "application/vnd.databricks.v1+cell": {
     "cellMetadata": {
      "byteLimit": 2048000,
      "rowLimit": 10000
     },
     "inputWidgets": {},
     "nuid": "b220e65c-56a9-4765-9b45-80a7fc580478",
     "showTitle": false,
     "tableResultSettingsMap": {},
     "title": ""
    }
   },
   "outputs": [
    {
     "output_type": "display_data",
     "data": {
      "text/html": [
       "<style scoped>\n",
       "  .table-result-container {\n",
       "    max-height: 300px;\n",
       "    overflow: auto;\n",
       "  }\n",
       "  table, th, td {\n",
       "    border: 1px solid black;\n",
       "    border-collapse: collapse;\n",
       "  }\n",
       "  th, td {\n",
       "    padding: 5px;\n",
       "  }\n",
       "  th {\n",
       "    text-align: left;\n",
       "  }\n",
       "</style><div class='table-result-container'><table class='table-result'><thead style='background-color: white'><tr><th>path</th><th>name</th><th>size</th><th>modificationTime</th></tr></thead><tbody><tr><td>dbfs:/FileStore/cts_data/wordcount.txt</td><td>wordcount.txt</td><td>411</td><td>1699860900000</td></tr></tbody></table></div>"
      ]
     },
     "metadata": {
      "application/vnd.databricks.v1+output": {
       "addedWidgets": {},
       "aggData": [],
       "aggError": "",
       "aggOverflow": false,
       "aggSchema": [],
       "aggSeriesLimitReached": false,
       "aggType": "",
       "arguments": {},
       "columnCustomDisplayInfos": {},
       "data": [
        [
         "dbfs:/FileStore/cts_data/wordcount.txt",
         "wordcount.txt",
         411,
         1699860900000
        ]
       ],
       "datasetInfos": [],
       "dbfsResultPath": null,
       "isJsonSchema": true,
       "metadata": {
        "isDbfsCommandResult": false
       },
       "overflow": false,
       "plotOptions": {
        "customPlotOptions": {},
        "displayType": "table",
        "pivotAggregation": null,
        "pivotColumns": null,
        "xColumns": null,
        "yColumns": null
       },
       "removedWidgets": [],
       "schema": [
        {
         "metadata": "{}",
         "name": "path",
         "type": "\"string\""
        },
        {
         "metadata": "{}",
         "name": "name",
         "type": "\"string\""
        },
        {
         "metadata": "{}",
         "name": "size",
         "type": "\"long\""
        },
        {
         "metadata": "{}",
         "name": "modificationTime",
         "type": "\"long\""
        }
       ],
       "type": "table"
      }
     },
     "output_type": "display_data"
    }
   ],
   "source": [
    "%fs ls dbfs:/FileStore/cts_data/wordcount.txt"
   ]
  },
  {
   "cell_type": "code",
   "execution_count": 0,
   "metadata": {
    "application/vnd.databricks.v1+cell": {
     "cellMetadata": {
      "byteLimit": 2048000,
      "rowLimit": 10000
     },
     "inputWidgets": {},
     "nuid": "f93928d8-6914-4e2e-8d89-54a3c80d49b2",
     "showTitle": false,
     "tableResultSettingsMap": {},
     "title": ""
    }
   },
   "outputs": [
    {
     "output_type": "display_data",
     "data": {
      "text/html": [
       "<style scoped>\n",
       "  .ansiout {\n",
       "    display: block;\n",
       "    unicode-bidi: embed;\n",
       "    white-space: pre-wrap;\n",
       "    word-wrap: break-word;\n",
       "    word-break: break-all;\n",
       "    font-family: \"Menlo\", \"Monaco\", \"Consolas\", \"Ubuntu Mono\", \"Source Code Pro\", monospace;\n",
       "    font-size: 13px;\n",
       "    color: #555;\n",
       "    margin-left: 4px;\n",
       "    line-height: 19px;\n",
       "  }\n",
       "</style>\n",
       "<div class=\"ansiout\">res4: Boolean = true\n",
       "</div>"
      ]
     },
     "metadata": {
      "application/vnd.databricks.v1+output": {
       "addedWidgets": {},
       "arguments": {},
       "data": "<div class=\"ansiout\">res4: Boolean = true\n</div>",
       "datasetInfos": [],
       "metadata": {
        "isDbfsCommandResult": false
       },
       "removedWidgets": [],
       "type": "html"
      }
     },
     "output_type": "display_data"
    }
   ],
   "source": [
    "%fs mkdirs dbfs:/FileStore/cts_dat/vanitha"
   ]
  },
  {
   "cell_type": "code",
   "execution_count": 0,
   "metadata": {
    "application/vnd.databricks.v1+cell": {
     "cellMetadata": {
      "byteLimit": 2048000,
      "rowLimit": 10000
     },
     "inputWidgets": {},
     "nuid": "e6b9514d-eef6-4ac2-83fb-9745bf1d14a8",
     "showTitle": false,
     "tableResultSettingsMap": {},
     "title": ""
    }
   },
   "outputs": [
    {
     "output_type": "display_data",
     "data": {
      "text/html": [
       "<style scoped>\n",
       "  .table-result-container {\n",
       "    max-height: 300px;\n",
       "    overflow: auto;\n",
       "  }\n",
       "  table, th, td {\n",
       "    border: 1px solid black;\n",
       "    border-collapse: collapse;\n",
       "  }\n",
       "  th, td {\n",
       "    padding: 5px;\n",
       "  }\n",
       "  th {\n",
       "    text-align: left;\n",
       "  }\n",
       "</style><div class='table-result-container'><table class='table-result'><thead style='background-color: white'><tr><th>path</th><th>name</th><th>size</th><th>modificationTime</th></tr></thead><tbody><tr><td>dbfs:/FileStore/cts_dat/vanitha/</td><td>vanitha/</td><td>0</td><td>0</td></tr></tbody></table></div>"
      ]
     },
     "metadata": {
      "application/vnd.databricks.v1+output": {
       "addedWidgets": {},
       "aggData": [],
       "aggError": "",
       "aggOverflow": false,
       "aggSchema": [],
       "aggSeriesLimitReached": false,
       "aggType": "",
       "arguments": {},
       "columnCustomDisplayInfos": {},
       "data": [
        [
         "dbfs:/FileStore/cts_dat/vanitha/",
         "vanitha/",
         0,
         0
        ]
       ],
       "datasetInfos": [],
       "dbfsResultPath": null,
       "isJsonSchema": true,
       "metadata": {
        "isDbfsCommandResult": false
       },
       "overflow": false,
       "plotOptions": {
        "customPlotOptions": {},
        "displayType": "table",
        "pivotAggregation": null,
        "pivotColumns": null,
        "xColumns": null,
        "yColumns": null
       },
       "removedWidgets": [],
       "schema": [
        {
         "metadata": "{}",
         "name": "path",
         "type": "\"string\""
        },
        {
         "metadata": "{}",
         "name": "name",
         "type": "\"string\""
        },
        {
         "metadata": "{}",
         "name": "size",
         "type": "\"long\""
        },
        {
         "metadata": "{}",
         "name": "modificationTime",
         "type": "\"long\""
        }
       ],
       "type": "table"
      }
     },
     "output_type": "display_data"
    }
   ],
   "source": [
    "%fs ls dbfs:/FileStore/cts_dat/"
   ]
  },
  {
   "cell_type": "code",
   "execution_count": 0,
   "metadata": {
    "application/vnd.databricks.v1+cell": {
     "cellMetadata": {
      "byteLimit": 2048000,
      "rowLimit": 10000
     },
     "inputWidgets": {},
     "nuid": "f48099c2-12ab-4f84-b2f7-1e0864f4015c",
     "showTitle": false,
     "tableResultSettingsMap": {},
     "title": ""
    }
   },
   "outputs": [
    {
     "output_type": "display_data",
     "data": {
      "text/html": [
       "<style scoped>\n",
       "  .ansiout {\n",
       "    display: block;\n",
       "    unicode-bidi: embed;\n",
       "    white-space: pre-wrap;\n",
       "    word-wrap: break-word;\n",
       "    word-break: break-all;\n",
       "    font-family: \"Menlo\", \"Monaco\", \"Consolas\", \"Ubuntu Mono\", \"Source Code Pro\", monospace;\n",
       "    font-size: 13px;\n",
       "    color: #555;\n",
       "    margin-left: 4px;\n",
       "    line-height: 19px;\n",
       "  }\n",
       "</style>\n",
       "<div class=\"ansiout\">res6: Boolean = true\n",
       "</div>"
      ]
     },
     "metadata": {
      "application/vnd.databricks.v1+output": {
       "addedWidgets": {},
       "arguments": {},
       "data": "<div class=\"ansiout\">res6: Boolean = true\n</div>",
       "datasetInfos": [],
       "metadata": {
        "isDbfsCommandResult": false
       },
       "removedWidgets": [],
       "type": "html"
      }
     },
     "output_type": "display_data"
    }
   ],
   "source": [
    "%fs rm dbfs:/FileStore/cts_dat/vanitha"
   ]
  },
  {
   "cell_type": "code",
   "execution_count": 0,
   "metadata": {
    "application/vnd.databricks.v1+cell": {
     "cellMetadata": {
      "byteLimit": 2048000,
      "rowLimit": 10000
     },
     "inputWidgets": {},
     "nuid": "40d42391-d9d7-410d-b1e6-e44166e65a49",
     "showTitle": false,
     "tableResultSettingsMap": {},
     "title": ""
    }
   },
   "outputs": [
    {
     "output_type": "display_data",
     "data": {
      "text/html": [
       "<style scoped>\n",
       "  .table-result-container {\n",
       "    max-height: 300px;\n",
       "    overflow: auto;\n",
       "  }\n",
       "  table, th, td {\n",
       "    border: 1px solid black;\n",
       "    border-collapse: collapse;\n",
       "  }\n",
       "  th, td {\n",
       "    padding: 5px;\n",
       "  }\n",
       "  th {\n",
       "    text-align: left;\n",
       "  }\n",
       "</style><div class='table-result-container'><table class='table-result'><thead style='background-color: white'><tr><th>path</th><th>name</th><th>size</th><th>modificationTime</th></tr></thead><tbody><tr><td>dbfs:/FileStore/2010_summary.json</td><td>2010_summary.json</td><td>21353</td><td>1703488577000</td></tr><tr><td>dbfs:/FileStore/DBFS_File_Operations.dbc</td><td>DBFS_File_Operations.dbc</td><td>2082</td><td>1712115004000</td></tr><tr><td>dbfs:/FileStore/Practice1/</td><td>Practice1/</td><td>0</td><td>0</td></tr><tr><td>dbfs:/FileStore/blt_programming_with_pyspark-1.dbc</td><td>blt_programming_with_pyspark-1.dbc</td><td>1418856</td><td>1708675784000</td></tr><tr><td>dbfs:/FileStore/checkpoint/</td><td>checkpoint/</td><td>0</td><td>0</td></tr><tr><td>dbfs:/FileStore/cts_dat/</td><td>cts_dat/</td><td>0</td><td>0</td></tr><tr><td>dbfs:/FileStore/cts_data/</td><td>cts_data/</td><td>0</td><td>0</td></tr><tr><td>dbfs:/FileStore/flight-data/</td><td>flight-data/</td><td>0</td><td>0</td></tr><tr><td>dbfs:/FileStore/outPut_json/</td><td>outPut_json/</td><td>0</td><td>0</td></tr><tr><td>dbfs:/FileStore/output/</td><td>output/</td><td>0</td><td>0</td></tr><tr><td>dbfs:/FileStore/tables/</td><td>tables/</td><td>0</td><td>0</td></tr><tr><td>dbfs:/FileStore/users.json</td><td>users.json</td><td>601</td><td>1703053612000</td></tr><tr><td>dbfs:/FileStore/users_multiline.json</td><td>users_multiline.json</td><td>226</td><td>1703497611000</td></tr><tr><td>dbfs:/FileStore/users_nested.json</td><td>users_nested.json</td><td>836</td><td>1703497633000</td></tr></tbody></table></div>"
      ]
     },
     "metadata": {
      "application/vnd.databricks.v1+output": {
       "addedWidgets": {},
       "aggData": [],
       "aggError": "",
       "aggOverflow": false,
       "aggSchema": [],
       "aggSeriesLimitReached": false,
       "aggType": "",
       "arguments": {},
       "columnCustomDisplayInfos": {},
       "data": [
        [
         "dbfs:/FileStore/2010_summary.json",
         "2010_summary.json",
         21353,
         1703488577000
        ],
        [
         "dbfs:/FileStore/DBFS_File_Operations.dbc",
         "DBFS_File_Operations.dbc",
         2082,
         1712115004000
        ],
        [
         "dbfs:/FileStore/Practice1/",
         "Practice1/",
         0,
         0
        ],
        [
         "dbfs:/FileStore/blt_programming_with_pyspark-1.dbc",
         "blt_programming_with_pyspark-1.dbc",
         1418856,
         1708675784000
        ],
        [
         "dbfs:/FileStore/checkpoint/",
         "checkpoint/",
         0,
         0
        ],
        [
         "dbfs:/FileStore/cts_dat/",
         "cts_dat/",
         0,
         0
        ],
        [
         "dbfs:/FileStore/cts_data/",
         "cts_data/",
         0,
         0
        ],
        [
         "dbfs:/FileStore/flight-data/",
         "flight-data/",
         0,
         0
        ],
        [
         "dbfs:/FileStore/outPut_json/",
         "outPut_json/",
         0,
         0
        ],
        [
         "dbfs:/FileStore/output/",
         "output/",
         0,
         0
        ],
        [
         "dbfs:/FileStore/tables/",
         "tables/",
         0,
         0
        ],
        [
         "dbfs:/FileStore/users.json",
         "users.json",
         601,
         1703053612000
        ],
        [
         "dbfs:/FileStore/users_multiline.json",
         "users_multiline.json",
         226,
         1703497611000
        ],
        [
         "dbfs:/FileStore/users_nested.json",
         "users_nested.json",
         836,
         1703497633000
        ]
       ],
       "datasetInfos": [],
       "dbfsResultPath": null,
       "isJsonSchema": true,
       "metadata": {
        "isDbfsCommandResult": false
       },
       "overflow": false,
       "plotOptions": {
        "customPlotOptions": {},
        "displayType": "table",
        "pivotAggregation": null,
        "pivotColumns": null,
        "xColumns": null,
        "yColumns": null
       },
       "removedWidgets": [],
       "schema": [
        {
         "metadata": "{}",
         "name": "path",
         "type": "\"string\""
        },
        {
         "metadata": "{}",
         "name": "name",
         "type": "\"string\""
        },
        {
         "metadata": "{}",
         "name": "size",
         "type": "\"long\""
        },
        {
         "metadata": "{}",
         "name": "modificationTime",
         "type": "\"long\""
        }
       ],
       "type": "table"
      }
     },
     "output_type": "display_data"
    }
   ],
   "source": [
    "%fs ls dbfs:/FileStore/"
   ]
  },
  {
   "cell_type": "code",
   "execution_count": 0,
   "metadata": {
    "application/vnd.databricks.v1+cell": {
     "cellMetadata": {
      "byteLimit": 2048000,
      "rowLimit": 10000
     },
     "inputWidgets": {},
     "nuid": "9437da8d-8cd5-4850-bbab-47f6486b53e6",
     "showTitle": false,
     "tableResultSettingsMap": {},
     "title": ""
    }
   },
   "outputs": [
    {
     "output_type": "display_data",
     "data": {
      "text/html": [
       "<style scoped>\n",
       "  .table-result-container {\n",
       "    max-height: 300px;\n",
       "    overflow: auto;\n",
       "  }\n",
       "  table, th, td {\n",
       "    border: 1px solid black;\n",
       "    border-collapse: collapse;\n",
       "  }\n",
       "  th, td {\n",
       "    padding: 5px;\n",
       "  }\n",
       "  th {\n",
       "    text-align: left;\n",
       "  }\n",
       "</style><div class='table-result-container'><table class='table-result'><thead style='background-color: white'><tr><th>path</th><th>name</th><th>size</th><th>modificationTime</th></tr></thead><tbody><tr><td>dbfs:/FileStore/2010_summary.json</td><td>2010_summary.json</td><td>21353</td><td>1703488577000</td></tr><tr><td>dbfs:/FileStore/DBFS_File_Operations.dbc</td><td>DBFS_File_Operations.dbc</td><td>2082</td><td>1712115004000</td></tr><tr><td>dbfs:/FileStore/Practice1/</td><td>Practice1/</td><td>0</td><td>0</td></tr><tr><td>dbfs:/FileStore/blt_programming_with_pyspark-1.dbc</td><td>blt_programming_with_pyspark-1.dbc</td><td>1418856</td><td>1708675784000</td></tr><tr><td>dbfs:/FileStore/checkpoint/</td><td>checkpoint/</td><td>0</td><td>0</td></tr><tr><td>dbfs:/FileStore/cts_data/</td><td>cts_data/</td><td>0</td><td>0</td></tr><tr><td>dbfs:/FileStore/flight-data/</td><td>flight-data/</td><td>0</td><td>0</td></tr><tr><td>dbfs:/FileStore/outPut_json/</td><td>outPut_json/</td><td>0</td><td>0</td></tr><tr><td>dbfs:/FileStore/output/</td><td>output/</td><td>0</td><td>0</td></tr><tr><td>dbfs:/FileStore/tables/</td><td>tables/</td><td>0</td><td>0</td></tr><tr><td>dbfs:/FileStore/users.json</td><td>users.json</td><td>601</td><td>1703053612000</td></tr><tr><td>dbfs:/FileStore/users_multiline.json</td><td>users_multiline.json</td><td>226</td><td>1703497611000</td></tr><tr><td>dbfs:/FileStore/users_nested.json</td><td>users_nested.json</td><td>836</td><td>1703497633000</td></tr></tbody></table></div>"
      ]
     },
     "metadata": {
      "application/vnd.databricks.v1+output": {
       "addedWidgets": {},
       "aggData": [],
       "aggError": "",
       "aggOverflow": false,
       "aggSchema": [],
       "aggSeriesLimitReached": false,
       "aggType": "",
       "arguments": {},
       "columnCustomDisplayInfos": {},
       "data": [
        [
         "dbfs:/FileStore/2010_summary.json",
         "2010_summary.json",
         21353,
         1703488577000
        ],
        [
         "dbfs:/FileStore/DBFS_File_Operations.dbc",
         "DBFS_File_Operations.dbc",
         2082,
         1712115004000
        ],
        [
         "dbfs:/FileStore/Practice1/",
         "Practice1/",
         0,
         0
        ],
        [
         "dbfs:/FileStore/blt_programming_with_pyspark-1.dbc",
         "blt_programming_with_pyspark-1.dbc",
         1418856,
         1708675784000
        ],
        [
         "dbfs:/FileStore/checkpoint/",
         "checkpoint/",
         0,
         0
        ],
        [
         "dbfs:/FileStore/cts_data/",
         "cts_data/",
         0,
         0
        ],
        [
         "dbfs:/FileStore/flight-data/",
         "flight-data/",
         0,
         0
        ],
        [
         "dbfs:/FileStore/outPut_json/",
         "outPut_json/",
         0,
         0
        ],
        [
         "dbfs:/FileStore/output/",
         "output/",
         0,
         0
        ],
        [
         "dbfs:/FileStore/tables/",
         "tables/",
         0,
         0
        ],
        [
         "dbfs:/FileStore/users.json",
         "users.json",
         601,
         1703053612000
        ],
        [
         "dbfs:/FileStore/users_multiline.json",
         "users_multiline.json",
         226,
         1703497611000
        ],
        [
         "dbfs:/FileStore/users_nested.json",
         "users_nested.json",
         836,
         1703497633000
        ]
       ],
       "datasetInfos": [],
       "dbfsResultPath": null,
       "isJsonSchema": true,
       "metadata": {
        "isDbfsCommandResult": false
       },
       "overflow": false,
       "plotOptions": {
        "customPlotOptions": {},
        "displayType": "table",
        "pivotAggregation": null,
        "pivotColumns": null,
        "xColumns": null,
        "yColumns": null
       },
       "removedWidgets": [],
       "schema": [
        {
         "metadata": "{}",
         "name": "path",
         "type": "\"string\""
        },
        {
         "metadata": "{}",
         "name": "name",
         "type": "\"string\""
        },
        {
         "metadata": "{}",
         "name": "size",
         "type": "\"long\""
        },
        {
         "metadata": "{}",
         "name": "modificationTime",
         "type": "\"long\""
        }
       ],
       "type": "table"
      }
     },
     "output_type": "display_data"
    }
   ],
   "source": [
    "%fs ls dbfs:/FileStore"
   ]
  },
  {
   "cell_type": "code",
   "execution_count": 0,
   "metadata": {
    "application/vnd.databricks.v1+cell": {
     "cellMetadata": {
      "byteLimit": 2048000,
      "rowLimit": 10000
     },
     "inputWidgets": {},
     "nuid": "fb77ae2e-5789-4214-b8a0-7acfc79ebfb7",
     "showTitle": false,
     "tableResultSettingsMap": {},
     "title": ""
    }
   },
   "outputs": [
    {
     "output_type": "display_data",
     "data": {
      "text/html": [
       "<style scoped>\n",
       "  .table-result-container {\n",
       "    max-height: 300px;\n",
       "    overflow: auto;\n",
       "  }\n",
       "  table, th, td {\n",
       "    border: 1px solid black;\n",
       "    border-collapse: collapse;\n",
       "  }\n",
       "  th, td {\n",
       "    padding: 5px;\n",
       "  }\n",
       "  th {\n",
       "    text-align: left;\n",
       "  }\n",
       "</style><div class='table-result-container'><table class='table-result'><thead style='background-color: white'><tr><th>path</th><th>name</th><th>size</th><th>modificationTime</th></tr></thead><tbody><tr><td>dbfs:/FileStore/2010_summary.json</td><td>2010_summary.json</td><td>21353</td><td>1703488577000</td></tr><tr><td>dbfs:/FileStore/DBFS_File_Operations.dbc</td><td>DBFS_File_Operations.dbc</td><td>2082</td><td>1712115004000</td></tr><tr><td>dbfs:/FileStore/Practice1/</td><td>Practice1/</td><td>0</td><td>0</td></tr><tr><td>dbfs:/FileStore/blt_programming_with_pyspark-1.dbc</td><td>blt_programming_with_pyspark-1.dbc</td><td>1418856</td><td>1708675784000</td></tr><tr><td>dbfs:/FileStore/checkpoint/</td><td>checkpoint/</td><td>0</td><td>0</td></tr><tr><td>dbfs:/FileStore/cts_data/</td><td>cts_data/</td><td>0</td><td>0</td></tr><tr><td>dbfs:/FileStore/flight-data/</td><td>flight-data/</td><td>0</td><td>0</td></tr><tr><td>dbfs:/FileStore/outPut_json/</td><td>outPut_json/</td><td>0</td><td>0</td></tr><tr><td>dbfs:/FileStore/output/</td><td>output/</td><td>0</td><td>0</td></tr><tr><td>dbfs:/FileStore/tables/</td><td>tables/</td><td>0</td><td>0</td></tr><tr><td>dbfs:/FileStore/users.json</td><td>users.json</td><td>601</td><td>1703053612000</td></tr><tr><td>dbfs:/FileStore/users_multiline.json</td><td>users_multiline.json</td><td>226</td><td>1703497611000</td></tr><tr><td>dbfs:/FileStore/users_nested.json</td><td>users_nested.json</td><td>836</td><td>1703497633000</td></tr></tbody></table></div>"
      ]
     },
     "metadata": {
      "application/vnd.databricks.v1+output": {
       "addedWidgets": {},
       "aggData": [],
       "aggError": "",
       "aggOverflow": false,
       "aggSchema": [],
       "aggSeriesLimitReached": false,
       "aggType": "",
       "arguments": {},
       "columnCustomDisplayInfos": {},
       "data": [
        [
         "dbfs:/FileStore/2010_summary.json",
         "2010_summary.json",
         21353,
         1703488577000
        ],
        [
         "dbfs:/FileStore/DBFS_File_Operations.dbc",
         "DBFS_File_Operations.dbc",
         2082,
         1712115004000
        ],
        [
         "dbfs:/FileStore/Practice1/",
         "Practice1/",
         0,
         0
        ],
        [
         "dbfs:/FileStore/blt_programming_with_pyspark-1.dbc",
         "blt_programming_with_pyspark-1.dbc",
         1418856,
         1708675784000
        ],
        [
         "dbfs:/FileStore/checkpoint/",
         "checkpoint/",
         0,
         0
        ],
        [
         "dbfs:/FileStore/cts_data/",
         "cts_data/",
         0,
         0
        ],
        [
         "dbfs:/FileStore/flight-data/",
         "flight-data/",
         0,
         0
        ],
        [
         "dbfs:/FileStore/outPut_json/",
         "outPut_json/",
         0,
         0
        ],
        [
         "dbfs:/FileStore/output/",
         "output/",
         0,
         0
        ],
        [
         "dbfs:/FileStore/tables/",
         "tables/",
         0,
         0
        ],
        [
         "dbfs:/FileStore/users.json",
         "users.json",
         601,
         1703053612000
        ],
        [
         "dbfs:/FileStore/users_multiline.json",
         "users_multiline.json",
         226,
         1703497611000
        ],
        [
         "dbfs:/FileStore/users_nested.json",
         "users_nested.json",
         836,
         1703497633000
        ]
       ],
       "datasetInfos": [],
       "dbfsResultPath": null,
       "isJsonSchema": true,
       "metadata": {},
       "overflow": false,
       "plotOptions": {
        "customPlotOptions": {},
        "displayType": "table",
        "pivotAggregation": null,
        "pivotColumns": null,
        "xColumns": null,
        "yColumns": null
       },
       "removedWidgets": [],
       "schema": [
        {
         "metadata": "{}",
         "name": "path",
         "type": "\"string\""
        },
        {
         "metadata": "{}",
         "name": "name",
         "type": "\"string\""
        },
        {
         "metadata": "{}",
         "name": "size",
         "type": "\"long\""
        },
        {
         "metadata": "{}",
         "name": "modificationTime",
         "type": "\"long\""
        }
       ],
       "type": "table"
      }
     },
     "output_type": "display_data"
    }
   ],
   "source": [
    "display(dbutils.fs.ls(\"dbfs:/FileStore/\"))"
   ]
  },
  {
   "cell_type": "code",
   "execution_count": 0,
   "metadata": {
    "application/vnd.databricks.v1+cell": {
     "cellMetadata": {
      "byteLimit": 2048000,
      "rowLimit": 10000
     },
     "inputWidgets": {},
     "nuid": "17400708-2eb7-4025-8e02-72603bd13cbd",
     "showTitle": false,
     "tableResultSettingsMap": {},
     "title": ""
    }
   },
   "outputs": [
    {
     "output_type": "display_data",
     "data": {
      "text/html": [
       "<style scoped>\n",
       "  .table-result-container {\n",
       "    max-height: 300px;\n",
       "    overflow: auto;\n",
       "  }\n",
       "  table, th, td {\n",
       "    border: 1px solid black;\n",
       "    border-collapse: collapse;\n",
       "  }\n",
       "  th, td {\n",
       "    padding: 5px;\n",
       "  }\n",
       "  th {\n",
       "    text-align: left;\n",
       "  }\n",
       "</style><div class='table-result-container'><table class='table-result'><thead style='background-color: white'><tr><th>path</th><th>name</th><th>size</th><th>modificationTime</th></tr></thead><tbody><tr><td>dbfs:/FileStore/cts_data/blt_programming_with_pyspark.dbc</td><td>blt_programming_with_pyspark.dbc</td><td>1418856</td><td>1708675888000</td></tr><tr><td>dbfs:/FileStore/cts_data/cars.tsv</td><td>cars.tsv</td><td>3700</td><td>1702969570000</td></tr><tr><td>dbfs:/FileStore/cts_data/csv/</td><td>csv/</td><td>0</td><td>0</td></tr><tr><td>dbfs:/FileStore/cts_data/json/</td><td>json/</td><td>0</td><td>0</td></tr><tr><td>dbfs:/FileStore/cts_data/output/</td><td>output/</td><td>0</td><td>0</td></tr><tr><td>dbfs:/FileStore/cts_data/wordcount.txt</td><td>wordcount.txt</td><td>411</td><td>1699860900000</td></tr></tbody></table></div>"
      ]
     },
     "metadata": {
      "application/vnd.databricks.v1+output": {
       "addedWidgets": {},
       "aggData": [],
       "aggError": "",
       "aggOverflow": false,
       "aggSchema": [],
       "aggSeriesLimitReached": false,
       "aggType": "",
       "arguments": {},
       "columnCustomDisplayInfos": {},
       "data": [
        [
         "dbfs:/FileStore/cts_data/blt_programming_with_pyspark.dbc",
         "blt_programming_with_pyspark.dbc",
         1418856,
         1708675888000
        ],
        [
         "dbfs:/FileStore/cts_data/cars.tsv",
         "cars.tsv",
         3700,
         1702969570000
        ],
        [
         "dbfs:/FileStore/cts_data/csv/",
         "csv/",
         0,
         0
        ],
        [
         "dbfs:/FileStore/cts_data/json/",
         "json/",
         0,
         0
        ],
        [
         "dbfs:/FileStore/cts_data/output/",
         "output/",
         0,
         0
        ],
        [
         "dbfs:/FileStore/cts_data/wordcount.txt",
         "wordcount.txt",
         411,
         1699860900000
        ]
       ],
       "datasetInfos": [],
       "dbfsResultPath": null,
       "isJsonSchema": true,
       "metadata": {
        "isDbfsCommandResult": false
       },
       "overflow": false,
       "plotOptions": {
        "customPlotOptions": {},
        "displayType": "table",
        "pivotAggregation": null,
        "pivotColumns": null,
        "xColumns": null,
        "yColumns": null
       },
       "removedWidgets": [],
       "schema": [
        {
         "metadata": "{}",
         "name": "path",
         "type": "\"string\""
        },
        {
         "metadata": "{}",
         "name": "name",
         "type": "\"string\""
        },
        {
         "metadata": "{}",
         "name": "size",
         "type": "\"long\""
        },
        {
         "metadata": "{}",
         "name": "modificationTime",
         "type": "\"long\""
        }
       ],
       "type": "table"
      }
     },
     "output_type": "display_data"
    }
   ],
   "source": [
    "%fs ls dbfs:/FileStore/cts_data/"
   ]
  },
  {
   "cell_type": "code",
   "execution_count": 0,
   "metadata": {
    "application/vnd.databricks.v1+cell": {
     "cellMetadata": {
      "byteLimit": 2048000,
      "rowLimit": 10000
     },
     "inputWidgets": {},
     "nuid": "ee5162dd-d89e-4824-820a-848a82fb1a85",
     "showTitle": false,
     "tableResultSettingsMap": {},
     "title": ""
    }
   },
   "outputs": [
    {
     "output_type": "display_data",
     "data": {
      "text/html": [
       "<style scoped>\n",
       "  .table-result-container {\n",
       "    max-height: 300px;\n",
       "    overflow: auto;\n",
       "  }\n",
       "  table, th, td {\n",
       "    border: 1px solid black;\n",
       "    border-collapse: collapse;\n",
       "  }\n",
       "  th, td {\n",
       "    padding: 5px;\n",
       "  }\n",
       "  th {\n",
       "    text-align: left;\n",
       "  }\n",
       "</style><div class='table-result-container'><table class='table-result'><thead style='background-color: white'><tr><th>path</th><th>name</th><th>size</th><th>modificationTime</th></tr></thead><tbody><tr><td>dbfs:/FileStore/cts_data/json/2010_summary.json</td><td>2010_summary.json</td><td>21353</td><td>1699859280000</td></tr><tr><td>dbfs:/FileStore/cts_data/json/2011_summary.json</td><td>2011_summary.json</td><td>21301</td><td>1699859280000</td></tr><tr><td>dbfs:/FileStore/cts_data/json/2012_summary.json</td><td>2012_summary.json</td><td>20529</td><td>1699859281000</td></tr><tr><td>dbfs:/FileStore/cts_data/json/2013_summary.json</td><td>2013_summary.json</td><td>20968</td><td>1699859282000</td></tr><tr><td>dbfs:/FileStore/cts_data/json/2014_summary.json</td><td>2014_summary.json</td><td>20177</td><td>1699859282000</td></tr><tr><td>dbfs:/FileStore/cts_data/json/2015_summary.json</td><td>2015_summary.json</td><td>21368</td><td>1699859283000</td></tr><tr><td>dbfs:/FileStore/cts_data/json/2024_file.json/</td><td>2024_file.json/</td><td>0</td><td>0</td></tr><tr><td>dbfs:/FileStore/cts_data/json/emp.json</td><td>emp.json</td><td>1337</td><td>1707541760000</td></tr></tbody></table></div>"
      ]
     },
     "metadata": {
      "application/vnd.databricks.v1+output": {
       "addedWidgets": {},
       "aggData": [],
       "aggError": "",
       "aggOverflow": false,
       "aggSchema": [],
       "aggSeriesLimitReached": false,
       "aggType": "",
       "arguments": {},
       "columnCustomDisplayInfos": {},
       "data": [
        [
         "dbfs:/FileStore/cts_data/json/2010_summary.json",
         "2010_summary.json",
         21353,
         1699859280000
        ],
        [
         "dbfs:/FileStore/cts_data/json/2011_summary.json",
         "2011_summary.json",
         21301,
         1699859280000
        ],
        [
         "dbfs:/FileStore/cts_data/json/2012_summary.json",
         "2012_summary.json",
         20529,
         1699859281000
        ],
        [
         "dbfs:/FileStore/cts_data/json/2013_summary.json",
         "2013_summary.json",
         20968,
         1699859282000
        ],
        [
         "dbfs:/FileStore/cts_data/json/2014_summary.json",
         "2014_summary.json",
         20177,
         1699859282000
        ],
        [
         "dbfs:/FileStore/cts_data/json/2015_summary.json",
         "2015_summary.json",
         21368,
         1699859283000
        ],
        [
         "dbfs:/FileStore/cts_data/json/2024_file.json/",
         "2024_file.json/",
         0,
         0
        ],
        [
         "dbfs:/FileStore/cts_data/json/emp.json",
         "emp.json",
         1337,
         1707541760000
        ]
       ],
       "datasetInfos": [],
       "dbfsResultPath": null,
       "isJsonSchema": true,
       "metadata": {
        "isDbfsCommandResult": false
       },
       "overflow": false,
       "plotOptions": {
        "customPlotOptions": {},
        "displayType": "table",
        "pivotAggregation": null,
        "pivotColumns": null,
        "xColumns": null,
        "yColumns": null
       },
       "removedWidgets": [],
       "schema": [
        {
         "metadata": "{}",
         "name": "path",
         "type": "\"string\""
        },
        {
         "metadata": "{}",
         "name": "name",
         "type": "\"string\""
        },
        {
         "metadata": "{}",
         "name": "size",
         "type": "\"long\""
        },
        {
         "metadata": "{}",
         "name": "modificationTime",
         "type": "\"long\""
        }
       ],
       "type": "table"
      }
     },
     "output_type": "display_data"
    }
   ],
   "source": [
    "%fs ls dbfs:/FileStore/cts_data/json/"
   ]
  },
  {
   "cell_type": "code",
   "execution_count": 0,
   "metadata": {
    "application/vnd.databricks.v1+cell": {
     "cellMetadata": {
      "byteLimit": 2048000,
      "rowLimit": 10000
     },
     "inputWidgets": {},
     "nuid": "06486a10-6c0c-409b-a6bc-004536aa77e0",
     "showTitle": false,
     "tableResultSettingsMap": {},
     "title": ""
    }
   },
   "outputs": [
    {
     "output_type": "stream",
     "name": "stdout",
     "output_type": "stream",
     "text": [
      "Out[207]: True"
     ]
    }
   ],
   "source": [
    "dbutils.fs.cp(\"dbfs:/FileStore/cts_data/json/2010_summary.json\",\"dbfs:/FileStore/cts_data/json/2024_file.json\",recurse=False)"
   ]
  },
  {
   "cell_type": "code",
   "execution_count": 0,
   "metadata": {
    "application/vnd.databricks.v1+cell": {
     "cellMetadata": {
      "byteLimit": 2048000,
      "rowLimit": 10000
     },
     "inputWidgets": {},
     "nuid": "f01e5363-8445-42fd-a4db-467700d3586a",
     "showTitle": false,
     "tableResultSettingsMap": {},
     "title": ""
    }
   },
   "outputs": [
    {
     "output_type": "display_data",
     "data": {
      "text/html": [
       "<style scoped>\n",
       "  .table-result-container {\n",
       "    max-height: 300px;\n",
       "    overflow: auto;\n",
       "  }\n",
       "  table, th, td {\n",
       "    border: 1px solid black;\n",
       "    border-collapse: collapse;\n",
       "  }\n",
       "  th, td {\n",
       "    padding: 5px;\n",
       "  }\n",
       "  th {\n",
       "    text-align: left;\n",
       "  }\n",
       "</style><div class='table-result-container'><table class='table-result'><thead style='background-color: white'><tr><th>path</th><th>name</th><th>size</th><th>modificationTime</th></tr></thead><tbody><tr><td>dbfs:/FileStore/cts_data/json/2010_summary.json</td><td>2010_summary.json</td><td>21353</td><td>1699859280000</td></tr><tr><td>dbfs:/FileStore/cts_data/json/2011_summary.json</td><td>2011_summary.json</td><td>21301</td><td>1699859280000</td></tr><tr><td>dbfs:/FileStore/cts_data/json/2012_summary.json</td><td>2012_summary.json</td><td>20529</td><td>1699859281000</td></tr><tr><td>dbfs:/FileStore/cts_data/json/2013_summary.json</td><td>2013_summary.json</td><td>20968</td><td>1699859282000</td></tr><tr><td>dbfs:/FileStore/cts_data/json/2014_summary.json</td><td>2014_summary.json</td><td>20177</td><td>1699859282000</td></tr><tr><td>dbfs:/FileStore/cts_data/json/2015_summary.json</td><td>2015_summary.json</td><td>21368</td><td>1699859283000</td></tr><tr><td>dbfs:/FileStore/cts_data/json/emp.json</td><td>emp.json</td><td>1337</td><td>1707541760000</td></tr></tbody></table></div>"
      ]
     },
     "metadata": {
      "application/vnd.databricks.v1+output": {
       "addedWidgets": {},
       "aggData": [],
       "aggError": "",
       "aggOverflow": false,
       "aggSchema": [],
       "aggSeriesLimitReached": false,
       "aggType": "",
       "arguments": {},
       "columnCustomDisplayInfos": {},
       "data": [
        [
         "dbfs:/FileStore/cts_data/json/2010_summary.json",
         "2010_summary.json",
         21353,
         1699859280000
        ],
        [
         "dbfs:/FileStore/cts_data/json/2011_summary.json",
         "2011_summary.json",
         21301,
         1699859280000
        ],
        [
         "dbfs:/FileStore/cts_data/json/2012_summary.json",
         "2012_summary.json",
         20529,
         1699859281000
        ],
        [
         "dbfs:/FileStore/cts_data/json/2013_summary.json",
         "2013_summary.json",
         20968,
         1699859282000
        ],
        [
         "dbfs:/FileStore/cts_data/json/2014_summary.json",
         "2014_summary.json",
         20177,
         1699859282000
        ],
        [
         "dbfs:/FileStore/cts_data/json/2015_summary.json",
         "2015_summary.json",
         21368,
         1699859283000
        ],
        [
         "dbfs:/FileStore/cts_data/json/emp.json",
         "emp.json",
         1337,
         1707541760000
        ]
       ],
       "datasetInfos": [],
       "dbfsResultPath": null,
       "isJsonSchema": true,
       "metadata": {
        "isDbfsCommandResult": false
       },
       "overflow": false,
       "plotOptions": {
        "customPlotOptions": {},
        "displayType": "table",
        "pivotAggregation": null,
        "pivotColumns": null,
        "xColumns": null,
        "yColumns": null
       },
       "removedWidgets": [],
       "schema": [
        {
         "metadata": "{}",
         "name": "path",
         "type": "\"string\""
        },
        {
         "metadata": "{}",
         "name": "name",
         "type": "\"string\""
        },
        {
         "metadata": "{}",
         "name": "size",
         "type": "\"long\""
        },
        {
         "metadata": "{}",
         "name": "modificationTime",
         "type": "\"long\""
        }
       ],
       "type": "table"
      }
     },
     "output_type": "display_data"
    }
   ],
   "source": [
    "%fs ls  dbfs:/FileStore/cts_data/json/"
   ]
  },
  {
   "cell_type": "code",
   "execution_count": 0,
   "metadata": {
    "application/vnd.databricks.v1+cell": {
     "cellMetadata": {},
     "inputWidgets": {},
     "nuid": "8546cb63-5708-4b97-8b3f-02aec36041c9",
     "showTitle": false,
     "tableResultSettingsMap": {},
     "title": ""
    }
   },
   "outputs": [],
   "source": []
  }
 ],
 "metadata": {
  "application/vnd.databricks.v1+notebook": {
   "dashboards": [],
   "environmentMetadata": null,
   "language": "python",
   "notebookMetadata": {
    "mostRecentlyExecutedCommandWithImplicitDF": {
     "commandId": 1099515110469829,
     "dataframes": [
      "_sqldf"
     ]
    },
    "pythonIndentUnit": 2
   },
   "notebookName": "RDD_Transformations and Actions",
   "widgets": {}
  }
 },
 "nbformat": 4,
 "nbformat_minor": 0
}
